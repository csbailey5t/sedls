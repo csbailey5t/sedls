{
 "metadata": {
  "language_info": {
   "codemirror_mode": {
    "name": "ipython",
    "version": 3
   },
   "file_extension": ".py",
   "mimetype": "text/x-python",
   "name": "python",
   "nbconvert_exporter": "python",
   "pygments_lexer": "ipython3",
   "version": "3.8.0-final"
  },
  "orig_nbformat": 2,
  "kernelspec": {
   "name": "Python 3.8.0 64-bit ('sedls-EhSD_cOU-py3.8': venv)",
   "display_name": "Python 3.8.0 64-bit ('sedls-EhSD_cOU-py3.8': venv)",
   "metadata": {
    "interpreter": {
     "hash": "74e3fe4f46643bf5345544bab31527dfc819d8a420bac11c9d0fbbf74c17ef0e"
    }
   }
  }
 },
 "nbformat": 4,
 "nbformat_minor": 2,
 "cells": [
  {
   "source": [
    "# Exploratory Text Analysis with Python\n",
    "\n",
    "Workshop for the Southeast Data Librarian Symposium 2020\n",
    "\n",
    "Scott Bailey <br/>\n",
    "Digital Research and Scholarship Librarian <br/>\n",
    "Copyright and Digital Scholarship Center <br/>\n",
    "NC State University Libraries\n",
    "\n",
    "## Outline\n",
    "1. Intro and overview of NLP libraries\n",
    "2. Document-level analysis <br/>\n",
    "    a. Tokenization <br/>\n",
    "    b. Cleaning text data <br />\n",
    "    c. Part-of-speech tagging <br/>\n",
    "    d. Named entity recognition <br/>\n",
    "    e. Similarity vectors <br/>\n",
    "    f. Rule-based matching <br />\n",
    "3. Scaling up to corpus-level analysis\n",
    "4. Further resources for spaCy\n",
    "\n",
    "## What do we mean by \"exploratory text analysis?\"\n",
    "- How clean are the data?\n",
    "- What methods do the data support?\n",
    "- Project scoping \n",
    "- Research question refinement\n",
    "- Iterative research \n",
    "\n",
    "## A quick(!) overview of NLP-related libraries in Python\n",
    "- [nltk](https://www.nltk.org/)\n",
    "- [gensim](https://radimrehurek.com/gensim/)\n",
    "- [scikit-learn](https://scikit-learn.org/stable/)\n",
    "- [stanza/corenlp](https://stanfordnlp.github.io/stanza/)\n",
    "- [spaCy](https://spacy.io/)\n",
    "- [huggingface transformers - pytorch and tensorflow](https://github.com/huggingface/transformers)\n",
    "\n",
    "### Why spaCy?\n",
    "\n",
    "An opinionated, performant NLP that does a lot of the work for you while revealing where you might need to do more custom refinement or model building. \n",
    "\n",
    "## Questions during the workshop\n",
    "\n",
    "During the workshop, please do ask questions by way of the Zoom chat. I'll be keeping an eye on that, and will answer questions as we go. I'll also give some time during and after the workshop when folks can unmute and ask questions. \n",
    "\n",
    "## Jupyter Notebooks, Google Colab, and Binder\n"
   ],
   "cell_type": "markdown",
   "metadata": {}
  },
  {
   "cell_type": "code",
   "execution_count": null,
   "metadata": {},
   "outputs": [],
   "source": [
    "# Run this cell if working in Google Colab or Binder\n",
    "# If working locally, add spaCy to your environment in the preferred way\n",
    "# and in a shell with that environment, run the model download\n",
    "!pip install spacy\n",
    "!python -m spacy download en_core_web_md"
   ]
  },
  {
   "cell_type": "code",
   "execution_count": 31,
   "metadata": {},
   "outputs": [],
   "source": [
    "from collections import Counter\n",
    "import glob\n",
    "import spacy\n",
    "from spacy import displacy"
   ]
  },
  {
   "cell_type": "code",
   "execution_count": 2,
   "metadata": {},
   "outputs": [],
   "source": [
    "nlp = spacy.load(\"en_core_web_md\")"
   ]
  },
  {
   "cell_type": "code",
   "execution_count": 33,
   "metadata": {},
   "outputs": [],
   "source": [
    "# from https://se-datalibrarian.github.io/2020/about/\n",
    "# I've added the final, untrue sentence, though, to make sure we have entities for when we hit named entity recognition.\n",
    "sample_text = \"\"\"The Southeast Data Librarian Symposium is intended to provide an opportunity for librarians and other research data specialists to explore developments in the field of data librarianship, including the management and sharing of research data.\n",
    "\n",
    "In addition to learning about new work in the field, attendees will have the opportunity to network and build partnerships with regional colleagues. It is open to all who wish to attend, including students, data managers, and data scientists.\n",
    "\n",
    "The Symposium has previously taken place in Athens, Georgia, and has been sponsored by Google for $10 million.\"\"\""
   ]
  },
  {
   "cell_type": "code",
   "execution_count": 34,
   "metadata": {},
   "outputs": [],
   "source": [
    "doc = nlp(sample_text)"
   ]
  },
  {
   "source": [
    "## Tokenization"
   ],
   "cell_type": "markdown",
   "metadata": {}
  },
  {
   "cell_type": "code",
   "execution_count": 35,
   "metadata": {
    "tags": []
   },
   "outputs": [
    {
     "output_type": "stream",
     "name": "stdout",
     "text": "The\nSoutheast\nData\nLibrarian\nSymposium\nis\nintended\nto\nprovide\nan\nopportunity\nfor\nlibrarians\nand\nother\nresearch\ndata\nspecialists\nto\nexplore\n"
    }
   ],
   "source": [
    "for word in doc[:20]:\n",
    "    print(word)"
   ]
  },
  {
   "cell_type": "code",
   "execution_count": 36,
   "metadata": {
    "tags": []
   },
   "outputs": [
    {
     "output_type": "stream",
     "name": "stdout",
     "text": "The Southeast Data Librarian Symposium\nan opportunity\nlibrarians\nother research data specialists\ndevelopments\nthe field\ndata librarianship\nthe management\nsharing\nresearch data\naddition\nnew work\nthe field\nattendees\nthe opportunity\npartnerships\nregional colleagues\nIt\nwho\nstudents\ndata managers\ndata scientists\nThe Symposium\nplace\nAthens\nGeorgia\nGoogle\n"
    }
   ],
   "source": [
    "for noun_chunk in doc.noun_chunks:\n",
    "    print(noun_chunk)"
   ]
  },
  {
   "cell_type": "code",
   "execution_count": 37,
   "metadata": {
    "tags": []
   },
   "outputs": [
    {
     "output_type": "stream",
     "name": "stdout",
     "text": "The Southeast Data Librarian Symposium is intended to provide an opportunity for librarians and other research data specialists to explore developments in the field of data librarianship, including the management and sharing of research data.\n\n\nIn addition to learning about new work in the field, attendees will have the opportunity to network and build partnerships with regional colleagues.\nIt is open to all who wish to attend, including students, data managers, and data scientists.\n\n\nThe Symposium has previously taken place in Athens, Georgia, and has been sponsored by Google for $10 million.\n"
    }
   ],
   "source": [
    "for sent in doc.sents:\n",
    "    print(sent)"
   ]
  },
  {
   "source": [
    "## Cleaning text data"
   ],
   "cell_type": "markdown",
   "metadata": {}
  },
  {
   "cell_type": "code",
   "execution_count": 40,
   "metadata": {
    "tags": []
   },
   "outputs": [
    {
     "output_type": "stream",
     "name": "stdout",
     "text": "The False\nSoutheast False\nData False\nLibrarian False\nSymposium False\nis False\nintended False\nto False\nprovide False\nan False\nopportunity False\nfor False\nlibrarians False\nand False\nother False\nresearch False\ndata False\nspecialists False\nto False\nexplore False\ndevelopments False\nin False\nthe False\nfield False\nof False\ndata False\nlibrarianship False\nincluding False\nthe False\nmanagement False\nand False\nsharing False\nof False\nresearch False\ndata False\n\n\n False\nIn False\naddition False\nto False\nlearning False\nabout False\nnew False\nwork False\nin False\nthe False\nfield False\nattendees False\nwill False\nhave False\nthe False\n"
    }
   ],
   "source": [
    "# One of the common things we do in text analysis is to remove punctuation\n",
    "no_punct = [token for token in doc if token.is_punct == False]\n",
    "for token in no_punct[:50]:\n",
    "  print(token.text, token.is_punct)"
   ]
  },
  {
   "cell_type": "code",
   "execution_count": 41,
   "metadata": {
    "tags": []
   },
   "outputs": [
    {
     "output_type": "stream",
     "name": "stdout",
     "text": "The\nSoutheast\nData\nLibrarian\nSymposium\nis\nintended\nto\nprovide\nan\nopportunity\nfor\nlibrarians\nand\nother\nresearch\ndata\nspecialists\nto\nexplore\ndevelopments\nin\nthe\nfield\nof\ndata\nlibrarianship\nincluding\nthe\nmanagement\n"
    }
   ],
   "source": [
    "# This has worked, but left in new line characters and spaces\n",
    "no_punct_or_space = [token for token in doc if token.is_punct == False and token.is_space == False]\n",
    "for token in no_punct_or_space[:30]:\n",
    "  print(token.text)"
   ]
  },
  {
   "cell_type": "code",
   "execution_count": 42,
   "metadata": {},
   "outputs": [
    {
     "output_type": "execute_result",
     "data": {
      "text/plain": "[&#39;the&#39;,\n &#39;southeast&#39;,\n &#39;data&#39;,\n &#39;librarian&#39;,\n &#39;symposium&#39;,\n &#39;is&#39;,\n &#39;intended&#39;,\n &#39;to&#39;,\n &#39;provide&#39;,\n &#39;an&#39;,\n &#39;opportunity&#39;,\n &#39;for&#39;,\n &#39;librarians&#39;,\n &#39;and&#39;,\n &#39;other&#39;,\n &#39;research&#39;,\n &#39;data&#39;,\n &#39;specialists&#39;,\n &#39;to&#39;,\n &#39;explore&#39;,\n &#39;developments&#39;,\n &#39;in&#39;,\n &#39;the&#39;,\n &#39;field&#39;,\n &#39;of&#39;,\n &#39;data&#39;,\n &#39;librarianship&#39;,\n &#39;including&#39;,\n &#39;the&#39;,\n &#39;management&#39;]"
     },
     "metadata": {},
     "execution_count": 42
    }
   ],
   "source": [
    "# Let's say we also want to remove numbers, and lowercase everything\n",
    "lower_alpha = [token.lower_ for token in no_punct_or_space if token.is_alpha == True]\n",
    "lower_alpha[:30]"
   ]
  },
  {
   "source": [
    "One other common bit of preprocessing is to remove stopwords, that is, the common words in a language that don't convey the information that we are looking for in our analysis. For example, if we looked for the most common words in a text, we would want to remove stopwords so that we don't only get words such as 'a,' 'the,' and 'and.'"
   ],
   "cell_type": "markdown",
   "metadata": {}
  },
  {
   "cell_type": "code",
   "execution_count": 43,
   "metadata": {},
   "outputs": [
    {
     "output_type": "execute_result",
     "data": {
      "text/plain": "[&#39;southeast&#39;,\n &#39;data&#39;,\n &#39;librarian&#39;,\n &#39;symposium&#39;,\n &#39;intended&#39;,\n &#39;provide&#39;,\n &#39;opportunity&#39;,\n &#39;librarians&#39;,\n &#39;research&#39;,\n &#39;data&#39;,\n &#39;specialists&#39;,\n &#39;explore&#39;,\n &#39;developments&#39;,\n &#39;field&#39;,\n &#39;data&#39;,\n &#39;librarianship&#39;,\n &#39;including&#39;,\n &#39;management&#39;,\n &#39;sharing&#39;,\n &#39;research&#39;,\n &#39;data&#39;,\n &#39;addition&#39;,\n &#39;learning&#39;,\n &#39;new&#39;,\n &#39;work&#39;,\n &#39;field&#39;,\n &#39;attendees&#39;,\n &#39;opportunity&#39;,\n &#39;network&#39;,\n &#39;build&#39;]"
     },
     "metadata": {},
     "execution_count": 43
    }
   ],
   "source": [
    "clean = [token.lower_ for token in no_punct_or_space if token.is_alpha == True and token.is_stop == False]\n",
    "clean[:30]"
   ]
  },
  {
   "source": [
    "For this piece, we've used spaCy's built in stopword list, which is used to create the property `is_stop` for each token. There's a good chance you would want to create custom stopwords lists though, especially if you're working with historical text or really domain-specific text. "
   ],
   "cell_type": "markdown",
   "metadata": {}
  },
  {
   "cell_type": "code",
   "execution_count": 44,
   "metadata": {},
   "outputs": [
    {
     "output_type": "execute_result",
     "data": {
      "text/plain": "[&#39;the&#39;,\n &#39;southeast&#39;,\n &#39;data&#39;,\n &#39;librarian&#39;,\n &#39;symposium&#39;,\n &#39;is&#39;,\n &#39;intended&#39;,\n &#39;to&#39;,\n &#39;provide&#39;,\n &#39;an&#39;,\n &#39;opportunity&#39;,\n &#39;for&#39;,\n &#39;librarians&#39;,\n &#39;and&#39;,\n &#39;other&#39;,\n &#39;research&#39;,\n &#39;data&#39;,\n &#39;specialists&#39;,\n &#39;to&#39;,\n &#39;explore&#39;,\n &#39;in&#39;,\n &#39;the&#39;,\n &#39;field&#39;,\n &#39;of&#39;,\n &#39;data&#39;,\n &#39;librarianship&#39;,\n &#39;,&#39;,\n &#39;including&#39;,\n &#39;the&#39;,\n &#39;and&#39;,\n &#39;sharing&#39;,\n &#39;of&#39;,\n &#39;research&#39;,\n &#39;data&#39;,\n &#39;.&#39;,\n &#39;\\n\\n&#39;,\n &#39;in&#39;,\n &#39;addition&#39;,\n &#39;to&#39;,\n &#39;learning&#39;,\n &#39;about&#39;,\n &#39;new&#39;,\n &#39;work&#39;,\n &#39;in&#39;,\n &#39;the&#39;,\n &#39;field&#39;,\n &#39;,&#39;,\n &#39;attendees&#39;,\n &#39;will&#39;,\n &#39;have&#39;,\n &#39;the&#39;,\n &#39;opportunity&#39;,\n &#39;to&#39;,\n &#39;network&#39;,\n &#39;and&#39;,\n &#39;build&#39;,\n &#39;partnerships&#39;,\n &#39;with&#39;,\n &#39;regional&#39;,\n &#39;colleagues&#39;,\n &#39;.&#39;,\n &#39;it&#39;,\n &#39;is&#39;,\n &#39;open&#39;,\n &#39;to&#39;,\n &#39;all&#39;,\n &#39;who&#39;,\n &#39;wish&#39;,\n &#39;to&#39;,\n &#39;attend&#39;,\n &#39;,&#39;,\n &#39;including&#39;,\n &#39;students&#39;,\n &#39;,&#39;,\n &#39;data&#39;,\n &#39;managers&#39;,\n &#39;,&#39;,\n &#39;and&#39;,\n &#39;data&#39;,\n &#39;scientists&#39;,\n &#39;.&#39;,\n &#39;\\n\\n&#39;,\n &#39;the&#39;,\n &#39;symposium&#39;,\n &#39;has&#39;,\n &#39;previously&#39;,\n &#39;taken&#39;,\n &#39;place&#39;,\n &#39;in&#39;,\n &#39;athens&#39;,\n &#39;,&#39;,\n &#39;georgia&#39;,\n &#39;,&#39;,\n &#39;and&#39;,\n &#39;has&#39;,\n &#39;been&#39;,\n &#39;sponsored&#39;,\n &#39;by&#39;,\n &#39;google&#39;,\n &#39;for&#39;,\n &#39;$&#39;,\n &#39;10&#39;,\n &#39;million&#39;,\n &#39;.&#39;]"
     },
     "metadata": {},
     "execution_count": 44
    }
   ],
   "source": [
    "# We'll just pick a couple of words we know are in the example\n",
    "custom_stopwords = [\"developments\", \"management\"]\n",
    "\n",
    "custom_clean = [token.lower_ for token in doc if token.lower_ not in custom_stopwords]\n",
    "custom_clean"
   ]
  },
  {
   "source": [
    "At this point, we have a list of lower-cased tokens that doesn't contain punctuation, white-space, numbers, or stopwords. Depending on our analysis, we may or may not want to do this much cleaning. But, it is good to understand how much we can do just with spaCy. "
   ],
   "cell_type": "markdown",
   "metadata": {}
  },
  {
   "source": [
    "### Since we can break apart the document and filter it now, it's a good time to start counting things"
   ],
   "cell_type": "markdown",
   "metadata": {}
  },
  {
   "cell_type": "code",
   "execution_count": 45,
   "metadata": {
    "tags": []
   },
   "outputs": [
    {
     "output_type": "stream",
     "name": "stdout",
     "text": "Number of tokens in document:  106\nNumber of tokens in cleaned document:  51\nNumber of unique tokens in cleaned document:  41\n"
    }
   ],
   "source": [
    "print(\"Number of tokens in document: \", len(doc))\n",
    "print(\"Number of tokens in cleaned document: \", len(clean))\n",
    "print(\"Number of unique tokens in cleaned document: \", len(set(clean)))"
   ]
  },
  {
   "cell_type": "code",
   "execution_count": 46,
   "metadata": {},
   "outputs": [
    {
     "output_type": "execute_result",
     "data": {
      "text/plain": "4"
     },
     "metadata": {},
     "execution_count": 46
    }
   ],
   "source": [
    "# number of sentences\n",
    "len(list(doc.sents))"
   ]
  },
  {
   "cell_type": "code",
   "execution_count": 47,
   "metadata": {},
   "outputs": [
    {
     "output_type": "execute_result",
     "data": {
      "text/plain": "[(&#39;,&#39;, 7),\n (&#39;the&#39;, 6),\n (&#39;data&#39;, 6),\n (&#39;to&#39;, 6),\n (&#39;and&#39;, 5),\n (&#39;in&#39;, 4),\n (&#39;.&#39;, 4),\n (&#39;symposium&#39;, 2),\n (&#39;is&#39;, 2),\n (&#39;opportunity&#39;, 2),\n (&#39;for&#39;, 2),\n (&#39;research&#39;, 2),\n (&#39;field&#39;, 2),\n (&#39;of&#39;, 2),\n (&#39;including&#39;, 2),\n (&#39;\\n\\n&#39;, 2),\n (&#39;has&#39;, 2),\n (&#39;southeast&#39;, 1),\n (&#39;librarian&#39;, 1),\n (&#39;intended&#39;, 1)]"
     },
     "metadata": {},
     "execution_count": 47
    }
   ],
   "source": [
    "# Count all lower-cased tokens\n",
    "full_counter = Counter([token.lower_ for token in doc])\n",
    "full_counter.most_common(20)"
   ]
  },
  {
   "cell_type": "code",
   "execution_count": 48,
   "metadata": {},
   "outputs": [
    {
     "output_type": "execute_result",
     "data": {
      "text/plain": "[(&#39;data&#39;, 6),\n (&#39;symposium&#39;, 2),\n (&#39;opportunity&#39;, 2),\n (&#39;research&#39;, 2),\n (&#39;field&#39;, 2),\n (&#39;including&#39;, 2),\n (&#39;southeast&#39;, 1),\n (&#39;librarian&#39;, 1),\n (&#39;intended&#39;, 1),\n (&#39;provide&#39;, 1),\n (&#39;librarians&#39;, 1),\n (&#39;specialists&#39;, 1),\n (&#39;explore&#39;, 1),\n (&#39;developments&#39;, 1),\n (&#39;librarianship&#39;, 1),\n (&#39;management&#39;, 1),\n (&#39;sharing&#39;, 1),\n (&#39;addition&#39;, 1),\n (&#39;learning&#39;, 1),\n (&#39;new&#39;, 1)]"
     },
     "metadata": {},
     "execution_count": 48
    }
   ],
   "source": [
    "# Count cleaned tokens\n",
    "cleaned_counter = Counter(clean)\n",
    "cleaned_counter.most_common(20)"
   ]
  },
  {
   "source": [
    "**Question:** Why do we have to use a list comprehension for the non-clean doc while we can just pass a variable directly for the cleaned set of tokens?"
   ],
   "cell_type": "markdown",
   "metadata": {}
  },
  {
   "source": [
    "### Activity\n",
    "\n",
    "In the cell below, write code to find the five most common noun chunks in the original doc. "
   ],
   "cell_type": "markdown",
   "metadata": {}
  },
  {
   "cell_type": "code",
   "execution_count": 50,
   "metadata": {},
   "outputs": [],
   "source": [
    "# Write code here"
   ]
  },
  {
   "source": [
    "## Part-of-speech tagging"
   ],
   "cell_type": "markdown",
   "metadata": {}
  },
  {
   "cell_type": "code",
   "execution_count": 8,
   "metadata": {
    "tags": []
   },
   "outputs": [
    {
     "output_type": "stream",
     "name": "stdout",
     "text": "The DET\nSoutheast PROPN\nData PROPN\nLibrarian PROPN\nSymposium PROPN\nis AUX\nintended VERB\nto PART\nprovide VERB\nan DET\nopportunity NOUN\nfor ADP\nlibrarians NOUN\nand CCONJ\nother ADJ\nresearch NOUN\ndata NOUN\nspecialists NOUN\nto PART\nexplore VERB\n"
    }
   ],
   "source": [
    "# Coarse grained UPOS: https://universaldependencies.org/docs/u/pos/\n",
    "for token in doc[:20]:\n",
    "    print(token.text, token.pos_)"
   ]
  },
  {
   "cell_type": "code",
   "execution_count": 9,
   "metadata": {
    "tags": []
   },
   "outputs": [
    {
     "output_type": "stream",
     "name": "stdout",
     "text": "The DT\nSoutheast NNP\nData NNP\nLibrarian NNP\nSymposium NNP\nis VBZ\nintended VBN\nto TO\nprovide VB\nan DT\nopportunity NN\nfor IN\nlibrarians NNS\nand CC\nother JJ\nresearch NN\ndata NNS\nspecialists NNS\nto TO\nexplore VB\n"
    }
   ],
   "source": [
    "# Fine-grained POS, Penn Treebank: https://www.ling.upenn.edu/courses/Fall_2003/ling001/penn_treebank_pos.html\n",
    "for token in doc[:20]:\n",
    "    print(token.text, token.tag_)"
   ]
  },
  {
   "source": [
    "# Not sure what those tags are? Try spaCy's explain function\n",
    "spacy.explain(\"DT\")"
   ],
   "cell_type": "code",
   "metadata": {},
   "execution_count": 52,
   "outputs": [
    {
     "output_type": "execute_result",
     "data": {
      "text/plain": "&#39;determiner&#39;"
     },
     "metadata": {},
     "execution_count": 52
    }
   ]
  },
  {
   "cell_type": "code",
   "execution_count": 10,
   "metadata": {},
   "outputs": [
    {
     "output_type": "execute_result",
     "data": {
      "text/plain": "[intended,\n provide,\n explore,\n including,\n learning,\n will,\n network,\n build,\n wish,\n attend,\n including,\n taken,\n sponsored]"
     },
     "metadata": {},
     "execution_count": 10
    }
   ],
   "source": [
    "# Collect tokens by part of speech\n",
    "verbs = [token for token in doc if token.pos_ == \"VERB\"]\n",
    "verbs"
   ]
  },
  {
   "cell_type": "code",
   "execution_count": 11,
   "metadata": {},
   "outputs": [
    {
     "output_type": "execute_result",
     "data": {
      "text/plain": "[librarians,\n data,\n specialists,\n developments,\n data,\n data,\n attendees,\n partnerships,\n colleagues,\n students,\n managers,\n data,\n scientists]"
     },
     "metadata": {},
     "execution_count": 11
    }
   ],
   "source": [
    "# Collect plural nouns\n",
    "nouns_pl = [token for token in doc if token.tag_ == \"NNS\" or token.tag_ == \"NNPS\"]\n",
    "nouns_pl"
   ]
  },
  {
   "source": [
    "### Dependency tree visualization"
   ],
   "cell_type": "markdown",
   "metadata": {}
  },
  {
   "cell_type": "code",
   "execution_count": 12,
   "metadata": {},
   "outputs": [
    {
     "output_type": "execute_result",
     "data": {
      "text/plain": "The Southeast Data Librarian Symposium is intended to provide an opportunity for librarians and other research data specialists to explore developments in the field of data librarianship, including the management and sharing of research data.\n"
     },
     "metadata": {},
     "execution_count": 12
    }
   ],
   "source": [
    "single_sentence = list(doc.sents)[0]\n",
    "single_sentence"
   ]
  },
  {
   "cell_type": "code",
   "execution_count": 51,
   "metadata": {
    "tags": []
   },
   "outputs": [
    {
     "output_type": "stream",
     "name": "stdout",
     "text": "The det\nSymposium nsubj\nhas aux\npreviously advmod\ntaken ROOT\nplace dobj\nin prep\nAthens pobj\n, punct\nGeorgia appos\n, punct\nand cc\nhas aux\nbeen auxpass\nsponsored conj\nby agent\nGoogle pobj\nfor prep\n$ quantmod\n10 compound\nmillion pobj\n. punct\n"
    }
   ],
   "source": [
    "# spaCy determines the dependency tree for it's doc. Like POS, we can see the dependency tags of each token. \n",
    "for token in single_sentence:\n",
    "    print(token.text, token.dep_)"
   ]
  },
  {
   "cell_type": "code",
   "execution_count": 54,
   "metadata": {},
   "outputs": [
    {
     "output_type": "execute_result",
     "data": {
      "text/plain": "&#39;direct object&#39;"
     },
     "metadata": {},
     "execution_count": 54
    }
   ],
   "source": [
    "spacy.explain(\"dobj\")"
   ]
  },
  {
   "cell_type": "code",
   "execution_count": 13,
   "metadata": {},
   "outputs": [
    {
     "output_type": "display_data",
     "data": {
      "text/plain": "&lt;IPython.core.display.HTML object&gt;",
      "text/html": "<span class=\"tex2jax_ignore\"><svg xmlns=\"http://www.w3.org/2000/svg\" xmlns:xlink=\"http://www.w3.org/1999/xlink\" xml:lang=\"en\" id=\"3bf5dbb9e3c34b47a9ffab42d200c9ea-0\" class=\"displacy\" width=\"6350\" height=\"924.5\" direction=\"ltr\" style=\"max-width: none; height: 924.5px; color: #000000; background: #ffffff; font-family: Arial; direction: ltr\">\n<text class=\"displacy-token\" fill=\"currentColor\" text-anchor=\"middle\" y=\"834.5\">\n    <tspan class=\"displacy-word\" fill=\"currentColor\" x=\"50\">The</tspan>\n    <tspan class=\"displacy-tag\" dy=\"2em\" fill=\"currentColor\" x=\"50\">DET</tspan>\n</text>\n\n<text class=\"displacy-token\" fill=\"currentColor\" text-anchor=\"middle\" y=\"834.5\">\n    <tspan class=\"displacy-word\" fill=\"currentColor\" x=\"225\">Southeast</tspan>\n    <tspan class=\"displacy-tag\" dy=\"2em\" fill=\"currentColor\" x=\"225\">PROPN</tspan>\n</text>\n\n<text class=\"displacy-token\" fill=\"currentColor\" text-anchor=\"middle\" y=\"834.5\">\n    <tspan class=\"displacy-word\" fill=\"currentColor\" x=\"400\">Data</tspan>\n    <tspan class=\"displacy-tag\" dy=\"2em\" fill=\"currentColor\" x=\"400\">PROPN</tspan>\n</text>\n\n<text class=\"displacy-token\" fill=\"currentColor\" text-anchor=\"middle\" y=\"834.5\">\n    <tspan class=\"displacy-word\" fill=\"currentColor\" x=\"575\">Librarian</tspan>\n    <tspan class=\"displacy-tag\" dy=\"2em\" fill=\"currentColor\" x=\"575\">PROPN</tspan>\n</text>\n\n<text class=\"displacy-token\" fill=\"currentColor\" text-anchor=\"middle\" y=\"834.5\">\n    <tspan class=\"displacy-word\" fill=\"currentColor\" x=\"750\">Symposium</tspan>\n    <tspan class=\"displacy-tag\" dy=\"2em\" fill=\"currentColor\" x=\"750\">PROPN</tspan>\n</text>\n\n<text class=\"displacy-token\" fill=\"currentColor\" text-anchor=\"middle\" y=\"834.5\">\n    <tspan class=\"displacy-word\" fill=\"currentColor\" x=\"925\">is</tspan>\n    <tspan class=\"displacy-tag\" dy=\"2em\" fill=\"currentColor\" x=\"925\">AUX</tspan>\n</text>\n\n<text class=\"displacy-token\" fill=\"currentColor\" text-anchor=\"middle\" y=\"834.5\">\n    <tspan class=\"displacy-word\" fill=\"currentColor\" x=\"1100\">intended</tspan>\n    <tspan class=\"displacy-tag\" dy=\"2em\" fill=\"currentColor\" x=\"1100\">VERB</tspan>\n</text>\n\n<text class=\"displacy-token\" fill=\"currentColor\" text-anchor=\"middle\" y=\"834.5\">\n    <tspan class=\"displacy-word\" fill=\"currentColor\" x=\"1275\">to</tspan>\n    <tspan class=\"displacy-tag\" dy=\"2em\" fill=\"currentColor\" x=\"1275\">PART</tspan>\n</text>\n\n<text class=\"displacy-token\" fill=\"currentColor\" text-anchor=\"middle\" y=\"834.5\">\n    <tspan class=\"displacy-word\" fill=\"currentColor\" x=\"1450\">provide</tspan>\n    <tspan class=\"displacy-tag\" dy=\"2em\" fill=\"currentColor\" x=\"1450\">VERB</tspan>\n</text>\n\n<text class=\"displacy-token\" fill=\"currentColor\" text-anchor=\"middle\" y=\"834.5\">\n    <tspan class=\"displacy-word\" fill=\"currentColor\" x=\"1625\">an</tspan>\n    <tspan class=\"displacy-tag\" dy=\"2em\" fill=\"currentColor\" x=\"1625\">DET</tspan>\n</text>\n\n<text class=\"displacy-token\" fill=\"currentColor\" text-anchor=\"middle\" y=\"834.5\">\n    <tspan class=\"displacy-word\" fill=\"currentColor\" x=\"1800\">opportunity</tspan>\n    <tspan class=\"displacy-tag\" dy=\"2em\" fill=\"currentColor\" x=\"1800\">NOUN</tspan>\n</text>\n\n<text class=\"displacy-token\" fill=\"currentColor\" text-anchor=\"middle\" y=\"834.5\">\n    <tspan class=\"displacy-word\" fill=\"currentColor\" x=\"1975\">for</tspan>\n    <tspan class=\"displacy-tag\" dy=\"2em\" fill=\"currentColor\" x=\"1975\">ADP</tspan>\n</text>\n\n<text class=\"displacy-token\" fill=\"currentColor\" text-anchor=\"middle\" y=\"834.5\">\n    <tspan class=\"displacy-word\" fill=\"currentColor\" x=\"2150\">librarians</tspan>\n    <tspan class=\"displacy-tag\" dy=\"2em\" fill=\"currentColor\" x=\"2150\">NOUN</tspan>\n</text>\n\n<text class=\"displacy-token\" fill=\"currentColor\" text-anchor=\"middle\" y=\"834.5\">\n    <tspan class=\"displacy-word\" fill=\"currentColor\" x=\"2325\">and</tspan>\n    <tspan class=\"displacy-tag\" dy=\"2em\" fill=\"currentColor\" x=\"2325\">CCONJ</tspan>\n</text>\n\n<text class=\"displacy-token\" fill=\"currentColor\" text-anchor=\"middle\" y=\"834.5\">\n    <tspan class=\"displacy-word\" fill=\"currentColor\" x=\"2500\">other</tspan>\n    <tspan class=\"displacy-tag\" dy=\"2em\" fill=\"currentColor\" x=\"2500\">ADJ</tspan>\n</text>\n\n<text class=\"displacy-token\" fill=\"currentColor\" text-anchor=\"middle\" y=\"834.5\">\n    <tspan class=\"displacy-word\" fill=\"currentColor\" x=\"2675\">research</tspan>\n    <tspan class=\"displacy-tag\" dy=\"2em\" fill=\"currentColor\" x=\"2675\">NOUN</tspan>\n</text>\n\n<text class=\"displacy-token\" fill=\"currentColor\" text-anchor=\"middle\" y=\"834.5\">\n    <tspan class=\"displacy-word\" fill=\"currentColor\" x=\"2850\">data</tspan>\n    <tspan class=\"displacy-tag\" dy=\"2em\" fill=\"currentColor\" x=\"2850\">NOUN</tspan>\n</text>\n\n<text class=\"displacy-token\" fill=\"currentColor\" text-anchor=\"middle\" y=\"834.5\">\n    <tspan class=\"displacy-word\" fill=\"currentColor\" x=\"3025\">specialists</tspan>\n    <tspan class=\"displacy-tag\" dy=\"2em\" fill=\"currentColor\" x=\"3025\">NOUN</tspan>\n</text>\n\n<text class=\"displacy-token\" fill=\"currentColor\" text-anchor=\"middle\" y=\"834.5\">\n    <tspan class=\"displacy-word\" fill=\"currentColor\" x=\"3200\">to</tspan>\n    <tspan class=\"displacy-tag\" dy=\"2em\" fill=\"currentColor\" x=\"3200\">PART</tspan>\n</text>\n\n<text class=\"displacy-token\" fill=\"currentColor\" text-anchor=\"middle\" y=\"834.5\">\n    <tspan class=\"displacy-word\" fill=\"currentColor\" x=\"3375\">explore</tspan>\n    <tspan class=\"displacy-tag\" dy=\"2em\" fill=\"currentColor\" x=\"3375\">VERB</tspan>\n</text>\n\n<text class=\"displacy-token\" fill=\"currentColor\" text-anchor=\"middle\" y=\"834.5\">\n    <tspan class=\"displacy-word\" fill=\"currentColor\" x=\"3550\">developments</tspan>\n    <tspan class=\"displacy-tag\" dy=\"2em\" fill=\"currentColor\" x=\"3550\">NOUN</tspan>\n</text>\n\n<text class=\"displacy-token\" fill=\"currentColor\" text-anchor=\"middle\" y=\"834.5\">\n    <tspan class=\"displacy-word\" fill=\"currentColor\" x=\"3725\">in</tspan>\n    <tspan class=\"displacy-tag\" dy=\"2em\" fill=\"currentColor\" x=\"3725\">ADP</tspan>\n</text>\n\n<text class=\"displacy-token\" fill=\"currentColor\" text-anchor=\"middle\" y=\"834.5\">\n    <tspan class=\"displacy-word\" fill=\"currentColor\" x=\"3900\">the</tspan>\n    <tspan class=\"displacy-tag\" dy=\"2em\" fill=\"currentColor\" x=\"3900\">DET</tspan>\n</text>\n\n<text class=\"displacy-token\" fill=\"currentColor\" text-anchor=\"middle\" y=\"834.5\">\n    <tspan class=\"displacy-word\" fill=\"currentColor\" x=\"4075\">field</tspan>\n    <tspan class=\"displacy-tag\" dy=\"2em\" fill=\"currentColor\" x=\"4075\">NOUN</tspan>\n</text>\n\n<text class=\"displacy-token\" fill=\"currentColor\" text-anchor=\"middle\" y=\"834.5\">\n    <tspan class=\"displacy-word\" fill=\"currentColor\" x=\"4250\">of</tspan>\n    <tspan class=\"displacy-tag\" dy=\"2em\" fill=\"currentColor\" x=\"4250\">ADP</tspan>\n</text>\n\n<text class=\"displacy-token\" fill=\"currentColor\" text-anchor=\"middle\" y=\"834.5\">\n    <tspan class=\"displacy-word\" fill=\"currentColor\" x=\"4425\">data</tspan>\n    <tspan class=\"displacy-tag\" dy=\"2em\" fill=\"currentColor\" x=\"4425\">NOUN</tspan>\n</text>\n\n<text class=\"displacy-token\" fill=\"currentColor\" text-anchor=\"middle\" y=\"834.5\">\n    <tspan class=\"displacy-word\" fill=\"currentColor\" x=\"4600\">librarianship,</tspan>\n    <tspan class=\"displacy-tag\" dy=\"2em\" fill=\"currentColor\" x=\"4600\">NOUN</tspan>\n</text>\n\n<text class=\"displacy-token\" fill=\"currentColor\" text-anchor=\"middle\" y=\"834.5\">\n    <tspan class=\"displacy-word\" fill=\"currentColor\" x=\"4775\">including</tspan>\n    <tspan class=\"displacy-tag\" dy=\"2em\" fill=\"currentColor\" x=\"4775\">VERB</tspan>\n</text>\n\n<text class=\"displacy-token\" fill=\"currentColor\" text-anchor=\"middle\" y=\"834.5\">\n    <tspan class=\"displacy-word\" fill=\"currentColor\" x=\"4950\">the</tspan>\n    <tspan class=\"displacy-tag\" dy=\"2em\" fill=\"currentColor\" x=\"4950\">DET</tspan>\n</text>\n\n<text class=\"displacy-token\" fill=\"currentColor\" text-anchor=\"middle\" y=\"834.5\">\n    <tspan class=\"displacy-word\" fill=\"currentColor\" x=\"5125\">management</tspan>\n    <tspan class=\"displacy-tag\" dy=\"2em\" fill=\"currentColor\" x=\"5125\">NOUN</tspan>\n</text>\n\n<text class=\"displacy-token\" fill=\"currentColor\" text-anchor=\"middle\" y=\"834.5\">\n    <tspan class=\"displacy-word\" fill=\"currentColor\" x=\"5300\">and</tspan>\n    <tspan class=\"displacy-tag\" dy=\"2em\" fill=\"currentColor\" x=\"5300\">CCONJ</tspan>\n</text>\n\n<text class=\"displacy-token\" fill=\"currentColor\" text-anchor=\"middle\" y=\"834.5\">\n    <tspan class=\"displacy-word\" fill=\"currentColor\" x=\"5475\">sharing</tspan>\n    <tspan class=\"displacy-tag\" dy=\"2em\" fill=\"currentColor\" x=\"5475\">NOUN</tspan>\n</text>\n\n<text class=\"displacy-token\" fill=\"currentColor\" text-anchor=\"middle\" y=\"834.5\">\n    <tspan class=\"displacy-word\" fill=\"currentColor\" x=\"5650\">of</tspan>\n    <tspan class=\"displacy-tag\" dy=\"2em\" fill=\"currentColor\" x=\"5650\">ADP</tspan>\n</text>\n\n<text class=\"displacy-token\" fill=\"currentColor\" text-anchor=\"middle\" y=\"834.5\">\n    <tspan class=\"displacy-word\" fill=\"currentColor\" x=\"5825\">research</tspan>\n    <tspan class=\"displacy-tag\" dy=\"2em\" fill=\"currentColor\" x=\"5825\">NOUN</tspan>\n</text>\n\n<text class=\"displacy-token\" fill=\"currentColor\" text-anchor=\"middle\" y=\"834.5\">\n    <tspan class=\"displacy-word\" fill=\"currentColor\" x=\"6000\">data.</tspan>\n    <tspan class=\"displacy-tag\" dy=\"2em\" fill=\"currentColor\" x=\"6000\">NOUN</tspan>\n</text>\n\n<text class=\"displacy-token\" fill=\"currentColor\" text-anchor=\"middle\" y=\"834.5\">\n    <tspan class=\"displacy-word\" fill=\"currentColor\" x=\"6175\">\n\n</tspan>\n    <tspan class=\"displacy-tag\" dy=\"2em\" fill=\"currentColor\" x=\"6175\">SPACE</tspan>\n</text>\n\n<g class=\"displacy-arrow\">\n    <path class=\"displacy-arc\" id=\"arrow-3bf5dbb9e3c34b47a9ffab42d200c9ea-0-0\" stroke-width=\"2px\" d=\"M70,789.5 C70,439.5 725.0,439.5 725.0,789.5\" fill=\"none\" stroke=\"currentColor\"/>\n    <text dy=\"1.25em\" style=\"font-size: 0.8em; letter-spacing: 1px\">\n        <textPath xlink:href=\"#arrow-3bf5dbb9e3c34b47a9ffab42d200c9ea-0-0\" class=\"displacy-label\" startOffset=\"50%\" side=\"left\" fill=\"currentColor\" text-anchor=\"middle\">det</textPath>\n    </text>\n    <path class=\"displacy-arrowhead\" d=\"M70,791.5 L62,779.5 78,779.5\" fill=\"currentColor\"/>\n</g>\n\n<g class=\"displacy-arrow\">\n    <path class=\"displacy-arc\" id=\"arrow-3bf5dbb9e3c34b47a9ffab42d200c9ea-0-1\" stroke-width=\"2px\" d=\"M245,789.5 C245,702.0 360.0,702.0 360.0,789.5\" fill=\"none\" stroke=\"currentColor\"/>\n    <text dy=\"1.25em\" style=\"font-size: 0.8em; letter-spacing: 1px\">\n        <textPath xlink:href=\"#arrow-3bf5dbb9e3c34b47a9ffab42d200c9ea-0-1\" class=\"displacy-label\" startOffset=\"50%\" side=\"left\" fill=\"currentColor\" text-anchor=\"middle\">compound</textPath>\n    </text>\n    <path class=\"displacy-arrowhead\" d=\"M245,791.5 L237,779.5 253,779.5\" fill=\"currentColor\"/>\n</g>\n\n<g class=\"displacy-arrow\">\n    <path class=\"displacy-arc\" id=\"arrow-3bf5dbb9e3c34b47a9ffab42d200c9ea-0-2\" stroke-width=\"2px\" d=\"M420,789.5 C420,702.0 535.0,702.0 535.0,789.5\" fill=\"none\" stroke=\"currentColor\"/>\n    <text dy=\"1.25em\" style=\"font-size: 0.8em; letter-spacing: 1px\">\n        <textPath xlink:href=\"#arrow-3bf5dbb9e3c34b47a9ffab42d200c9ea-0-2\" class=\"displacy-label\" startOffset=\"50%\" side=\"left\" fill=\"currentColor\" text-anchor=\"middle\">compound</textPath>\n    </text>\n    <path class=\"displacy-arrowhead\" d=\"M420,791.5 L412,779.5 428,779.5\" fill=\"currentColor\"/>\n</g>\n\n<g class=\"displacy-arrow\">\n    <path class=\"displacy-arc\" id=\"arrow-3bf5dbb9e3c34b47a9ffab42d200c9ea-0-3\" stroke-width=\"2px\" d=\"M595,789.5 C595,702.0 710.0,702.0 710.0,789.5\" fill=\"none\" stroke=\"currentColor\"/>\n    <text dy=\"1.25em\" style=\"font-size: 0.8em; letter-spacing: 1px\">\n        <textPath xlink:href=\"#arrow-3bf5dbb9e3c34b47a9ffab42d200c9ea-0-3\" class=\"displacy-label\" startOffset=\"50%\" side=\"left\" fill=\"currentColor\" text-anchor=\"middle\">compound</textPath>\n    </text>\n    <path class=\"displacy-arrowhead\" d=\"M595,791.5 L587,779.5 603,779.5\" fill=\"currentColor\"/>\n</g>\n\n<g class=\"displacy-arrow\">\n    <path class=\"displacy-arc\" id=\"arrow-3bf5dbb9e3c34b47a9ffab42d200c9ea-0-4\" stroke-width=\"2px\" d=\"M770,789.5 C770,614.5 1065.0,614.5 1065.0,789.5\" fill=\"none\" stroke=\"currentColor\"/>\n    <text dy=\"1.25em\" style=\"font-size: 0.8em; letter-spacing: 1px\">\n        <textPath xlink:href=\"#arrow-3bf5dbb9e3c34b47a9ffab42d200c9ea-0-4\" class=\"displacy-label\" startOffset=\"50%\" side=\"left\" fill=\"currentColor\" text-anchor=\"middle\">nsubjpass</textPath>\n    </text>\n    <path class=\"displacy-arrowhead\" d=\"M770,791.5 L762,779.5 778,779.5\" fill=\"currentColor\"/>\n</g>\n\n<g class=\"displacy-arrow\">\n    <path class=\"displacy-arc\" id=\"arrow-3bf5dbb9e3c34b47a9ffab42d200c9ea-0-5\" stroke-width=\"2px\" d=\"M945,789.5 C945,702.0 1060.0,702.0 1060.0,789.5\" fill=\"none\" stroke=\"currentColor\"/>\n    <text dy=\"1.25em\" style=\"font-size: 0.8em; letter-spacing: 1px\">\n        <textPath xlink:href=\"#arrow-3bf5dbb9e3c34b47a9ffab42d200c9ea-0-5\" class=\"displacy-label\" startOffset=\"50%\" side=\"left\" fill=\"currentColor\" text-anchor=\"middle\">auxpass</textPath>\n    </text>\n    <path class=\"displacy-arrowhead\" d=\"M945,791.5 L937,779.5 953,779.5\" fill=\"currentColor\"/>\n</g>\n\n<g class=\"displacy-arrow\">\n    <path class=\"displacy-arc\" id=\"arrow-3bf5dbb9e3c34b47a9ffab42d200c9ea-0-6\" stroke-width=\"2px\" d=\"M1295,789.5 C1295,702.0 1410.0,702.0 1410.0,789.5\" fill=\"none\" stroke=\"currentColor\"/>\n    <text dy=\"1.25em\" style=\"font-size: 0.8em; letter-spacing: 1px\">\n        <textPath xlink:href=\"#arrow-3bf5dbb9e3c34b47a9ffab42d200c9ea-0-6\" class=\"displacy-label\" startOffset=\"50%\" side=\"left\" fill=\"currentColor\" text-anchor=\"middle\">aux</textPath>\n    </text>\n    <path class=\"displacy-arrowhead\" d=\"M1295,791.5 L1287,779.5 1303,779.5\" fill=\"currentColor\"/>\n</g>\n\n<g class=\"displacy-arrow\">\n    <path class=\"displacy-arc\" id=\"arrow-3bf5dbb9e3c34b47a9ffab42d200c9ea-0-7\" stroke-width=\"2px\" d=\"M1120,789.5 C1120,614.5 1415.0,614.5 1415.0,789.5\" fill=\"none\" stroke=\"currentColor\"/>\n    <text dy=\"1.25em\" style=\"font-size: 0.8em; letter-spacing: 1px\">\n        <textPath xlink:href=\"#arrow-3bf5dbb9e3c34b47a9ffab42d200c9ea-0-7\" class=\"displacy-label\" startOffset=\"50%\" side=\"left\" fill=\"currentColor\" text-anchor=\"middle\">xcomp</textPath>\n    </text>\n    <path class=\"displacy-arrowhead\" d=\"M1415.0,791.5 L1423.0,779.5 1407.0,779.5\" fill=\"currentColor\"/>\n</g>\n\n<g class=\"displacy-arrow\">\n    <path class=\"displacy-arc\" id=\"arrow-3bf5dbb9e3c34b47a9ffab42d200c9ea-0-8\" stroke-width=\"2px\" d=\"M1645,789.5 C1645,702.0 1760.0,702.0 1760.0,789.5\" fill=\"none\" stroke=\"currentColor\"/>\n    <text dy=\"1.25em\" style=\"font-size: 0.8em; letter-spacing: 1px\">\n        <textPath xlink:href=\"#arrow-3bf5dbb9e3c34b47a9ffab42d200c9ea-0-8\" class=\"displacy-label\" startOffset=\"50%\" side=\"left\" fill=\"currentColor\" text-anchor=\"middle\">det</textPath>\n    </text>\n    <path class=\"displacy-arrowhead\" d=\"M1645,791.5 L1637,779.5 1653,779.5\" fill=\"currentColor\"/>\n</g>\n\n<g class=\"displacy-arrow\">\n    <path class=\"displacy-arc\" id=\"arrow-3bf5dbb9e3c34b47a9ffab42d200c9ea-0-9\" stroke-width=\"2px\" d=\"M1470,789.5 C1470,614.5 1765.0,614.5 1765.0,789.5\" fill=\"none\" stroke=\"currentColor\"/>\n    <text dy=\"1.25em\" style=\"font-size: 0.8em; letter-spacing: 1px\">\n        <textPath xlink:href=\"#arrow-3bf5dbb9e3c34b47a9ffab42d200c9ea-0-9\" class=\"displacy-label\" startOffset=\"50%\" side=\"left\" fill=\"currentColor\" text-anchor=\"middle\">dobj</textPath>\n    </text>\n    <path class=\"displacy-arrowhead\" d=\"M1765.0,791.5 L1773.0,779.5 1757.0,779.5\" fill=\"currentColor\"/>\n</g>\n\n<g class=\"displacy-arrow\">\n    <path class=\"displacy-arc\" id=\"arrow-3bf5dbb9e3c34b47a9ffab42d200c9ea-0-10\" stroke-width=\"2px\" d=\"M1995,789.5 C1995,177.0 3365.0,177.0 3365.0,789.5\" fill=\"none\" stroke=\"currentColor\"/>\n    <text dy=\"1.25em\" style=\"font-size: 0.8em; letter-spacing: 1px\">\n        <textPath xlink:href=\"#arrow-3bf5dbb9e3c34b47a9ffab42d200c9ea-0-10\" class=\"displacy-label\" startOffset=\"50%\" side=\"left\" fill=\"currentColor\" text-anchor=\"middle\">mark</textPath>\n    </text>\n    <path class=\"displacy-arrowhead\" d=\"M1995,791.5 L1987,779.5 2003,779.5\" fill=\"currentColor\"/>\n</g>\n\n<g class=\"displacy-arrow\">\n    <path class=\"displacy-arc\" id=\"arrow-3bf5dbb9e3c34b47a9ffab42d200c9ea-0-11\" stroke-width=\"2px\" d=\"M2170,789.5 C2170,264.5 3360.0,264.5 3360.0,789.5\" fill=\"none\" stroke=\"currentColor\"/>\n    <text dy=\"1.25em\" style=\"font-size: 0.8em; letter-spacing: 1px\">\n        <textPath xlink:href=\"#arrow-3bf5dbb9e3c34b47a9ffab42d200c9ea-0-11\" class=\"displacy-label\" startOffset=\"50%\" side=\"left\" fill=\"currentColor\" text-anchor=\"middle\">nsubj</textPath>\n    </text>\n    <path class=\"displacy-arrowhead\" d=\"M2170,791.5 L2162,779.5 2178,779.5\" fill=\"currentColor\"/>\n</g>\n\n<g class=\"displacy-arrow\">\n    <path class=\"displacy-arc\" id=\"arrow-3bf5dbb9e3c34b47a9ffab42d200c9ea-0-12\" stroke-width=\"2px\" d=\"M2170,789.5 C2170,702.0 2285.0,702.0 2285.0,789.5\" fill=\"none\" stroke=\"currentColor\"/>\n    <text dy=\"1.25em\" style=\"font-size: 0.8em; letter-spacing: 1px\">\n        <textPath xlink:href=\"#arrow-3bf5dbb9e3c34b47a9ffab42d200c9ea-0-12\" class=\"displacy-label\" startOffset=\"50%\" side=\"left\" fill=\"currentColor\" text-anchor=\"middle\">cc</textPath>\n    </text>\n    <path class=\"displacy-arrowhead\" d=\"M2285.0,791.5 L2293.0,779.5 2277.0,779.5\" fill=\"currentColor\"/>\n</g>\n\n<g class=\"displacy-arrow\">\n    <path class=\"displacy-arc\" id=\"arrow-3bf5dbb9e3c34b47a9ffab42d200c9ea-0-13\" stroke-width=\"2px\" d=\"M2520,789.5 C2520,527.0 2995.0,527.0 2995.0,789.5\" fill=\"none\" stroke=\"currentColor\"/>\n    <text dy=\"1.25em\" style=\"font-size: 0.8em; letter-spacing: 1px\">\n        <textPath xlink:href=\"#arrow-3bf5dbb9e3c34b47a9ffab42d200c9ea-0-13\" class=\"displacy-label\" startOffset=\"50%\" side=\"left\" fill=\"currentColor\" text-anchor=\"middle\">amod</textPath>\n    </text>\n    <path class=\"displacy-arrowhead\" d=\"M2520,791.5 L2512,779.5 2528,779.5\" fill=\"currentColor\"/>\n</g>\n\n<g class=\"displacy-arrow\">\n    <path class=\"displacy-arc\" id=\"arrow-3bf5dbb9e3c34b47a9ffab42d200c9ea-0-14\" stroke-width=\"2px\" d=\"M2695,789.5 C2695,702.0 2810.0,702.0 2810.0,789.5\" fill=\"none\" stroke=\"currentColor\"/>\n    <text dy=\"1.25em\" style=\"font-size: 0.8em; letter-spacing: 1px\">\n        <textPath xlink:href=\"#arrow-3bf5dbb9e3c34b47a9ffab42d200c9ea-0-14\" class=\"displacy-label\" startOffset=\"50%\" side=\"left\" fill=\"currentColor\" text-anchor=\"middle\">compound</textPath>\n    </text>\n    <path class=\"displacy-arrowhead\" d=\"M2695,791.5 L2687,779.5 2703,779.5\" fill=\"currentColor\"/>\n</g>\n\n<g class=\"displacy-arrow\">\n    <path class=\"displacy-arc\" id=\"arrow-3bf5dbb9e3c34b47a9ffab42d200c9ea-0-15\" stroke-width=\"2px\" d=\"M2870,789.5 C2870,702.0 2985.0,702.0 2985.0,789.5\" fill=\"none\" stroke=\"currentColor\"/>\n    <text dy=\"1.25em\" style=\"font-size: 0.8em; letter-spacing: 1px\">\n        <textPath xlink:href=\"#arrow-3bf5dbb9e3c34b47a9ffab42d200c9ea-0-15\" class=\"displacy-label\" startOffset=\"50%\" side=\"left\" fill=\"currentColor\" text-anchor=\"middle\">compound</textPath>\n    </text>\n    <path class=\"displacy-arrowhead\" d=\"M2870,791.5 L2862,779.5 2878,779.5\" fill=\"currentColor\"/>\n</g>\n\n<g class=\"displacy-arrow\">\n    <path class=\"displacy-arc\" id=\"arrow-3bf5dbb9e3c34b47a9ffab42d200c9ea-0-16\" stroke-width=\"2px\" d=\"M2170,789.5 C2170,352.0 3005.0,352.0 3005.0,789.5\" fill=\"none\" stroke=\"currentColor\"/>\n    <text dy=\"1.25em\" style=\"font-size: 0.8em; letter-spacing: 1px\">\n        <textPath xlink:href=\"#arrow-3bf5dbb9e3c34b47a9ffab42d200c9ea-0-16\" class=\"displacy-label\" startOffset=\"50%\" side=\"left\" fill=\"currentColor\" text-anchor=\"middle\">conj</textPath>\n    </text>\n    <path class=\"displacy-arrowhead\" d=\"M3005.0,791.5 L3013.0,779.5 2997.0,779.5\" fill=\"currentColor\"/>\n</g>\n\n<g class=\"displacy-arrow\">\n    <path class=\"displacy-arc\" id=\"arrow-3bf5dbb9e3c34b47a9ffab42d200c9ea-0-17\" stroke-width=\"2px\" d=\"M3220,789.5 C3220,702.0 3335.0,702.0 3335.0,789.5\" fill=\"none\" stroke=\"currentColor\"/>\n    <text dy=\"1.25em\" style=\"font-size: 0.8em; letter-spacing: 1px\">\n        <textPath xlink:href=\"#arrow-3bf5dbb9e3c34b47a9ffab42d200c9ea-0-17\" class=\"displacy-label\" startOffset=\"50%\" side=\"left\" fill=\"currentColor\" text-anchor=\"middle\">aux</textPath>\n    </text>\n    <path class=\"displacy-arrowhead\" d=\"M3220,791.5 L3212,779.5 3228,779.5\" fill=\"currentColor\"/>\n</g>\n\n<g class=\"displacy-arrow\">\n    <path class=\"displacy-arc\" id=\"arrow-3bf5dbb9e3c34b47a9ffab42d200c9ea-0-18\" stroke-width=\"2px\" d=\"M1820,789.5 C1820,89.5 3370.0,89.5 3370.0,789.5\" fill=\"none\" stroke=\"currentColor\"/>\n    <text dy=\"1.25em\" style=\"font-size: 0.8em; letter-spacing: 1px\">\n        <textPath xlink:href=\"#arrow-3bf5dbb9e3c34b47a9ffab42d200c9ea-0-18\" class=\"displacy-label\" startOffset=\"50%\" side=\"left\" fill=\"currentColor\" text-anchor=\"middle\">advcl</textPath>\n    </text>\n    <path class=\"displacy-arrowhead\" d=\"M3370.0,791.5 L3378.0,779.5 3362.0,779.5\" fill=\"currentColor\"/>\n</g>\n\n<g class=\"displacy-arrow\">\n    <path class=\"displacy-arc\" id=\"arrow-3bf5dbb9e3c34b47a9ffab42d200c9ea-0-19\" stroke-width=\"2px\" d=\"M3395,789.5 C3395,702.0 3510.0,702.0 3510.0,789.5\" fill=\"none\" stroke=\"currentColor\"/>\n    <text dy=\"1.25em\" style=\"font-size: 0.8em; letter-spacing: 1px\">\n        <textPath xlink:href=\"#arrow-3bf5dbb9e3c34b47a9ffab42d200c9ea-0-19\" class=\"displacy-label\" startOffset=\"50%\" side=\"left\" fill=\"currentColor\" text-anchor=\"middle\">dobj</textPath>\n    </text>\n    <path class=\"displacy-arrowhead\" d=\"M3510.0,791.5 L3518.0,779.5 3502.0,779.5\" fill=\"currentColor\"/>\n</g>\n\n<g class=\"displacy-arrow\">\n    <path class=\"displacy-arc\" id=\"arrow-3bf5dbb9e3c34b47a9ffab42d200c9ea-0-20\" stroke-width=\"2px\" d=\"M3570,789.5 C3570,702.0 3685.0,702.0 3685.0,789.5\" fill=\"none\" stroke=\"currentColor\"/>\n    <text dy=\"1.25em\" style=\"font-size: 0.8em; letter-spacing: 1px\">\n        <textPath xlink:href=\"#arrow-3bf5dbb9e3c34b47a9ffab42d200c9ea-0-20\" class=\"displacy-label\" startOffset=\"50%\" side=\"left\" fill=\"currentColor\" text-anchor=\"middle\">prep</textPath>\n    </text>\n    <path class=\"displacy-arrowhead\" d=\"M3685.0,791.5 L3693.0,779.5 3677.0,779.5\" fill=\"currentColor\"/>\n</g>\n\n<g class=\"displacy-arrow\">\n    <path class=\"displacy-arc\" id=\"arrow-3bf5dbb9e3c34b47a9ffab42d200c9ea-0-21\" stroke-width=\"2px\" d=\"M3920,789.5 C3920,702.0 4035.0,702.0 4035.0,789.5\" fill=\"none\" stroke=\"currentColor\"/>\n    <text dy=\"1.25em\" style=\"font-size: 0.8em; letter-spacing: 1px\">\n        <textPath xlink:href=\"#arrow-3bf5dbb9e3c34b47a9ffab42d200c9ea-0-21\" class=\"displacy-label\" startOffset=\"50%\" side=\"left\" fill=\"currentColor\" text-anchor=\"middle\">det</textPath>\n    </text>\n    <path class=\"displacy-arrowhead\" d=\"M3920,791.5 L3912,779.5 3928,779.5\" fill=\"currentColor\"/>\n</g>\n\n<g class=\"displacy-arrow\">\n    <path class=\"displacy-arc\" id=\"arrow-3bf5dbb9e3c34b47a9ffab42d200c9ea-0-22\" stroke-width=\"2px\" d=\"M3745,789.5 C3745,614.5 4040.0,614.5 4040.0,789.5\" fill=\"none\" stroke=\"currentColor\"/>\n    <text dy=\"1.25em\" style=\"font-size: 0.8em; letter-spacing: 1px\">\n        <textPath xlink:href=\"#arrow-3bf5dbb9e3c34b47a9ffab42d200c9ea-0-22\" class=\"displacy-label\" startOffset=\"50%\" side=\"left\" fill=\"currentColor\" text-anchor=\"middle\">pobj</textPath>\n    </text>\n    <path class=\"displacy-arrowhead\" d=\"M4040.0,791.5 L4048.0,779.5 4032.0,779.5\" fill=\"currentColor\"/>\n</g>\n\n<g class=\"displacy-arrow\">\n    <path class=\"displacy-arc\" id=\"arrow-3bf5dbb9e3c34b47a9ffab42d200c9ea-0-23\" stroke-width=\"2px\" d=\"M4095,789.5 C4095,702.0 4210.0,702.0 4210.0,789.5\" fill=\"none\" stroke=\"currentColor\"/>\n    <text dy=\"1.25em\" style=\"font-size: 0.8em; letter-spacing: 1px\">\n        <textPath xlink:href=\"#arrow-3bf5dbb9e3c34b47a9ffab42d200c9ea-0-23\" class=\"displacy-label\" startOffset=\"50%\" side=\"left\" fill=\"currentColor\" text-anchor=\"middle\">prep</textPath>\n    </text>\n    <path class=\"displacy-arrowhead\" d=\"M4210.0,791.5 L4218.0,779.5 4202.0,779.5\" fill=\"currentColor\"/>\n</g>\n\n<g class=\"displacy-arrow\">\n    <path class=\"displacy-arc\" id=\"arrow-3bf5dbb9e3c34b47a9ffab42d200c9ea-0-24\" stroke-width=\"2px\" d=\"M4445,789.5 C4445,702.0 4560.0,702.0 4560.0,789.5\" fill=\"none\" stroke=\"currentColor\"/>\n    <text dy=\"1.25em\" style=\"font-size: 0.8em; letter-spacing: 1px\">\n        <textPath xlink:href=\"#arrow-3bf5dbb9e3c34b47a9ffab42d200c9ea-0-24\" class=\"displacy-label\" startOffset=\"50%\" side=\"left\" fill=\"currentColor\" text-anchor=\"middle\">compound</textPath>\n    </text>\n    <path class=\"displacy-arrowhead\" d=\"M4445,791.5 L4437,779.5 4453,779.5\" fill=\"currentColor\"/>\n</g>\n\n<g class=\"displacy-arrow\">\n    <path class=\"displacy-arc\" id=\"arrow-3bf5dbb9e3c34b47a9ffab42d200c9ea-0-25\" stroke-width=\"2px\" d=\"M4270,789.5 C4270,614.5 4565.0,614.5 4565.0,789.5\" fill=\"none\" stroke=\"currentColor\"/>\n    <text dy=\"1.25em\" style=\"font-size: 0.8em; letter-spacing: 1px\">\n        <textPath xlink:href=\"#arrow-3bf5dbb9e3c34b47a9ffab42d200c9ea-0-25\" class=\"displacy-label\" startOffset=\"50%\" side=\"left\" fill=\"currentColor\" text-anchor=\"middle\">pobj</textPath>\n    </text>\n    <path class=\"displacy-arrowhead\" d=\"M4565.0,791.5 L4573.0,779.5 4557.0,779.5\" fill=\"currentColor\"/>\n</g>\n\n<g class=\"displacy-arrow\">\n    <path class=\"displacy-arc\" id=\"arrow-3bf5dbb9e3c34b47a9ffab42d200c9ea-0-26\" stroke-width=\"2px\" d=\"M4095,789.5 C4095,439.5 4750.0,439.5 4750.0,789.5\" fill=\"none\" stroke=\"currentColor\"/>\n    <text dy=\"1.25em\" style=\"font-size: 0.8em; letter-spacing: 1px\">\n        <textPath xlink:href=\"#arrow-3bf5dbb9e3c34b47a9ffab42d200c9ea-0-26\" class=\"displacy-label\" startOffset=\"50%\" side=\"left\" fill=\"currentColor\" text-anchor=\"middle\">prep</textPath>\n    </text>\n    <path class=\"displacy-arrowhead\" d=\"M4750.0,791.5 L4758.0,779.5 4742.0,779.5\" fill=\"currentColor\"/>\n</g>\n\n<g class=\"displacy-arrow\">\n    <path class=\"displacy-arc\" id=\"arrow-3bf5dbb9e3c34b47a9ffab42d200c9ea-0-27\" stroke-width=\"2px\" d=\"M4970,789.5 C4970,702.0 5085.0,702.0 5085.0,789.5\" fill=\"none\" stroke=\"currentColor\"/>\n    <text dy=\"1.25em\" style=\"font-size: 0.8em; letter-spacing: 1px\">\n        <textPath xlink:href=\"#arrow-3bf5dbb9e3c34b47a9ffab42d200c9ea-0-27\" class=\"displacy-label\" startOffset=\"50%\" side=\"left\" fill=\"currentColor\" text-anchor=\"middle\">det</textPath>\n    </text>\n    <path class=\"displacy-arrowhead\" d=\"M4970,791.5 L4962,779.5 4978,779.5\" fill=\"currentColor\"/>\n</g>\n\n<g class=\"displacy-arrow\">\n    <path class=\"displacy-arc\" id=\"arrow-3bf5dbb9e3c34b47a9ffab42d200c9ea-0-28\" stroke-width=\"2px\" d=\"M4795,789.5 C4795,614.5 5090.0,614.5 5090.0,789.5\" fill=\"none\" stroke=\"currentColor\"/>\n    <text dy=\"1.25em\" style=\"font-size: 0.8em; letter-spacing: 1px\">\n        <textPath xlink:href=\"#arrow-3bf5dbb9e3c34b47a9ffab42d200c9ea-0-28\" class=\"displacy-label\" startOffset=\"50%\" side=\"left\" fill=\"currentColor\" text-anchor=\"middle\">pobj</textPath>\n    </text>\n    <path class=\"displacy-arrowhead\" d=\"M5090.0,791.5 L5098.0,779.5 5082.0,779.5\" fill=\"currentColor\"/>\n</g>\n\n<g class=\"displacy-arrow\">\n    <path class=\"displacy-arc\" id=\"arrow-3bf5dbb9e3c34b47a9ffab42d200c9ea-0-29\" stroke-width=\"2px\" d=\"M5145,789.5 C5145,702.0 5260.0,702.0 5260.0,789.5\" fill=\"none\" stroke=\"currentColor\"/>\n    <text dy=\"1.25em\" style=\"font-size: 0.8em; letter-spacing: 1px\">\n        <textPath xlink:href=\"#arrow-3bf5dbb9e3c34b47a9ffab42d200c9ea-0-29\" class=\"displacy-label\" startOffset=\"50%\" side=\"left\" fill=\"currentColor\" text-anchor=\"middle\">cc</textPath>\n    </text>\n    <path class=\"displacy-arrowhead\" d=\"M5260.0,791.5 L5268.0,779.5 5252.0,779.5\" fill=\"currentColor\"/>\n</g>\n\n<g class=\"displacy-arrow\">\n    <path class=\"displacy-arc\" id=\"arrow-3bf5dbb9e3c34b47a9ffab42d200c9ea-0-30\" stroke-width=\"2px\" d=\"M5145,789.5 C5145,614.5 5440.0,614.5 5440.0,789.5\" fill=\"none\" stroke=\"currentColor\"/>\n    <text dy=\"1.25em\" style=\"font-size: 0.8em; letter-spacing: 1px\">\n        <textPath xlink:href=\"#arrow-3bf5dbb9e3c34b47a9ffab42d200c9ea-0-30\" class=\"displacy-label\" startOffset=\"50%\" side=\"left\" fill=\"currentColor\" text-anchor=\"middle\">conj</textPath>\n    </text>\n    <path class=\"displacy-arrowhead\" d=\"M5440.0,791.5 L5448.0,779.5 5432.0,779.5\" fill=\"currentColor\"/>\n</g>\n\n<g class=\"displacy-arrow\">\n    <path class=\"displacy-arc\" id=\"arrow-3bf5dbb9e3c34b47a9ffab42d200c9ea-0-31\" stroke-width=\"2px\" d=\"M5145,789.5 C5145,527.0 5620.0,527.0 5620.0,789.5\" fill=\"none\" stroke=\"currentColor\"/>\n    <text dy=\"1.25em\" style=\"font-size: 0.8em; letter-spacing: 1px\">\n        <textPath xlink:href=\"#arrow-3bf5dbb9e3c34b47a9ffab42d200c9ea-0-31\" class=\"displacy-label\" startOffset=\"50%\" side=\"left\" fill=\"currentColor\" text-anchor=\"middle\">prep</textPath>\n    </text>\n    <path class=\"displacy-arrowhead\" d=\"M5620.0,791.5 L5628.0,779.5 5612.0,779.5\" fill=\"currentColor\"/>\n</g>\n\n<g class=\"displacy-arrow\">\n    <path class=\"displacy-arc\" id=\"arrow-3bf5dbb9e3c34b47a9ffab42d200c9ea-0-32\" stroke-width=\"2px\" d=\"M5845,789.5 C5845,702.0 5960.0,702.0 5960.0,789.5\" fill=\"none\" stroke=\"currentColor\"/>\n    <text dy=\"1.25em\" style=\"font-size: 0.8em; letter-spacing: 1px\">\n        <textPath xlink:href=\"#arrow-3bf5dbb9e3c34b47a9ffab42d200c9ea-0-32\" class=\"displacy-label\" startOffset=\"50%\" side=\"left\" fill=\"currentColor\" text-anchor=\"middle\">compound</textPath>\n    </text>\n    <path class=\"displacy-arrowhead\" d=\"M5845,791.5 L5837,779.5 5853,779.5\" fill=\"currentColor\"/>\n</g>\n\n<g class=\"displacy-arrow\">\n    <path class=\"displacy-arc\" id=\"arrow-3bf5dbb9e3c34b47a9ffab42d200c9ea-0-33\" stroke-width=\"2px\" d=\"M1120,789.5 C1120,2.0 6000.0,2.0 6000.0,789.5\" fill=\"none\" stroke=\"currentColor\"/>\n    <text dy=\"1.25em\" style=\"font-size: 0.8em; letter-spacing: 1px\">\n        <textPath xlink:href=\"#arrow-3bf5dbb9e3c34b47a9ffab42d200c9ea-0-33\" class=\"displacy-label\" startOffset=\"50%\" side=\"left\" fill=\"currentColor\" text-anchor=\"middle\">punct</textPath>\n    </text>\n    <path class=\"displacy-arrowhead\" d=\"M6000.0,791.5 L6008.0,779.5 5992.0,779.5\" fill=\"currentColor\"/>\n</g>\n\n<g class=\"displacy-arrow\">\n    <path class=\"displacy-arc\" id=\"arrow-3bf5dbb9e3c34b47a9ffab42d200c9ea-0-34\" stroke-width=\"2px\" d=\"M6020,789.5 C6020,702.0 6135.0,702.0 6135.0,789.5\" fill=\"none\" stroke=\"currentColor\"/>\n    <text dy=\"1.25em\" style=\"font-size: 0.8em; letter-spacing: 1px\">\n        <textPath xlink:href=\"#arrow-3bf5dbb9e3c34b47a9ffab42d200c9ea-0-34\" class=\"displacy-label\" startOffset=\"50%\" side=\"left\" fill=\"currentColor\" text-anchor=\"middle\"></textPath>\n    </text>\n    <path class=\"displacy-arrowhead\" d=\"M6135.0,791.5 L6143.0,779.5 6127.0,779.5\" fill=\"currentColor\"/>\n</g>\n</svg></span>"
     },
     "metadata": {}
    }
   ],
   "source": [
    "displacy.render(single_sentence, style=\"dep\")"
   ]
  },
  {
   "source": [
    "## Named entity recognition\n",
    "\n",
    "[List of entity types in spaCy](https://spacy.io/api/annotation#named-entities)"
   ],
   "cell_type": "markdown",
   "metadata": {}
  },
  {
   "cell_type": "code",
   "execution_count": 14,
   "metadata": {
    "tags": []
   },
   "outputs": [
    {
     "output_type": "stream",
     "name": "stdout",
     "text": "Symposium ORG\nAthens GPE\nGeorgia GPE\nGoogle ORG\n$10 million MONEY\n"
    }
   ],
   "source": [
    "for ent in doc.ents:\n",
    "    print(ent.text, ent.label_)    "
   ]
  },
  {
   "source": [
    "### Activity\n",
    "\n",
    "Add or modify a sentence in the original `sample_text` so that spaCy will detect a PERSON. Then, in the cell below, write code to return a list of all entities that are either PERSON or GPE.\n",
    "\n",
    "**hint**: make sure to reprocess the `sample_text` with the `nlp` model. "
   ],
   "cell_type": "markdown",
   "metadata": {}
  },
  {
   "cell_type": "code",
   "execution_count": 56,
   "metadata": {},
   "outputs": [],
   "source": [
    "# Write code here"
   ]
  },
  {
   "source": [
    "### Visualizing named entities"
   ],
   "cell_type": "markdown",
   "metadata": {}
  },
  {
   "cell_type": "code",
   "execution_count": 55,
   "metadata": {},
   "outputs": [
    {
     "output_type": "display_data",
     "data": {
      "text/plain": "&lt;IPython.core.display.HTML object&gt;",
      "text/html": "<span class=\"tex2jax_ignore\"><div class=\"entities\" style=\"line-height: 2.5; direction: ltr\">The \n<mark class=\"entity\" style=\"background: #7aecec; padding: 0.45em 0.6em; margin: 0 0.25em; line-height: 1; border-radius: 0.35em;\">\n    Symposium\n    <span style=\"font-size: 0.8em; font-weight: bold; line-height: 1; border-radius: 0.35em; text-transform: uppercase; vertical-align: middle; margin-left: 0.5rem\">ORG</span>\n</mark>\n has previously taken place in \n<mark class=\"entity\" style=\"background: #feca74; padding: 0.45em 0.6em; margin: 0 0.25em; line-height: 1; border-radius: 0.35em;\">\n    Athens\n    <span style=\"font-size: 0.8em; font-weight: bold; line-height: 1; border-radius: 0.35em; text-transform: uppercase; vertical-align: middle; margin-left: 0.5rem\">GPE</span>\n</mark>\n, \n<mark class=\"entity\" style=\"background: #feca74; padding: 0.45em 0.6em; margin: 0 0.25em; line-height: 1; border-radius: 0.35em;\">\n    Georgia\n    <span style=\"font-size: 0.8em; font-weight: bold; line-height: 1; border-radius: 0.35em; text-transform: uppercase; vertical-align: middle; margin-left: 0.5rem\">GPE</span>\n</mark>\n, and has been sponsored by \n<mark class=\"entity\" style=\"background: #7aecec; padding: 0.45em 0.6em; margin: 0 0.25em; line-height: 1; border-radius: 0.35em;\">\n    Google\n    <span style=\"font-size: 0.8em; font-weight: bold; line-height: 1; border-radius: 0.35em; text-transform: uppercase; vertical-align: middle; margin-left: 0.5rem\">ORG</span>\n</mark>\n for \n<mark class=\"entity\" style=\"background: #e4e7d2; padding: 0.45em 0.6em; margin: 0 0.25em; line-height: 1; border-radius: 0.35em;\">\n    $10 million\n    <span style=\"font-size: 0.8em; font-weight: bold; line-height: 1; border-radius: 0.35em; text-transform: uppercase; vertical-align: middle; margin-left: 0.5rem\">MONEY</span>\n</mark>\n.</div></span>"
     },
     "metadata": {}
    }
   ],
   "source": [
    "single_sentence = list(doc.sents)[-1]\n",
    "displacy.render(single_sentence, style=\"ent\")"
   ]
  },
  {
   "source": [
    "## Word, sentence, and document vectors\n",
    "\n",
    "SpaCy's medium (`md`) and large (`lg`) models include GloVe word vectors trained on the [Common Crawl](https://commoncrawl.org/). \n",
    "\n",
    "You could train your own vectors with `gensim` and `word2vec`, use a large language model, or many other libraries and algorithms. But, if you're text is fairly recent and especially from the web, the common crawl vectors might be enough, especially for exploratory work. \n",
    "\n",
    "`Token`s have vectors. `Doc`s and `Span`s have vectors that are the average of their token vectors. "
   ],
   "cell_type": "markdown",
   "metadata": {}
  },
  {
   "cell_type": "code",
   "execution_count": 57,
   "metadata": {
    "tags": []
   },
   "outputs": [
    {
     "output_type": "stream",
     "name": "stdout",
     "text": "[ 2.7204e-01 -6.2030e-02 -1.8840e-01  2.3225e-02 -1.8158e-02  6.7192e-03\n -1.3877e-01  1.7708e-01  1.7709e-01  2.5882e+00 -3.5179e-01 -1.7312e-01\n  4.3285e-01 -1.0708e-01  1.5006e-01 -1.9982e-01 -1.9093e-01  1.1871e+00\n -1.6207e-01 -2.3538e-01  3.6640e-03 -1.9156e-01 -8.5662e-02  3.9199e-02\n -6.6449e-02 -4.2090e-02 -1.9122e-01  1.1679e-02 -3.7138e-01  2.1886e-01\n  1.1423e-03  4.3190e-01 -1.4205e-01  3.8059e-01  3.0654e-01  2.0167e-02\n -1.8316e-01 -6.5186e-03 -8.0549e-03 -1.2063e-01  2.7507e-02  2.9839e-01\n -2.2896e-01 -2.2882e-01  1.4671e-01 -7.6301e-02 -1.2680e-01 -6.6651e-03\n -5.2795e-02  1.4258e-01  1.5610e-01  5.5510e-02 -1.6149e-01  9.6290e-02\n -7.6533e-02 -4.9971e-02 -1.0195e-02 -4.7641e-02 -1.6679e-01 -2.3940e-01\n  5.0141e-03 -4.9175e-02  1.3338e-02  4.1923e-01 -1.0104e-01  1.5111e-02\n -7.7706e-02 -1.3471e-01  1.1900e-01  1.0802e-01  2.1061e-01 -5.1904e-02\n  1.8527e-01  1.7856e-01  4.1293e-02 -1.4385e-02 -8.2567e-02 -3.5483e-02\n -7.6173e-02 -4.5367e-02  8.9281e-02  3.3672e-01 -2.2099e-01 -6.7275e-03\n  2.3983e-01 -2.3147e-01 -8.8592e-01  9.1297e-02 -1.2123e-02  1.3233e-02\n -2.5799e-01 -2.9720e-02  1.6754e-02  1.3690e-02  3.2377e-01  3.9546e-02\n  4.2114e-02 -8.8243e-02  3.0318e-01  8.7747e-02  1.6346e-01 -4.0485e-01\n -4.3845e-02 -4.0697e-02  2.0936e-01 -7.7795e-01  2.9970e-01  2.3340e-01\n  1.4891e-01 -3.9037e-01 -5.3086e-02  6.2922e-02  6.5663e-02 -1.3906e-01\n  9.4193e-02  1.0344e-01 -2.7970e-01  2.8905e-01 -3.2161e-01  2.0687e-02\n  6.3254e-02 -2.3257e-01 -4.3520e-01 -1.7049e-02 -3.2744e-01 -4.7064e-02\n -7.5149e-02 -1.8788e-01 -1.5017e-02  2.9342e-02 -3.5270e-01 -4.4278e-02\n -1.3507e-01 -1.1644e-01 -1.0430e-01  1.3920e-01  3.9199e-03  3.7603e-01\n  6.7217e-02 -3.7992e-01 -1.1241e+00 -5.7357e-02 -1.6826e-01  3.9410e-02\n  2.6040e-01 -2.3866e-02  1.7963e-01  1.3553e-01  2.1390e-01  5.2633e-02\n -2.5033e-01 -1.1307e-01  2.2234e-01  6.6597e-02 -1.1161e-01  6.2438e-02\n -2.7972e-01  1.9878e-01 -3.6262e-01 -1.0006e-05 -1.7262e-01  2.9166e-01\n -1.5723e-01  5.4295e-02  6.1010e-02 -3.9165e-01  2.7660e-01  5.7816e-02\n  3.9709e-01  2.5229e-02  2.4672e-01 -8.9050e-02  1.5683e-01 -2.0960e-01\n -2.2196e-01  5.2394e-02 -1.1360e-02  5.0417e-02 -1.4023e-01 -4.2825e-02\n -3.1931e-02 -2.1336e-01 -2.0402e-01 -2.3272e-01  7.4490e-02  8.8202e-02\n -1.1063e-01 -3.3526e-01 -1.4028e-02 -2.9429e-01 -8.6911e-02 -1.3210e-01\n -4.3616e-01  2.0513e-01  7.9362e-03  4.8505e-01  6.4237e-02  1.4261e-01\n -4.3711e-01  1.2783e-01 -1.3111e-01  2.4673e-01 -2.7496e-01  1.5896e-01\n  4.3314e-01  9.0286e-02  2.4662e-01  6.6463e-02 -2.0099e-01  1.1010e-01\n  3.6440e-02  1.7359e-01 -1.5689e-01 -8.6328e-02 -1.7316e-01  3.6975e-01\n -4.0317e-01 -6.4814e-02 -3.4166e-02 -1.3773e-02  6.2854e-02 -1.7183e-01\n -1.2366e-01 -3.4663e-02 -2.2793e-01 -2.3172e-01  2.3900e-01  2.7473e-01\n  1.5332e-01  1.0661e-01 -6.0982e-02 -2.4805e-02 -1.3478e-01  1.7932e-01\n -3.7374e-01 -2.8930e-02 -1.1142e-01 -8.3890e-02 -5.5932e-02  6.8039e-02\n -1.0783e-01  1.4650e-01  9.4617e-02 -8.4554e-02  6.7429e-02 -3.2910e-01\n  3.4082e-02 -1.6747e-01 -2.5997e-01 -2.2917e-01  2.0159e-02 -2.7580e-02\n  1.6136e-01 -1.8538e-01  3.7665e-02  5.7603e-01  2.0684e-01  2.7941e-01\n  1.6477e-01 -1.8769e-02  1.2062e-01  6.9648e-02  5.9022e-02 -2.3154e-01\n  2.4095e-01 -3.4710e-01  4.8540e-02 -5.6502e-02  4.1566e-01 -4.3194e-01\n  4.8230e-01 -5.1759e-02 -2.7285e-01 -2.5893e-01  1.6555e-01 -1.8310e-01\n -6.7340e-02  4.2457e-01  1.0346e-02  1.4237e-01  2.5939e-01  1.7123e-01\n -1.3821e-01 -6.6846e-02  1.5981e-02 -3.0193e-01  4.3579e-02 -4.3102e-02\n  3.5025e-01 -1.9681e-01 -4.2810e-01  1.6899e-01  2.2511e-01 -2.8557e-01\n -1.0280e-01 -1.8168e-02  1.1407e-01  1.3015e-01 -1.8317e-01  1.3230e-01]\n[ 0.31214   -0.12325    0.44054   -0.19318    1.199      0.077333\n -0.35018    0.55533   -0.078159   2.7756    -0.30969   -0.025582\n  0.23567   -0.046698  -0.25879    0.23647    0.14774    1.2609\n  0.39905   -0.28557    0.39022    0.48395    0.60177    0.26147\n  0.1494    -0.39282   -0.093583   0.31435   -0.050921   0.33744\n  0.43052    0.64993   -0.28105   -0.077577  -0.26363   -0.0038835\n -0.27728   -0.019639  -0.25126    0.12013   -0.4912     0.27647\n  0.38307    0.034612   0.1897    -0.1233     0.22328   -0.3161\n -0.65215   -0.40138    0.10255    0.36532   -0.15423    0.21912\n -0.16589    0.27198   -0.14035    0.2945    -0.10342    0.2254\n -0.28122   -0.1178     0.14101    0.52812   -0.068028   0.23849\n  0.10051    0.30402    0.12338    0.29527   -0.60439    0.1373\n -0.076662   0.24419    0.46543    0.12446   -0.29994    0.31638\n  0.20061   -0.22923    0.30253    0.38067    0.42507    0.37605\n -0.017806  -0.11558    0.56375    0.46421   -0.52071   -0.1578\n -0.31828   -0.48537    0.053077  -0.36737    0.37814    0.22016\n  0.36994   -0.17126    0.062332   0.25606    0.29874    0.24301\n -0.14747    0.16089    0.087004  -0.14561   -0.45108    0.17288\n -0.085928  -0.13338    0.022176  -0.19223   -0.32542    0.41608\n -0.21583    0.086828   0.32178   -0.13871   -0.70596   -0.23594\n  0.15171    0.67301    0.39749   -0.80678    0.088014  -0.21529\n  0.23352    0.15852   -0.13689   -0.14985   -0.18941   -0.29185\n  0.19171    0.088414   0.016339  -0.5511    -0.074583  -0.63047\n -0.013952  -0.39873   -0.82644   -0.31782   -0.3012    -0.22417\n  0.2976     0.20121    0.13878    0.10466   -0.067313  -0.34993\n -0.7178     0.2007    -0.12135   -0.144      0.034105  -0.34158\n  0.19529    0.12401   -0.062648   0.51874    0.4885     0.2444\n -0.13634    0.62225    0.36367   -0.019315  -0.49534   -0.19803\n  0.51479    0.25009    0.39419    0.35184   -0.94818   -0.4607\n -0.30987   -0.28078   -0.12297   -0.018578   0.29561   -0.37783\n  0.16406   -0.041184  -0.26481   -0.14531    0.18224    0.17988\n  0.098381  -0.70482    0.27939    0.12062    0.43901    0.20877\n  0.15516   -0.20929    0.19901    0.1587     0.030155  -0.2891\n  0.053128  -0.20977   -0.040612   0.31213   -0.067414   0.46574\n  0.3762    -0.27285   -0.092895  -0.49069    0.3172    -0.20236\n -0.10793   -0.55845    0.61723    0.35444   -0.27641   -0.36245\n -0.57653    0.27142    0.82556    0.39093    0.37721   -0.31594\n  0.40539   -0.30809    0.061852   0.068749  -0.39149    0.16898\n -0.12785    0.3039    -0.12785    0.10449    0.33689    0.30305\n  0.29838   -0.36011    0.26804    0.035905   0.20367    0.25389\n  0.11872    0.084363   0.031566  -0.061016  -0.21205    0.11031\n  0.39293    0.034651   0.10408   -0.4745    -0.20173    0.22185\n  1.0129    -0.1096     0.3692     0.3792     0.26184   -0.14413\n -0.40655   -0.092104   0.39066   -0.098829   0.38952   -0.50583\n  0.25431   -0.89712   -0.0068159 -0.020348  -0.91062    0.10733\n -0.53084    0.35235   -0.41226   -0.24766    0.074801  -0.19739\n  0.064061  -0.5147    -0.25893   -0.28852    0.33529   -0.25773\n -0.35695    0.73934   -0.36095    0.41896    0.23338   -0.3115\n  0.10861   -0.35308   -0.2976     0.57746   -0.583      0.0561\n  0.14519   -0.013725  -0.095788  -0.056274  -0.73905   -0.33025  ]\n[-1.7969e-01 -2.5516e-01 -2.1751e-01  1.8151e-01 -4.0652e-01  8.5208e-01\n  7.4484e-02  1.3682e-02  8.7480e-02  1.5056e+00 -5.3100e-01  2.8123e-02\n  5.7363e-02  9.2619e-02 -5.2687e-01  1.6689e-01 -1.9017e-01  3.1937e+00\n -2.1972e-01 -3.8853e-01  1.6916e-01  2.6669e-01 -3.5948e-01 -1.4874e-01\n  2.9541e-01  3.8212e-01  1.5826e-01 -9.2368e-02  3.4473e-01  1.0793e-01\n -2.2861e-01 -2.2966e-01  9.0178e-01 -4.6848e-02 -3.6522e-01 -2.9999e-02\n -3.2167e-01 -1.1985e-01 -3.0740e-01 -3.1308e-01 -1.8787e-01  4.7730e-01\n -1.3486e-01  2.3576e-01 -5.4592e-01 -2.6415e-02  1.2399e-01  1.2621e-01\n  2.8233e-01 -1.4344e-01 -1.3727e-01 -3.3906e-01 -1.0746e-01 -2.6406e-02\n -1.5055e-01  8.4884e-02 -3.0304e-01 -1.7760e-01  8.0063e-02 -5.1963e-01\n  4.8408e-01  7.4119e-01 -1.0525e-01  4.5329e-01  2.1668e-01  3.2206e-01\n -2.8967e-02  4.1205e-01  5.1266e-01  3.4068e-01  1.5061e-01  6.6381e-01\n  9.0662e-01 -3.7938e-01 -1.4235e-01  8.8749e-02  2.2335e-01 -4.2028e-01\n  1.4483e-02  2.1708e-01  2.1882e-01  2.3531e-01  4.5853e-01  4.5439e-02\n  1.5211e-01 -6.6370e-02 -5.1476e-01 -2.4227e-01  1.4526e-01  3.3054e-01\n -4.3838e-01 -1.6985e-01 -4.6600e-01 -2.0476e-01  6.6384e-02 -3.6122e-01\n -5.1252e-01  5.2345e-01  3.2872e-01 -2.0672e-01 -2.0748e-01  3.3687e-02\n  1.1464e-01  5.6206e-01 -5.4426e-01 -1.8048e+00  7.7697e-02 -2.2029e-01\n  5.4583e-01  3.0539e-01  8.6370e-02 -6.6535e-02  2.8269e-01  6.4179e-02\n  3.0537e-01  6.5276e-01 -1.8421e-01  3.7387e-01 -1.4403e-01  9.3120e-02\n -5.0647e-02  2.0830e-02 -2.7152e-01  3.3428e-01  5.5502e-02  8.0098e-02\n  3.2527e-01 -5.9392e-01 -5.9905e-02 -1.5223e-01  2.5757e-02  7.2118e-01\n  2.3447e-01 -8.0598e-02  2.9747e-01  3.4474e-02 -2.0550e-01 -8.8966e-02\n  2.2679e-01  3.0186e-02  5.3271e-01  1.9741e-02  3.6323e-01 -4.3930e-01\n -2.4581e-02 -1.1918e-01 -2.9403e-01 -2.7087e-01 -2.4977e-02 -7.8225e-02\n -3.6938e-02 -2.0189e-01  3.4638e-01  1.1567e-01 -9.2806e-02  2.4282e-03\n -1.8940e-01  7.9512e-01  1.0215e-01 -4.5610e-01  2.6313e-01  3.5474e-01\n  3.9645e-01 -3.4698e-01 -1.1092e+00  3.4560e-01 -2.2741e-02  3.8413e-01\n  1.7248e-01  3.3153e-02 -4.5580e-02 -3.0162e-01 -5.0915e-01  6.9286e-02\n  1.2332e-01  5.8060e-01  4.2208e-01 -3.1265e-01 -5.6140e-01  5.1744e-01\n -1.4081e-01 -4.4795e-01 -9.2364e-02  2.4048e-01  1.2188e-01  1.7213e-01\n -3.8169e-01  4.7736e-02 -1.7600e-02 -4.5049e-01  7.0348e-02 -4.1067e-01\n -5.8153e-02  6.5794e-01 -2.8645e-01 -1.1061e-01 -2.3676e-01 -9.1519e-02\n -4.5786e-01  4.3769e-02 -4.3425e-03 -9.7647e-01  5.7700e-01  3.2170e-01\n -6.9238e-02  3.2137e-02  2.0993e-01  6.1978e-01  3.0473e-03  6.6801e-02\n -1.2552e-01 -9.6190e-01 -5.9866e-01 -4.5744e-01 -2.5166e-01 -4.7375e-01\n -3.4200e-01  1.9530e-01 -4.0455e-01  3.2328e-02  2.2746e-01  7.3642e-01\n -1.6253e-02  5.9830e-02 -3.1066e-02  3.6150e-01  2.3273e-01 -1.4775e-01\n  2.5601e-01 -2.2402e-01 -3.3489e-02 -1.3261e-01  2.0764e-01 -3.7541e-02\n -3.8997e-01  5.9346e-01 -4.7838e-01 -3.9390e-01 -8.0494e-02 -2.9441e-01\n  8.8045e-03 -4.8581e-02  6.3625e-02 -2.2137e-01 -2.0573e-01 -8.8514e-01\n  4.2501e-01 -1.3249e-01  2.2507e-01  4.3022e-01  4.3783e-01 -1.2186e-01\n -2.0356e-01 -2.5380e-01  1.0491e-01 -1.9191e-01  1.6636e-01 -3.7805e-01\n -8.7550e-02 -3.9370e-01  1.4550e-01  4.6402e-01 -1.7460e-01 -3.4354e-01\n -3.2261e-01 -3.0236e-01  1.3846e-01  3.1979e-01  1.3566e+00 -3.8159e-01\n -4.0190e-01  5.1417e-02  5.0175e-01 -4.4934e-01  6.5471e-01  1.2148e-03\n  9.8401e-02  2.4437e-01 -4.4169e-01 -1.1503e-01  1.1916e-01  1.3663e-01\n  1.4279e-01  6.6230e-02  5.0051e-02 -1.7963e-01  1.8818e-02 -2.1234e-01\n  1.0654e-01 -4.2832e-01 -5.6139e-01  6.1635e-01  1.2405e-01  2.9348e-01\n  2.6429e-01 -4.8513e-01 -6.0542e-01  2.2297e-01 -5.7508e-01  5.5672e-02]\n[-2.7535e-01  4.1673e-01 -2.5972e-01  4.9489e-01  4.1885e-01 -9.2241e-02\n -2.0258e-01 -2.2215e-01 -1.2548e-01  3.0698e+00 -3.2000e-01  5.7922e-01\n -6.8950e-02 -1.0450e-01  1.9470e-01  3.3101e-01  4.6987e-01  6.2507e-01\n -2.4273e-01 -2.5117e-02  5.0815e-01 -6.9817e-01  7.2024e-03 -2.8061e-02\n  4.3681e-01  3.9920e-01 -3.3403e-01 -1.6021e-01  2.3836e-01 -1.6623e-01\n -2.5295e-01  3.1868e-01  3.1195e-01 -3.9706e-01  7.5587e-01 -2.7050e-02\n -6.7255e-02  1.5024e-01 -2.1334e-01 -6.8333e-01  5.3795e-01 -3.9617e-01\n -4.2269e-02  3.6466e-02  2.8330e-01  2.1131e-01  1.0373e-01 -3.4263e-02\n  5.1270e-01 -3.8482e-01 -7.3750e-02 -3.2254e-01 -3.8891e-02  3.7917e-01\n -3.8905e-01  1.9753e-01  1.4520e-01  5.4769e-01 -2.2177e-01 -6.6853e-01\n -5.4676e-01 -7.0133e-01  3.5408e-01 -2.5730e-01  9.2266e-02 -1.3172e-01\n -2.8069e-01  1.1626e+00  3.7795e-01  2.6446e-01 -3.4527e-01 -6.8164e-01\n -4.1687e-01 -1.1242e-01 -3.1089e-01  3.6726e-01  6.1304e-02  6.3523e-01\n -3.8824e-01  8.0673e-01  2.3507e-01  5.7494e-02  3.1006e-01  3.1167e-02\n  2.4746e-02  1.8271e-01  5.4945e-02  2.8436e-02 -5.4874e-01 -1.2956e-01\n -2.1383e-01 -2.4917e-02 -3.6483e-01 -9.8034e-02  1.1509e-01 -5.6976e-01\n  4.5071e-01  8.0359e-02  3.9700e-01  2.2848e-02  8.7631e-02 -7.8955e-02\n  2.8689e-01 -1.2381e-01 -1.7867e-02 -6.0084e-01 -2.4195e-01  6.3491e-01\n -1.2093e-01 -1.8116e-01 -3.6101e-01 -9.9476e-02 -4.0759e-01 -2.3414e-01\n  1.4744e-01 -3.4510e-01  1.8531e-01 -1.5613e-01 -1.2582e-01 -1.1461e-01\n  3.2840e-01  1.8466e-01  4.7361e-01  3.4062e-01  3.6432e-02  8.7965e-01\n -2.0541e-01  9.9487e-02  1.2153e-01  5.0320e-01  2.4816e-03  5.6194e-02\n  2.1497e-01 -1.1375e-01  1.0547e-01  9.5348e-02 -2.3272e-02  4.2736e-01\n  9.4263e-02  3.7339e-01 -1.0317e+00  4.5979e-02 -3.8606e-01 -4.1047e-01\n -6.4048e-01  2.5568e-01  8.9144e-02 -5.3695e-01 -8.4942e-01 -5.8727e-01\n -2.3315e-01  2.8035e-01 -8.4269e-01  7.3444e-02  4.6119e-01  1.1913e-01\n  8.4167e-02 -3.3608e-01  4.4603e-01 -1.1903e+00 -1.8940e-01  1.4090e-01\n  3.0936e-01 -1.2725e-01 -1.3163e-01  4.0527e-01 -2.3574e-01 -3.8521e-01\n  4.0103e-02  3.1654e-01 -1.3012e-01 -2.4882e-01  4.5039e-01  1.5975e-01\n  8.7957e-02  1.3889e-01 -1.6999e-01  5.6400e-01 -2.0039e-01 -1.5416e-01\n  1.7590e-01  2.6592e-01 -1.6697e-01  6.5212e-01 -9.6239e-02  1.3429e-01\n -7.4168e-01  2.9025e-01  2.0304e-01 -3.1546e-01 -5.3234e-01  1.6852e-01\n -5.3697e-01  4.8254e-02  2.9692e-01 -2.2923e-01  1.8114e-01 -3.2213e-01\n  6.6039e-01 -3.1394e-01  1.4985e-01  1.3205e-01 -6.5025e-01  6.8203e-02\n -2.8669e-01 -1.2561e-02  1.5164e-01 -1.9474e-01  5.2036e-01 -2.7229e-03\n -4.5632e-01  2.1718e-01 -6.0131e-01  9.0361e-04 -5.7243e-02 -2.0938e-01\n -3.1604e-01 -1.2952e-01 -9.6048e-02  2.4005e-01 -4.8878e-01 -3.6389e-01\n  2.5648e-01 -6.4827e-02  1.5561e-02  4.2514e-01  5.0464e-02  1.5769e-01\n -1.2527e-01 -4.8651e-02 -3.4718e-01 -3.5574e-01 -1.8021e-01  2.2109e-01\n -2.3454e-01 -9.3273e-02  1.7459e-01  4.2614e-01 -2.9993e-01 -7.6029e-02\n -3.1730e-01 -3.7598e-01  1.7116e-01 -4.3055e-01  2.3302e-01  1.4434e-01\n -6.3234e-01 -4.7906e-01 -2.1998e-02 -1.1202e-01 -2.8841e-01  2.7832e-01\n -2.7330e-01  6.3513e-02  3.8121e-01  1.1264e-01  1.7095e-01 -4.0937e-01\n -3.2941e-02 -1.0395e-01  5.4959e-01  1.6241e-01  1.6334e-01 -5.1743e-02\n -1.2358e-01 -5.1439e-01 -6.7503e-01  5.1435e-02 -7.6751e-03  8.6207e-02\n -5.6301e-01 -1.2360e-01 -2.6784e-01  6.4453e-02 -4.9972e-01 -3.3928e-01\n  1.9428e-02  1.6668e-01 -2.5342e-01 -1.8209e-01 -5.7817e-02  2.4765e-01\n  2.1527e-01 -6.2770e-02  7.9298e-03 -3.3048e-01  4.1208e-01  1.0958e-01\n -5.4620e-01  1.6741e-01  1.2466e+00 -2.2004e-01  3.0994e-01  5.8748e-01\n  4.8839e-01  2.4477e-01  4.1540e-02 -1.7116e-01  2.4739e-01 -3.3966e-01]\n[-1.7660e-01  4.2552e-01  5.7844e-01  5.4217e-01  6.6953e-01 -4.5014e-01\n  2.0060e-01 -2.9803e-01  1.9070e-01  2.9135e+00 -5.8499e-01 -2.0055e-01\n  6.2041e-01 -4.9179e-01  2.2810e-01  1.8742e-01  2.0554e-01  7.5146e-01\n -4.3793e-01 -1.1561e-01 -2.5955e-01  6.0323e-01  6.7723e-01 -1.9228e-01\n  1.9885e-01  1.3091e-01 -9.4047e-01  6.3744e-02 -5.6506e-01 -7.2361e-02\n -1.1545e-01 -2.8660e-01  6.6489e-02  1.3110e-01 -2.9377e-01  1.8241e-01\n  3.0691e-01 -6.7589e-01 -6.8451e-01  1.6430e-01  4.5329e-01 -3.4717e-03\n -1.6546e-01  3.1695e-02 -2.6806e-01  4.2215e-01 -2.5805e-01  5.6599e-02\n -5.2796e-01 -5.6310e-01 -1.6863e-01 -5.2139e-02 -9.1561e-02 -2.2592e-01\n -1.0985e-01 -3.5458e-01 -3.7639e-01  3.0144e-01 -2.5640e-02  8.4084e-02\n  9.9223e-02  3.4590e-01  5.0981e-01 -1.5718e-02  2.2580e-01  6.2116e-02\n -4.0040e-01 -1.9340e-01 -1.9056e-01  2.4090e-01  2.8675e-01 -1.7048e-01\n  9.4688e-02  1.3851e-01 -1.7205e-01  3.7008e-01 -2.3249e-01 -5.3057e-02\n  2.5380e-02  3.3741e-01 -1.8245e-01  8.4954e-02  1.2676e-01  1.6319e-01\n -9.3730e-01 -8.4716e-02 -1.4061e+00  2.6369e-02  2.8255e-01  4.6709e-02\n  3.5035e-01 -3.8659e-01 -1.4781e-01 -6.8155e-01  6.0620e-02 -3.3271e-01\n -1.6094e-01 -9.4081e-02  4.8107e-01  5.1088e-01  9.7911e-02 -8.1447e-02\n -7.7351e-02 -5.3803e-01  5.8066e-02 -6.6167e-01  3.3703e-01  2.9999e-01\n  8.8926e-02  2.1482e-01  1.1798e-01 -2.1513e-03  5.3866e-02  5.9336e-01\n -1.5732e-02  4.7130e-02  1.4019e-01  2.6151e-01 -2.2924e-01 -2.7039e-01\n  7.6036e-02 -1.0646e-01  3.9654e-03  2.6149e-01 -1.9323e-01  2.4434e-01\n  3.4435e-01 -1.3981e-01  2.5262e-01 -4.3242e-02 -1.7321e-02 -1.2840e-01\n  2.3348e-01  2.1476e-01 -1.5515e-01 -1.9562e-01  4.4570e-01 -2.0577e-01\n  5.2518e-01 -7.1611e-01  3.1412e-02 -3.0842e-01 -1.1591e-01 -2.3049e-01\n  6.6397e-01  4.7418e-03 -1.2401e-01 -1.8689e-01 -3.0432e-01  1.7543e-01\n  1.4470e-01 -5.4535e-01 -2.2060e-01  5.5394e-02  2.3731e-02  2.9181e-02\n  2.0068e-01 -2.1712e-01  8.8917e-03  1.8945e-01 -3.5863e-01  2.0243e-01\n -1.9769e-01 -5.1495e-01 -5.2159e-01  1.7024e-01 -8.6401e-03  5.5363e-01\n -5.6677e-01  4.2941e-01 -4.8481e-01  3.0983e-01  1.0596e-01  4.8127e-01\n -9.6396e-02 -2.5420e-01  1.4039e-01  2.3935e-01 -3.6250e-01  2.1131e-02\n -8.1977e-01  1.4830e-01  7.9493e-02 -3.7667e-01  6.0512e-01 -2.4250e-01\n -6.3085e-02  5.3486e-01  1.9313e-02  3.2595e-01  5.5538e-01  2.6846e-01\n -4.3702e-02  6.5615e-01  1.0181e-01  7.1314e-01  4.0930e-02 -2.0510e-01\n -6.1008e-01  1.8956e-01  3.7247e-01 -1.5989e-01 -1.5765e-01 -3.4637e-01\n  6.1112e-01 -2.9719e-01 -8.2556e-02  8.0107e-02 -1.6226e-01 -1.9073e-01\n -4.7957e-02 -2.2220e-03  7.2202e-01 -9.4914e-02 -5.7895e-02  5.6922e-01\n -2.1026e-01 -5.2653e-01 -5.1848e-01 -1.1363e-01 -2.3530e-01 -5.4306e-01\n -3.2180e-01  2.7196e-01  4.1376e-01  1.4185e-01 -2.3429e-01  4.0753e-02\n -1.0414e-01  3.5203e-01  1.4159e-01  1.9080e-01 -2.0584e-01 -5.1179e-01\n -4.2661e-01 -5.4431e-02 -5.4770e-01 -8.5927e-02 -2.3624e-01  6.9922e-02\n -1.0412e-01 -2.3884e-02 -1.2006e-01 -2.8398e-01  4.3963e-01 -2.8979e-01\n -9.8895e-02 -9.4590e-02 -3.0268e-01 -1.6430e-02 -1.4588e-01 -4.1194e-01\n -1.4306e-01 -9.3381e-02  2.4393e-01 -2.7867e-01  2.4818e-02 -6.2479e-01\n -7.0623e-01  4.6142e-02  5.5137e-01 -2.0191e-01 -2.4295e-01  5.6139e-01\n  2.3200e-01 -6.0553e-01 -3.1115e-02  1.0653e-01  1.0657e-02 -1.2460e-01\n -9.8521e-01 -1.3589e-01  3.7387e-01 -1.6749e-01 -7.1657e-02  2.4731e-01\n  4.4131e-01 -6.2405e-02 -1.1602e-01 -3.5031e-01 -4.9255e-02 -2.7010e-01\n -4.8847e-01 -5.6258e-02 -4.5129e-01 -2.1617e-01  2.9433e-01  1.1224e-01\n -3.3163e-02  6.0855e-01  4.7340e-01  1.2947e-01  1.1177e-01 -6.7796e-02\n  3.2646e-01  2.2911e-01  3.0867e-01  5.5496e-01 -4.2707e-01  3.6817e-01]\n"
    }
   ],
   "source": [
    "# token vectors\n",
    "for token in doc[:5]:\n",
    "    print(token.vector)"
   ]
  },
  {
   "cell_type": "code",
   "execution_count": 58,
   "metadata": {},
   "outputs": [
    {
     "output_type": "execute_result",
     "data": {
      "text/plain": "array([ 1.53805362e-02,  9.89923999e-02, -6.09041788e-02, -2.92326603e-02,\n        5.46372421e-02,  4.40402627e-02, -2.79662535e-02, -2.95366850e-02,\n        4.45587561e-02,  2.31542850e+00, -3.21038872e-01,  5.43637760e-02,\n        8.54945108e-02, -4.63223867e-02, -9.17983875e-02, -4.54782806e-02,\n       -1.86549556e-02,  1.29680729e+00, -2.47928023e-01, -9.78325754e-02,\n        2.06786469e-02,  4.06484790e-02, -9.59417745e-02, -2.08438411e-02,\n        1.07212409e-01,  7.01129287e-02, -2.15646476e-02,  3.46690156e-02,\n        4.41260561e-02,  4.27467749e-03,  1.24599645e-02,  2.47369166e-02,\n        5.78243099e-02,  9.69910920e-02,  4.92216498e-02, -1.50299355e-01,\n        3.92799452e-03, -1.92086287e-02, -6.43787906e-02, -2.49829479e-02,\n        7.11825094e-04,  8.52283090e-02,  8.23565014e-03, -7.96478465e-02,\n       -7.71624744e-02,  9.76254344e-02, -5.98791167e-02,  2.87836324e-02,\n        2.46993154e-02, -7.24440217e-02, -3.51522490e-02, -4.19717357e-02,\n       -3.80723774e-02, -1.94292627e-02,  4.35242690e-02, -2.89868675e-02,\n       -4.09138799e-02, -2.96205301e-02, -5.48893623e-02, -2.78026648e-02,\n        1.45250978e-02,  6.16178885e-02, -4.69937809e-02,  2.10753441e-01,\n        9.76224393e-02, -4.15328927e-02, -1.84998773e-02,  1.01504326e-01,\n        6.59337342e-02,  1.43585265e-01,  2.99219396e-02,  7.86536038e-02,\n        2.01089501e-01, -3.84983085e-02,  3.53776142e-02,  1.69158564e-03,\n        7.50884637e-02, -4.58075106e-02,  1.80061050e-02,  1.93185285e-01,\n       -1.91188715e-02,  9.70564336e-02, -5.27506322e-02,  2.39002705e-02,\n       -1.65784564e-02, -1.94212168e-01, -3.94836813e-01,  8.77904370e-02,\n        1.91813901e-01,  8.21385905e-02, -9.22643840e-02, -7.99416080e-02,\n       -8.17238819e-03,  1.74861681e-02,  7.99700916e-02, -5.73504418e-02,\n       -3.47543247e-02,  1.26403905e-02, -9.94094182e-04, -1.13005256e-02,\n       -3.25895622e-02,  6.83393679e-04, -7.86131620e-02, -3.62074608e-03,\n        7.19212880e-03, -7.72968531e-01,  8.03099126e-02,  5.49462624e-02,\n        1.03133626e-01,  2.54550725e-02,  7.15180859e-02, -1.24012470e-01,\n        9.26276669e-02, -4.63084988e-02,  3.17984872e-04, -1.78735442e-02,\n        3.75143215e-02,  5.88474013e-02, -1.77228749e-02, -1.45029984e-02,\n        1.53943673e-01, -5.23708388e-03,  1.60698984e-02, -5.91354333e-02,\n        1.88572612e-02,  1.07988730e-01,  6.45947382e-02, -4.49681357e-02,\n        3.37185822e-02,  3.83189432e-02, -1.30478479e-02,  5.61243147e-02,\n       -7.15294331e-02, -3.29315588e-02,  5.19054346e-02,  2.57257409e-02,\n       -1.85592510e-02, -6.05123006e-02,  1.03810742e-01, -1.31869251e-02,\n       -4.98825461e-01,  5.55832870e-03,  1.16619691e-01, -8.44209790e-02,\n        5.36111891e-02, -4.27739881e-02, -2.45512463e-02, -2.90657077e-02,\n       -3.80616449e-02, -7.86881968e-02, -5.55278026e-02, -1.12135513e-02,\n        8.28891620e-02, -1.25381080e-02, -4.25662212e-02,  4.53703813e-02,\n       -2.87356954e-02,  3.89283858e-02, -3.68244909e-02, -1.05743796e-01,\n        3.98795530e-02,  4.46531996e-02, -4.99691367e-02, -1.23010509e-01,\n       -1.21224187e-01, -6.15211539e-02,  9.39689577e-02, -4.25948277e-02,\n        1.33238435e-01,  2.29037907e-02,  2.68566934e-03,  3.14244814e-02,\n        4.61591370e-02,  2.70616487e-02, -5.12003377e-02,  1.01358995e-01,\n        1.56252086e-02,  9.57396906e-03,  3.14994156e-02, -9.19857156e-03,\n       -2.73986324e-03,  3.28318588e-02, -5.92571311e-02, -2.28542723e-02,\n        2.71376106e-03, -4.32224944e-02, -8.11147392e-02,  3.23690772e-02,\n        2.04072017e-02, -1.00948904e-02, -2.66956221e-02, -2.33137812e-02,\n       -7.48650581e-02,  1.23667367e-01, -6.78350404e-02,  1.12404883e-01,\n       -2.21833345e-02, -8.77536014e-02, -1.21796401e-02,  1.36215359e-01,\n        1.92995481e-02, -1.93705454e-01, -8.47408548e-03,  2.78292876e-02,\n        2.23770261e-01, -1.93620268e-02,  6.71806484e-02,  7.00926706e-02,\n        3.30717787e-02, -8.47800821e-03, -1.42081201e-01, -9.15178284e-02,\n       -4.63618115e-02, -1.51576132e-01, -1.18910177e-02,  8.73979256e-02,\n       -8.60765949e-02, -3.78502272e-02, -1.40314311e-01,  7.43816718e-02,\n       -2.24799141e-02, -1.30384779e-02, -4.25420851e-02,  4.21531126e-02,\n        3.88465337e-02,  6.99575320e-02,  2.00179238e-02,  4.83694226e-02,\n        7.36807138e-02,  5.71202375e-02, -1.51695892e-01,  2.63162237e-02,\n        2.44090538e-02,  4.49232981e-02, -7.46916309e-02, -3.73116811e-03,\n       -1.27198502e-01, -1.13118559e-01, -2.88874768e-02,  6.15882240e-02,\n        1.69196371e-02, -3.98848355e-02, -5.05250460e-03, -4.82653780e-03,\n        1.81201354e-01, -1.73589513e-01, -1.57237664e-01, -8.02781731e-02,\n       -1.59530297e-01,  7.45098293e-02,  6.28262535e-02,  2.30277306e-03,\n       -1.15210086e-01, -2.54657567e-02,  1.39209077e-01,  8.73750374e-02,\n        1.00201465e-01, -9.53188837e-02, -1.38370037e-01,  1.28053147e-02,\n        1.61305487e-01,  9.92755070e-02, -5.04603162e-02,  1.24174021e-01,\n        3.95551138e-02, -2.51939029e-01, -1.88897103e-02, -5.35773300e-02,\n        4.13237542e-01, -5.74016608e-02, -9.16365609e-02, -1.82858352e-02,\n        1.65233552e-03, -1.47930250e-01, -3.44518609e-02, -6.16728030e-02,\n        2.96415500e-02,  1.03648826e-01, -3.57767642e-02,  9.02798250e-02,\n        1.11205831e-01,  4.23766337e-02, -1.49704060e-02,  2.88496017e-02,\n       -3.76591422e-02, -1.28810197e-01,  9.14782062e-02, -7.07419440e-02,\n        1.00748025e-01, -3.44293043e-02, -1.81608081e-01,  9.24120322e-02,\n        6.63284734e-02, -1.79132465e-02, -2.24349834e-02, -8.29119161e-02,\n       -5.01036569e-02, -1.17134703e-02, -1.03880480e-01,  1.19834118e-01],\n      dtype=float32)"
     },
     "metadata": {},
     "execution_count": 58
    }
   ],
   "source": [
    "# doc vector\n",
    "doc.vector"
   ]
  },
  {
   "cell_type": "code",
   "execution_count": 59,
   "metadata": {},
   "outputs": [
    {
     "output_type": "execute_result",
     "data": {
      "text/plain": "array([ 1.85621288e-02,  3.02547310e-02, -5.02663441e-02,  2.21122354e-02,\n        5.58689535e-02,  8.78722295e-02, -4.20720875e-02, -3.67098721e-04,\n        1.50770638e-02,  2.30668187e+00, -3.48410964e-01,  3.92627604e-02,\n        1.12249628e-01, -2.02283431e-02, -4.74841110e-02, -4.37880866e-02,\n        2.32680459e-02,  1.45328808e+00, -2.73608267e-01, -1.67115375e-01,\n        7.36747608e-02,  8.68071243e-02, -1.54967710e-01, -4.44735438e-02,\n        1.48329899e-01,  1.06674433e-01,  7.03678504e-02,  7.79173970e-02,\n        2.13212259e-02,  4.59656641e-02,  1.91984288e-02,  6.01940528e-02,\n        1.11045085e-01,  1.03413790e-01,  5.46271913e-02, -1.74142405e-01,\n       -3.82109955e-02, -3.49233598e-02, -1.15441985e-01, -6.03949092e-02,\n        3.07112243e-02,  1.53818384e-01, -9.27654803e-02, -5.75195812e-02,\n       -1.00384265e-01,  8.87980312e-02, -4.40394990e-02,  6.51326254e-02,\n        3.85178179e-02, -6.49373755e-02, -2.22407817e-03, -6.20102175e-02,\n       -2.61375662e-02,  7.17937155e-03,  1.46020176e-02, -1.72466151e-02,\n       -7.10949823e-02, -4.93115969e-02, -9.31091011e-02, -6.20110743e-02,\n        7.11184591e-02,  1.37660503e-01, -1.39515279e-02,  2.11871400e-01,\n        1.26628757e-01, -3.63230035e-02, -3.17327157e-02,  1.18150495e-01,\n        8.61644521e-02,  1.27091378e-01, -3.29934694e-02,  2.55272985e-02,\n        2.11148888e-01, -3.80449407e-02,  1.82837602e-02,  2.42753457e-02,\n        4.55928370e-02, -3.35161760e-02,  3.25076580e-02,  1.62403151e-01,\n        4.49703867e-03,  1.54801399e-01,  1.18221892e-02,  7.23117739e-02,\n       -1.38738155e-02, -1.73191592e-01, -5.58028817e-01,  1.69175535e-01,\n        9.77474973e-02,  1.41099572e-01, -1.61416814e-01, -1.10196926e-01,\n       -5.16772382e-02, -5.66824689e-04,  8.66769776e-02, -3.90574224e-02,\n       -4.18098867e-02,  1.86575782e-02,  4.13289964e-02, -5.88740818e-02,\n       -3.34592462e-02, -5.99193312e-02, -7.90473167e-03,  4.76660468e-02,\n        2.78811511e-02, -1.02074575e+00,  5.86854778e-02,  7.19088912e-02,\n        1.38905212e-01,  2.41900049e-03,  6.54905736e-02, -1.11027204e-01,\n        7.89054036e-02, -5.66322543e-02,  2.01124195e-02,  5.04253022e-02,\n       -3.85473482e-02,  8.49187598e-02, -2.14199368e-02,  3.48676778e-02,\n        1.61765978e-01, -3.46094533e-03, -4.95268665e-02, -3.76282446e-02,\n        5.10035716e-02,  1.23181082e-01,  5.65779209e-02, -5.80560155e-02,\n        4.60564196e-02,  3.79960351e-02, -2.84029841e-02,  5.57811633e-02,\n       -5.93854450e-02, -4.16376591e-02,  1.71957053e-02,  3.17050181e-02,\n       -5.06425910e-02, -8.26536193e-02,  1.40050724e-01, -2.02574003e-02,\n       -3.05588007e-01, -3.42276469e-02,  9.85106677e-02, -1.10385329e-01,\n        7.02188024e-03, -9.54472795e-02, -1.90446880e-02, -4.22109514e-02,\n       -6.86379336e-03, -5.93726262e-02, -6.10192902e-02, -3.29944454e-02,\n        7.49778673e-02, -4.67487425e-02, -2.16720682e-02,  8.83389935e-02,\n       -2.17826888e-02,  6.27418160e-02, -3.45356949e-02, -1.50979325e-01,\n        7.40837827e-02,  5.97243123e-02, -3.82798426e-02, -9.67538729e-02,\n       -1.55740887e-01, -7.79845044e-02,  8.62190872e-02, -4.38917726e-02,\n        1.53146803e-01,  3.00542712e-02,  1.28499942e-03,  5.83245466e-03,\n        5.39413132e-02,  6.92628883e-03, -1.00966496e-03,  1.16606034e-01,\n        4.53730300e-02, -1.92155095e-03,  2.68966745e-04,  3.13773230e-02,\n       -5.09171039e-02, -4.57831565e-03, -5.84684359e-03, -9.93897207e-03,\n        3.59903686e-02, -4.67747338e-02, -9.44063440e-02, -4.81823161e-02,\n        2.26866566e-02, -3.73010002e-02, -4.96537052e-02, -6.68680072e-02,\n       -8.07227120e-02,  1.80685908e-01, -1.09190077e-01,  1.32346839e-01,\n        9.49554611e-03, -8.17505866e-02, -2.20670793e-02,  1.25233829e-01,\n       -1.20161790e-02, -2.32189372e-01, -4.55683842e-03,  6.73146844e-02,\n        1.90537721e-01, -5.27953394e-02,  1.20761797e-01,  9.81760994e-02,\n        1.62471049e-02,  2.29107924e-02, -1.29884377e-01, -1.24076426e-01,\n       -3.71276103e-02, -1.53910145e-01, -5.78438416e-02,  1.98938195e-02,\n       -1.50518715e-01,  5.70441745e-02, -1.27724484e-01,  2.08281185e-02,\n       -4.13521305e-02, -2.34268140e-02, -2.81412918e-02,  5.53170256e-02,\n        4.11864966e-02,  6.11941181e-02, -3.57102399e-04,  3.48016284e-02,\n        1.26257941e-01,  2.20005512e-02, -1.82091996e-01, -2.07210258e-02,\n        1.40064545e-02,  3.65125686e-02, -1.02811620e-01,  4.41072732e-02,\n       -1.42395988e-01, -1.10413387e-01, -6.29069507e-02,  6.12862408e-02,\n        5.69995353e-03, -6.25648350e-02, -3.23024206e-02, -3.62830982e-02,\n        1.59958228e-01, -1.86150223e-01, -1.61985934e-01, -7.30573684e-02,\n       -1.31685376e-01,  5.01450375e-02,  7.25444406e-02, -6.45606779e-03,\n       -1.14071220e-01, -4.44460027e-02,  1.15550853e-01,  1.42353894e-02,\n        1.18341886e-01, -1.32088840e-01, -1.28946632e-01,  2.90794624e-03,\n        1.03740096e-01,  9.29486752e-02, -3.71565782e-02,  5.54282926e-02,\n        4.90144715e-02, -3.04336786e-01, -3.89294624e-02, -4.45055477e-02,\n        5.34055650e-01, -1.10924661e-01, -1.95638642e-01,  2.39465553e-02,\n        1.86045505e-02, -2.08691239e-01,  6.56924769e-02, -1.71400607e-02,\n        1.02417506e-01,  1.20747469e-01, -7.82362297e-02,  7.45751262e-02,\n        1.23258151e-01,  2.47182343e-02, -1.41955456e-02,  2.56868061e-02,\n       -6.66170120e-02, -1.51922777e-01,  1.01877578e-01, -1.09051444e-01,\n        8.62413272e-02, -1.26338691e-01, -2.14123428e-01,  1.08567491e-01,\n        2.54236050e-02, -3.27777006e-02,  6.46470487e-03, -1.04284473e-01,\n       -6.37380183e-02,  3.55004556e-02, -1.34067282e-01,  9.28626657e-02],\n      dtype=float32)"
     },
     "metadata": {},
     "execution_count": 59
    }
   ],
   "source": [
    "# sentence/span vector\n",
    "list(doc.sents)[0].vector"
   ]
  },
  {
   "source": [
    "This is fine, but for exploratory work, we might just be interested in some similarity measures between tokens, sentences, or documents. SpaCy uses the common cosine similarity measure."
   ],
   "cell_type": "markdown",
   "metadata": {}
  },
  {
   "cell_type": "code",
   "execution_count": 62,
   "metadata": {
    "tags": []
   },
   "outputs": [
    {
     "output_type": "stream",
     "name": "stdout",
     "text": "The The 1.0\nThe Southeast 0.33651814\nThe Data 0.326684\nThe Librarian 0.25095838\nThe Symposium 0.3484234\nThe is 0.5536109\nThe intended 0.44844761\nThe to 0.5877379\nThe provide 0.43726653\nThe an 0.5969309\nSoutheast The 0.33651814\nSoutheast Southeast 1.0\nSoutheast Data 0.06996884\nSoutheast Librarian 0.20938757\nSoutheast Symposium 0.21938327\nSoutheast is 0.26847538\nSoutheast intended 0.129104\nSoutheast to 0.2922006\nSoutheast provide 0.15326436\nSoutheast an 0.20995641\nData The 0.326684\nData Southeast 0.06996884\nData Data 1.0\nData Librarian 0.105767384\nData Symposium 0.21679558\nData is 0.28532642\nData intended 0.3011669\nData to 0.3160074\nData provide 0.44369358\nData an 0.2718177\nLibrarian The 0.25095838\nLibrarian Southeast 0.20938757\nLibrarian Data 0.105767384\nLibrarian Librarian 1.0\nLibrarian Symposium 0.25176087\nLibrarian is 0.30456054\nLibrarian intended 0.24139608\nLibrarian to 0.28961083\nLibrarian provide 0.21883203\nLibrarian an 0.2783703\nSymposium The 0.3484234\nSymposium Southeast 0.21938327\nSymposium Data 0.21679558\nSymposium Librarian 0.25176087\nSymposium Symposium 1.0\nSymposium is 0.26710707\nSymposium intended 0.2184556\nSymposium to 0.28368545\nSymposium provide 0.27469382\nSymposium an 0.27959943\nis The 0.5536109\nis Southeast 0.26847538\nis Data 0.28532642\nis Librarian 0.30456054\nis Symposium 0.26710707\nis is 1.0\nis intended 0.4559192\nis to 0.40548643\nis provide 0.42541826\nis an 0.63675654\nintended The 0.44844761\nintended Southeast 0.129104\nintended Data 0.3011669\nintended Librarian 0.24139608\nintended Symposium 0.2184556\nintended is 0.4559192\nintended intended 1.0\nintended to 0.5384126\nintended provide 0.571747\nintended an 0.41959882\nto The 0.5877379\nto Southeast 0.2922006\nto Data 0.3160074\nto Librarian 0.28961083\nto Symposium 0.28368545\nto is 0.40548643\nto intended 0.5384126\nto to 1.0\nto provide 0.5624\nto an 0.51197773\nprovide The 0.43726653\nprovide Southeast 0.15326436\nprovide Data 0.44369358\nprovide Librarian 0.21883203\nprovide Symposium 0.27469382\nprovide is 0.42541826\nprovide intended 0.571747\nprovide to 0.5624\nprovide provide 1.0\nprovide an 0.46115348\nan The 0.5969309\nan Southeast 0.20995641\nan Data 0.2718177\nan Librarian 0.2783703\nan Symposium 0.27959943\nan is 0.63675654\nan intended 0.41959882\nan to 0.51197773\nan provide 0.46115348\nan an 1.0\n"
    }
   ],
   "source": [
    "for token1 in doc[:10]:\n",
    "    for token2 in doc[:10]:\n",
    "        print(token1.text, token2.text, token1.similarity(token2))"
   ]
  },
  {
   "source": [
    "**Question**: Looking at the results, can you explain the scale of the similarity score?"
   ],
   "cell_type": "markdown",
   "metadata": {}
  },
  {
   "cell_type": "code",
   "execution_count": 67,
   "metadata": {
    "tags": []
   },
   "outputs": [
    {
     "output_type": "stream",
     "name": "stdout",
     "text": "The Southeast Data Librarian Symposium is intended to provide an opportunity for librarians and other research data specialists to explore developments in the field of data librarianship, including the management and sharing of research data.\n\n The Southeast Data Librarian Symposium is intended to provide an opportunity for librarians and other research data specialists to explore developments in the field of data librarianship, including the management and sharing of research data.\n\n \n 1.0\n----------------------------------------------\nThe Southeast Data Librarian Symposium is intended to provide an opportunity for librarians and other research data specialists to explore developments in the field of data librarianship, including the management and sharing of research data.\n\n In addition to learning about new work in the field, attendees will have the opportunity to network and build partnerships with regional colleagues. \n 0.9366893\n----------------------------------------------\nThe Southeast Data Librarian Symposium is intended to provide an opportunity for librarians and other research data specialists to explore developments in the field of data librarianship, including the management and sharing of research data.\n\n It is open to all who wish to attend, including students, data managers, and data scientists.\n\n \n 0.9290083\n----------------------------------------------\nThe Southeast Data Librarian Symposium is intended to provide an opportunity for librarians and other research data specialists to explore developments in the field of data librarianship, including the management and sharing of research data.\n\n The Symposium has previously taken place in Athens, Georgia, and has been sponsored by Google for $10 million. \n 0.83617926\n----------------------------------------------\nIn addition to learning about new work in the field, attendees will have the opportunity to network and build partnerships with regional colleagues. The Southeast Data Librarian Symposium is intended to provide an opportunity for librarians and other research data specialists to explore developments in the field of data librarianship, including the management and sharing of research data.\n\n \n 0.9366893\n----------------------------------------------\nIn addition to learning about new work in the field, attendees will have the opportunity to network and build partnerships with regional colleagues. In addition to learning about new work in the field, attendees will have the opportunity to network and build partnerships with regional colleagues. \n 1.0\n----------------------------------------------\nIn addition to learning about new work in the field, attendees will have the opportunity to network and build partnerships with regional colleagues. It is open to all who wish to attend, including students, data managers, and data scientists.\n\n \n 0.9170253\n----------------------------------------------\nIn addition to learning about new work in the field, attendees will have the opportunity to network and build partnerships with regional colleagues. The Symposium has previously taken place in Athens, Georgia, and has been sponsored by Google for $10 million. \n 0.86497456\n----------------------------------------------\nIt is open to all who wish to attend, including students, data managers, and data scientists.\n\n The Southeast Data Librarian Symposium is intended to provide an opportunity for librarians and other research data specialists to explore developments in the field of data librarianship, including the management and sharing of research data.\n\n \n 0.9290083\n----------------------------------------------\nIt is open to all who wish to attend, including students, data managers, and data scientists.\n\n In addition to learning about new work in the field, attendees will have the opportunity to network and build partnerships with regional colleagues. \n 0.9170253\n----------------------------------------------\nIt is open to all who wish to attend, including students, data managers, and data scientists.\n\n It is open to all who wish to attend, including students, data managers, and data scientists.\n\n \n 1.0\n----------------------------------------------\nIt is open to all who wish to attend, including students, data managers, and data scientists.\n\n The Symposium has previously taken place in Athens, Georgia, and has been sponsored by Google for $10 million. \n 0.8555072\n----------------------------------------------\nThe Symposium has previously taken place in Athens, Georgia, and has been sponsored by Google for $10 million. The Southeast Data Librarian Symposium is intended to provide an opportunity for librarians and other research data specialists to explore developments in the field of data librarianship, including the management and sharing of research data.\n\n \n 0.83617926\n----------------------------------------------\nThe Symposium has previously taken place in Athens, Georgia, and has been sponsored by Google for $10 million. In addition to learning about new work in the field, attendees will have the opportunity to network and build partnerships with regional colleagues. \n 0.86497456\n----------------------------------------------\nThe Symposium has previously taken place in Athens, Georgia, and has been sponsored by Google for $10 million. It is open to all who wish to attend, including students, data managers, and data scientists.\n\n \n 0.8555072\n----------------------------------------------\nThe Symposium has previously taken place in Athens, Georgia, and has been sponsored by Google for $10 million. The Symposium has previously taken place in Athens, Georgia, and has been sponsored by Google for $10 million. \n 1.0\n----------------------------------------------\n"
    }
   ],
   "source": [
    "for sent1 in doc.sents:\n",
    "    for sent2 in doc.sents:\n",
    "        print(sent1.text, sent2.text, \"\\n\", sent1.similarity(sent2))\n",
    "        print(\"----------------------------------------------\")"
   ]
  },
  {
   "source": [
    "## Rule based matcher"
   ],
   "cell_type": "markdown",
   "metadata": {}
  },
  {
   "source": [
    "## Working with multiple documents (a corpus)"
   ],
   "cell_type": "markdown",
   "metadata": {}
  },
  {
   "source": [
    "For a small corpus, you can build a list of processed spaCy docs. "
   ],
   "cell_type": "markdown",
   "metadata": {}
  },
  {
   "cell_type": "code",
   "execution_count": 17,
   "metadata": {
    "tags": []
   },
   "outputs": [
    {
     "output_type": "stream",
     "name": "stdout",
     "text": "--2020-10-06 08:35:44--  https://github.com/csbailey5t/sedls/blob/master/aspca-texts.zip\nResolving github.com (github.com)... 140.82.114.3\nConnecting to github.com (github.com)|140.82.114.3|:443... connected.\nHTTP request sent, awaiting response... 200 OK\nLength: unspecified [text/html]\nSaving to: ‘aspca-texts.zip.1’\n\naspca-texts.zip.1       [ &lt;=&gt;                ]  79.63K  --.-KB/s    in 0.03s   \n\n2020-10-06 08:35:46 (2.35 MB/s) - ‘aspca-texts.zip.1’ saved [81542]\n\nArchive:  aspca-texts.zip\nreplace texts/aspca_20200309_3412.txt? [y]es, [n]o, [A]ll, [N]one, [r]ename: ^C\n"
    }
   ],
   "source": [
    "!wget https://github.com/csbailey5t/sedls/blob/master/aspca-texts.zip\n",
    "!unzip aspca-texts.zip"
   ]
  },
  {
   "cell_type": "code",
   "execution_count": 18,
   "metadata": {},
   "outputs": [
    {
     "output_type": "execute_result",
     "data": {
      "text/plain": "108"
     },
     "metadata": {},
     "execution_count": 18
    }
   ],
   "source": [
    "fns = glob.glob(\"texts/*.txt\")\n",
    "len(fns)"
   ]
  },
  {
   "cell_type": "code",
   "execution_count": 19,
   "metadata": {},
   "outputs": [],
   "source": [
    "texts = []\n",
    "for fn in fns:\n",
    "    with open(fn, 'r') as f:\n",
    "        texts.append(f.read())"
   ]
  },
  {
   "cell_type": "code",
   "execution_count": 20,
   "metadata": {
    "tags": []
   },
   "outputs": [
    {
     "output_type": "stream",
     "name": "stdout",
     "text": "CPU times: user 5.44 s, sys: 611 ms, total: 6.05 s\nWall time: 6.07 s\n"
    }
   ],
   "source": [
    "%time corpus = [nlp(text) for text in texts[:5]]"
   ]
  },
  {
   "cell_type": "code",
   "execution_count": 21,
   "metadata": {
    "tags": [
     "outputPrepend"
    ]
   },
   "outputs": [
    {
     "output_type": "stream",
     "name": "stdout",
     "text": "GPE\nHiggins PERSON\nC. R. Davies PERSON\nCheshire PERSON\nAltrincham GPE\n9 CARDINAL\nE. Parker PERSON\nhon ORG\n107 MONEY\n7 CARDINAL\nDenbighshire PERSON\nK. Ashcroft PERSON\nDenbigh\n ORG\nhon ORG\nScala PERSON\n£7 65 MONEY\n7d CARDINAL\nDeVon PERSON\nWitney Jones PERSON\nMrs Robert Jones PERSON\nLynton GPE\nLynmouth PERSON\nthe Town Hall FAC\nHillier PERSON\nCountess Fortescue ORG\nDevon PERSON\nJennifer Pearce PERSON\nMrs Ambrose PERSON\nInspectbr Ambrose PERSON\nM. Mackay PERSON\nhon ORG\nDorset GPE\nNorth GPE\nannual DATE\nMrs Baker PERSON\nhon ORG\nWest Moors GPE\n67 MONEY\nDurham GPE\nG. McIntyre PERSON\nBeverley Studio ORG\nBarnes ORG\njamieson PERSON\nBarnes Auxiliary ORG\nHon ORG\nCaledonian NORP\n7 MONEY\nthe Town Hall FAC\nDurham GPE\ntwo CARDINAL\nMrs H. H. Rushford PERSON\nMrs Rushford PERSON\nhon ORG\nMiss G. S. Wilkinson PERSON\nhon ORG\nA. B. Peacock. PERSON\nEssex GPE\nBarﬁeld man,&#39;Mr ORG\nWilliam Sutton PERSON\n135-feet QUANTITY\nRSPCA GPE\nBronze\nMedal WORK_OF_ART\nN. Playne PERSON\nhon ORG\nLady Courtauld PERSON\nhon ORG\nGlamorgan GPE\nSwansea GPE\nBrook PERSON\nhon ORG\nR. Hitchings PERSON\nCraig-y-nos GPE\nthe Gwynne Arms FAC\nGrimsby GPE\nthe Scunthorpe\nBorough Council Chamber ORG\nScunthorpe GPE\nCoun B. W. T. Marris PERSON\nQuibell PERSON\n£642 15s MONEY\n7d CARDINAL\nthe\nRSPCA ORG\nQuibell PERSON\nthe Police\n LAW\nHatﬁeld GPE\nRSPCA GPE\nMesmerist PERSON\n111m QUANTITY\nal World ORG\n#7\n MONEY\nJanuary 1953 DATE\nTHE ANIMAL WORLD 5\n\n \n\n \n\n EVENT\nSouthern papers Ltd ORG\na night TIME\nlast autumn DATE\n36 CARDINAL\nWealston GPE\nSouthampton GPE\nSouthampton GPE\nHallam FAC\nNetley Shore FAC\nthree CARDINAL\nEast Kerrier LOC\nRSPCA GPE\nthree CARDINAL\n171 yards QUANTITY\nNorris PERSON\n4 CARDINAL\n7 CARDINAL\nBench PERSON\ntWo CARDINAL\n£25\n MONEY\n£11 MONEY\n83 CARDINAL\ntW0 years DATE\nA5974 ORG\nRSPCA GPE\nNorth ORG\nleach Magistrates Court ORG\ntwo CARDINAL\nspring DATE\ntwo CARDINAL\n2 MONEY\n3 CARDINAL\nPriestley\n PERSON\nPolice ORG\nMagistrates ORG\nA6008 ORG\nshief lnspector Hindle PERSON\nBeaulieu Road\n FAC\nLONDON GPE\n0 CARDINAL\nDAY\n PRODUCT\n7 CARDINAL\nLondon GPE\nApril l4\n\n DATE\nApril 7 DATE\nCelluloid Buttons PRODUCT\nBethnal Green ORG\nLONDON GPE\nE.2\n ORG\n5750 CARDINAL\nUnibutco Edo’ PERSON\n_l\n\n \n\n \n\n \n\n \n\n \n\n \n\nTEMPLE PERSON\nCOX ORG\nRSPCA GPE\nTHREE CARDINAL\nSMALLS ORG\n6 CARDINAL\nAbattoirs GPE\nFreezing Works PERSON\nTEMPLE COX DEVELOPMENT CO. LTD ORG\nBROMLEY GPE\nKENT GPE\nHOBSON &amp; SONS\n ORG\nLONDON) LTD ORG\n154 CARDINAL\nTOOLEY STREET\n ORG\nLONDON GPE\n4 CARDINAL\nHOBSON ORG\nBOROH ORG\nLONDON GPE\nHELMETS LEATHER\n PRODUCT\nCLOTH ORG\n4s CARDINAL\n6d CARDINAL\n953 CARDINAL\njuly DATE\nRSPCA GPE\nsix weeks later DATE\nlnspector McCluskey PERSON\nNorwich GPE\nRSPCA GPE\n3 CARDINAL\n2 CARDINAL\ntwo years DATE\nTWO CARDINAL\nRSPCA GPE\nabout a thousand CARDINAL\nconvic PERSON\neach year DATE\ntwo CARDINAL\nthree CARDINAL\nRSPCA ORG\n2 MONEY\n2 MONEY\nsix CARDINAL\n10 MONEY\n2 MONEY\n1 MONEY\nRSPCA GPE\nthe\nProtection of Animals Act LAW\n1911 DATE\n25 MONEY\nthree months’ DATE\nRSPCA GPE\nRSPCA GPE\n25 MONEY\n1911 DATE\nBill PERSON\nRSPCA GPE\nBill PERSON\n£25\n MONEY\n100 MONEY\nthe House of Commons\n ORG\nE. Harris PERSON\nsecond ORDINAL\nBill PERSON\nRSPCA GPE\nthe House of Commons ORG\nTufton Beamish PERSON\nAmendment)&#39;Bill ORG\n1911 DATE\nAct LAW\nProtection of\n ORG\nsecond ORDINAL\nthe Protection of\n\nAnimals (Cruelty to Dogs) Act ORG\n1933 DATE\n953 CARDINAL\nIHA ORG\nJanuary 1953 DATE\nTHE ANIMAL WORLD 7\n\n \n\n \n\n EVENT\nParliament ORG\nSPEIR PERSON\nthe next twelve\nmonths DATE\nFour CARDINAL\nCanterbury GPE\nFareham PERSON\nSwindon GPE\nSPEIR PERSON\nEngland GPE\nView GPE\nNorth LOC\nHexham PERSON\ntwo CARDINAL\nNorth LOC\nSunderland GPE\none CARDINAL\nWigan ORG\nBolton PERSON\nLeigh LOC\nHexham PERSON\nWILLEY PERSON\nSunderland GPE\nthe hon Gentle— PERSON\nANTHONY GREENWOOD PERSON\nGEOFFREY LLOYD PERSON\nThird ORDINAL\nthe Coal Mines Act LAW\n1911 DATE\nCoal Mines LOC\n1949 DATE\nseven CARDINAL\nBROMLEYvDAVENPORT GPE\nMinister of Agriculture ORG\nView GPE\nthe\nProvision LAW\n8 CARDINAL\n1952 DATE\nT. DUGDALE PERSON\n1950 DATE\nGreat Britain GPE\nvanner PERSON\nmule or_jennet PERSON\nat least £75 MONEY\nOrder ORG\nUS GPE\nEssex GPE\nford ORG\nRom- ORG\nford ORG\nHon ORG\nSec ORG\ntwo CARDINAL\nTwo CARDINAL\nFireworks NORP\nthe Memorial\n\nWorks, Cantley FAC\nMrs Jean Bell PERSON\nDoncaster Dogs’ ORG\ntwo CARDINAL\nWestholme Road FAC\nDoncaster GPE\nGrant four hours TIME\nJoseph S.\n PERSON\nLittlemoor Street FAC\nDoncaster GPE\n1953\n\n DATE\n316 CARDINAL\n1d ORG\n1d DATE\nJIM PERSON\nJanuary 1953 DATE\nNOVEMBER 1952 DATE\nRSPCA INSPECTORS &#39; ORG\n2,265 CARDINAL\n73 CARDINAL\n25 CARDINAL\nPersons ORG\n843 CARDINAL\n5\n CARDINAL\n2\n CARDINAL\nSHEEP PERSON\n2\n CARDINAL\n6 CARDINAL\n23\n QUANTITY\n1\n CARDINAL\n1\n CARDINAL\n1\n CARDINAL\n1925 DATE\n2\n CARDINAL\n9\n QUANTITY\n2\n CARDINAL\n1\n CARDINAL\n1933 DATE\n2\n CARDINAL\n1894 1\n QUANTITY\nDJ\n\n WORK_OF_ART\nNOVEMBER 1952 DATE\nMagistrates ORG\nRSPCA GPE\nFOURTEEN CARDINAL\nTWELVE MONTHS DATE\nTHREE CARDINAL\nTWO YEARS DATE\nONE CARDINAL\nTHREE YEARS DATE\nTHREE CARDINAL\nFIVE YEARS DATE\nFOUR CARDINAL\nTEN YEARS DATE\nTWO CARDINAL\nJanuary 1 28,488 DATE\nJanuary 1 DATE\n911 CARDINAL\nJanuary 1 10,754 DATE\n4,112 CARDINAL\nDogs NORP\n3,733 CARDINAL\n164 CARDINAL\n1,995 CARDINAL\n8,009 CARDINAL\nPHTNEY ORG\n4 CARDINAL\n48 CARDINAL\n1,460 CARDINAL\n1,640 CARDINAL\nMisc. GPE\n2 CARDINAL\n54 CARDINAL\n13 CARDINAL\n225 CARDINAL\nNORTH WALES GPE\n33 CARDINAL\n67 CARDINAL\n0\n QUANTITY\n64 CARDINAL\n52 CARDINAL\nmonth DATE\n2,045 CARDINAL\n55 CARDINAL\n100 CARDINAL\n116 CARDINAL\nCertiﬁcates 24 LAW\n1951 DATE\n31,399\n CARDINAL\n939 CARDINAL\n161,071 CARDINAL\n17,792 CARDINAL\nNORTH WALES GPE\n2,822 CARDINAL\nRSPCA GPE\n8\n PRODUCT\nCertiﬁcates PERSON\n142 CARDINAL\nb’l\n\n LANGUAGE\nJanuary 1953 DATE\n11 CARDINAL\nthe Bradford Telegraph ORG\nDrummond Road School ORG\nBradford PERSON\ntwo CARDINAL\nRSPCA GPE\nNewcastle GPE\nBeadnell Women’s Institute ORG\n1 MONEY\nSociety ORG\n£2 145 MONEY\nGateshead GPE\nMrs Nairn PERSON\nBedlington ORG\n10 MONEY\n6d CARDINAL\nAmble ORG\n25 MONEY\nNottingham GPE\nNotts GPE\nGalway GPE\nRSPCA GPE\nD. Gyles PERSON\nthe Majestic Theatre FAC\nRetford PERSON\nHodgson PERSON\nBerks PERSON\nHants GPE\nOxon GPE\nhon ORG\nSt John’s Hall GPE\n56 MONEY\n7 CARDINAL\nMrs Rawson PERSON\nStubbings Manor GPE\nBurchetts Green PERSON\n£18 23 MONEY\n6d CARDINAL\nAnimal Sunday DATE\nSt Laurence‘s Church FAC\nWadland PERSON\nhon ORG\nthe Rev G. E. Jenkins ORG\nVicar PERSON\nthe Rev E. H. Knell ORG\nRotherham GPE\nDenaby\n PRODUCT\nMrs Bayley PERSON\nhon ORG\nMexborough PERSON\n3 MONEY\nShrOpshire M r Thomas Jones ORG\nOswestry aux1hary hon ORG\nannual DATE\nH. E. Kenyon PERSON\nhon ORG\nhon ORG\nSenior Inspector Brehany PERSON\nHilller PERSON\nMrs Bedwell PERSON\nMrs Tudor Hughes PERSON\nGeorge Lloyd kindly lendlng PERSON\nOswestry GPE\n£17 113 MONEY\nPrebendary L. J. B. Snell PERSON\nannual DATE\nShrewsbury Castle FAC\nSociety ORG\nPrebendary Snell’s GPE\nSnell PERSON\nford ORG\nW. H. Rogers PERSON\nMrs M. Meredith PERSON\nhon ORG\nA. H. Jones PERSON\nShrewsbury GPE\nen bloc LOC\nInspector Brehany PERSON\nStaffordshire—North Mrs Berry PERSON\nhon ORG\nTrent GPE\nBurslem Tunstall ORG\nChell auxiliaries ORG\nStoke City GPE\nStoke GPE\n£57 63 MONEY\nSuffolk GPE\nEast Coast LOC\nMrs Barley PERSON\nSibton ORG\nhon ORG\n£3 63 MONEY\n6d CARDINAL\nMrs Barley PERSON\nSurrey GPE\nMrs\nNeale PERSON\nAshtead ORG\nhon ORG\n337 MONEY\nSurrey—Guildford PERSON\nMrs Keene PERSON\nShalford ORG\nliary hon PERSON\nMiss Mair PERSON\nShalford Institute ORG\n£33\n MONEY\nHawxwell ORG\nSussex PERSON\nBrighton GPE\nW. C. Brown PERSON\nWinnie Carr PERSON\n13 DATE\nLi ndﬁeld PERSON\n13 MONEY\nDiana Deering PERSON\nHove GPE\n17 CARDINAL\nthe County Primary School ORG\nSouthwick PERSON\n9 MONEY\n6d CARDINAL\nHolland GPE\nCouch ORG\nCuckﬁeld ORG\n10 MONEY\nMrs Lisle PERSON\nCuckﬁeld ORG\nhon ORG\n22 MONEY\nBarnham ORG\nMrs Wigan PERSON\n£39 25 MONEY\n11d CARDINAL\nautumn DATE\nMrs Wood PERSON\n32 MONEY\n173 PRODUCT\n3d CARDINAL\nIsaacson, Chichester ORG\nhon ORG\n23 MONEY\nRSPCA GPE\nMrs Morris ORG\nhon ORG\nPulleine PERSON\nMrs\nMorris PERSON\nabout £73 MONEY\nThirsk by Mrs Morris FAC\nliary hon PERSON\n£7 14s MONEY\nWakeﬁeld PERSON\nDewsbury GPE\nPontefract GPE\nMirﬁeld GPE\nBatley FAC\nPulleine PERSON\nMorley Rotary Club ORG\nWarwickshire South GPE\nD. Lake LOC\nWarwick GPE\nsecond ORDINAL\nLightbown PERSON\n8 MONEY\n9s PRODUCT\nWarwick GPE\nWestmorland PERSON\nG. Williams PERSON\nSt Thomas’s GPE\nKendal PERSON\nKendal Grammar School\n ORG\nModern School ORG\nsix CARDINAL\nRSPCA ORG\nKendal Town Hall FAC\nMrs Coward PERSON\nKendal PERSON\nhon ORG\nLynn PERSON\nthe Pet Show EVENT\nThe Lynn News and Advertiser ORG\nALICE COUNTESS PERSON\nATHLONE ORG\nARTHUR PERSON\nCONNAUGHT GPE\nROBERT GOWER PERSON\nKCVO ORG\nOBE ORG\nHON DCL ORG\nWINIFRED DUCHESS PERSON\nPORTLAND GPE\nMALCOLM SARGENT PERSON\nHON LLD ORG\nD MUS PERSON\nFRCM ORG\nFRSA ORG\nSHAFTESBURY GPE\nKP ORG\nR. M. POWELL PERSON\nDSO PERSON\n1952-1953 DATE\nDL ORG\nTD ORG\nWALLIS POWER PERSON\nAMBROSE ORG\nOSB PERSON\nEVANS PERSON\nDAVID PERSON\nHON ORG\nFREEMAN PERSON\nPETER PERSON\nESQ PERSON\nPOWELL PERSON\nA. J. PERSON\nFCRA GPE\nJP GASKOIN PERSON\nESQ PERSON\nMA GPE\nRATTRAY ORG\nR. F.\n PERSON\nBERE ORG\nRUPERT DE LA PERSON\nGREENWOOD PERSON\nANTHONY PERSON\nESQ PERSON\nMA GPE\nH. H. PERSON\nESQ ORG\nBERTIE PERSON\nTHAME ORG\nRT ORG\nHON PRODUCT\nVISCOUNTESS ORG\n1:321:33 CARDINAL\nHON ORG\nCOUNTESS ORG\n0P PRODUCT\nBRANSOM ORG\nL. G. PERSON\nFRSA HOGG s R ORG\nW. A. PERSON\nESQ PERSON\nMA GPE\nH. E. PERSON\nESQ PERSON\nMRcvs ORG\nQ WORK_OF_ART\nSNELL ORG\nPREBENDARY L. J. 3. ORG\nMBE PERSON\nJ. D. PERSON\nKBE ORG\n1323.1 CARDINAL\n2:23i::.:§52 CARDINAL\nDOWDELL ORG\nW. *WALFORD PERSON\nERSKINE PERSON\nRESTORMEL LAW\nHON ORG\nC. A. PERSON\nCBE ORG\nMRC‘VS CARDINAL\nOSWALD ORG\nAGNES PERSON\nMB ORG\nDPH MOORE PERSON\nTHOMAS PERSON\nCBE ORG\nHARRY PERSON\nESQ PERSON\nCANTAB ORG\nMAURICE G. PERSON\nESQ PERSON\nMISAC *WINCHESTER PERSON\nF. J. GPE\nESQ ORG\nFCIS GPE\nCOUNCIL ORG\nHon ORG\nLT-COL J. C. LOCKWOOD ORG\nJP GPE\nTD ORG\nHon Treasurer—HARRY WHITE PERSON\nESQ PERSON\nPCA ORG\nHon Medical ORG\nA. F. WHYTE PERSON\nESQ PERSON\nMB ORG\nCHB Legal ORG\nJ. ﬂALL PERSON\nESQ PERSON\nCOU&#39;ITS AND CO ORG\nSTRAND GPE\nLONDON GPE\nR. C. G. HANCOCK PERSON\nBSC ORG\nMRcvs ORG\nPRICE &amp; GOODYEAR ORG\nARTHUR W. MOSS PERSON\nESQ PERSON\nMBE PERSON\nACIS LAW\nLT-COL I. GARTSIDE ORG\nDso GPE\n7177 CARDINAL\n9\n CARDINAL\nChristmas DATE\nAppeals Department ORG\nJermyn Street FAC\nLondon GPE\nSW GPE\nKg PERSON\nJermyn Street FAC\n5 CARDINAL\nun ORG\nNM 7 PRODUCT\nLCCLES WORK_OF_ART\nSHELVOKE PRODUCT\nBIRMINGHAM GPE\n8 CARDINAL\nENGLAND GPE\n5465\n\n DATE\nJanuary 1953\n\n \n\n \n\n DATE\nBRITAIN GPE\nJames Fisher PERSON\nEastern ORG\n0 CARDINAL\nBritish NORP\nHugh PERSON\nWhistler GPE\nLondon GPE\njackson PERSON\nthe Manchester Guardian ORG\nBritish NORP\nStrepto PERSON\npelia dedaocto PERSON\nEnglish LANGUAGE\nIndian NORP\nEastern ORG\nEastern ORG\nStreptOv ORG\npelia decaocto PERSON\nthe Manchester Guardian’s ORG\nLincoln ORG\nAugust 1952 DATE\nAsiatic\n PRODUCT\nJapan GPE\nTokio GPE\nKOrea GPE\nChina GPE\nBurma GPE\nIndia GPE\nTurkestan GPE\nAfghanistan GPE\nPersia FAC\nPalestine GPE\nCyprus GPE\nRhodes PERSON\nAsia LOC\nseventeenth DATE\neighteenth DATE\ntury PERSON\nConstantinople PERSON\nEuropean NORP\nBalkan NORP\nBulgaria GPE\nGreece GPE\nMacedonia GPE\nThrace PERSON\nAlbania GPE\nYugoslavia GPE\ntwenty years DATE\nfourteen CARDINAL\nnine and a half DATE\nhalf CARDINAL\nHungary GPE\nCzechoslovakia GPE\nAustria GPE\nRumania GPE\nGermany GPE\nBarbary LOC\nproo PERSON\npru ORG\nseveral weeks DATE\noliverbuff colour PERSON\nhalf CARDINAL\nlts flight PRODUCT\nglid1ng GPE\nhawkalike PERSON\nEurope LOC\nmar—\n DATE\nginal land ORG\npoorish scrubland ORG\nspinneys\n PRODUCT\nchickenrruns ORG\nLincolnshire GPE\nsixty yards QUANTITY\nBird Notes WORK_OF_ART\nthe Manchester Guardian ORG\nJanuary 1953 DATE\nFIRST ORDINAL\nRSPCA GPE\n1824 DATE\nSociety ORG\nInspector ORG\n200 CARDINAL\nEngland GPE\nWales GPE\nRSPCA GPE\nNinette Gold PERSON\nPat Jones PERSON\nWallis Power PERSON\nthe RSPCA Council ORG\nGold PERSON\nWimbledon Division ORG\nRaynes Park GPE\nSW20 GPE\nJones PERSON\nOrchard Gate FAC\nGreenford GPE\nMiddlesex GPE\nRSPCA GPE\n100 MONEY\nBULLFIGHTING ORG\nAnnual DATE\nthe American Humane Association ORG\nthe American Humane Association ORG\nhundreds of thousands\n CARDINAL\nAmerican NORP\nbulla\n ORG\nRSPCA GPE\nMrs Wallis Power PERSON\nPat jones PERSON\nfirst ORDINAL\nWomen RSPCA\nPatrol ORG\nAmerican NORP\nselﬁsh GPE\nthe American Society of\nTravel Agents Inc. ORG\nMiami GPE\nthis month DATE\nRSPCA GPE\n149 CARDINAL\nSuffolk GPE\nKent GPE\nHuddersﬁeld GPE\nLeek ORG\nYork GPE\nLincoln, Dagenham ORG\nOxford ORG\nLondon GPE\nFifty—four CARDINAL\n450 CARDINAL\nthe Headquarters\nGroup ORG\nS/Inspector Bonam ORG\nthe late afternoon TIME\nDouglas Marshall PERSON\nCornwall East LOC\nLoder PERSON\nSymonds PERSON\nHereford GPE\nJanuary 1953 DATE\nBROMLEY ORG\nDAVENPORT PERSON\nMinister of Agriculture ORG\nthe\n ORG\nRoyal Society for the Prevention of Cruelty to\nAnimals ORG\nT. DUGDALE ORG\nDepartment ORG\nthe Royal Society for the Prevention\nof Cruelty to Animals ORG\noccav\n PERSON\nslaughtera PERSON\nCruelty to Animals (Children ORG\nLIEUTvCOLONEL LOCKWOOD PERSON\nState ORG\nthe Home Department ORG\nD. MAXWELL FYFE PERSON\ntwo CARDINAL\nHon ORG\nNorth\n LOC\nChapman PERSON\nJune 18 DATE\nMrs Wallis\nPower PERSON\nthe RSPCA\nCouncil ORG\nInspector Pickett PERSON\nChrist-\n PRODUCT\nChristchurch GPE\ntwo CARDINAL\nLynmouth PERSON\nRSPCA GPE\nthe Bournemouth Daily Echo ORG\nStephen Message PERSON\none CARDINAL\nSt Lawrence C. GPE\nE. School ORG\nChobham ORG\nSurrey ORG\n8 CARDINAL\nJanuary 1953 DATE\nMrs l. Slater PERSON\nTerri PERSON\nOrganizer GPE\nRSPCA GPE\nTanganyika ORG\nRSPCA\n ORG\nthe\nSERENGETTI RESERVE ORG\nKENYA GPE\nEast Africa GPE\nbush PERSON\nconﬁned on board ORG\nweeks DATE\nthe RSPCA Dar-es-Salaam Branch\n\nChildren’s Day FAC\nOyster Bay Beach LOC\nTanganyika ORG\nSwahili NORP\nTANGANYIKA ORG\nUWE NA FADIHLI NA PERSON\nRAFIKI ZETU PERSON\nSwahili NORP\nabout\none-eighth CARDINAL\nUSlwapige wala kuwajemhi PERSON\nkuianya mvi ni kuwa na PERSON\nkumbuka mambo PERSON\nyanayo—wafaa PERSON\nlinda wakau wa hatari PERSON\nUSIwaache ORG\nwakiwa wagoujwa au kujeruhiwa PERSON\nkuwaangalia PERSON\nUSIwaLwishe punda MONEY\nmizigomizito mm PERSON\nusiwape PERSON\nwa ugonjwa au ORG\nwakiwa na PERSON\nkuwalisha vizuri PERSON\nNgombe GPE\nhuhitaji chakula kingi PERSON\nUSIwatege ORG\nNi haki yao kuwa PERSON\nVllu hivx PERSON\nm vya ukatih PERSON\nUSIwatie ORG\nkwa ladhili PERSON\nusisabau kuwupa chakula na muji kwa\n PERSON\nsafari ORG\nUSIwaondoe ORG\nzaO— PERSON\nzao PERSON\nUSIwaumize wala kuwaogofya ORG\nwanaokwenda ORG\nUwahurumie PERSON\nkwa wunyama PERSON\nwa ORG\nmaumwu ORG\nkufa PERSON\nMNYAMA WALA NDECE TENDO L0 LOTE UONALO HALIFA ORG\nKUTENDEWA PERSON\nMWENYEWE GPE\nMWFNYEW ORG\nUWASAJDIE WANYAMA WAISHI ORG\nPASIPO MAUMIVU PERSON\nlsuo PERSON\nJamal PERSON\n195 5\n\n \n\n \n\n DATE\nBeverley Studio PERSON\nBarnes\n PERSON\nIamieson PERSON\nBarnes Auxiliary ORG\nHon ORG\nAnnette Mills PERSON\nMills PERSON\nHuddersfield GPE\nStanley G. Watson PERSON\nhon ORG\n505 MONEY\nthe Branch\nAnimal Week ORG\nKent GPE\nAshford PERSON\nH. A. Crothall PERSON\nhon ORG\ncinema ORG\n£26 14s MONEY\n9d CARDINAL\nAlan\nBowen PERSON\nPeters PERSON\nGreat Chart ORG\nhon ORG\n£6 95 MONEY\n461 CARDINAL\nColes PRODUCT\nKent GPE\nCanterbury GPE\nDistrict A rummage ORG\n£47 105 MONEY\n6d CARDINAL\nR. Crisp PERSON\nMiss V. Slingsbury PERSON\nWhitstable GPE\nhon ORG\nWhitstable GPE\n£52 115 MONEY\nKent GPE\nDover GPE\nMrs Young PERSON\nhon ORG\nTilmanstone GPE\nLangdown Hall FAC\nEythorne GPE\n£13 105 MONEY\n11d CARDINAL\nWebb PERSON\nMrs\nYoung PERSON\nMrs\nYoung PERSON\nKent GPE\nFolkestone GPE\nPolice Training College ORG\nSandgate PERSON\nannual DATE\nthe Town Hall FAC\nWright PERSON\nMayoress LOC\nKent GPE\nBirchington PERSON\nhon ORG\n21 MONEY\nLawrance PERSON\nhon ORG\nLawrance PERSON\nRamsgate GPE\nRamsgate ORG\nThomson PERSON\nMrs Faulkner PERSON\nInspector Vaughan PERSON\nKent GPE\nMaidstone GPE\nan RSPCA Certi ORG\nHeadcorn PERSON\nSub Ofﬁcer E. Bye PERSON\nMrs MacIlwaine PERSON\nhon ORG\nKent GPE\nNorth-West Mrs A. Pollen GPE\nGravesend ORG\nhon ORG\nnearly £40\n MONEY\nKettering GPE\nThrapston PERSON\nKettering GPE\nhon ORG\nDutch NORP\nover £36 MONEY\nMaeelesﬁeld GPE\nBuxton PERSON\nCook PERSON\nhon ORG\nMiss A. M. Wain PERSON\nInspector ORG\nA. Young PERSON\nhon ORG\nMrs\nSolly LAW\nCongleton ORG\nCook PERSON\nMrs Yates PERSON\n75 MONEY\n103 PRODUCT\nMerthyr Tydﬁl PERSON\nT. J. Evans PERSON\nthe Peter Pan Cafe ORG\nMerthyr LOC\nGeraldine Lewis PERSON\nhon ORG\nMayor the Anderson Award Certiﬁcate PERSON\nCanon A. Lloyd\nJones PERSON\nHillier PERSON\nWatts PERSON\nOfﬁcers of the Borough Force ORG\nGlamorgan Fire Services ORG\nhon ORG\nMrs J. T. Vaughan PERSON\nSociety ORG\nLt-Col L. Gartside ORG\nRSPCA GPE\nHillier PERSON\nE. Fenton PERSON\nMonmouthshire PERSON\nthe Branch\nAnimal Cadet Corps ORG\nMiss E. Radcliffe PERSON\nHoward Ebdon PERSON\nthe\nCorps ORG\nGodley\n PERSON\nthe Children’s Pony Show FAC\nGymkhana PERSON\nKnowle GPE\nWarwickshire GPE\nseveral years DATE\nBirmingham GPE\n12 CARDINAL\nJanuary 1953 DATE\nLiverpool GPE\n£366 195 MONEY\n9d CARDINAL\nPeterborough GPE\nA. N.\n PERSON\nHartley PERSON\n£259 MONEY\n83 CARDINAL\n6d CARDINAL\nTredegar ORG\nsec ORG\n£44 MONEY\n35 CARDINAL\n9d CARDINAL\nTowcester GPE\nMrs Gee PERSON\n11 MONEY\n173 CARDINAL\n11d CARDINAL\nTewkesbury ORG\nMrs Salmon PERSON\nsec ORG\n153 CARDINAL\n4d CARDINAL\nTorrington GPE\nMrs Martin PERSON\nsec ORG\n105 CARDINAL\nHitchin PERSON\nM. A. Denniss PERSON\nsec ORG\n173 CARDINAL\nSt Albans PERSON\nMrs Goodwin PERSON\n182 MONEY\nLough ORG\nNorth Leicestershire GPE\nHarridge-Cayless ORG\n333 MONEY\n55 CARDINAL\n11d CARDINAL\nLeicester GPE\nB. H.\n PERSON\nHearth ORG\n582 MONEY\nCitizen GPE\nGloucester GPE\nMrs Ablett PERSON\nLongIevens, Glos ORG\n£8 15s MONEY\n4%d CARDINAL\nGloucester Flag Day EVENT\nHolding Laddie’s PERSON\nChristine PERSON\nMrs Nash PERSON\nGloucester City GPE\nHon ORG\nmmmmmmmmmmmmmmmmmrng PERSON\nSociety ORG\n8 CARDINAL\n8 CARDINAL\n8 CARDINAL\n8 CARDINAL\n3 CARDINAL\n8 CARDINAL\n1824 CARDINAL\nSociety ORG\ng\nSociety ORG\ng\n ORG\n3\n CARDINAL\nSociety ORG\n8\n CARDINAL\n8\n CARDINAL\n8 CARDINAL\n8 CARDINAL\n8 CARDINAL\n3 CARDINAL\nWilliam IV PERSON\nVictoria PERSON\n26 CARDINAL\ntwo CARDINAL\nHOUSE ORG\nI. Green PERSON\n£12 65 MONEY\n1d DATE\nFarndon PERSON\nFields PERSON\nMrs Aldred PERSON\nNewark ORG\nhon sec PERSON\n£1 13$. MONEY\nBearpark PERSON\nMrs Dixon PERSON\nsec ORG\n£24 75 MONEY\n7d CARDINAL\nMirﬁeld WORK_OF_ART\nA. L. Duxbury PERSON\nsec ORG\n30 MONEY\n115 CARDINAL\n2d CARDINAL\nKing’s ORG\nLangley PERSON\nMrs McKell PERSON\nsec ORG\n£18 125 MONEY\nMiss Goddard PERSON\n26 MONEY\n55 CARDINAL\n1d CARDINAL\nMrs Lombard Hobson PERSON\nsec ORG\n£167 173 MONEY\nIpswich GPE\nMrs Crawford PERSON\nhon sec PERSON\n130 MONEY\nBuckfast ORG\nCarus PERSON\nsec ORG\n£8 ls MONEY\nFormby PERSON\nMrs Mawds PERSON\nley ORG\nsec ORG\nOs PERSON\n5d CARDINAL\nBushey ORG\nMrs Leicester PERSON\nsec ORG\n£31 45 MONEY\n7d CARDINAL\nGoodwick PERSON\nHolmes PERSON\nhon ORG\nsec ORG\n£11 2s MONEY\nLangworth GPE\nRand GPE\nMrs Baker PERSON\nsec ORG\n£3 115 MONEY\n3d FAC\nDartford GPE\nMrs I. C. Ransom PERSON\nsec ORG\n140 MONEY\n35 CARDINAL\nllcl ORG\nFaversham PERSON\n50 MONEY\n25 MONEY\n7d CARDINAL\nSociety ORG\nSalisbury GPE\nOswestry GPE\nApperley Bridge FAC\nBristol GPE\nNottingham GPE\nLeicester GPE\nFingringhoe GPE\nMargate GPE\nWigan PERSON\nWest Bergholt GPE\nPoulton PERSON\nlevalde GPE\nGillingham GPE\nFarnham PERSON\nLevens GPE\nWyresdale ORG\nNewburn GPE\nBexleyheath ORG\nRuislip PERSON\nShalford PERSON\nLymington GPE\nBournemouth GPE\nBark GPE\nStonebridge Park GPE\nBlackpool GPE\nChartham ORG\nAnnesley ORG\nPark GPE\nMiddlesbrough GPE\nIver Heath PERSON\nSheepwash GPE\nTopsham GPE\nHartley PERSON\nWells NORP\nSea LOC\nNew Milton GPE\nMold ORG\nWel GPE\nWhitehaven GPE\nHarrington GPE\nRickmansworth GPE\nShrews GPE\nFareham PERSON\nWhittlesey GPE\nLiverpool GPE\nEastbourne GPE\nOffen GPE\nLiskeard LOC\nKendal LOC\nTebay ORG\nBeadnell ORG\nWooler PERSON\nEast Ham GPE\nLeeds GPE\nRochester GPE\nPurley GPE\nBrislington ORG\nBradford, Fyﬁeld ORG\nNewport GPE\nHeywood GPE\nEpsom, Shaftes GPE\nCambridge GPE\nSheerness GPE\nUpper Clapton PERSON\nHigham PERSON\nArnside ORG\nRetford GPE\nCarmarthen GPE\nAberdare GPE\nBUSH PERSON\nSPRATT’S GUIDE TO DOG MANAGEMENT’ FAC\n88 CARDINAL\n8 CARDINAL\n4 CARDINAL\nBreedin PERSON\nHousing PERSON\nSpratt’s Stockist ORG\nDept ORG\nr/ 5 CARDINAL\nSPRATT PERSON\nn Biscuit ORG\nSPRATT’S PATENT LTD. ORG\nBOW ROAD ORG\nLONDON GPE\nColour ORG\n87 CARDINAL\n63 CARDINAL\n23 CARDINAL\n213 CARDINAL\ndozen CARDINAL\none dozen CARDINAL\nRS ORG\n105 CARDINAL\nLondon GPE\nShenval Press ORG\nSimson Shand Ltd ORG\nParliament Square FAC\nHertford GPE\nArthur W. PERSON\nMoss for the GPE\nRSPCA GPE\n105 CARDINAL\nJermyn Street FAC\nLondon GPE\n"
    }
   ],
   "source": [
    "for doc in corpus:\n",
    "    for ent in doc.ents:\n",
    "        print(ent.text, ent.label_)"
   ]
  },
  {
   "cell_type": "code",
   "execution_count": 22,
   "metadata": {},
   "outputs": [
    {
     "output_type": "execute_result",
     "data": {
      "text/plain": "1285"
     },
     "metadata": {},
     "execution_count": 22
    }
   ],
   "source": [
    "# Collect all geo-political entities from whole corpus\n",
    "gpes = [(ent.text, ent.label_) for ent in doc.ents for doc in corpus if ent.label_ == \"GPE\"]\n",
    "len(gpes)"
   ]
  },
  {
   "cell_type": "code",
   "execution_count": 23,
   "metadata": {},
   "outputs": [
    {
     "output_type": "execute_result",
     "data": {
      "text/plain": ", &#39;GPE&#39;),\n (&#39;Lynton&#39;, &#39;GPE&#39;),\n (&#39;Lynton&#39;, &#39;GPE&#39;),\n (&#39;Lynton&#39;, &#39;GPE&#39;),\n (&#39;Dorset&#39;, &#39;GPE&#39;),\n (&#39;Dorset&#39;, &#39;GPE&#39;),\n (&#39;Dorset&#39;, &#39;GPE&#39;),\n (&#39;Dorset&#39;, &#39;GPE&#39;),\n (&#39;Dorset&#39;, &#39;GPE&#39;),\n (&#39;North&#39;, &#39;GPE&#39;),\n (&#39;North&#39;, &#39;GPE&#39;),\n (&#39;North&#39;, &#39;GPE&#39;),\n (&#39;North&#39;, &#39;GPE&#39;),\n (&#39;North&#39;, &#39;GPE&#39;),\n (&#39;West Moors&#39;, &#39;GPE&#39;),\n (&#39;West Moors&#39;, &#39;GPE&#39;),\n (&#39;West Moors&#39;, &#39;GPE&#39;),\n (&#39;West Moors&#39;, &#39;GPE&#39;),\n (&#39;West Moors&#39;, &#39;GPE&#39;),\n (&#39;Durham&#39;, &#39;GPE&#39;),\n (&#39;Durham&#39;, &#39;GPE&#39;),\n (&#39;Durham&#39;, &#39;GPE&#39;),\n (&#39;Durham&#39;, &#39;GPE&#39;),\n (&#39;Durham&#39;, &#39;GPE&#39;),\n (&#39;Durham&#39;, &#39;GPE&#39;),\n (&#39;Durham&#39;, &#39;GPE&#39;),\n (&#39;Durham&#39;, &#39;GPE&#39;),\n (&#39;Durham&#39;, &#39;GPE&#39;),\n (&#39;Durham&#39;, &#39;GPE&#39;),\n (&#39;Essex&#39;, &#39;GPE&#39;),\n (&#39;Essex&#39;, &#39;GPE&#39;),\n (&#39;Essex&#39;, &#39;GPE&#39;),\n (&#39;Essex&#39;, &#39;GPE&#39;),\n (&#39;Essex&#39;, &#39;GPE&#39;),\n (&#39;RSPCA&#39;, &#39;GPE&#39;),\n (&#39;RSPCA&#39;, &#39;GPE&#39;),\n (&#39;RSPCA&#39;, &#39;GPE&#39;),\n (&#39;RSPCA&#39;, &#39;GPE&#39;),\n (&#39;RSPCA&#39;, &#39;GPE&#39;),\n (&#39;Glamorgan&#39;, &#39;GPE&#39;),\n (&#39;Glamorgan&#39;, &#39;GPE&#39;),\n (&#39;Glamorgan&#39;, &#39;GPE&#39;),\n (&#39;Glamorgan&#39;, &#39;GPE&#39;),\n (&#39;Glamorgan&#39;, &#39;GPE&#39;),\n (&#39;Swansea&#39;, &#39;GPE&#39;),\n (&#39;Swansea&#39;, &#39;GPE&#39;),\n (&#39;Swansea&#39;, &#39;GPE&#39;),\n (&#39;Swansea&#39;, &#39;GPE&#39;),\n (&#39;Swansea&#39;, &#39;GPE&#39;),\n (&#39;Craig-y-nos&#39;, &#39;GPE&#39;),\n (&#39;Craig-y-nos&#39;, &#39;GPE&#39;),\n (&#39;Craig-y-nos&#39;, &#39;GPE&#39;),\n (&#39;Craig-y-nos&#39;, &#39;GPE&#39;),\n (&#39;Craig-y-nos&#39;, &#39;GPE&#39;),\n (&#39;Grimsby&#39;, &#39;GPE&#39;),\n (&#39;Grimsby&#39;, &#39;GPE&#39;),\n (&#39;Grimsby&#39;, &#39;GPE&#39;),\n (&#39;Grimsby&#39;, &#39;GPE&#39;),\n (&#39;Grimsby&#39;, &#39;GPE&#39;),\n (&#39;Scunthorpe&#39;, &#39;GPE&#39;),\n (&#39;Scunthorpe&#39;, &#39;GPE&#39;),\n (&#39;Scunthorpe&#39;, &#39;GPE&#39;),\n (&#39;Scunthorpe&#39;, &#39;GPE&#39;),\n (&#39;Scunthorpe&#39;, &#39;GPE&#39;),\n (&#39;Hatﬁeld&#39;, &#39;GPE&#39;),\n (&#39;Hatﬁeld&#39;, &#39;GPE&#39;),\n (&#39;Hatﬁeld&#39;, &#39;GPE&#39;),\n (&#39;Hatﬁeld&#39;, &#39;GPE&#39;),\n (&#39;Hatﬁeld&#39;, &#39;GPE&#39;),\n (&#39;RSPCA&#39;, &#39;GPE&#39;),\n (&#39;RSPCA&#39;, &#39;GPE&#39;),\n (&#39;RSPCA&#39;, &#39;GPE&#39;),\n (&#39;RSPCA&#39;, &#39;GPE&#39;),\n (&#39;RSPCA&#39;, &#39;GPE&#39;),\n (&#39;Wealston&#39;, &#39;GPE&#39;),\n (&#39;Wealston&#39;, &#39;GPE&#39;),\n (&#39;Wealston&#39;, &#39;GPE&#39;),\n (&#39;Wealston&#39;, &#39;GPE&#39;),\n (&#39;Wealston&#39;, &#39;GPE&#39;),\n (&#39;Southampton&#39;, &#39;GPE&#39;),\n (&#39;Southampton&#39;, &#39;GPE&#39;),\n (&#39;Southampton&#39;, &#39;GPE&#39;),\n (&#39;Southampton&#39;, &#39;GPE&#39;),\n (&#39;Southampton&#39;, &#39;GPE&#39;),\n (&#39;Southampton&#39;, &#39;GPE&#39;),\n (&#39;Southampton&#39;, &#39;GPE&#39;),\n (&#39;Southampton&#39;, &#39;GPE&#39;),\n (&#39;Southampton&#39;, &#39;GPE&#39;),\n (&#39;Southampton&#39;, &#39;GPE&#39;),\n (&#39;RSPCA&#39;, &#39;GPE&#39;),\n (&#39;RSPCA&#39;, &#39;GPE&#39;),\n (&#39;RSPCA&#39;, &#39;GPE&#39;),\n (&#39;RSPCA&#39;, &#39;GPE&#39;),\n (&#39;RSPCA&#39;, &#39;GPE&#39;),\n (&#39;RSPCA&#39;, &#39;GPE&#39;),\n (&#39;RSPCA&#39;, &#39;GPE&#39;),\n (&#39;RSPCA&#39;, &#39;GPE&#39;),\n (&#39;RSPCA&#39;, &#39;GPE&#39;),\n (&#39;RSPCA&#39;, &#39;GPE&#39;),\n (&#39;LONDON&#39;, &#39;GPE&#39;),\n (&#39;LONDON&#39;, &#39;GPE&#39;),\n (&#39;LONDON&#39;, &#39;GPE&#39;),\n (&#39;LONDON&#39;, &#39;GPE&#39;),\n (&#39;LONDON&#39;, &#39;GPE&#39;),\n (&#39;London&#39;, &#39;GPE&#39;),\n (&#39;London&#39;, &#39;GPE&#39;),\n (&#39;London&#39;, &#39;GPE&#39;),\n (&#39;London&#39;, &#39;GPE&#39;),\n (&#39;London&#39;, &#39;GPE&#39;),\n (&#39;LONDON&#39;, &#39;GPE&#39;),\n (&#39;LONDON&#39;, &#39;GPE&#39;),\n (&#39;LONDON&#39;, &#39;GPE&#39;),\n (&#39;LONDON&#39;, &#39;GPE&#39;),\n (&#39;LONDON&#39;, &#39;GPE&#39;),\n (&#39;RSPCA&#39;, &#39;GPE&#39;),\n (&#39;RSPCA&#39;, &#39;GPE&#39;),\n (&#39;RSPCA&#39;, &#39;GPE&#39;),\n (&#39;RSPCA&#39;, &#39;GPE&#39;),\n (&#39;RSPCA&#39;, &#39;GPE&#39;),\n (&#39;Abattoirs&#39;, &#39;GPE&#39;),\n (&#39;Abattoirs&#39;, &#39;GPE&#39;),\n (&#39;Abattoirs&#39;, &#39;GPE&#39;),\n (&#39;Abattoirs&#39;, &#39;GPE&#39;),\n (&#39;Abattoirs&#39;, &#39;GPE&#39;),\n (&#39;BROMLEY&#39;, &#39;GPE&#39;),\n (&#39;BROMLEY&#39;, &#39;GPE&#39;),\n (&#39;BROMLEY&#39;, &#39;GPE&#39;),\n (&#39;BROMLEY&#39;, &#39;GPE&#39;),\n (&#39;BROMLEY&#39;, &#39;GPE&#39;),\n (&#39;KENT&#39;, &#39;GPE&#39;),\n (&#39;KENT&#39;, &#39;GPE&#39;),\n (&#39;KENT&#39;, &#39;GPE&#39;),\n (&#39;KENT&#39;, &#39;GPE&#39;),\n (&#39;KENT&#39;, &#39;GPE&#39;),\n (&#39;LONDON&#39;, &#39;GPE&#39;),\n (&#39;LONDON&#39;, &#39;GPE&#39;),\n (&#39;LONDON&#39;, &#39;GPE&#39;),\n (&#39;LONDON&#39;, &#39;GPE&#39;),\n (&#39;LONDON&#39;, &#39;GPE&#39;),\n (&#39;LONDON&#39;, &#39;GPE&#39;),\n (&#39;LONDON&#39;, &#39;GPE&#39;),\n (&#39;LONDON&#39;, &#39;GPE&#39;),\n (&#39;LONDON&#39;, &#39;GPE&#39;),\n (&#39;LONDON&#39;, &#39;GPE&#39;),\n (&#39;RSPCA&#39;, &#39;GPE&#39;),\n (&#39;RSPCA&#39;, &#39;GPE&#39;),\n (&#39;RSPCA&#39;, &#39;GPE&#39;),\n (&#39;RSPCA&#39;, &#39;GPE&#39;),\n (&#39;RSPCA&#39;, &#39;GPE&#39;),\n (&#39;Norwich&#39;, &#39;GPE&#39;),\n (&#39;Norwich&#39;, &#39;GPE&#39;),\n (&#39;Norwich&#39;, &#39;GPE&#39;),\n (&#39;Norwich&#39;, &#39;GPE&#39;),\n (&#39;Norwich&#39;, &#39;GPE&#39;),\n (&#39;RSPCA&#39;, &#39;GPE&#39;),\n (&#39;RSPCA&#39;, &#39;GPE&#39;),\n (&#39;RSPCA&#39;, &#39;GPE&#39;),\n (&#39;RSPCA&#39;, &#39;GPE&#39;),\n (&#39;RSPCA&#39;, &#39;GPE&#39;),\n (&#39;RSPCA&#39;, &#39;GPE&#39;),\n (&#39;RSPCA&#39;, &#39;GPE&#39;),\n (&#39;RSPCA&#39;, &#39;GPE&#39;),\n (&#39;RSPCA&#39;, &#39;GPE&#39;),\n (&#39;RSPCA&#39;, &#39;GPE&#39;),\n (&#39;RSPCA&#39;, &#39;GPE&#39;),\n (&#39;RSPCA&#39;, &#39;GPE&#39;),\n (&#39;RSPCA&#39;, &#39;GPE&#39;),\n (&#39;RSPCA&#39;, &#39;GPE&#39;),\n (&#39;RSPCA&#39;, &#39;GPE&#39;),\n (&#39;RSPCA&#39;, &#39;GPE&#39;),\n (&#39;RSPCA&#39;, &#39;GPE&#39;),\n (&#39;RSPCA&#39;, &#39;GPE&#39;),\n (&#39;RSPCA&#39;, &#39;GPE&#39;),\n (&#39;RSPCA&#39;, &#39;GPE&#39;),\n (&#39;RSPCA&#39;, &#39;GPE&#39;),\n (&#39;RSPCA&#39;, &#39;GPE&#39;),\n (&#39;RSPCA&#39;, &#39;GPE&#39;),\n (&#39;RSPCA&#39;, &#39;GPE&#39;),\n (&#39;RSPCA&#39;, &#39;GPE&#39;),\n (&#39;RSPCA&#39;, &#39;GPE&#39;),\n (&#39;RSPCA&#39;, &#39;GPE&#39;),\n (&#39;RSPCA&#39;, &#39;GPE&#39;),\n (&#39;RSPCA&#39;, &#39;GPE&#39;),\n (&#39;RSPCA&#39;, &#39;GPE&#39;),\n (&#39;RSPCA&#39;, &#39;GPE&#39;),\n (&#39;RSPCA&#39;, &#39;GPE&#39;),\n (&#39;RSPCA&#39;, &#39;GPE&#39;),\n (&#39;RSPCA&#39;, &#39;GPE&#39;),\n (&#39;RSPCA&#39;, &#39;GPE&#39;),\n (&#39;Canterbury&#39;, &#39;GPE&#39;),\n (&#39;Canterbury&#39;, &#39;GPE&#39;),\n (&#39;Canterbury&#39;, &#39;GPE&#39;),\n (&#39;Canterbury&#39;, &#39;GPE&#39;),\n (&#39;Canterbury&#39;, &#39;GPE&#39;),\n (&#39;Swindon&#39;, &#39;GPE&#39;),\n (&#39;Swindon&#39;, &#39;GPE&#39;),\n (&#39;Swindon&#39;, &#39;GPE&#39;),\n (&#39;Swindon&#39;, &#39;GPE&#39;),\n (&#39;Swindon&#39;, &#39;GPE&#39;),\n (&#39;England&#39;, &#39;GPE&#39;),\n (&#39;England&#39;, &#39;GPE&#39;),\n (&#39;England&#39;, &#39;GPE&#39;),\n (&#39;England&#39;, &#39;GPE&#39;),\n (&#39;England&#39;, &#39;GPE&#39;),\n (&#39;View&#39;, &#39;GPE&#39;),\n (&#39;View&#39;, &#39;GPE&#39;),\n (&#39;View&#39;, &#39;GPE&#39;),\n (&#39;View&#39;, &#39;GPE&#39;),\n (&#39;View&#39;, &#39;GPE&#39;),\n (&#39;Sunderland&#39;, &#39;GPE&#39;),\n (&#39;Sunderland&#39;, &#39;GPE&#39;),\n (&#39;Sunderland&#39;, &#39;GPE&#39;),\n (&#39;Sunderland&#39;, &#39;GPE&#39;),\n (&#39;Sunderland&#39;, &#39;GPE&#39;),\n (&#39;Sunderland&#39;, &#39;GPE&#39;),\n (&#39;Sunderland&#39;, &#39;GPE&#39;),\n (&#39;Sunderland&#39;, &#39;GPE&#39;),\n (&#39;Sunderland&#39;, &#39;GPE&#39;),\n (&#39;Sunderland&#39;, &#39;GPE&#39;),\n (&#39;BROMLEYvDAVENPORT&#39;, &#39;GPE&#39;),\n (&#39;BROMLEYvDAVENPORT&#39;, &#39;GPE&#39;),\n (&#39;BROMLEYvDAVENPORT&#39;, &#39;GPE&#39;),\n (&#39;BROMLEYvDAVENPORT&#39;, &#39;GPE&#39;),\n (&#39;BROMLEYvDAVENPORT&#39;, &#39;GPE&#39;),\n (&#39;View&#39;, &#39;GPE&#39;),\n (&#39;View&#39;, &#39;GPE&#39;),\n (&#39;View&#39;, &#39;GPE&#39;),\n (&#39;View&#39;, &#39;GPE&#39;),\n (&#39;View&#39;, &#39;GPE&#39;),\n (&#39;Great Britain&#39;, &#39;GPE&#39;),\n (&#39;Great Britain&#39;, &#39;GPE&#39;),\n (&#39;Great Britain&#39;, &#39;GPE&#39;),\n (&#39;Great Britain&#39;, &#39;GPE&#39;),\n (&#39;Great Britain&#39;, &#39;GPE&#39;),\n (&#39;US&#39;, &#39;GPE&#39;),\n (&#39;US&#39;, &#39;GPE&#39;),\n (&#39;US&#39;, &#39;GPE&#39;),\n (&#39;US&#39;, &#39;GPE&#39;),\n (&#39;US&#39;, &#39;GPE&#39;),\n (&#39;Essex&#39;, &#39;GPE&#39;),\n (&#39;Essex&#39;, &#39;GPE&#39;),\n (&#39;Essex&#39;, &#39;GPE&#39;),\n (&#39;Essex&#39;, &#39;GPE&#39;),\n (&#39;Essex&#39;, &#39;GPE&#39;),\n (&#39;Doncaster&#39;, &#39;GPE&#39;),\n (&#39;Doncaster&#39;, &#39;GPE&#39;),\n (&#39;Doncaster&#39;, &#39;GPE&#39;),\n (&#39;Doncaster&#39;, &#39;GPE&#39;),\n (&#39;Doncaster&#39;, &#39;GPE&#39;),\n (&#39;Doncaster&#39;, &#39;GPE&#39;),\n (&#39;Doncaster&#39;, &#39;GPE&#39;),\n (&#39;Doncaster&#39;, &#39;GPE&#39;),\n (&#39;Doncaster&#39;, &#39;GPE&#39;),\n (&#39;Doncaster&#39;, &#39;GPE&#39;),\n (&#39;RSPCA&#39;, &#39;GPE&#39;),\n (&#39;RSPCA&#39;, &#39;GPE&#39;),\n (&#39;RSPCA&#39;, &#39;GPE&#39;),\n (&#39;RSPCA&#39;, &#39;GPE&#39;),\n (&#39;RSPCA&#39;, &#39;GPE&#39;),\n (&#39;Misc.&#39;, &#39;GPE&#39;),\n (&#39;Misc.&#39;, &#39;GPE&#39;),\n (&#39;Misc.&#39;, &#39;GPE&#39;),\n (&#39;Misc.&#39;, &#39;GPE&#39;),\n (&#39;Misc.&#39;, &#39;GPE&#39;),\n (&#39;NORTH WALES&#39;, &#39;GPE&#39;),\n (&#39;NORTH WALES&#39;, &#39;GPE&#39;),\n (&#39;NORTH WALES&#39;, &#39;GPE&#39;),\n (&#39;NORTH WALES&#39;, &#39;GPE&#39;),\n (&#39;NORTH WALES&#39;, &#39;GPE&#39;),\n (&#39;NORTH WALES&#39;, &#39;GPE&#39;),\n (&#39;NORTH WALES&#39;, &#39;GPE&#39;),\n (&#39;NORTH WALES&#39;, &#39;GPE&#39;),\n (&#39;NORTH WALES&#39;, &#39;GPE&#39;),\n (&#39;NORTH WALES&#39;, &#39;GPE&#39;),\n (&#39;RSPCA&#39;, &#39;GPE&#39;),\n (&#39;RSPCA&#39;, &#39;GPE&#39;),\n (&#39;RSPCA&#39;, &#39;GPE&#39;),\n (&#39;RSPCA&#39;, &#39;GPE&#39;),\n (&#39;RSPCA&#39;, &#39;GPE&#39;),\n (&#39;RSPCA&#39;, &#39;GPE&#39;),\n (&#39;RSPCA&#39;, &#39;GPE&#39;),\n (&#39;RSPCA&#39;, &#39;GPE&#39;),\n (&#39;RSPCA&#39;, &#39;GPE&#39;),\n (&#39;RSPCA&#39;, &#39;GPE&#39;),\n (&#39;Newcastle&#39;, &#39;GPE&#39;),\n (&#39;Newcastle&#39;, &#39;GPE&#39;),\n (&#39;Newcastle&#39;, &#39;GPE&#39;),\n (&#39;Newcastle&#39;, &#39;GPE&#39;),\n (&#39;Newcastle&#39;, &#39;GPE&#39;),\n (&#39;Gateshead&#39;, &#39;GPE&#39;),\n (&#39;Gateshead&#39;, &#39;GPE&#39;),\n (&#39;Gateshead&#39;, &#39;GPE&#39;),\n (&#39;Gateshead&#39;, &#39;GPE&#39;),\n (&#39;Gateshead&#39;, &#39;GPE&#39;),\n (&#39;Nottingham&#39;, &#39;GPE&#39;),\n (&#39;Nottingham&#39;, &#39;GPE&#39;),\n (&#39;Nottingham&#39;, &#39;GPE&#39;),\n (&#39;Nottingham&#39;, &#39;GPE&#39;),\n (&#39;Nottingham&#39;, &#39;GPE&#39;),\n (&#39;Notts&#39;, &#39;GPE&#39;),\n (&#39;Notts&#39;, &#39;GPE&#39;),\n (&#39;Notts&#39;, &#39;GPE&#39;),\n (&#39;Notts&#39;, &#39;GPE&#39;),\n (&#39;Notts&#39;, &#39;GPE&#39;),\n (&#39;Galway&#39;, &#39;GPE&#39;),\n (&#39;Galway&#39;, &#39;GPE&#39;),\n (&#39;Galway&#39;, &#39;GPE&#39;),\n (&#39;Galway&#39;, &#39;GPE&#39;),\n (&#39;Galway&#39;, &#39;GPE&#39;),\n (&#39;RSPCA&#39;, &#39;GPE&#39;),\n (&#39;RSPCA&#39;, &#39;GPE&#39;),\n (&#39;RSPCA&#39;, &#39;GPE&#39;),\n (&#39;RSPCA&#39;, &#39;GPE&#39;),\n (&#39;RSPCA&#39;, &#39;GPE&#39;),\n (&#39;Hants&#39;, &#39;GPE&#39;),\n (&#39;Hants&#39;, &#39;GPE&#39;),\n (&#39;Hants&#39;, &#39;GPE&#39;),\n (&#39;Hants&#39;, &#39;GPE&#39;),\n (&#39;Hants&#39;, &#39;GPE&#39;),\n (&#39;Oxon&#39;, &#39;GPE&#39;),\n (&#39;Oxon&#39;, &#39;GPE&#39;),\n (&#39;Oxon&#39;, &#39;GPE&#39;),\n (&#39;Oxon&#39;, &#39;GPE&#39;),\n (&#39;Oxon&#39;, &#39;GPE&#39;),\n (&#39;St John’s Hall&#39;, &#39;GPE&#39;),\n (&#39;St John’s Hall&#39;, &#39;GPE&#39;),\n (&#39;St John’s Hall&#39;, &#39;GPE&#39;),\n (&#39;St John’s Hall&#39;, &#39;GPE&#39;),\n (&#39;St John’s Hall&#39;, &#39;GPE&#39;),\n (&#39;Stubbings Manor&#39;, &#39;GPE&#39;),\n (&#39;Stubbings Manor&#39;, &#39;GPE&#39;),\n (&#39;Stubbings Manor&#39;, &#39;GPE&#39;),\n (&#39;Stubbings Manor&#39;, &#39;GPE&#39;),\n (&#39;Stubbings Manor&#39;, &#39;GPE&#39;),\n (&#39;Rotherham&#39;, &#39;GPE&#39;),\n (&#39;Rotherham&#39;, &#39;GPE&#39;),\n (&#39;Rotherham&#39;, &#39;GPE&#39;),\n (&#39;Rotherham&#39;, &#39;GPE&#39;),\n (&#39;Rotherham&#39;, &#39;GPE&#39;),\n (&#39;Oswestry&#39;, &#39;GPE&#39;),\n (&#39;Oswestry&#39;, &#39;GPE&#39;),\n (&#39;Oswestry&#39;, &#39;GPE&#39;),\n (&#39;Oswestry&#39;, &#39;GPE&#39;),\n (&#39;Oswestry&#39;, &#39;GPE&#39;),\n (&#39;Prebendary Snell’s&#39;, &#39;GPE&#39;),\n (&#39;Prebendary Snell’s&#39;, &#39;GPE&#39;),\n (&#39;Prebendary Snell’s&#39;, &#39;GPE&#39;),\n (&#39;Prebendary Snell’s&#39;, &#39;GPE&#39;),\n (&#39;Prebendary Snell’s&#39;, &#39;GPE&#39;),\n (&#39;Shrewsbury&#39;, &#39;GPE&#39;),\n (&#39;Shrewsbury&#39;, &#39;GPE&#39;),\n (&#39;Shrewsbury&#39;, &#39;GPE&#39;),\n (&#39;Shrewsbury&#39;, &#39;GPE&#39;),\n (&#39;Shrewsbury&#39;, &#39;GPE&#39;),\n (&#39;Trent&#39;, &#39;GPE&#39;),\n (&#39;Trent&#39;, &#39;GPE&#39;),\n (&#39;Trent&#39;, &#39;GPE&#39;),\n (&#39;Trent&#39;, &#39;GPE&#39;),\n (&#39;Trent&#39;, &#39;GPE&#39;),\n (&#39;Stoke City&#39;, &#39;GPE&#39;),\n (&#39;Stoke City&#39;, &#39;GPE&#39;),\n (&#39;Stoke City&#39;, &#39;GPE&#39;),\n (&#39;Stoke City&#39;, &#39;GPE&#39;),\n (&#39;Stoke City&#39;, &#39;GPE&#39;),\n (&#39;Stoke&#39;, &#39;GPE&#39;),\n (&#39;Stoke&#39;, &#39;GPE&#39;),\n (&#39;Stoke&#39;, &#39;GPE&#39;),\n (&#39;Stoke&#39;, &#39;GPE&#39;),\n (&#39;Stoke&#39;, &#39;GPE&#39;),\n (&#39;Suffolk&#39;, &#39;GPE&#39;),\n (&#39;Suffolk&#39;, &#39;GPE&#39;),\n (&#39;Suffolk&#39;, &#39;GPE&#39;),\n (&#39;Suffolk&#39;, &#39;GPE&#39;),\n (&#39;Suffolk&#39;, &#39;GPE&#39;),\n (&#39;Surrey&#39;, &#39;GPE&#39;),\n (&#39;Surrey&#39;, &#39;GPE&#39;),\n (&#39;Surrey&#39;, &#39;GPE&#39;),\n (&#39;Surrey&#39;, &#39;GPE&#39;),\n (&#39;Surrey&#39;, &#39;GPE&#39;),\n (&#39;Brighton&#39;, &#39;GPE&#39;),\n (&#39;Brighton&#39;, &#39;GPE&#39;),\n (&#39;Brighton&#39;, &#39;GPE&#39;),\n (&#39;Brighton&#39;, &#39;GPE&#39;),\n (&#39;Brighton&#39;, &#39;GPE&#39;),\n (&#39;Hove&#39;, &#39;GPE&#39;),\n (&#39;Hove&#39;, &#39;GPE&#39;),\n (&#39;Hove&#39;, &#39;GPE&#39;),\n (&#39;Hove&#39;, &#39;GPE&#39;),\n (&#39;Hove&#39;, &#39;GPE&#39;),\n (&#39;Holland&#39;, &#39;GPE&#39;),\n (&#39;Holland&#39;, &#39;GPE&#39;),\n (&#39;Holland&#39;, &#39;GPE&#39;),\n (&#39;Holland&#39;, &#39;GPE&#39;),\n (&#39;Holland&#39;, &#39;GPE&#39;),\n (&#39;RSPCA&#39;, &#39;GPE&#39;),\n (&#39;RSPCA&#39;, &#39;GPE&#39;),\n (&#39;RSPCA&#39;, &#39;GPE&#39;),\n (&#39;RSPCA&#39;, &#39;GPE&#39;),\n (&#39;RSPCA&#39;, &#39;GPE&#39;),\n (&#39;Dewsbury&#39;, &#39;GPE&#39;),\n (&#39;Dewsbury&#39;, &#39;GPE&#39;),\n (&#39;Dewsbury&#39;, &#39;GPE&#39;),\n (&#39;Dewsbury&#39;, &#39;GPE&#39;),\n (&#39;Dewsbury&#39;, &#39;GPE&#39;),\n (&#39;Pontefract&#39;, &#39;GPE&#39;),\n (&#39;Pontefract&#39;, &#39;GPE&#39;),\n (&#39;Pontefract&#39;, &#39;GPE&#39;),\n (&#39;Pontefract&#39;, &#39;GPE&#39;),\n (&#39;Pontefract&#39;, &#39;GPE&#39;),\n (&#39;Mirﬁeld&#39;, &#39;GPE&#39;),\n (&#39;Mirﬁeld&#39;, &#39;GPE&#39;),\n (&#39;Mirﬁeld&#39;, &#39;GPE&#39;),\n (&#39;Mirﬁeld&#39;, &#39;GPE&#39;),\n (&#39;Mirﬁeld&#39;, &#39;GPE&#39;),\n (&#39;Warwickshire South&#39;, &#39;GPE&#39;),\n (&#39;Warwickshire South&#39;, &#39;GPE&#39;),\n (&#39;Warwickshire South&#39;, &#39;GPE&#39;),\n (&#39;Warwickshire South&#39;, &#39;GPE&#39;),\n (&#39;Warwickshire South&#39;, &#39;GPE&#39;),\n (&#39;Warwick&#39;, &#39;GPE&#39;),\n (&#39;Warwick&#39;, &#39;GPE&#39;),\n (&#39;Warwick&#39;, &#39;GPE&#39;),\n (&#39;Warwick&#39;, &#39;GPE&#39;),\n (&#39;Warwick&#39;, &#39;GPE&#39;),\n (&#39;Warwick&#39;, &#39;GPE&#39;),\n (&#39;Warwick&#39;, &#39;GPE&#39;),\n (&#39;Warwick&#39;, &#39;GPE&#39;),\n (&#39;Warwick&#39;, &#39;GPE&#39;),\n (&#39;Warwick&#39;, &#39;GPE&#39;),\n (&#39;St Thomas’s&#39;, &#39;GPE&#39;),\n (&#39;St Thomas’s&#39;, &#39;GPE&#39;),\n (&#39;St Thomas’s&#39;, &#39;GPE&#39;),\n (&#39;St Thomas’s&#39;, &#39;GPE&#39;),\n (&#39;St Thomas’s&#39;, &#39;GPE&#39;),\n (&#39;CONNAUGHT&#39;, &#39;GPE&#39;),\n (&#39;CONNAUGHT&#39;, &#39;GPE&#39;),\n (&#39;CONNAUGHT&#39;, &#39;GPE&#39;),\n (&#39;CONNAUGHT&#39;, &#39;GPE&#39;),\n (&#39;CONNAUGHT&#39;, &#39;GPE&#39;),\n (&#39;PORTLAND&#39;, &#39;GPE&#39;),\n (&#39;PORTLAND&#39;, &#39;GPE&#39;),\n (&#39;PORTLAND&#39;, &#39;GPE&#39;),\n (&#39;PORTLAND&#39;, &#39;GPE&#39;),\n (&#39;PORTLAND&#39;, &#39;GPE&#39;),\n (&#39;SHAFTESBURY&#39;, &#39;GPE&#39;),\n (&#39;SHAFTESBURY&#39;, &#39;GPE&#39;),\n (&#39;SHAFTESBURY&#39;, &#39;GPE&#39;),\n (&#39;SHAFTESBURY&#39;, &#39;GPE&#39;),\n (&#39;SHAFTESBURY&#39;, &#39;GPE&#39;),\n (&#39;FCRA&#39;, &#39;GPE&#39;),\n (&#39;FCRA&#39;, &#39;GPE&#39;),\n (&#39;FCRA&#39;, &#39;GPE&#39;),\n (&#39;FCRA&#39;, &#39;GPE&#39;),\n (&#39;FCRA&#39;, &#39;GPE&#39;),\n (&#39;MA&#39;, &#39;GPE&#39;),\n (&#39;MA&#39;, &#39;GPE&#39;),\n (&#39;MA&#39;, &#39;GPE&#39;),\n (&#39;MA&#39;, &#39;GPE&#39;),\n (&#39;MA&#39;, &#39;GPE&#39;),\n (&#39;MA&#39;, &#39;GPE&#39;),\n (&#39;MA&#39;, &#39;GPE&#39;),\n (&#39;MA&#39;, &#39;GPE&#39;),\n (&#39;MA&#39;, &#39;GPE&#39;),\n (&#39;MA&#39;, &#39;GPE&#39;),\n (&#39;MA&#39;, &#39;GPE&#39;),\n (&#39;MA&#39;, &#39;GPE&#39;),\n (&#39;MA&#39;, &#39;GPE&#39;),\n (&#39;MA&#39;, &#39;GPE&#39;),\n (&#39;MA&#39;, &#39;GPE&#39;),\n (&#39;F. J.&#39;, &#39;GPE&#39;),\n (&#39;F. J.&#39;, &#39;GPE&#39;),\n (&#39;F. J.&#39;, &#39;GPE&#39;),\n (&#39;F. J.&#39;, &#39;GPE&#39;),\n (&#39;F. J.&#39;, &#39;GPE&#39;),\n (&#39;FCIS&#39;, &#39;GPE&#39;),\n (&#39;FCIS&#39;, &#39;GPE&#39;),\n (&#39;FCIS&#39;, &#39;GPE&#39;),\n (&#39;FCIS&#39;, &#39;GPE&#39;),\n (&#39;FCIS&#39;, &#39;GPE&#39;),\n (&#39;JP&#39;, &#39;GPE&#39;),\n (&#39;JP&#39;, &#39;GPE&#39;),\n (&#39;JP&#39;, &#39;GPE&#39;),\n (&#39;JP&#39;, &#39;GPE&#39;),\n (&#39;JP&#39;, &#39;GPE&#39;),\n (&#39;STRAND&#39;, &#39;GPE&#39;),\n (&#39;STRAND&#39;, &#39;GPE&#39;),\n (&#39;STRAND&#39;, &#39;GPE&#39;),\n (&#39;STRAND&#39;, &#39;GPE&#39;),\n (&#39;STRAND&#39;, &#39;GPE&#39;),\n (&#39;LONDON&#39;, &#39;GPE&#39;),\n (&#39;LONDON&#39;, &#39;GPE&#39;),\n (&#39;LONDON&#39;, &#39;GPE&#39;),\n (&#39;LONDON&#39;, &#39;GPE&#39;),\n (&#39;LONDON&#39;, &#39;GPE&#39;),\n (&#39;Dso&#39;, &#39;GPE&#39;),\n (&#39;Dso&#39;, &#39;GPE&#39;),\n (&#39;Dso&#39;, &#39;GPE&#39;),\n (&#39;Dso&#39;, &#39;GPE&#39;),\n (&#39;Dso&#39;, &#39;GPE&#39;),\n (&#39;London&#39;, &#39;GPE&#39;),\n (&#39;London&#39;, &#39;GPE&#39;),\n (&#39;London&#39;, &#39;GPE&#39;),\n (&#39;London&#39;, &#39;GPE&#39;),\n (&#39;London&#39;, &#39;GPE&#39;),\n (&#39;SW&#39;, &#39;GPE&#39;),\n (&#39;SW&#39;, &#39;GPE&#39;),\n (&#39;SW&#39;, &#39;GPE&#39;),\n (&#39;SW&#39;, &#39;GPE&#39;),\n (&#39;SW&#39;, &#39;GPE&#39;),\n (&#39;BIRMINGHAM&#39;, &#39;GPE&#39;),\n (&#39;BIRMINGHAM&#39;, &#39;GPE&#39;),\n (&#39;BIRMINGHAM&#39;, &#39;GPE&#39;),\n (&#39;BIRMINGHAM&#39;, &#39;GPE&#39;),\n (&#39;BIRMINGHAM&#39;, &#39;GPE&#39;),\n (&#39;ENGLAND&#39;, &#39;GPE&#39;),\n (&#39;ENGLAND&#39;, &#39;GPE&#39;),\n (&#39;ENGLAND&#39;, &#39;GPE&#39;),\n (&#39;ENGLAND&#39;, &#39;GPE&#39;),\n (&#39;ENGLAND&#39;, &#39;GPE&#39;),\n (&#39;BRITAIN&#39;, &#39;GPE&#39;),\n (&#39;BRITAIN&#39;, &#39;GPE&#39;),\n (&#39;BRITAIN&#39;, &#39;GPE&#39;),\n (&#39;BRITAIN&#39;, &#39;GPE&#39;),\n (&#39;BRITAIN&#39;, &#39;GPE&#39;),\n (&#39;Whistler&#39;, &#39;GPE&#39;),\n (&#39;Whistler&#39;, &#39;GPE&#39;),\n (&#39;Whistler&#39;, &#39;GPE&#39;),\n (&#39;Whistler&#39;, &#39;GPE&#39;),\n (&#39;Whistler&#39;, &#39;GPE&#39;),\n (&#39;London&#39;, &#39;GPE&#39;),\n (&#39;London&#39;, &#39;GPE&#39;),\n (&#39;London&#39;, &#39;GPE&#39;),\n (&#39;London&#39;, &#39;GPE&#39;),\n (&#39;London&#39;, &#39;GPE&#39;),\n (&#39;Japan&#39;, &#39;GPE&#39;),\n (&#39;Japan&#39;, &#39;GPE&#39;),\n (&#39;Japan&#39;, &#39;GPE&#39;),\n (&#39;Japan&#39;, &#39;GPE&#39;),\n (&#39;Japan&#39;, &#39;GPE&#39;),\n (&#39;Tokio&#39;, &#39;GPE&#39;),\n (&#39;Tokio&#39;, &#39;GPE&#39;),\n (&#39;Tokio&#39;, &#39;GPE&#39;),\n (&#39;Tokio&#39;, &#39;GPE&#39;),\n (&#39;Tokio&#39;, &#39;GPE&#39;),\n (&#39;KOrea&#39;, &#39;GPE&#39;),\n (&#39;KOrea&#39;, &#39;GPE&#39;),\n (&#39;KOrea&#39;, &#39;GPE&#39;),\n (&#39;KOrea&#39;, &#39;GPE&#39;),\n (&#39;KOrea&#39;, &#39;GPE&#39;),\n (&#39;China&#39;, &#39;GPE&#39;),\n (&#39;China&#39;, &#39;GPE&#39;),\n (&#39;China&#39;, &#39;GPE&#39;),\n (&#39;China&#39;, &#39;GPE&#39;),\n (&#39;China&#39;, &#39;GPE&#39;),\n (&#39;Burma&#39;, &#39;GPE&#39;),\n (&#39;Burma&#39;, &#39;GPE&#39;),\n (&#39;Burma&#39;, &#39;GPE&#39;),\n (&#39;Burma&#39;, &#39;GPE&#39;),\n (&#39;Burma&#39;, &#39;GPE&#39;),\n (&#39;India&#39;, &#39;GPE&#39;),\n (&#39;India&#39;, &#39;GPE&#39;),\n (&#39;India&#39;, &#39;GPE&#39;),\n (&#39;India&#39;, &#39;GPE&#39;),\n (&#39;India&#39;, &#39;GPE&#39;),\n (&#39;Turkestan&#39;, &#39;GPE&#39;),\n (&#39;Turkestan&#39;, &#39;GPE&#39;),\n (&#39;Turkestan&#39;, &#39;GPE&#39;),\n (&#39;Turkestan&#39;, &#39;GPE&#39;),\n (&#39;Turkestan&#39;, &#39;GPE&#39;),\n (&#39;Afghanistan&#39;, &#39;GPE&#39;),\n (&#39;Afghanistan&#39;, &#39;GPE&#39;),\n (&#39;Afghanistan&#39;, &#39;GPE&#39;),\n (&#39;Afghanistan&#39;, &#39;GPE&#39;),\n (&#39;Afghanistan&#39;, &#39;GPE&#39;),\n (&#39;Palestine&#39;, &#39;GPE&#39;),\n (&#39;Palestine&#39;, &#39;GPE&#39;),\n (&#39;Palestine&#39;, &#39;GPE&#39;),\n (&#39;Palestine&#39;, &#39;GPE&#39;),\n (&#39;Palestine&#39;, &#39;GPE&#39;),\n (&#39;Cyprus&#39;, &#39;GPE&#39;),\n (&#39;Cyprus&#39;, &#39;GPE&#39;),\n (&#39;Cyprus&#39;, &#39;GPE&#39;),\n (&#39;Cyprus&#39;, &#39;GPE&#39;),\n (&#39;Cyprus&#39;, &#39;GPE&#39;),\n (&#39;Bulgaria&#39;, &#39;GPE&#39;),\n (&#39;Bulgaria&#39;, &#39;GPE&#39;),\n (&#39;Bulgaria&#39;, &#39;GPE&#39;),\n (&#39;Bulgaria&#39;, &#39;GPE&#39;),\n (&#39;Bulgaria&#39;, &#39;GPE&#39;),\n (&#39;Greece&#39;, &#39;GPE&#39;),\n (&#39;Greece&#39;, &#39;GPE&#39;),\n (&#39;Greece&#39;, &#39;GPE&#39;),\n (&#39;Greece&#39;, &#39;GPE&#39;),\n (&#39;Greece&#39;, &#39;GPE&#39;),\n (&#39;Macedonia&#39;, &#39;GPE&#39;),\n (&#39;Macedonia&#39;, &#39;GPE&#39;),\n (&#39;Macedonia&#39;, &#39;GPE&#39;),\n (&#39;Macedonia&#39;, &#39;GPE&#39;),\n (&#39;Macedonia&#39;, &#39;GPE&#39;),\n (&#39;Albania&#39;, &#39;GPE&#39;),\n (&#39;Albania&#39;, &#39;GPE&#39;),\n (&#39;Albania&#39;, &#39;GPE&#39;),\n (&#39;Albania&#39;, &#39;GPE&#39;),\n (&#39;Albania&#39;, &#39;GPE&#39;),\n (&#39;Yugoslavia&#39;, &#39;GPE&#39;),\n (&#39;Yugoslavia&#39;, &#39;GPE&#39;),\n (&#39;Yugoslavia&#39;, &#39;GPE&#39;),\n (&#39;Yugoslavia&#39;, &#39;GPE&#39;),\n (&#39;Yugoslavia&#39;, &#39;GPE&#39;),\n (&#39;Hungary&#39;, &#39;GPE&#39;),\n (&#39;Hungary&#39;, &#39;GPE&#39;),\n (&#39;Hungary&#39;, &#39;GPE&#39;),\n (&#39;Hungary&#39;, &#39;GPE&#39;),\n (&#39;Hungary&#39;, &#39;GPE&#39;),\n (&#39;Czechoslovakia&#39;, &#39;GPE&#39;),\n (&#39;Czechoslovakia&#39;, &#39;GPE&#39;),\n (&#39;Czechoslovakia&#39;, &#39;GPE&#39;),\n (&#39;Czechoslovakia&#39;, &#39;GPE&#39;),\n (&#39;Czechoslovakia&#39;, &#39;GPE&#39;),\n (&#39;Austria&#39;, &#39;GPE&#39;),\n (&#39;Austria&#39;, &#39;GPE&#39;),\n (&#39;Austria&#39;, &#39;GPE&#39;),\n (&#39;Austria&#39;, &#39;GPE&#39;),\n (&#39;Austria&#39;, &#39;GPE&#39;),\n (&#39;Rumania&#39;, &#39;GPE&#39;),\n (&#39;Rumania&#39;, &#39;GPE&#39;),\n (&#39;Rumania&#39;, &#39;GPE&#39;),\n (&#39;Rumania&#39;, &#39;GPE&#39;),\n (&#39;Rumania&#39;, &#39;GPE&#39;),\n (&#39;Germany&#39;, &#39;GPE&#39;),\n (&#39;Germany&#39;, &#39;GPE&#39;),\n (&#39;Germany&#39;, &#39;GPE&#39;),\n (&#39;Germany&#39;, &#39;GPE&#39;),\n (&#39;Germany&#39;, &#39;GPE&#39;),\n (&#39;glid1ng&#39;, &#39;GPE&#39;),\n (&#39;glid1ng&#39;, &#39;GPE&#39;),\n (&#39;glid1ng&#39;, &#39;GPE&#39;),\n (&#39;glid1ng&#39;, &#39;GPE&#39;),\n (&#39;glid1ng&#39;, &#39;GPE&#39;),\n (&#39;Lincolnshire&#39;, &#39;GPE&#39;),\n (&#39;Lincolnshire&#39;, &#39;GPE&#39;),\n (&#39;Lincolnshire&#39;, &#39;GPE&#39;),\n (&#39;Lincolnshire&#39;, &#39;GPE&#39;),\n (&#39;Lincolnshire&#39;, &#39;GPE&#39;),\n (&#39;RSPCA&#39;, &#39;GPE&#39;),\n (&#39;RSPCA&#39;, &#39;GPE&#39;),\n (&#39;RSPCA&#39;, &#39;GPE&#39;),\n (&#39;RSPCA&#39;, &#39;GPE&#39;),\n (&#39;RSPCA&#39;, &#39;GPE&#39;),\n (&#39;England&#39;, &#39;GPE&#39;),\n (&#39;England&#39;, &#39;GPE&#39;),\n (&#39;England&#39;, &#39;GPE&#39;),\n (&#39;England&#39;, &#39;GPE&#39;),\n (&#39;England&#39;, &#39;GPE&#39;),\n (&#39;Wales&#39;, &#39;GPE&#39;),\n (&#39;Wales&#39;, &#39;GPE&#39;),\n (&#39;Wales&#39;, &#39;GPE&#39;),\n (&#39;Wales&#39;, &#39;GPE&#39;),\n (&#39;Wales&#39;, &#39;GPE&#39;),\n (&#39;RSPCA&#39;, &#39;GPE&#39;),\n (&#39;RSPCA&#39;, &#39;GPE&#39;),\n (&#39;RSPCA&#39;, &#39;GPE&#39;),\n (&#39;RSPCA&#39;, &#39;GPE&#39;),\n (&#39;RSPCA&#39;, &#39;GPE&#39;),\n (&#39;Raynes Park&#39;, &#39;GPE&#39;),\n (&#39;Raynes Park&#39;, &#39;GPE&#39;),\n (&#39;Raynes Park&#39;, &#39;GPE&#39;),\n (&#39;Raynes Park&#39;, &#39;GPE&#39;),\n (&#39;Raynes Park&#39;, &#39;GPE&#39;),\n (&#39;SW20&#39;, &#39;GPE&#39;),\n (&#39;SW20&#39;, &#39;GPE&#39;),\n (&#39;SW20&#39;, &#39;GPE&#39;),\n (&#39;SW20&#39;, &#39;GPE&#39;),\n (&#39;SW20&#39;, &#39;GPE&#39;),\n (&#39;Greenford&#39;, &#39;GPE&#39;),\n (&#39;Greenford&#39;, &#39;GPE&#39;),\n (&#39;Greenford&#39;, &#39;GPE&#39;),\n (&#39;Greenford&#39;, &#39;GPE&#39;),\n (&#39;Greenford&#39;, &#39;GPE&#39;),\n (&#39;Middlesex&#39;, &#39;GPE&#39;),\n (&#39;Middlesex&#39;, &#39;GPE&#39;),\n (&#39;Middlesex&#39;, &#39;GPE&#39;),\n (&#39;Middlesex&#39;, &#39;GPE&#39;),\n (&#39;Middlesex&#39;, &#39;GPE&#39;),\n (&#39;RSPCA&#39;, &#39;GPE&#39;),\n (&#39;RSPCA&#39;, &#39;GPE&#39;),\n (&#39;RSPCA&#39;, &#39;GPE&#39;),\n (&#39;RSPCA&#39;, &#39;GPE&#39;),\n (&#39;RSPCA&#39;, &#39;GPE&#39;),\n (&#39;RSPCA&#39;, &#39;GPE&#39;),\n (&#39;RSPCA&#39;, &#39;GPE&#39;),\n (&#39;RSPCA&#39;, &#39;GPE&#39;),\n (&#39;RSPCA&#39;, &#39;GPE&#39;),\n (&#39;RSPCA&#39;, &#39;GPE&#39;),\n (&#39;selﬁsh&#39;, &#39;GPE&#39;),\n (&#39;selﬁsh&#39;, &#39;GPE&#39;),\n (&#39;selﬁsh&#39;, &#39;GPE&#39;),\n (&#39;selﬁsh&#39;, &#39;GPE&#39;),\n (&#39;selﬁsh&#39;, &#39;GPE&#39;),\n (&#39;Miami&#39;, &#39;GPE&#39;),\n (&#39;Miami&#39;, &#39;GPE&#39;),\n (&#39;Miami&#39;, &#39;GPE&#39;),\n (&#39;Miami&#39;, &#39;GPE&#39;),\n (&#39;Miami&#39;, &#39;GPE&#39;),\n (&#39;RSPCA&#39;, &#39;GPE&#39;),\n (&#39;RSPCA&#39;, &#39;GPE&#39;),\n (&#39;RSPCA&#39;, &#39;GPE&#39;),\n (&#39;RSPCA&#39;, &#39;GPE&#39;),\n (&#39;RSPCA&#39;, &#39;GPE&#39;),\n (&#39;Suffolk&#39;, &#39;GPE&#39;),\n (&#39;Suffolk&#39;, &#39;GPE&#39;),\n (&#39;Suffolk&#39;, &#39;GPE&#39;),\n (&#39;Suffolk&#39;, &#39;GPE&#39;),\n (&#39;Suffolk&#39;, &#39;GPE&#39;),\n (&#39;Kent&#39;, &#39;GPE&#39;),\n (&#39;Kent&#39;, &#39;GPE&#39;),\n (&#39;Kent&#39;, &#39;GPE&#39;),\n (&#39;Kent&#39;, &#39;GPE&#39;),\n (&#39;Kent&#39;, &#39;GPE&#39;),\n (&#39;Huddersﬁeld&#39;, &#39;GPE&#39;),\n (&#39;Huddersﬁeld&#39;, &#39;GPE&#39;),\n (&#39;Huddersﬁeld&#39;, &#39;GPE&#39;),\n (&#39;Huddersﬁeld&#39;, &#39;GPE&#39;),\n (&#39;Huddersﬁeld&#39;, &#39;GPE&#39;),\n (&#39;York&#39;, &#39;GPE&#39;),\n (&#39;York&#39;, &#39;GPE&#39;),\n (&#39;York&#39;, &#39;GPE&#39;),\n (&#39;York&#39;, &#39;GPE&#39;),\n (&#39;York&#39;, &#39;GPE&#39;),\n (&#39;London&#39;, &#39;GPE&#39;),\n (&#39;London&#39;, &#39;GPE&#39;),\n (&#39;London&#39;, &#39;GPE&#39;),\n (&#39;London&#39;, &#39;GPE&#39;),\n (&#39;London&#39;, &#39;GPE&#39;),\n (&#39;Hereford&#39;, &#39;GPE&#39;),\n (&#39;Hereford&#39;, &#39;GPE&#39;),\n (&#39;Hereford&#39;, &#39;GPE&#39;),\n (&#39;Hereford&#39;, &#39;GPE&#39;),\n (&#39;Hereford&#39;, &#39;GPE&#39;),\n (&#39;Christchurch&#39;, &#39;GPE&#39;),\n (&#39;Christchurch&#39;, &#39;GPE&#39;),\n (&#39;Christchurch&#39;, &#39;GPE&#39;),\n (&#39;Christchurch&#39;, &#39;GPE&#39;),\n (&#39;Christchurch&#39;, &#39;GPE&#39;),\n (&#39;RSPCA&#39;, &#39;GPE&#39;),\n (&#39;RSPCA&#39;, &#39;GPE&#39;),\n (&#39;RSPCA&#39;, &#39;GPE&#39;),\n (&#39;RSPCA&#39;, &#39;GPE&#39;),\n (&#39;RSPCA&#39;, &#39;GPE&#39;),\n (&#39;St Lawrence C.&#39;, &#39;GPE&#39;),\n (&#39;St Lawrence C.&#39;, &#39;GPE&#39;),\n (&#39;St Lawrence C.&#39;, &#39;GPE&#39;),\n (&#39;St Lawrence C.&#39;, &#39;GPE&#39;),\n (&#39;St Lawrence C.&#39;, &#39;GPE&#39;),\n (&#39;Organizer&#39;, &#39;GPE&#39;),\n (&#39;Organizer&#39;, &#39;GPE&#39;),\n (&#39;Organizer&#39;, &#39;GPE&#39;),\n (&#39;Organizer&#39;, &#39;GPE&#39;),\n (&#39;Organizer&#39;, &#39;GPE&#39;),\n (&#39;RSPCA&#39;, &#39;GPE&#39;),\n (&#39;RSPCA&#39;, &#39;GPE&#39;),\n (&#39;RSPCA&#39;, &#39;GPE&#39;),\n (&#39;RSPCA&#39;, &#39;GPE&#39;),\n (&#39;RSPCA&#39;, &#39;GPE&#39;),\n (&#39;KENYA&#39;, &#39;GPE&#39;),\n (&#39;KENYA&#39;, &#39;GPE&#39;),\n (&#39;KENYA&#39;, &#39;GPE&#39;),\n (&#39;KENYA&#39;, &#39;GPE&#39;),\n (&#39;KENYA&#39;, &#39;GPE&#39;),\n (&#39;East Africa&#39;, &#39;GPE&#39;),\n (&#39;East Africa&#39;, &#39;GPE&#39;),\n (&#39;East Africa&#39;, &#39;GPE&#39;),\n (&#39;East Africa&#39;, &#39;GPE&#39;),\n (&#39;East Africa&#39;, &#39;GPE&#39;),\n (&#39;Ngombe&#39;, &#39;GPE&#39;),\n (&#39;Ngombe&#39;, &#39;GPE&#39;),\n (&#39;Ngombe&#39;, &#39;GPE&#39;),\n (&#39;Ngombe&#39;, &#39;GPE&#39;),\n (&#39;Ngombe&#39;, &#39;GPE&#39;),\n (&#39;MWENYEWE&#39;, &#39;GPE&#39;),\n (&#39;MWENYEWE&#39;, &#39;GPE&#39;),\n (&#39;MWENYEWE&#39;, &#39;GPE&#39;),\n (&#39;MWENYEWE&#39;, &#39;GPE&#39;),\n (&#39;MWENYEWE&#39;, &#39;GPE&#39;),\n (&#39;Huddersfield&#39;, &#39;GPE&#39;),\n (&#39;Huddersfield&#39;, &#39;GPE&#39;),\n (&#39;Huddersfield&#39;, &#39;GPE&#39;),\n (&#39;Huddersfield&#39;, &#39;GPE&#39;),\n (&#39;Huddersfield&#39;, &#39;GPE&#39;),\n (&#39;Kent&#39;, &#39;GPE&#39;),\n (&#39;Kent&#39;, &#39;GPE&#39;),\n (&#39;Kent&#39;, &#39;GPE&#39;),\n (&#39;Kent&#39;, &#39;GPE&#39;),\n (&#39;Kent&#39;, &#39;GPE&#39;),\n (&#39;Kent&#39;, &#39;GPE&#39;),\n (&#39;Kent&#39;, &#39;GPE&#39;),\n (&#39;Kent&#39;, &#39;GPE&#39;),\n (&#39;Kent&#39;, &#39;GPE&#39;),\n (&#39;Kent&#39;, &#39;GPE&#39;),\n (&#39;Canterbury&#39;, &#39;GPE&#39;),\n (&#39;Canterbury&#39;, &#39;GPE&#39;),\n (&#39;Canterbury&#39;, &#39;GPE&#39;),\n (&#39;Canterbury&#39;, &#39;GPE&#39;),\n (&#39;Canterbury&#39;, &#39;GPE&#39;),\n (&#39;Whitstable&#39;, &#39;GPE&#39;),\n (&#39;Whitstable&#39;, &#39;GPE&#39;),\n (&#39;Whitstable&#39;, &#39;GPE&#39;),\n (&#39;Whitstable&#39;, &#39;GPE&#39;),\n (&#39;Whitstable&#39;, &#39;GPE&#39;),\n (&#39;Whitstable&#39;, &#39;GPE&#39;),\n (&#39;Whitstable&#39;, &#39;GPE&#39;),\n (&#39;Whitstable&#39;, &#39;GPE&#39;),\n (&#39;Whitstable&#39;, &#39;GPE&#39;),\n (&#39;Whitstable&#39;, &#39;GPE&#39;),\n (&#39;Kent&#39;, &#39;GPE&#39;),\n (&#39;Kent&#39;, &#39;GPE&#39;),\n (&#39;Kent&#39;, &#39;GPE&#39;),\n (&#39;Kent&#39;, &#39;GPE&#39;),\n (&#39;Kent&#39;, &#39;GPE&#39;),\n (&#39;Dover&#39;, &#39;GPE&#39;),\n (&#39;Dover&#39;, &#39;GPE&#39;),\n (&#39;Dover&#39;, &#39;GPE&#39;),\n (&#39;Dover&#39;, &#39;GPE&#39;),\n (&#39;Dover&#39;, &#39;GPE&#39;),\n (&#39;Tilmanstone&#39;, &#39;GPE&#39;),\n (&#39;Tilmanstone&#39;, &#39;GPE&#39;),\n (&#39;Tilmanstone&#39;, &#39;GPE&#39;),\n (&#39;Tilmanstone&#39;, &#39;GPE&#39;),\n (&#39;Tilmanstone&#39;, &#39;GPE&#39;),\n (&#39;Eythorne&#39;, &#39;GPE&#39;),\n (&#39;Eythorne&#39;, &#39;GPE&#39;),\n (&#39;Eythorne&#39;, &#39;GPE&#39;),\n (&#39;Eythorne&#39;, &#39;GPE&#39;),\n (&#39;Eythorne&#39;, &#39;GPE&#39;),\n (&#39;Kent&#39;, &#39;GPE&#39;),\n (&#39;Kent&#39;, &#39;GPE&#39;),\n (&#39;Kent&#39;, &#39;GPE&#39;),\n (&#39;Kent&#39;, &#39;GPE&#39;),\n (&#39;Kent&#39;, &#39;GPE&#39;),\n (&#39;Folkestone&#39;, &#39;GPE&#39;),\n (&#39;Folkestone&#39;, &#39;GPE&#39;),\n (&#39;Folkestone&#39;, &#39;GPE&#39;),\n (&#39;Folkestone&#39;, &#39;GPE&#39;),\n (&#39;Folkestone&#39;, &#39;GPE&#39;),\n (&#39;Kent&#39;, &#39;GPE&#39;),\n (&#39;Kent&#39;, &#39;GPE&#39;),\n (&#39;Kent&#39;, &#39;GPE&#39;),\n (&#39;Kent&#39;, &#39;GPE&#39;),\n (&#39;Kent&#39;, &#39;GPE&#39;),\n (&#39;Ramsgate&#39;, &#39;GPE&#39;),\n (&#39;Ramsgate&#39;, &#39;GPE&#39;),\n (&#39;Ramsgate&#39;, &#39;GPE&#39;),\n (&#39;Ramsgate&#39;, &#39;GPE&#39;),\n (&#39;Ramsgate&#39;, &#39;GPE&#39;),\n (&#39;Kent&#39;, &#39;GPE&#39;),\n (&#39;Kent&#39;, &#39;GPE&#39;),\n (&#39;Kent&#39;, &#39;GPE&#39;),\n (&#39;Kent&#39;, &#39;GPE&#39;),\n (&#39;Kent&#39;, &#39;GPE&#39;),\n (&#39;Maidstone&#39;, &#39;GPE&#39;),\n (&#39;Maidstone&#39;, &#39;GPE&#39;),\n (&#39;Maidstone&#39;, &#39;GPE&#39;),\n (&#39;Maidstone&#39;, &#39;GPE&#39;),\n (&#39;Maidstone&#39;, &#39;GPE&#39;),\n (&#39;Kent&#39;, &#39;GPE&#39;),\n (&#39;Kent&#39;, &#39;GPE&#39;),\n (&#39;Kent&#39;, &#39;GPE&#39;),\n (&#39;Kent&#39;, &#39;GPE&#39;),\n (&#39;Kent&#39;, &#39;GPE&#39;),\n (&#39;North-West Mrs A. Pollen&#39;, &#39;GPE&#39;),\n (&#39;North-West Mrs A. Pollen&#39;, &#39;GPE&#39;),\n (&#39;North-West Mrs A. Pollen&#39;, &#39;GPE&#39;),\n (&#39;North-West Mrs A. Pollen&#39;, &#39;GPE&#39;),\n (&#39;North-West Mrs A. Pollen&#39;, &#39;GPE&#39;),\n (&#39;Kettering&#39;, &#39;GPE&#39;),\n (&#39;Kettering&#39;, &#39;GPE&#39;),\n (&#39;Kettering&#39;, &#39;GPE&#39;),\n (&#39;Kettering&#39;, &#39;GPE&#39;),\n (&#39;Kettering&#39;, &#39;GPE&#39;),\n (&#39;Kettering&#39;, &#39;GPE&#39;),\n (&#39;Kettering&#39;, &#39;GPE&#39;),\n (&#39;Kettering&#39;, &#39;GPE&#39;),\n (&#39;Kettering&#39;, &#39;GPE&#39;),\n (&#39;Kettering&#39;, &#39;GPE&#39;),\n (&#39;Maeelesﬁeld&#39;, &#39;GPE&#39;),\n (&#39;Maeelesﬁeld&#39;, &#39;GPE&#39;),\n (&#39;Maeelesﬁeld&#39;, &#39;GPE&#39;),\n (&#39;Maeelesﬁeld&#39;, &#39;GPE&#39;),\n (&#39;Maeelesﬁeld&#39;, &#39;GPE&#39;),\n (&#39;RSPCA&#39;, &#39;GPE&#39;),\n (&#39;RSPCA&#39;, &#39;GPE&#39;),\n (&#39;RSPCA&#39;, &#39;GPE&#39;),\n (&#39;RSPCA&#39;, &#39;GPE&#39;),\n (&#39;RSPCA&#39;, &#39;GPE&#39;),\n (&#39;Knowle&#39;, &#39;GPE&#39;),\n (&#39;Knowle&#39;, &#39;GPE&#39;),\n (&#39;Knowle&#39;, &#39;GPE&#39;),\n (&#39;Knowle&#39;, &#39;GPE&#39;),\n (&#39;Knowle&#39;, &#39;GPE&#39;),\n (&#39;Warwickshire&#39;, &#39;GPE&#39;),\n (&#39;Warwickshire&#39;, &#39;GPE&#39;),\n (&#39;Warwickshire&#39;, &#39;GPE&#39;),\n (&#39;Warwickshire&#39;, &#39;GPE&#39;),\n (&#39;Warwickshire&#39;, &#39;GPE&#39;),\n (&#39;Birmingham&#39;, &#39;GPE&#39;),\n (&#39;Birmingham&#39;, &#39;GPE&#39;),\n (&#39;Birmingham&#39;, &#39;GPE&#39;),\n (&#39;Birmingham&#39;, &#39;GPE&#39;),\n (&#39;Birmingham&#39;, &#39;GPE&#39;),\n (&#39;Liverpool&#39;, &#39;GPE&#39;),\n (&#39;Liverpool&#39;, &#39;GPE&#39;),\n (&#39;Liverpool&#39;, &#39;GPE&#39;),\n (&#39;Liverpool&#39;, &#39;GPE&#39;),\n (&#39;Liverpool&#39;, &#39;GPE&#39;),\n (&#39;Peterborough&#39;, &#39;GPE&#39;),\n (&#39;Peterborough&#39;, &#39;GPE&#39;),\n (&#39;Peterborough&#39;, &#39;GPE&#39;),\n (&#39;Peterborough&#39;, &#39;GPE&#39;),\n (&#39;Peterborough&#39;, &#39;GPE&#39;),\n (&#39;Towcester&#39;, &#39;GPE&#39;),\n (&#39;Towcester&#39;, &#39;GPE&#39;),\n (&#39;Towcester&#39;, &#39;GPE&#39;),\n (&#39;Towcester&#39;, &#39;GPE&#39;),\n (&#39;Towcester&#39;, &#39;GPE&#39;),\n (&#39;Torrington&#39;, &#39;GPE&#39;),\n (&#39;Torrington&#39;, &#39;GPE&#39;),\n (&#39;Torrington&#39;, &#39;GPE&#39;),\n (&#39;Torrington&#39;, &#39;GPE&#39;),\n (&#39;Torrington&#39;, &#39;GPE&#39;),\n (&#39;North Leicestershire&#39;, &#39;GPE&#39;),\n (&#39;North Leicestershire&#39;, &#39;GPE&#39;),\n (&#39;North Leicestershire&#39;, &#39;GPE&#39;),\n (&#39;North Leicestershire&#39;, &#39;GPE&#39;),\n (&#39;North Leicestershire&#39;, &#39;GPE&#39;),\n ...]"
     },
     "metadata": {},
     "execution_count": 23
    }
   ],
   "source": [
    "gpes"
   ]
  },
  {
   "cell_type": "code",
   "execution_count": 24,
   "metadata": {},
   "outputs": [
    {
     "output_type": "execute_result",
     "data": {
      "text/plain": "{(&#39;Abattoirs&#39;, &#39;GPE&#39;),\n (&#39;Aberdare&#39;, &#39;GPE&#39;),\n (&#39;Afghanistan&#39;, &#39;GPE&#39;),\n (&#39;Albania&#39;, &#39;GPE&#39;),\n (&#39;Altrincham&#39;, &#39;GPE&#39;),\n (&#39;Ashton&#39;, &#39;GPE&#39;),\n (&#39;Austria&#39;, &#39;GPE&#39;),\n (&#39;BIRMINGHAM&#39;, &#39;GPE&#39;),\n (&#39;BRITAIN&#39;, &#39;GPE&#39;),\n (&#39;BROMLEY&#39;, &#39;GPE&#39;),\n (&#39;BROMLEYvDAVENPORT&#39;, &#39;GPE&#39;),\n (&#39;Bark&#39;, &#39;GPE&#39;),\n (&#39;Birmingham&#39;, &#39;GPE&#39;),\n (&#39;Blackpool&#39;, &#39;GPE&#39;),\n (&#39;Bournemouth&#39;, &#39;GPE&#39;),\n (&#39;Brighton&#39;, &#39;GPE&#39;),\n (&#39;Bristol&#39;, &#39;GPE&#39;),\n (&#39;Bromley&#39;, &#39;GPE&#39;),\n (&#39;Bulgaria&#39;, &#39;GPE&#39;),\n (&#39;Burma&#39;, &#39;GPE&#39;),\n (&#39;CONNAUGHT&#39;, &#39;GPE&#39;),\n (&#39;Cambridge&#39;, &#39;GPE&#39;),\n (&#39;Canterbury&#39;, &#39;GPE&#39;),\n (&#39;Carmarthen&#39;, &#39;GPE&#39;),\n (&#39;Chatham&#39;, &#39;GPE&#39;),\n (&#39;China&#39;, &#39;GPE&#39;),\n (&#39;Christchurch&#39;, &#39;GPE&#39;),\n (&#39;Citizen&#39;, &#39;GPE&#39;),\n (&#39;Craig-y-nos&#39;, &#39;GPE&#39;),\n (&#39;Cyprus&#39;, &#39;GPE&#39;),\n (&#39;Czechoslovakia&#39;, &#39;GPE&#39;),\n (&#39;Dartford&#39;, &#39;GPE&#39;),\n (&#39;Dewsbury&#39;, &#39;GPE&#39;),\n (&#39;District (Kent&#39;, &#39;GPE&#39;),\n (&#39;Doncaster&#39;, &#39;GPE&#39;),\n (&#39;Dorset&#39;, &#39;GPE&#39;),\n (&#39;Dover&#39;, &#39;GPE&#39;),\n (&#39;Dso&#39;, &#39;GPE&#39;),\n (&#39;Durham&#39;, &#39;GPE&#39;),\n (&#39;ENGLAND&#39;, &#39;GPE&#39;),\n (&#39;East Africa&#39;, &#39;GPE&#39;),\n (&#39;East Ham&#39;, &#39;GPE&#39;),\n (&#39;Eastbourne&#39;, &#39;GPE&#39;),\n (&#39;England&#39;, &#39;GPE&#39;),\n (&#39;Epsom, Shaftes&#39;, &#39;GPE&#39;),\n (&#39;Essex&#39;, &#39;GPE&#39;),\n (&#39;Eythorne&#39;, &#39;GPE&#39;),\n (&#39;F. J.&#39;, &#39;GPE&#39;),\n (&#39;FCIS&#39;, &#39;GPE&#39;),\n (&#39;FCRA&#39;, &#39;GPE&#39;),\n (&#39;Fingringhoe&#39;, &#39;GPE&#39;),\n (&#39;Folkestone&#39;, &#39;GPE&#39;),\n (&#39;Galway&#39;, &#39;GPE&#39;),\n (&#39;Gateshead&#39;, &#39;GPE&#39;),\n (&#39;Germany&#39;, &#39;GPE&#39;),\n (&#39;Gillingham&#39;, &#39;GPE&#39;),\n (&#39;Glamorgan&#39;, &#39;GPE&#39;),\n (&#39;Glossop&#39;, &#39;GPE&#39;),\n (&#39;Gloucester&#39;, &#39;GPE&#39;),\n (&#39;Gloucester City&#39;, &#39;GPE&#39;),\n (&#39;Great Britain&#39;, &#39;GPE&#39;),\n (&#39;Greece&#39;, &#39;GPE&#39;),\n (&#39;Greenford&#39;, &#39;GPE&#39;),\n (&#39;Grimsby&#39;, &#39;GPE&#39;),\n (&#39;Hants&#39;, &#39;GPE&#39;),\n (&#39;Harrington&#39;, &#39;GPE&#39;),\n (&#39;Hatﬁeld&#39;, &#39;GPE&#39;),\n (&#39;Hereford&#39;, &#39;GPE&#39;),\n (&#39;Hertford&#39;, &#39;GPE&#39;),\n (&#39;Heywood&#39;, &#39;GPE&#39;),\n (&#39;Holland&#39;, &#39;GPE&#39;),\n (&#39;Hove&#39;, &#39;GPE&#39;),\n (&#39;Huddersfield&#39;, &#39;GPE&#39;),\n (&#39;Huddersﬁeld&#39;, &#39;GPE&#39;),\n (&#39;Hungary&#39;, &#39;GPE&#39;),\n (&#39;India&#39;, &#39;GPE&#39;),\n (&#39;Ipswich&#39;, &#39;GPE&#39;),\n (&#39;JP&#39;, &#39;GPE&#39;),\n (&#39;Japan&#39;, &#39;GPE&#39;),\n (&#39;KENT&#39;, &#39;GPE&#39;),\n (&#39;KENYA&#39;, &#39;GPE&#39;),\n (&#39;KOrea&#39;, &#39;GPE&#39;),\n (&#39;Kent&#39;, &#39;GPE&#39;),\n (&#39;Kettering&#39;, &#39;GPE&#39;),\n (&#39;Knowle&#39;, &#39;GPE&#39;),\n (&#39;LONDON&#39;, &#39;GPE&#39;),\n (&#39;Langworth&#39;, &#39;GPE&#39;),\n (&#39;Leeds&#39;, &#39;GPE&#39;),\n (&#39;Leicester&#39;, &#39;GPE&#39;),\n (&#39;Levens&#39;, &#39;GPE&#39;),\n (&#39;Lincolnshire&#39;, &#39;GPE&#39;),\n (&#39;Linton&#39;, &#39;GPE&#39;),\n (&#39;Liverpool&#39;, &#39;GPE&#39;),\n (&#39;London&#39;, &#39;GPE&#39;),\n (&#39;Lymington&#39;, &#39;GPE&#39;),\n (&#39;Lynton&#39;, &#39;GPE&#39;),\n (&#39;MA&#39;, &#39;GPE&#39;),\n (&#39;MWENYEWE&#39;, &#39;GPE&#39;),\n (&#39;Macedonia&#39;, &#39;GPE&#39;),\n (&#39;Maeelesﬁeld&#39;, &#39;GPE&#39;),\n (&#39;Maidstone&#39;, &#39;GPE&#39;),\n (&#39;Margate&#39;, &#39;GPE&#39;),\n (&#39;Miami&#39;, &#39;GPE&#39;),\n (&#39;Middlesbrough&#39;, &#39;GPE&#39;),\n (&#39;Middlesex&#39;, &#39;GPE&#39;),\n (&#39;Mirﬁeld&#39;, &#39;GPE&#39;),\n (&#39;Misc.&#39;, &#39;GPE&#39;),\n (&#39;Moss for the&#39;, &#39;GPE&#39;),\n (&#39;Mossley&#39;, &#39;GPE&#39;),\n (&#39;NORTH WALES&#39;, &#39;GPE&#39;),\n (&#39;New Milton&#39;, &#39;GPE&#39;),\n (&#39;Newburn&#39;, &#39;GPE&#39;),\n (&#39;Newcastle&#39;, &#39;GPE&#39;),\n (&#39;Newport&#39;, &#39;GPE&#39;),\n (&#39;Ngombe&#39;, &#39;GPE&#39;),\n (&#39;North&#39;, &#39;GPE&#39;),\n (&#39;North Leicestershire&#39;, &#39;GPE&#39;),\n (&#39;North-West Mrs A. Pollen&#39;, &#39;GPE&#39;),\n (&#39;Norwich&#39;, &#39;GPE&#39;),\n (&#39;Nottingham&#39;, &#39;GPE&#39;),\n (&#39;Notts&#39;, &#39;GPE&#39;),\n (&#39;Offen&#39;, &#39;GPE&#39;),\n (&#39;Organizer&#39;, &#39;GPE&#39;),\n (&#39;Oswestry&#39;, &#39;GPE&#39;),\n (&#39;Oxon&#39;, &#39;GPE&#39;),\n (&#39;PORTLAND&#39;, &#39;GPE&#39;),\n (&#39;Palestine&#39;, &#39;GPE&#39;),\n (&#39;Park&#39;, &#39;GPE&#39;),\n (&#39;Peterborough&#39;, &#39;GPE&#39;),\n (&#39;Pontefract&#39;, &#39;GPE&#39;),\n (&#39;Prebendary Snell’s&#39;, &#39;GPE&#39;),\n (&#39;Purley&#39;, &#39;GPE&#39;),\n (&#39;RSPCA&#39;, &#39;GPE&#39;),\n (&#39;Ramsgate&#39;, &#39;GPE&#39;),\n (&#39;Rand&#39;, &#39;GPE&#39;),\n (&#39;Raynes Park&#39;, &#39;GPE&#39;),\n (&#39;Retford&#39;, &#39;GPE&#39;),\n (&#39;Rickmansworth&#39;, &#39;GPE&#39;),\n (&#39;Rochester&#39;, &#39;GPE&#39;),\n (&#39;Rotherham&#39;, &#39;GPE&#39;),\n (&#39;Rumania&#39;, &#39;GPE&#39;),\n (&#39;SHAFTESBURY&#39;, &#39;GPE&#39;),\n (&#39;STRAND&#39;, &#39;GPE&#39;),\n (&#39;SW&#39;, &#39;GPE&#39;),\n (&#39;SW20&#39;, &#39;GPE&#39;),\n (&#39;Salisbury&#39;, &#39;GPE&#39;),\n (&#39;Scunthorpe&#39;, &#39;GPE&#39;),\n (&#39;Sheepwash&#39;, &#39;GPE&#39;),\n (&#39;Sheerness&#39;, &#39;GPE&#39;),\n (&#39;Shrews&#39;, &#39;GPE&#39;),\n (&#39;Shrewsbury&#39;, &#39;GPE&#39;),\n (&#39;Southampton&#39;, &#39;GPE&#39;),\n (&#39;St John’s Hall&#39;, &#39;GPE&#39;),\n (&#39;St Lawrence C.&#39;, &#39;GPE&#39;),\n (&#39;St Thomas’s&#39;, &#39;GPE&#39;),\n (&#39;Stalybridge&#39;, &#39;GPE&#39;),\n (&#39;Stoke&#39;, &#39;GPE&#39;),\n (&#39;Stoke City&#39;, &#39;GPE&#39;),\n (&#39;Stonebridge Park&#39;, &#39;GPE&#39;),\n (&#39;Stubbings Manor&#39;, &#39;GPE&#39;),\n (&#39;Suffolk&#39;, &#39;GPE&#39;),\n (&#39;Sunderland&#39;, &#39;GPE&#39;),\n (&#39;Surrey&#39;, &#39;GPE&#39;),\n (&#39;Swansea&#39;, &#39;GPE&#39;),\n (&#39;Swindon&#39;, &#39;GPE&#39;),\n (&#39;Tilmanstone&#39;, &#39;GPE&#39;),\n (&#39;Tokio&#39;, &#39;GPE&#39;),\n (&#39;Topsham&#39;, &#39;GPE&#39;),\n (&#39;Torrington&#39;, &#39;GPE&#39;),\n (&#39;Towcester&#39;, &#39;GPE&#39;),\n (&#39;Trent&#39;, &#39;GPE&#39;),\n (&#39;Turkestan&#39;, &#39;GPE&#39;),\n (&#39;US&#39;, &#39;GPE&#39;),\n (&#39;View&#39;, &#39;GPE&#39;),\n (&#39;Wales&#39;, &#39;GPE&#39;),\n (&#39;Warwick&#39;, &#39;GPE&#39;),\n (&#39;Warwickshire&#39;, &#39;GPE&#39;),\n (&#39;Warwickshire South&#39;, &#39;GPE&#39;),\n (&#39;Wealston&#39;, &#39;GPE&#39;),\n (&#39;Wel&#39;, &#39;GPE&#39;),\n (&#39;West Bergholt&#39;, &#39;GPE&#39;),\n (&#39;West Moors&#39;, &#39;GPE&#39;),\n (&#39;Whistler&#39;, &#39;GPE&#39;),\n (&#39;Whitehaven&#39;, &#39;GPE&#39;),\n (&#39;Whitstable&#39;, &#39;GPE&#39;),\n (&#39;Whittlesey&#39;, &#39;GPE&#39;),\n (&#39;York&#39;, &#39;GPE&#39;),\n (&#39;Yugoslavia&#39;, &#39;GPE&#39;),\n (&#39;glid1ng&#39;, &#39;GPE&#39;),\n (&#39;izer&#39;, &#39;GPE&#39;),\n (&#39;levalde&#39;, &#39;GPE&#39;),\n (&#39;selﬁsh&#39;, &#39;GPE&#39;),\n (&#39;the West Lancashire&#39;, &#39;GPE&#39;)}"
     },
     "metadata": {},
     "execution_count": 24
    }
   ],
   "source": [
    "# get the set of unique GPEs\n",
    "set(gpes)"
   ]
  },
  {
   "source": [
    "spaCy also provides a `pipe` method on the language model that should batch your document processing. This can be useful for larger collections of texts. We'll only see a small advantage in our small corpus, but it gets more significant as you batch in larger sizes with more processes. \n",
    "\n",
    "https://spacy.io/api/language#pipe"
   ],
   "cell_type": "markdown",
   "metadata": {}
  },
  {
   "cell_type": "code",
   "execution_count": null,
   "metadata": {
    "tags": []
   },
   "outputs": [],
   "source": [
    "%time docs = [nlp(text) for text in texts]"
   ]
  },
  {
   "cell_type": "code",
   "execution_count": null,
   "metadata": {
    "tags": []
   },
   "outputs": [],
   "source": [
    "%time docs = list(nlp.pipe(texts, batch_size=10, n_process=1))"
   ]
  },
  {
   "source": [
    "## Resources for spaCy\n",
    "\n",
    "- [spaCy 101](https://spacy.io/usage/spacy-101) - spaCy's own intro documentation\n",
    "- [Advanced NLP with spaCy](https://course.spacy.io/) - spaCy's own interactive learning course; you don't need to be \"ready\" for \"advanced\" work to benefit from going through this course\n",
    "- [textacy](https://github.com/chartbeat-labs/textacy) - a Python library built on top of spaCy and scikit-learn to faciliate working with a corpus and providing extra functionality\n",
    "- [spaCy universe](https://spacy.io/universe) - extensive collection of packages built on top of or with spaCy for various NLP and text analysis tasks"
   ],
   "cell_type": "markdown",
   "metadata": {}
  },
  {
   "source": [
    "## Activity?\n",
    "\n",
    "I'm happy to stay on for a while and answer questions or help if anyone would like to work with one of their own texts in spaCy to try out some of these techniques/approaches."
   ],
   "cell_type": "markdown",
   "metadata": {}
  }
 ]
}