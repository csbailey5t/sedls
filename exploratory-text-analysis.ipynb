{
 "metadata": {
  "language_info": {
   "codemirror_mode": {
    "name": "ipython",
    "version": 3
   },
   "file_extension": ".py",
   "mimetype": "text/x-python",
   "name": "python",
   "nbconvert_exporter": "python",
   "pygments_lexer": "ipython3",
   "version": "3.8.0-final"
  },
  "orig_nbformat": 2,
  "kernelspec": {
   "name": "Python 3.8.0 64-bit ('sedls-EhSD_cOU-py3.8': venv)",
   "display_name": "Python 3.8.0 64-bit ('sedls-EhSD_cOU-py3.8': venv)",
   "metadata": {
    "interpreter": {
     "hash": "74e3fe4f46643bf5345544bab31527dfc819d8a420bac11c9d0fbbf74c17ef0e"
    }
   }
  }
 },
 "nbformat": 4,
 "nbformat_minor": 2,
 "cells": [
  {
   "source": [
    "# Exploratory Text Analysis with Python\n",
    "\n",
    "Workshop for the Southeast Data Librarian Symposium 2020\n",
    "\n",
    "Scott Bailey <br/>\n",
    "Digital Research and Scholarship Librarian <br/>\n",
    "Copyright and Digital Scholarship Center <br/>\n",
    "NC State University Libraries\n",
    "\n",
    "## Outline\n",
    "1. Intro and overview of NLP libraries\n",
    "2. Document-level analysis <br/>\n",
    "    a. Tokenization <br/>\n",
    "    b. Cleaning text data <br />\n",
    "    c. Part-of-speech tagging <br/>\n",
    "    d. Named entity recognition <br/>\n",
    "    e. Similarity vectors <br/>\n",
    "    f. Rule-based matching <br />\n",
    "3. Scaling up to corpus-level analysis\n",
    "4. Further resources for spaCy\n",
    "\n",
    "## What do we mean by \"exploratory text analysis?\"\n",
    "- How clean are the data?\n",
    "- What methods do the data support?\n",
    "- Project scoping \n",
    "- Research question refinement\n",
    "- Iterative research \n",
    "\n",
    "## A quick(!) overview of NLP-related libraries in Python\n",
    "- [nltk](https://www.nltk.org/)\n",
    "- [gensim](https://radimrehurek.com/gensim/)\n",
    "- [scikit-learn](https://scikit-learn.org/stable/)\n",
    "- [stanza/corenlp](https://stanfordnlp.github.io/stanza/)\n",
    "- [spaCy](https://spacy.io/)\n",
    "- [huggingface transformers - pytorch and tensorflow](https://github.com/huggingface/transformers)\n",
    "\n",
    "### Why spaCy?\n",
    "\n",
    "An opinionated, performant NLP that does a lot of the work for you while revealing where you might need to do more custom refinement or model building. \n",
    "\n",
    "## Questions during the workshop\n",
    "\n",
    "During the workshop, please do ask questions by way of the Zoom chat. I'll be keeping an eye on that, and will answer questions as we go. I'll also give some time during and after the workshop when folks can unmute and ask questions. \n",
    "\n",
    "## Jupyter Notebooks, Google Colab, and Binder\n"
   ],
   "cell_type": "markdown",
   "metadata": {}
  },
  {
   "cell_type": "code",
   "execution_count": null,
   "metadata": {},
   "outputs": [],
   "source": [
    "# Run this cell if working in Google Colab or Binder\n",
    "# If working locally, add spaCy to your environment in the preferred way\n",
    "# and in a shell with that environment, run the model download\n",
    "!pip install spacy\n",
    "!python -m spacy download en_core_web_md"
   ]
  },
  {
   "cell_type": "code",
   "execution_count": 31,
   "metadata": {},
   "outputs": [],
   "source": [
    "from collections import Counter\n",
    "import glob\n",
    "import spacy\n",
    "from spacy import displacy"
   ]
  },
  {
   "cell_type": "code",
   "execution_count": 2,
   "metadata": {},
   "outputs": [],
   "source": [
    "nlp = spacy.load(\"en_core_web_md\")"
   ]
  },
  {
   "cell_type": "code",
   "execution_count": 33,
   "metadata": {},
   "outputs": [],
   "source": [
    "# from https://se-datalibrarian.github.io/2020/about/\n",
    "# I've added the final, untrue sentence, though, to make sure we have entities for when we hit named entity recognition.\n",
    "sample_text = \"\"\"The Southeast Data Librarian Symposium is intended to provide an opportunity for librarians and other research data specialists to explore developments in the field of data librarianship, including the management and sharing of research data.\n",
    "\n",
    "In addition to learning about new work in the field, attendees will have the opportunity to network and build partnerships with regional colleagues. It is open to all who wish to attend, including students, data managers, and data scientists.\n",
    "\n",
    "The Symposium has previously taken place in Athens, Georgia, and has been sponsored by Google for $10 million.\"\"\""
   ]
  },
  {
   "cell_type": "code",
   "execution_count": 34,
   "metadata": {},
   "outputs": [],
   "source": [
    "doc = nlp(sample_text)"
   ]
  },
  {
   "source": [
    "## Tokenization"
   ],
   "cell_type": "markdown",
   "metadata": {}
  },
  {
   "cell_type": "code",
   "execution_count": 35,
   "metadata": {
    "tags": []
   },
   "outputs": [
    {
     "output_type": "stream",
     "name": "stdout",
     "text": "The\nSoutheast\nData\nLibrarian\nSymposium\nis\nintended\nto\nprovide\nan\nopportunity\nfor\nlibrarians\nand\nother\nresearch\ndata\nspecialists\nto\nexplore\n"
    }
   ],
   "source": [
    "for word in doc[:20]:\n",
    "    print(word)"
   ]
  },
  {
   "cell_type": "code",
   "execution_count": 36,
   "metadata": {
    "tags": []
   },
   "outputs": [
    {
     "output_type": "stream",
     "name": "stdout",
     "text": "The Southeast Data Librarian Symposium\nan opportunity\nlibrarians\nother research data specialists\ndevelopments\nthe field\ndata librarianship\nthe management\nsharing\nresearch data\naddition\nnew work\nthe field\nattendees\nthe opportunity\npartnerships\nregional colleagues\nIt\nwho\nstudents\ndata managers\ndata scientists\nThe Symposium\nplace\nAthens\nGeorgia\nGoogle\n"
    }
   ],
   "source": [
    "for noun_chunk in doc.noun_chunks:\n",
    "    print(noun_chunk)"
   ]
  },
  {
   "cell_type": "code",
   "execution_count": 37,
   "metadata": {
    "tags": []
   },
   "outputs": [
    {
     "output_type": "stream",
     "name": "stdout",
     "text": "The Southeast Data Librarian Symposium is intended to provide an opportunity for librarians and other research data specialists to explore developments in the field of data librarianship, including the management and sharing of research data.\n\n\nIn addition to learning about new work in the field, attendees will have the opportunity to network and build partnerships with regional colleagues.\nIt is open to all who wish to attend, including students, data managers, and data scientists.\n\n\nThe Symposium has previously taken place in Athens, Georgia, and has been sponsored by Google for $10 million.\n"
    }
   ],
   "source": [
    "for sent in doc.sents:\n",
    "    print(sent)"
   ]
  },
  {
   "source": [
    "## Cleaning text data"
   ],
   "cell_type": "markdown",
   "metadata": {}
  },
  {
   "cell_type": "code",
   "execution_count": 40,
   "metadata": {
    "tags": []
   },
   "outputs": [
    {
     "output_type": "stream",
     "name": "stdout",
     "text": "The False\nSoutheast False\nData False\nLibrarian False\nSymposium False\nis False\nintended False\nto False\nprovide False\nan False\nopportunity False\nfor False\nlibrarians False\nand False\nother False\nresearch False\ndata False\nspecialists False\nto False\nexplore False\ndevelopments False\nin False\nthe False\nfield False\nof False\ndata False\nlibrarianship False\nincluding False\nthe False\nmanagement False\nand False\nsharing False\nof False\nresearch False\ndata False\n\n\n False\nIn False\naddition False\nto False\nlearning False\nabout False\nnew False\nwork False\nin False\nthe False\nfield False\nattendees False\nwill False\nhave False\nthe False\n"
    }
   ],
   "source": [
    "# One of the common things we do in text analysis is to remove punctuation\n",
    "no_punct = [token for token in doc if token.is_punct == False]\n",
    "for token in no_punct[:50]:\n",
    "  print(token.text, token.is_punct)"
   ]
  },
  {
   "cell_type": "code",
   "execution_count": 41,
   "metadata": {
    "tags": []
   },
   "outputs": [
    {
     "output_type": "stream",
     "name": "stdout",
     "text": "The\nSoutheast\nData\nLibrarian\nSymposium\nis\nintended\nto\nprovide\nan\nopportunity\nfor\nlibrarians\nand\nother\nresearch\ndata\nspecialists\nto\nexplore\ndevelopments\nin\nthe\nfield\nof\ndata\nlibrarianship\nincluding\nthe\nmanagement\n"
    }
   ],
   "source": [
    "# This has worked, but left in new line characters and spaces\n",
    "no_punct_or_space = [token for token in doc if token.is_punct == False and token.is_space == False]\n",
    "for token in no_punct_or_space[:30]:\n",
    "  print(token.text)"
   ]
  },
  {
   "cell_type": "code",
   "execution_count": 42,
   "metadata": {},
   "outputs": [
    {
     "output_type": "execute_result",
     "data": {
      "text/plain": "[&#39;the&#39;,\n &#39;southeast&#39;,\n &#39;data&#39;,\n &#39;librarian&#39;,\n &#39;symposium&#39;,\n &#39;is&#39;,\n &#39;intended&#39;,\n &#39;to&#39;,\n &#39;provide&#39;,\n &#39;an&#39;,\n &#39;opportunity&#39;,\n &#39;for&#39;,\n &#39;librarians&#39;,\n &#39;and&#39;,\n &#39;other&#39;,\n &#39;research&#39;,\n &#39;data&#39;,\n &#39;specialists&#39;,\n &#39;to&#39;,\n &#39;explore&#39;,\n &#39;developments&#39;,\n &#39;in&#39;,\n &#39;the&#39;,\n &#39;field&#39;,\n &#39;of&#39;,\n &#39;data&#39;,\n &#39;librarianship&#39;,\n &#39;including&#39;,\n &#39;the&#39;,\n &#39;management&#39;]"
     },
     "metadata": {},
     "execution_count": 42
    }
   ],
   "source": [
    "# Let's say we also want to remove numbers, and lowercase everything\n",
    "lower_alpha = [token.lower_ for token in no_punct_or_space if token.is_alpha == True]\n",
    "lower_alpha[:30]"
   ]
  },
  {
   "source": [
    "One other common bit of preprocessing is to remove stopwords, that is, the common words in a language that don't convey the information that we are looking for in our analysis. For example, if we looked for the most common words in a text, we would want to remove stopwords so that we don't only get words such as 'a,' 'the,' and 'and.'"
   ],
   "cell_type": "markdown",
   "metadata": {}
  },
  {
   "cell_type": "code",
   "execution_count": 43,
   "metadata": {},
   "outputs": [
    {
     "output_type": "execute_result",
     "data": {
      "text/plain": "[&#39;southeast&#39;,\n &#39;data&#39;,\n &#39;librarian&#39;,\n &#39;symposium&#39;,\n &#39;intended&#39;,\n &#39;provide&#39;,\n &#39;opportunity&#39;,\n &#39;librarians&#39;,\n &#39;research&#39;,\n &#39;data&#39;,\n &#39;specialists&#39;,\n &#39;explore&#39;,\n &#39;developments&#39;,\n &#39;field&#39;,\n &#39;data&#39;,\n &#39;librarianship&#39;,\n &#39;including&#39;,\n &#39;management&#39;,\n &#39;sharing&#39;,\n &#39;research&#39;,\n &#39;data&#39;,\n &#39;addition&#39;,\n &#39;learning&#39;,\n &#39;new&#39;,\n &#39;work&#39;,\n &#39;field&#39;,\n &#39;attendees&#39;,\n &#39;opportunity&#39;,\n &#39;network&#39;,\n &#39;build&#39;]"
     },
     "metadata": {},
     "execution_count": 43
    }
   ],
   "source": [
    "clean = [token.lower_ for token in no_punct_or_space if token.is_alpha == True and token.is_stop == False]\n",
    "clean[:30]"
   ]
  },
  {
   "source": [
    "For this piece, we've used spaCy's built in stopword list, which is used to create the property `is_stop` for each token. There's a good chance you would want to create custom stopwords lists though, especially if you're working with historical text or really domain-specific text. "
   ],
   "cell_type": "markdown",
   "metadata": {}
  },
  {
   "cell_type": "code",
   "execution_count": 44,
   "metadata": {},
   "outputs": [
    {
     "output_type": "execute_result",
     "data": {
      "text/plain": "[&#39;the&#39;,\n &#39;southeast&#39;,\n &#39;data&#39;,\n &#39;librarian&#39;,\n &#39;symposium&#39;,\n &#39;is&#39;,\n &#39;intended&#39;,\n &#39;to&#39;,\n &#39;provide&#39;,\n &#39;an&#39;,\n &#39;opportunity&#39;,\n &#39;for&#39;,\n &#39;librarians&#39;,\n &#39;and&#39;,\n &#39;other&#39;,\n &#39;research&#39;,\n &#39;data&#39;,\n &#39;specialists&#39;,\n &#39;to&#39;,\n &#39;explore&#39;,\n &#39;in&#39;,\n &#39;the&#39;,\n &#39;field&#39;,\n &#39;of&#39;,\n &#39;data&#39;,\n &#39;librarianship&#39;,\n &#39;,&#39;,\n &#39;including&#39;,\n &#39;the&#39;,\n &#39;and&#39;,\n &#39;sharing&#39;,\n &#39;of&#39;,\n &#39;research&#39;,\n &#39;data&#39;,\n &#39;.&#39;,\n &#39;\\n\\n&#39;,\n &#39;in&#39;,\n &#39;addition&#39;,\n &#39;to&#39;,\n &#39;learning&#39;,\n &#39;about&#39;,\n &#39;new&#39;,\n &#39;work&#39;,\n &#39;in&#39;,\n &#39;the&#39;,\n &#39;field&#39;,\n &#39;,&#39;,\n &#39;attendees&#39;,\n &#39;will&#39;,\n &#39;have&#39;,\n &#39;the&#39;,\n &#39;opportunity&#39;,\n &#39;to&#39;,\n &#39;network&#39;,\n &#39;and&#39;,\n &#39;build&#39;,\n &#39;partnerships&#39;,\n &#39;with&#39;,\n &#39;regional&#39;,\n &#39;colleagues&#39;,\n &#39;.&#39;,\n &#39;it&#39;,\n &#39;is&#39;,\n &#39;open&#39;,\n &#39;to&#39;,\n &#39;all&#39;,\n &#39;who&#39;,\n &#39;wish&#39;,\n &#39;to&#39;,\n &#39;attend&#39;,\n &#39;,&#39;,\n &#39;including&#39;,\n &#39;students&#39;,\n &#39;,&#39;,\n &#39;data&#39;,\n &#39;managers&#39;,\n &#39;,&#39;,\n &#39;and&#39;,\n &#39;data&#39;,\n &#39;scientists&#39;,\n &#39;.&#39;,\n &#39;\\n\\n&#39;,\n &#39;the&#39;,\n &#39;symposium&#39;,\n &#39;has&#39;,\n &#39;previously&#39;,\n &#39;taken&#39;,\n &#39;place&#39;,\n &#39;in&#39;,\n &#39;athens&#39;,\n &#39;,&#39;,\n &#39;georgia&#39;,\n &#39;,&#39;,\n &#39;and&#39;,\n &#39;has&#39;,\n &#39;been&#39;,\n &#39;sponsored&#39;,\n &#39;by&#39;,\n &#39;google&#39;,\n &#39;for&#39;,\n &#39;$&#39;,\n &#39;10&#39;,\n &#39;million&#39;,\n &#39;.&#39;]"
     },
     "metadata": {},
     "execution_count": 44
    }
   ],
   "source": [
    "# We'll just pick a couple of words we know are in the example\n",
    "custom_stopwords = [\"developments\", \"management\"]\n",
    "\n",
    "custom_clean = [token.lower_ for token in doc if token.lower_ not in custom_stopwords]\n",
    "custom_clean"
   ]
  },
  {
   "source": [
    "At this point, we have a list of lower-cased tokens that doesn't contain punctuation, white-space, numbers, or stopwords. Depending on our analysis, we may or may not want to do this much cleaning. But, it is good to understand how much we can do just with spaCy. "
   ],
   "cell_type": "markdown",
   "metadata": {}
  },
  {
   "source": [
    "### Since we can break apart the document and filter it now, it's a good time to start counting things"
   ],
   "cell_type": "markdown",
   "metadata": {}
  },
  {
   "cell_type": "code",
   "execution_count": 45,
   "metadata": {
    "tags": []
   },
   "outputs": [
    {
     "output_type": "stream",
     "name": "stdout",
     "text": "Number of tokens in document:  106\nNumber of tokens in cleaned document:  51\nNumber of unique tokens in cleaned document:  41\n"
    }
   ],
   "source": [
    "print(\"Number of tokens in document: \", len(doc))\n",
    "print(\"Number of tokens in cleaned document: \", len(clean))\n",
    "print(\"Number of unique tokens in cleaned document: \", len(set(clean)))"
   ]
  },
  {
   "cell_type": "code",
   "execution_count": 46,
   "metadata": {},
   "outputs": [
    {
     "output_type": "execute_result",
     "data": {
      "text/plain": "4"
     },
     "metadata": {},
     "execution_count": 46
    }
   ],
   "source": [
    "# number of sentences\n",
    "len(list(doc.sents))"
   ]
  },
  {
   "cell_type": "code",
   "execution_count": 47,
   "metadata": {},
   "outputs": [
    {
     "output_type": "execute_result",
     "data": {
      "text/plain": "[(&#39;,&#39;, 7),\n (&#39;the&#39;, 6),\n (&#39;data&#39;, 6),\n (&#39;to&#39;, 6),\n (&#39;and&#39;, 5),\n (&#39;in&#39;, 4),\n (&#39;.&#39;, 4),\n (&#39;symposium&#39;, 2),\n (&#39;is&#39;, 2),\n (&#39;opportunity&#39;, 2),\n (&#39;for&#39;, 2),\n (&#39;research&#39;, 2),\n (&#39;field&#39;, 2),\n (&#39;of&#39;, 2),\n (&#39;including&#39;, 2),\n (&#39;\\n\\n&#39;, 2),\n (&#39;has&#39;, 2),\n (&#39;southeast&#39;, 1),\n (&#39;librarian&#39;, 1),\n (&#39;intended&#39;, 1)]"
     },
     "metadata": {},
     "execution_count": 47
    }
   ],
   "source": [
    "# Count all lower-cased tokens\n",
    "full_counter = Counter([token.lower_ for token in doc])\n",
    "full_counter.most_common(20)"
   ]
  },
  {
   "cell_type": "code",
   "execution_count": 48,
   "metadata": {},
   "outputs": [
    {
     "output_type": "execute_result",
     "data": {
      "text/plain": "[(&#39;data&#39;, 6),\n (&#39;symposium&#39;, 2),\n (&#39;opportunity&#39;, 2),\n (&#39;research&#39;, 2),\n (&#39;field&#39;, 2),\n (&#39;including&#39;, 2),\n (&#39;southeast&#39;, 1),\n (&#39;librarian&#39;, 1),\n (&#39;intended&#39;, 1),\n (&#39;provide&#39;, 1),\n (&#39;librarians&#39;, 1),\n (&#39;specialists&#39;, 1),\n (&#39;explore&#39;, 1),\n (&#39;developments&#39;, 1),\n (&#39;librarianship&#39;, 1),\n (&#39;management&#39;, 1),\n (&#39;sharing&#39;, 1),\n (&#39;addition&#39;, 1),\n (&#39;learning&#39;, 1),\n (&#39;new&#39;, 1)]"
     },
     "metadata": {},
     "execution_count": 48
    }
   ],
   "source": [
    "# Count cleaned tokens\n",
    "cleaned_counter = Counter(clean)\n",
    "cleaned_counter.most_common(20)"
   ]
  },
  {
   "source": [
    "**Question:** Why do we have to use a list comprehension for the non-clean doc while we can just pass a variable directly for the cleaned set of tokens?"
   ],
   "cell_type": "markdown",
   "metadata": {}
  },
  {
   "source": [
    "### Activity\n",
    "\n",
    "In the cell below, write code to find the five most common noun chunks in the original doc. "
   ],
   "cell_type": "markdown",
   "metadata": {}
  },
  {
   "cell_type": "code",
   "execution_count": 50,
   "metadata": {},
   "outputs": [],
   "source": [
    "# Write code here"
   ]
  },
  {
   "source": [
    "## Part-of-speech tagging"
   ],
   "cell_type": "markdown",
   "metadata": {}
  },
  {
   "cell_type": "code",
   "execution_count": 8,
   "metadata": {
    "tags": []
   },
   "outputs": [
    {
     "output_type": "stream",
     "name": "stdout",
     "text": "The DET\nSoutheast PROPN\nData PROPN\nLibrarian PROPN\nSymposium PROPN\nis AUX\nintended VERB\nto PART\nprovide VERB\nan DET\nopportunity NOUN\nfor ADP\nlibrarians NOUN\nand CCONJ\nother ADJ\nresearch NOUN\ndata NOUN\nspecialists NOUN\nto PART\nexplore VERB\n"
    }
   ],
   "source": [
    "# Coarse grained UPOS: https://universaldependencies.org/docs/u/pos/\n",
    "for token in doc[:20]:\n",
    "    print(token.text, token.pos_)"
   ]
  },
  {
   "cell_type": "code",
   "execution_count": 9,
   "metadata": {
    "tags": []
   },
   "outputs": [
    {
     "output_type": "stream",
     "name": "stdout",
     "text": "The DT\nSoutheast NNP\nData NNP\nLibrarian NNP\nSymposium NNP\nis VBZ\nintended VBN\nto TO\nprovide VB\nan DT\nopportunity NN\nfor IN\nlibrarians NNS\nand CC\nother JJ\nresearch NN\ndata NNS\nspecialists NNS\nto TO\nexplore VB\n"
    }
   ],
   "source": [
    "# Fine-grained POS, Penn Treebank: https://www.ling.upenn.edu/courses/Fall_2003/ling001/penn_treebank_pos.html\n",
    "for token in doc[:20]:\n",
    "    print(token.text, token.tag_)"
   ]
  },
  {
   "source": [
    "# Not sure what those tags are? Try spaCy's explain function\n",
    "spacy.explain(\"DT\")"
   ],
   "cell_type": "code",
   "metadata": {},
   "execution_count": 52,
   "outputs": [
    {
     "output_type": "execute_result",
     "data": {
      "text/plain": "&#39;determiner&#39;"
     },
     "metadata": {},
     "execution_count": 52
    }
   ]
  },
  {
   "cell_type": "code",
   "execution_count": 10,
   "metadata": {},
   "outputs": [
    {
     "output_type": "execute_result",
     "data": {
      "text/plain": "[intended,\n provide,\n explore,\n including,\n learning,\n will,\n network,\n build,\n wish,\n attend,\n including,\n taken,\n sponsored]"
     },
     "metadata": {},
     "execution_count": 10
    }
   ],
   "source": [
    "# Collect tokens by part of speech\n",
    "verbs = [token for token in doc if token.pos_ == \"VERB\"]\n",
    "verbs"
   ]
  },
  {
   "cell_type": "code",
   "execution_count": 11,
   "metadata": {},
   "outputs": [
    {
     "output_type": "execute_result",
     "data": {
      "text/plain": "[librarians,\n data,\n specialists,\n developments,\n data,\n data,\n attendees,\n partnerships,\n colleagues,\n students,\n managers,\n data,\n scientists]"
     },
     "metadata": {},
     "execution_count": 11
    }
   ],
   "source": [
    "# Collect plural nouns\n",
    "nouns_pl = [token for token in doc if token.tag_ == \"NNS\" or token.tag_ == \"NNPS\"]\n",
    "nouns_pl"
   ]
  },
  {
   "source": [
    "### Dependency tree visualization"
   ],
   "cell_type": "markdown",
   "metadata": {}
  },
  {
   "cell_type": "code",
   "execution_count": 12,
   "metadata": {},
   "outputs": [
    {
     "output_type": "execute_result",
     "data": {
      "text/plain": "The Southeast Data Librarian Symposium is intended to provide an opportunity for librarians and other research data specialists to explore developments in the field of data librarianship, including the management and sharing of research data.\n"
     },
     "metadata": {},
     "execution_count": 12
    }
   ],
   "source": [
    "single_sentence = list(doc.sents)[0]\n",
    "single_sentence"
   ]
  },
  {
   "cell_type": "code",
   "execution_count": 51,
   "metadata": {
    "tags": []
   },
   "outputs": [
    {
     "output_type": "stream",
     "name": "stdout",
     "text": "The det\nSymposium nsubj\nhas aux\npreviously advmod\ntaken ROOT\nplace dobj\nin prep\nAthens pobj\n, punct\nGeorgia appos\n, punct\nand cc\nhas aux\nbeen auxpass\nsponsored conj\nby agent\nGoogle pobj\nfor prep\n$ quantmod\n10 compound\nmillion pobj\n. punct\n"
    }
   ],
   "source": [
    "# spaCy determines the dependency tree for it's doc. Like POS, we can see the dependency tags of each token. \n",
    "for token in single_sentence:\n",
    "    print(token.text, token.dep_)"
   ]
  },
  {
   "cell_type": "code",
   "execution_count": 54,
   "metadata": {},
   "outputs": [
    {
     "output_type": "execute_result",
     "data": {
      "text/plain": "&#39;direct object&#39;"
     },
     "metadata": {},
     "execution_count": 54
    }
   ],
   "source": [
    "spacy.explain(\"dobj\")"
   ]
  },
  {
   "cell_type": "code",
   "execution_count": 13,
   "metadata": {},
   "outputs": [
    {
     "output_type": "display_data",
     "data": {
      "text/plain": "&lt;IPython.core.display.HTML object&gt;",
      "text/html": "<span class=\"tex2jax_ignore\"><svg xmlns=\"http://www.w3.org/2000/svg\" xmlns:xlink=\"http://www.w3.org/1999/xlink\" xml:lang=\"en\" id=\"3bf5dbb9e3c34b47a9ffab42d200c9ea-0\" class=\"displacy\" width=\"6350\" height=\"924.5\" direction=\"ltr\" style=\"max-width: none; height: 924.5px; color: #000000; background: #ffffff; font-family: Arial; direction: ltr\">\n<text class=\"displacy-token\" fill=\"currentColor\" text-anchor=\"middle\" y=\"834.5\">\n    <tspan class=\"displacy-word\" fill=\"currentColor\" x=\"50\">The</tspan>\n    <tspan class=\"displacy-tag\" dy=\"2em\" fill=\"currentColor\" x=\"50\">DET</tspan>\n</text>\n\n<text class=\"displacy-token\" fill=\"currentColor\" text-anchor=\"middle\" y=\"834.5\">\n    <tspan class=\"displacy-word\" fill=\"currentColor\" x=\"225\">Southeast</tspan>\n    <tspan class=\"displacy-tag\" dy=\"2em\" fill=\"currentColor\" x=\"225\">PROPN</tspan>\n</text>\n\n<text class=\"displacy-token\" fill=\"currentColor\" text-anchor=\"middle\" y=\"834.5\">\n    <tspan class=\"displacy-word\" fill=\"currentColor\" x=\"400\">Data</tspan>\n    <tspan class=\"displacy-tag\" dy=\"2em\" fill=\"currentColor\" x=\"400\">PROPN</tspan>\n</text>\n\n<text class=\"displacy-token\" fill=\"currentColor\" text-anchor=\"middle\" y=\"834.5\">\n    <tspan class=\"displacy-word\" fill=\"currentColor\" x=\"575\">Librarian</tspan>\n    <tspan class=\"displacy-tag\" dy=\"2em\" fill=\"currentColor\" x=\"575\">PROPN</tspan>\n</text>\n\n<text class=\"displacy-token\" fill=\"currentColor\" text-anchor=\"middle\" y=\"834.5\">\n    <tspan class=\"displacy-word\" fill=\"currentColor\" x=\"750\">Symposium</tspan>\n    <tspan class=\"displacy-tag\" dy=\"2em\" fill=\"currentColor\" x=\"750\">PROPN</tspan>\n</text>\n\n<text class=\"displacy-token\" fill=\"currentColor\" text-anchor=\"middle\" y=\"834.5\">\n    <tspan class=\"displacy-word\" fill=\"currentColor\" x=\"925\">is</tspan>\n    <tspan class=\"displacy-tag\" dy=\"2em\" fill=\"currentColor\" x=\"925\">AUX</tspan>\n</text>\n\n<text class=\"displacy-token\" fill=\"currentColor\" text-anchor=\"middle\" y=\"834.5\">\n    <tspan class=\"displacy-word\" fill=\"currentColor\" x=\"1100\">intended</tspan>\n    <tspan class=\"displacy-tag\" dy=\"2em\" fill=\"currentColor\" x=\"1100\">VERB</tspan>\n</text>\n\n<text class=\"displacy-token\" fill=\"currentColor\" text-anchor=\"middle\" y=\"834.5\">\n    <tspan class=\"displacy-word\" fill=\"currentColor\" x=\"1275\">to</tspan>\n    <tspan class=\"displacy-tag\" dy=\"2em\" fill=\"currentColor\" x=\"1275\">PART</tspan>\n</text>\n\n<text class=\"displacy-token\" fill=\"currentColor\" text-anchor=\"middle\" y=\"834.5\">\n    <tspan class=\"displacy-word\" fill=\"currentColor\" x=\"1450\">provide</tspan>\n    <tspan class=\"displacy-tag\" dy=\"2em\" fill=\"currentColor\" x=\"1450\">VERB</tspan>\n</text>\n\n<text class=\"displacy-token\" fill=\"currentColor\" text-anchor=\"middle\" y=\"834.5\">\n    <tspan class=\"displacy-word\" fill=\"currentColor\" x=\"1625\">an</tspan>\n    <tspan class=\"displacy-tag\" dy=\"2em\" fill=\"currentColor\" x=\"1625\">DET</tspan>\n</text>\n\n<text class=\"displacy-token\" fill=\"currentColor\" text-anchor=\"middle\" y=\"834.5\">\n    <tspan class=\"displacy-word\" fill=\"currentColor\" x=\"1800\">opportunity</tspan>\n    <tspan class=\"displacy-tag\" dy=\"2em\" fill=\"currentColor\" x=\"1800\">NOUN</tspan>\n</text>\n\n<text class=\"displacy-token\" fill=\"currentColor\" text-anchor=\"middle\" y=\"834.5\">\n    <tspan class=\"displacy-word\" fill=\"currentColor\" x=\"1975\">for</tspan>\n    <tspan class=\"displacy-tag\" dy=\"2em\" fill=\"currentColor\" x=\"1975\">ADP</tspan>\n</text>\n\n<text class=\"displacy-token\" fill=\"currentColor\" text-anchor=\"middle\" y=\"834.5\">\n    <tspan class=\"displacy-word\" fill=\"currentColor\" x=\"2150\">librarians</tspan>\n    <tspan class=\"displacy-tag\" dy=\"2em\" fill=\"currentColor\" x=\"2150\">NOUN</tspan>\n</text>\n\n<text class=\"displacy-token\" fill=\"currentColor\" text-anchor=\"middle\" y=\"834.5\">\n    <tspan class=\"displacy-word\" fill=\"currentColor\" x=\"2325\">and</tspan>\n    <tspan class=\"displacy-tag\" dy=\"2em\" fill=\"currentColor\" x=\"2325\">CCONJ</tspan>\n</text>\n\n<text class=\"displacy-token\" fill=\"currentColor\" text-anchor=\"middle\" y=\"834.5\">\n    <tspan class=\"displacy-word\" fill=\"currentColor\" x=\"2500\">other</tspan>\n    <tspan class=\"displacy-tag\" dy=\"2em\" fill=\"currentColor\" x=\"2500\">ADJ</tspan>\n</text>\n\n<text class=\"displacy-token\" fill=\"currentColor\" text-anchor=\"middle\" y=\"834.5\">\n    <tspan class=\"displacy-word\" fill=\"currentColor\" x=\"2675\">research</tspan>\n    <tspan class=\"displacy-tag\" dy=\"2em\" fill=\"currentColor\" x=\"2675\">NOUN</tspan>\n</text>\n\n<text class=\"displacy-token\" fill=\"currentColor\" text-anchor=\"middle\" y=\"834.5\">\n    <tspan class=\"displacy-word\" fill=\"currentColor\" x=\"2850\">data</tspan>\n    <tspan class=\"displacy-tag\" dy=\"2em\" fill=\"currentColor\" x=\"2850\">NOUN</tspan>\n</text>\n\n<text class=\"displacy-token\" fill=\"currentColor\" text-anchor=\"middle\" y=\"834.5\">\n    <tspan class=\"displacy-word\" fill=\"currentColor\" x=\"3025\">specialists</tspan>\n    <tspan class=\"displacy-tag\" dy=\"2em\" fill=\"currentColor\" x=\"3025\">NOUN</tspan>\n</text>\n\n<text class=\"displacy-token\" fill=\"currentColor\" text-anchor=\"middle\" y=\"834.5\">\n    <tspan class=\"displacy-word\" fill=\"currentColor\" x=\"3200\">to</tspan>\n    <tspan class=\"displacy-tag\" dy=\"2em\" fill=\"currentColor\" x=\"3200\">PART</tspan>\n</text>\n\n<text class=\"displacy-token\" fill=\"currentColor\" text-anchor=\"middle\" y=\"834.5\">\n    <tspan class=\"displacy-word\" fill=\"currentColor\" x=\"3375\">explore</tspan>\n    <tspan class=\"displacy-tag\" dy=\"2em\" fill=\"currentColor\" x=\"3375\">VERB</tspan>\n</text>\n\n<text class=\"displacy-token\" fill=\"currentColor\" text-anchor=\"middle\" y=\"834.5\">\n    <tspan class=\"displacy-word\" fill=\"currentColor\" x=\"3550\">developments</tspan>\n    <tspan class=\"displacy-tag\" dy=\"2em\" fill=\"currentColor\" x=\"3550\">NOUN</tspan>\n</text>\n\n<text class=\"displacy-token\" fill=\"currentColor\" text-anchor=\"middle\" y=\"834.5\">\n    <tspan class=\"displacy-word\" fill=\"currentColor\" x=\"3725\">in</tspan>\n    <tspan class=\"displacy-tag\" dy=\"2em\" fill=\"currentColor\" x=\"3725\">ADP</tspan>\n</text>\n\n<text class=\"displacy-token\" fill=\"currentColor\" text-anchor=\"middle\" y=\"834.5\">\n    <tspan class=\"displacy-word\" fill=\"currentColor\" x=\"3900\">the</tspan>\n    <tspan class=\"displacy-tag\" dy=\"2em\" fill=\"currentColor\" x=\"3900\">DET</tspan>\n</text>\n\n<text class=\"displacy-token\" fill=\"currentColor\" text-anchor=\"middle\" y=\"834.5\">\n    <tspan class=\"displacy-word\" fill=\"currentColor\" x=\"4075\">field</tspan>\n    <tspan class=\"displacy-tag\" dy=\"2em\" fill=\"currentColor\" x=\"4075\">NOUN</tspan>\n</text>\n\n<text class=\"displacy-token\" fill=\"currentColor\" text-anchor=\"middle\" y=\"834.5\">\n    <tspan class=\"displacy-word\" fill=\"currentColor\" x=\"4250\">of</tspan>\n    <tspan class=\"displacy-tag\" dy=\"2em\" fill=\"currentColor\" x=\"4250\">ADP</tspan>\n</text>\n\n<text class=\"displacy-token\" fill=\"currentColor\" text-anchor=\"middle\" y=\"834.5\">\n    <tspan class=\"displacy-word\" fill=\"currentColor\" x=\"4425\">data</tspan>\n    <tspan class=\"displacy-tag\" dy=\"2em\" fill=\"currentColor\" x=\"4425\">NOUN</tspan>\n</text>\n\n<text class=\"displacy-token\" fill=\"currentColor\" text-anchor=\"middle\" y=\"834.5\">\n    <tspan class=\"displacy-word\" fill=\"currentColor\" x=\"4600\">librarianship,</tspan>\n    <tspan class=\"displacy-tag\" dy=\"2em\" fill=\"currentColor\" x=\"4600\">NOUN</tspan>\n</text>\n\n<text class=\"displacy-token\" fill=\"currentColor\" text-anchor=\"middle\" y=\"834.5\">\n    <tspan class=\"displacy-word\" fill=\"currentColor\" x=\"4775\">including</tspan>\n    <tspan class=\"displacy-tag\" dy=\"2em\" fill=\"currentColor\" x=\"4775\">VERB</tspan>\n</text>\n\n<text class=\"displacy-token\" fill=\"currentColor\" text-anchor=\"middle\" y=\"834.5\">\n    <tspan class=\"displacy-word\" fill=\"currentColor\" x=\"4950\">the</tspan>\n    <tspan class=\"displacy-tag\" dy=\"2em\" fill=\"currentColor\" x=\"4950\">DET</tspan>\n</text>\n\n<text class=\"displacy-token\" fill=\"currentColor\" text-anchor=\"middle\" y=\"834.5\">\n    <tspan class=\"displacy-word\" fill=\"currentColor\" x=\"5125\">management</tspan>\n    <tspan class=\"displacy-tag\" dy=\"2em\" fill=\"currentColor\" x=\"5125\">NOUN</tspan>\n</text>\n\n<text class=\"displacy-token\" fill=\"currentColor\" text-anchor=\"middle\" y=\"834.5\">\n    <tspan class=\"displacy-word\" fill=\"currentColor\" x=\"5300\">and</tspan>\n    <tspan class=\"displacy-tag\" dy=\"2em\" fill=\"currentColor\" x=\"5300\">CCONJ</tspan>\n</text>\n\n<text class=\"displacy-token\" fill=\"currentColor\" text-anchor=\"middle\" y=\"834.5\">\n    <tspan class=\"displacy-word\" fill=\"currentColor\" x=\"5475\">sharing</tspan>\n    <tspan class=\"displacy-tag\" dy=\"2em\" fill=\"currentColor\" x=\"5475\">NOUN</tspan>\n</text>\n\n<text class=\"displacy-token\" fill=\"currentColor\" text-anchor=\"middle\" y=\"834.5\">\n    <tspan class=\"displacy-word\" fill=\"currentColor\" x=\"5650\">of</tspan>\n    <tspan class=\"displacy-tag\" dy=\"2em\" fill=\"currentColor\" x=\"5650\">ADP</tspan>\n</text>\n\n<text class=\"displacy-token\" fill=\"currentColor\" text-anchor=\"middle\" y=\"834.5\">\n    <tspan class=\"displacy-word\" fill=\"currentColor\" x=\"5825\">research</tspan>\n    <tspan class=\"displacy-tag\" dy=\"2em\" fill=\"currentColor\" x=\"5825\">NOUN</tspan>\n</text>\n\n<text class=\"displacy-token\" fill=\"currentColor\" text-anchor=\"middle\" y=\"834.5\">\n    <tspan class=\"displacy-word\" fill=\"currentColor\" x=\"6000\">data.</tspan>\n    <tspan class=\"displacy-tag\" dy=\"2em\" fill=\"currentColor\" x=\"6000\">NOUN</tspan>\n</text>\n\n<text class=\"displacy-token\" fill=\"currentColor\" text-anchor=\"middle\" y=\"834.5\">\n    <tspan class=\"displacy-word\" fill=\"currentColor\" x=\"6175\">\n\n</tspan>\n    <tspan class=\"displacy-tag\" dy=\"2em\" fill=\"currentColor\" x=\"6175\">SPACE</tspan>\n</text>\n\n<g class=\"displacy-arrow\">\n    <path class=\"displacy-arc\" id=\"arrow-3bf5dbb9e3c34b47a9ffab42d200c9ea-0-0\" stroke-width=\"2px\" d=\"M70,789.5 C70,439.5 725.0,439.5 725.0,789.5\" fill=\"none\" stroke=\"currentColor\"/>\n    <text dy=\"1.25em\" style=\"font-size: 0.8em; letter-spacing: 1px\">\n        <textPath xlink:href=\"#arrow-3bf5dbb9e3c34b47a9ffab42d200c9ea-0-0\" class=\"displacy-label\" startOffset=\"50%\" side=\"left\" fill=\"currentColor\" text-anchor=\"middle\">det</textPath>\n    </text>\n    <path class=\"displacy-arrowhead\" d=\"M70,791.5 L62,779.5 78,779.5\" fill=\"currentColor\"/>\n</g>\n\n<g class=\"displacy-arrow\">\n    <path class=\"displacy-arc\" id=\"arrow-3bf5dbb9e3c34b47a9ffab42d200c9ea-0-1\" stroke-width=\"2px\" d=\"M245,789.5 C245,702.0 360.0,702.0 360.0,789.5\" fill=\"none\" stroke=\"currentColor\"/>\n    <text dy=\"1.25em\" style=\"font-size: 0.8em; letter-spacing: 1px\">\n        <textPath xlink:href=\"#arrow-3bf5dbb9e3c34b47a9ffab42d200c9ea-0-1\" class=\"displacy-label\" startOffset=\"50%\" side=\"left\" fill=\"currentColor\" text-anchor=\"middle\">compound</textPath>\n    </text>\n    <path class=\"displacy-arrowhead\" d=\"M245,791.5 L237,779.5 253,779.5\" fill=\"currentColor\"/>\n</g>\n\n<g class=\"displacy-arrow\">\n    <path class=\"displacy-arc\" id=\"arrow-3bf5dbb9e3c34b47a9ffab42d200c9ea-0-2\" stroke-width=\"2px\" d=\"M420,789.5 C420,702.0 535.0,702.0 535.0,789.5\" fill=\"none\" stroke=\"currentColor\"/>\n    <text dy=\"1.25em\" style=\"font-size: 0.8em; letter-spacing: 1px\">\n        <textPath xlink:href=\"#arrow-3bf5dbb9e3c34b47a9ffab42d200c9ea-0-2\" class=\"displacy-label\" startOffset=\"50%\" side=\"left\" fill=\"currentColor\" text-anchor=\"middle\">compound</textPath>\n    </text>\n    <path class=\"displacy-arrowhead\" d=\"M420,791.5 L412,779.5 428,779.5\" fill=\"currentColor\"/>\n</g>\n\n<g class=\"displacy-arrow\">\n    <path class=\"displacy-arc\" id=\"arrow-3bf5dbb9e3c34b47a9ffab42d200c9ea-0-3\" stroke-width=\"2px\" d=\"M595,789.5 C595,702.0 710.0,702.0 710.0,789.5\" fill=\"none\" stroke=\"currentColor\"/>\n    <text dy=\"1.25em\" style=\"font-size: 0.8em; letter-spacing: 1px\">\n        <textPath xlink:href=\"#arrow-3bf5dbb9e3c34b47a9ffab42d200c9ea-0-3\" class=\"displacy-label\" startOffset=\"50%\" side=\"left\" fill=\"currentColor\" text-anchor=\"middle\">compound</textPath>\n    </text>\n    <path class=\"displacy-arrowhead\" d=\"M595,791.5 L587,779.5 603,779.5\" fill=\"currentColor\"/>\n</g>\n\n<g class=\"displacy-arrow\">\n    <path class=\"displacy-arc\" id=\"arrow-3bf5dbb9e3c34b47a9ffab42d200c9ea-0-4\" stroke-width=\"2px\" d=\"M770,789.5 C770,614.5 1065.0,614.5 1065.0,789.5\" fill=\"none\" stroke=\"currentColor\"/>\n    <text dy=\"1.25em\" style=\"font-size: 0.8em; letter-spacing: 1px\">\n        <textPath xlink:href=\"#arrow-3bf5dbb9e3c34b47a9ffab42d200c9ea-0-4\" class=\"displacy-label\" startOffset=\"50%\" side=\"left\" fill=\"currentColor\" text-anchor=\"middle\">nsubjpass</textPath>\n    </text>\n    <path class=\"displacy-arrowhead\" d=\"M770,791.5 L762,779.5 778,779.5\" fill=\"currentColor\"/>\n</g>\n\n<g class=\"displacy-arrow\">\n    <path class=\"displacy-arc\" id=\"arrow-3bf5dbb9e3c34b47a9ffab42d200c9ea-0-5\" stroke-width=\"2px\" d=\"M945,789.5 C945,702.0 1060.0,702.0 1060.0,789.5\" fill=\"none\" stroke=\"currentColor\"/>\n    <text dy=\"1.25em\" style=\"font-size: 0.8em; letter-spacing: 1px\">\n        <textPath xlink:href=\"#arrow-3bf5dbb9e3c34b47a9ffab42d200c9ea-0-5\" class=\"displacy-label\" startOffset=\"50%\" side=\"left\" fill=\"currentColor\" text-anchor=\"middle\">auxpass</textPath>\n    </text>\n    <path class=\"displacy-arrowhead\" d=\"M945,791.5 L937,779.5 953,779.5\" fill=\"currentColor\"/>\n</g>\n\n<g class=\"displacy-arrow\">\n    <path class=\"displacy-arc\" id=\"arrow-3bf5dbb9e3c34b47a9ffab42d200c9ea-0-6\" stroke-width=\"2px\" d=\"M1295,789.5 C1295,702.0 1410.0,702.0 1410.0,789.5\" fill=\"none\" stroke=\"currentColor\"/>\n    <text dy=\"1.25em\" style=\"font-size: 0.8em; letter-spacing: 1px\">\n        <textPath xlink:href=\"#arrow-3bf5dbb9e3c34b47a9ffab42d200c9ea-0-6\" class=\"displacy-label\" startOffset=\"50%\" side=\"left\" fill=\"currentColor\" text-anchor=\"middle\">aux</textPath>\n    </text>\n    <path class=\"displacy-arrowhead\" d=\"M1295,791.5 L1287,779.5 1303,779.5\" fill=\"currentColor\"/>\n</g>\n\n<g class=\"displacy-arrow\">\n    <path class=\"displacy-arc\" id=\"arrow-3bf5dbb9e3c34b47a9ffab42d200c9ea-0-7\" stroke-width=\"2px\" d=\"M1120,789.5 C1120,614.5 1415.0,614.5 1415.0,789.5\" fill=\"none\" stroke=\"currentColor\"/>\n    <text dy=\"1.25em\" style=\"font-size: 0.8em; letter-spacing: 1px\">\n        <textPath xlink:href=\"#arrow-3bf5dbb9e3c34b47a9ffab42d200c9ea-0-7\" class=\"displacy-label\" startOffset=\"50%\" side=\"left\" fill=\"currentColor\" text-anchor=\"middle\">xcomp</textPath>\n    </text>\n    <path class=\"displacy-arrowhead\" d=\"M1415.0,791.5 L1423.0,779.5 1407.0,779.5\" fill=\"currentColor\"/>\n</g>\n\n<g class=\"displacy-arrow\">\n    <path class=\"displacy-arc\" id=\"arrow-3bf5dbb9e3c34b47a9ffab42d200c9ea-0-8\" stroke-width=\"2px\" d=\"M1645,789.5 C1645,702.0 1760.0,702.0 1760.0,789.5\" fill=\"none\" stroke=\"currentColor\"/>\n    <text dy=\"1.25em\" style=\"font-size: 0.8em; letter-spacing: 1px\">\n        <textPath xlink:href=\"#arrow-3bf5dbb9e3c34b47a9ffab42d200c9ea-0-8\" class=\"displacy-label\" startOffset=\"50%\" side=\"left\" fill=\"currentColor\" text-anchor=\"middle\">det</textPath>\n    </text>\n    <path class=\"displacy-arrowhead\" d=\"M1645,791.5 L1637,779.5 1653,779.5\" fill=\"currentColor\"/>\n</g>\n\n<g class=\"displacy-arrow\">\n    <path class=\"displacy-arc\" id=\"arrow-3bf5dbb9e3c34b47a9ffab42d200c9ea-0-9\" stroke-width=\"2px\" d=\"M1470,789.5 C1470,614.5 1765.0,614.5 1765.0,789.5\" fill=\"none\" stroke=\"currentColor\"/>\n    <text dy=\"1.25em\" style=\"font-size: 0.8em; letter-spacing: 1px\">\n        <textPath xlink:href=\"#arrow-3bf5dbb9e3c34b47a9ffab42d200c9ea-0-9\" class=\"displacy-label\" startOffset=\"50%\" side=\"left\" fill=\"currentColor\" text-anchor=\"middle\">dobj</textPath>\n    </text>\n    <path class=\"displacy-arrowhead\" d=\"M1765.0,791.5 L1773.0,779.5 1757.0,779.5\" fill=\"currentColor\"/>\n</g>\n\n<g class=\"displacy-arrow\">\n    <path class=\"displacy-arc\" id=\"arrow-3bf5dbb9e3c34b47a9ffab42d200c9ea-0-10\" stroke-width=\"2px\" d=\"M1995,789.5 C1995,177.0 3365.0,177.0 3365.0,789.5\" fill=\"none\" stroke=\"currentColor\"/>\n    <text dy=\"1.25em\" style=\"font-size: 0.8em; letter-spacing: 1px\">\n        <textPath xlink:href=\"#arrow-3bf5dbb9e3c34b47a9ffab42d200c9ea-0-10\" class=\"displacy-label\" startOffset=\"50%\" side=\"left\" fill=\"currentColor\" text-anchor=\"middle\">mark</textPath>\n    </text>\n    <path class=\"displacy-arrowhead\" d=\"M1995,791.5 L1987,779.5 2003,779.5\" fill=\"currentColor\"/>\n</g>\n\n<g class=\"displacy-arrow\">\n    <path class=\"displacy-arc\" id=\"arrow-3bf5dbb9e3c34b47a9ffab42d200c9ea-0-11\" stroke-width=\"2px\" d=\"M2170,789.5 C2170,264.5 3360.0,264.5 3360.0,789.5\" fill=\"none\" stroke=\"currentColor\"/>\n    <text dy=\"1.25em\" style=\"font-size: 0.8em; letter-spacing: 1px\">\n        <textPath xlink:href=\"#arrow-3bf5dbb9e3c34b47a9ffab42d200c9ea-0-11\" class=\"displacy-label\" startOffset=\"50%\" side=\"left\" fill=\"currentColor\" text-anchor=\"middle\">nsubj</textPath>\n    </text>\n    <path class=\"displacy-arrowhead\" d=\"M2170,791.5 L2162,779.5 2178,779.5\" fill=\"currentColor\"/>\n</g>\n\n<g class=\"displacy-arrow\">\n    <path class=\"displacy-arc\" id=\"arrow-3bf5dbb9e3c34b47a9ffab42d200c9ea-0-12\" stroke-width=\"2px\" d=\"M2170,789.5 C2170,702.0 2285.0,702.0 2285.0,789.5\" fill=\"none\" stroke=\"currentColor\"/>\n    <text dy=\"1.25em\" style=\"font-size: 0.8em; letter-spacing: 1px\">\n        <textPath xlink:href=\"#arrow-3bf5dbb9e3c34b47a9ffab42d200c9ea-0-12\" class=\"displacy-label\" startOffset=\"50%\" side=\"left\" fill=\"currentColor\" text-anchor=\"middle\">cc</textPath>\n    </text>\n    <path class=\"displacy-arrowhead\" d=\"M2285.0,791.5 L2293.0,779.5 2277.0,779.5\" fill=\"currentColor\"/>\n</g>\n\n<g class=\"displacy-arrow\">\n    <path class=\"displacy-arc\" id=\"arrow-3bf5dbb9e3c34b47a9ffab42d200c9ea-0-13\" stroke-width=\"2px\" d=\"M2520,789.5 C2520,527.0 2995.0,527.0 2995.0,789.5\" fill=\"none\" stroke=\"currentColor\"/>\n    <text dy=\"1.25em\" style=\"font-size: 0.8em; letter-spacing: 1px\">\n        <textPath xlink:href=\"#arrow-3bf5dbb9e3c34b47a9ffab42d200c9ea-0-13\" class=\"displacy-label\" startOffset=\"50%\" side=\"left\" fill=\"currentColor\" text-anchor=\"middle\">amod</textPath>\n    </text>\n    <path class=\"displacy-arrowhead\" d=\"M2520,791.5 L2512,779.5 2528,779.5\" fill=\"currentColor\"/>\n</g>\n\n<g class=\"displacy-arrow\">\n    <path class=\"displacy-arc\" id=\"arrow-3bf5dbb9e3c34b47a9ffab42d200c9ea-0-14\" stroke-width=\"2px\" d=\"M2695,789.5 C2695,702.0 2810.0,702.0 2810.0,789.5\" fill=\"none\" stroke=\"currentColor\"/>\n    <text dy=\"1.25em\" style=\"font-size: 0.8em; letter-spacing: 1px\">\n        <textPath xlink:href=\"#arrow-3bf5dbb9e3c34b47a9ffab42d200c9ea-0-14\" class=\"displacy-label\" startOffset=\"50%\" side=\"left\" fill=\"currentColor\" text-anchor=\"middle\">compound</textPath>\n    </text>\n    <path class=\"displacy-arrowhead\" d=\"M2695,791.5 L2687,779.5 2703,779.5\" fill=\"currentColor\"/>\n</g>\n\n<g class=\"displacy-arrow\">\n    <path class=\"displacy-arc\" id=\"arrow-3bf5dbb9e3c34b47a9ffab42d200c9ea-0-15\" stroke-width=\"2px\" d=\"M2870,789.5 C2870,702.0 2985.0,702.0 2985.0,789.5\" fill=\"none\" stroke=\"currentColor\"/>\n    <text dy=\"1.25em\" style=\"font-size: 0.8em; letter-spacing: 1px\">\n        <textPath xlink:href=\"#arrow-3bf5dbb9e3c34b47a9ffab42d200c9ea-0-15\" class=\"displacy-label\" startOffset=\"50%\" side=\"left\" fill=\"currentColor\" text-anchor=\"middle\">compound</textPath>\n    </text>\n    <path class=\"displacy-arrowhead\" d=\"M2870,791.5 L2862,779.5 2878,779.5\" fill=\"currentColor\"/>\n</g>\n\n<g class=\"displacy-arrow\">\n    <path class=\"displacy-arc\" id=\"arrow-3bf5dbb9e3c34b47a9ffab42d200c9ea-0-16\" stroke-width=\"2px\" d=\"M2170,789.5 C2170,352.0 3005.0,352.0 3005.0,789.5\" fill=\"none\" stroke=\"currentColor\"/>\n    <text dy=\"1.25em\" style=\"font-size: 0.8em; letter-spacing: 1px\">\n        <textPath xlink:href=\"#arrow-3bf5dbb9e3c34b47a9ffab42d200c9ea-0-16\" class=\"displacy-label\" startOffset=\"50%\" side=\"left\" fill=\"currentColor\" text-anchor=\"middle\">conj</textPath>\n    </text>\n    <path class=\"displacy-arrowhead\" d=\"M3005.0,791.5 L3013.0,779.5 2997.0,779.5\" fill=\"currentColor\"/>\n</g>\n\n<g class=\"displacy-arrow\">\n    <path class=\"displacy-arc\" id=\"arrow-3bf5dbb9e3c34b47a9ffab42d200c9ea-0-17\" stroke-width=\"2px\" d=\"M3220,789.5 C3220,702.0 3335.0,702.0 3335.0,789.5\" fill=\"none\" stroke=\"currentColor\"/>\n    <text dy=\"1.25em\" style=\"font-size: 0.8em; letter-spacing: 1px\">\n        <textPath xlink:href=\"#arrow-3bf5dbb9e3c34b47a9ffab42d200c9ea-0-17\" class=\"displacy-label\" startOffset=\"50%\" side=\"left\" fill=\"currentColor\" text-anchor=\"middle\">aux</textPath>\n    </text>\n    <path class=\"displacy-arrowhead\" d=\"M3220,791.5 L3212,779.5 3228,779.5\" fill=\"currentColor\"/>\n</g>\n\n<g class=\"displacy-arrow\">\n    <path class=\"displacy-arc\" id=\"arrow-3bf5dbb9e3c34b47a9ffab42d200c9ea-0-18\" stroke-width=\"2px\" d=\"M1820,789.5 C1820,89.5 3370.0,89.5 3370.0,789.5\" fill=\"none\" stroke=\"currentColor\"/>\n    <text dy=\"1.25em\" style=\"font-size: 0.8em; letter-spacing: 1px\">\n        <textPath xlink:href=\"#arrow-3bf5dbb9e3c34b47a9ffab42d200c9ea-0-18\" class=\"displacy-label\" startOffset=\"50%\" side=\"left\" fill=\"currentColor\" text-anchor=\"middle\">advcl</textPath>\n    </text>\n    <path class=\"displacy-arrowhead\" d=\"M3370.0,791.5 L3378.0,779.5 3362.0,779.5\" fill=\"currentColor\"/>\n</g>\n\n<g class=\"displacy-arrow\">\n    <path class=\"displacy-arc\" id=\"arrow-3bf5dbb9e3c34b47a9ffab42d200c9ea-0-19\" stroke-width=\"2px\" d=\"M3395,789.5 C3395,702.0 3510.0,702.0 3510.0,789.5\" fill=\"none\" stroke=\"currentColor\"/>\n    <text dy=\"1.25em\" style=\"font-size: 0.8em; letter-spacing: 1px\">\n        <textPath xlink:href=\"#arrow-3bf5dbb9e3c34b47a9ffab42d200c9ea-0-19\" class=\"displacy-label\" startOffset=\"50%\" side=\"left\" fill=\"currentColor\" text-anchor=\"middle\">dobj</textPath>\n    </text>\n    <path class=\"displacy-arrowhead\" d=\"M3510.0,791.5 L3518.0,779.5 3502.0,779.5\" fill=\"currentColor\"/>\n</g>\n\n<g class=\"displacy-arrow\">\n    <path class=\"displacy-arc\" id=\"arrow-3bf5dbb9e3c34b47a9ffab42d200c9ea-0-20\" stroke-width=\"2px\" d=\"M3570,789.5 C3570,702.0 3685.0,702.0 3685.0,789.5\" fill=\"none\" stroke=\"currentColor\"/>\n    <text dy=\"1.25em\" style=\"font-size: 0.8em; letter-spacing: 1px\">\n        <textPath xlink:href=\"#arrow-3bf5dbb9e3c34b47a9ffab42d200c9ea-0-20\" class=\"displacy-label\" startOffset=\"50%\" side=\"left\" fill=\"currentColor\" text-anchor=\"middle\">prep</textPath>\n    </text>\n    <path class=\"displacy-arrowhead\" d=\"M3685.0,791.5 L3693.0,779.5 3677.0,779.5\" fill=\"currentColor\"/>\n</g>\n\n<g class=\"displacy-arrow\">\n    <path class=\"displacy-arc\" id=\"arrow-3bf5dbb9e3c34b47a9ffab42d200c9ea-0-21\" stroke-width=\"2px\" d=\"M3920,789.5 C3920,702.0 4035.0,702.0 4035.0,789.5\" fill=\"none\" stroke=\"currentColor\"/>\n    <text dy=\"1.25em\" style=\"font-size: 0.8em; letter-spacing: 1px\">\n        <textPath xlink:href=\"#arrow-3bf5dbb9e3c34b47a9ffab42d200c9ea-0-21\" class=\"displacy-label\" startOffset=\"50%\" side=\"left\" fill=\"currentColor\" text-anchor=\"middle\">det</textPath>\n    </text>\n    <path class=\"displacy-arrowhead\" d=\"M3920,791.5 L3912,779.5 3928,779.5\" fill=\"currentColor\"/>\n</g>\n\n<g class=\"displacy-arrow\">\n    <path class=\"displacy-arc\" id=\"arrow-3bf5dbb9e3c34b47a9ffab42d200c9ea-0-22\" stroke-width=\"2px\" d=\"M3745,789.5 C3745,614.5 4040.0,614.5 4040.0,789.5\" fill=\"none\" stroke=\"currentColor\"/>\n    <text dy=\"1.25em\" style=\"font-size: 0.8em; letter-spacing: 1px\">\n        <textPath xlink:href=\"#arrow-3bf5dbb9e3c34b47a9ffab42d200c9ea-0-22\" class=\"displacy-label\" startOffset=\"50%\" side=\"left\" fill=\"currentColor\" text-anchor=\"middle\">pobj</textPath>\n    </text>\n    <path class=\"displacy-arrowhead\" d=\"M4040.0,791.5 L4048.0,779.5 4032.0,779.5\" fill=\"currentColor\"/>\n</g>\n\n<g class=\"displacy-arrow\">\n    <path class=\"displacy-arc\" id=\"arrow-3bf5dbb9e3c34b47a9ffab42d200c9ea-0-23\" stroke-width=\"2px\" d=\"M4095,789.5 C4095,702.0 4210.0,702.0 4210.0,789.5\" fill=\"none\" stroke=\"currentColor\"/>\n    <text dy=\"1.25em\" style=\"font-size: 0.8em; letter-spacing: 1px\">\n        <textPath xlink:href=\"#arrow-3bf5dbb9e3c34b47a9ffab42d200c9ea-0-23\" class=\"displacy-label\" startOffset=\"50%\" side=\"left\" fill=\"currentColor\" text-anchor=\"middle\">prep</textPath>\n    </text>\n    <path class=\"displacy-arrowhead\" d=\"M4210.0,791.5 L4218.0,779.5 4202.0,779.5\" fill=\"currentColor\"/>\n</g>\n\n<g class=\"displacy-arrow\">\n    <path class=\"displacy-arc\" id=\"arrow-3bf5dbb9e3c34b47a9ffab42d200c9ea-0-24\" stroke-width=\"2px\" d=\"M4445,789.5 C4445,702.0 4560.0,702.0 4560.0,789.5\" fill=\"none\" stroke=\"currentColor\"/>\n    <text dy=\"1.25em\" style=\"font-size: 0.8em; letter-spacing: 1px\">\n        <textPath xlink:href=\"#arrow-3bf5dbb9e3c34b47a9ffab42d200c9ea-0-24\" class=\"displacy-label\" startOffset=\"50%\" side=\"left\" fill=\"currentColor\" text-anchor=\"middle\">compound</textPath>\n    </text>\n    <path class=\"displacy-arrowhead\" d=\"M4445,791.5 L4437,779.5 4453,779.5\" fill=\"currentColor\"/>\n</g>\n\n<g class=\"displacy-arrow\">\n    <path class=\"displacy-arc\" id=\"arrow-3bf5dbb9e3c34b47a9ffab42d200c9ea-0-25\" stroke-width=\"2px\" d=\"M4270,789.5 C4270,614.5 4565.0,614.5 4565.0,789.5\" fill=\"none\" stroke=\"currentColor\"/>\n    <text dy=\"1.25em\" style=\"font-size: 0.8em; letter-spacing: 1px\">\n        <textPath xlink:href=\"#arrow-3bf5dbb9e3c34b47a9ffab42d200c9ea-0-25\" class=\"displacy-label\" startOffset=\"50%\" side=\"left\" fill=\"currentColor\" text-anchor=\"middle\">pobj</textPath>\n    </text>\n    <path class=\"displacy-arrowhead\" d=\"M4565.0,791.5 L4573.0,779.5 4557.0,779.5\" fill=\"currentColor\"/>\n</g>\n\n<g class=\"displacy-arrow\">\n    <path class=\"displacy-arc\" id=\"arrow-3bf5dbb9e3c34b47a9ffab42d200c9ea-0-26\" stroke-width=\"2px\" d=\"M4095,789.5 C4095,439.5 4750.0,439.5 4750.0,789.5\" fill=\"none\" stroke=\"currentColor\"/>\n    <text dy=\"1.25em\" style=\"font-size: 0.8em; letter-spacing: 1px\">\n        <textPath xlink:href=\"#arrow-3bf5dbb9e3c34b47a9ffab42d200c9ea-0-26\" class=\"displacy-label\" startOffset=\"50%\" side=\"left\" fill=\"currentColor\" text-anchor=\"middle\">prep</textPath>\n    </text>\n    <path class=\"displacy-arrowhead\" d=\"M4750.0,791.5 L4758.0,779.5 4742.0,779.5\" fill=\"currentColor\"/>\n</g>\n\n<g class=\"displacy-arrow\">\n    <path class=\"displacy-arc\" id=\"arrow-3bf5dbb9e3c34b47a9ffab42d200c9ea-0-27\" stroke-width=\"2px\" d=\"M4970,789.5 C4970,702.0 5085.0,702.0 5085.0,789.5\" fill=\"none\" stroke=\"currentColor\"/>\n    <text dy=\"1.25em\" style=\"font-size: 0.8em; letter-spacing: 1px\">\n        <textPath xlink:href=\"#arrow-3bf5dbb9e3c34b47a9ffab42d200c9ea-0-27\" class=\"displacy-label\" startOffset=\"50%\" side=\"left\" fill=\"currentColor\" text-anchor=\"middle\">det</textPath>\n    </text>\n    <path class=\"displacy-arrowhead\" d=\"M4970,791.5 L4962,779.5 4978,779.5\" fill=\"currentColor\"/>\n</g>\n\n<g class=\"displacy-arrow\">\n    <path class=\"displacy-arc\" id=\"arrow-3bf5dbb9e3c34b47a9ffab42d200c9ea-0-28\" stroke-width=\"2px\" d=\"M4795,789.5 C4795,614.5 5090.0,614.5 5090.0,789.5\" fill=\"none\" stroke=\"currentColor\"/>\n    <text dy=\"1.25em\" style=\"font-size: 0.8em; letter-spacing: 1px\">\n        <textPath xlink:href=\"#arrow-3bf5dbb9e3c34b47a9ffab42d200c9ea-0-28\" class=\"displacy-label\" startOffset=\"50%\" side=\"left\" fill=\"currentColor\" text-anchor=\"middle\">pobj</textPath>\n    </text>\n    <path class=\"displacy-arrowhead\" d=\"M5090.0,791.5 L5098.0,779.5 5082.0,779.5\" fill=\"currentColor\"/>\n</g>\n\n<g class=\"displacy-arrow\">\n    <path class=\"displacy-arc\" id=\"arrow-3bf5dbb9e3c34b47a9ffab42d200c9ea-0-29\" stroke-width=\"2px\" d=\"M5145,789.5 C5145,702.0 5260.0,702.0 5260.0,789.5\" fill=\"none\" stroke=\"currentColor\"/>\n    <text dy=\"1.25em\" style=\"font-size: 0.8em; letter-spacing: 1px\">\n        <textPath xlink:href=\"#arrow-3bf5dbb9e3c34b47a9ffab42d200c9ea-0-29\" class=\"displacy-label\" startOffset=\"50%\" side=\"left\" fill=\"currentColor\" text-anchor=\"middle\">cc</textPath>\n    </text>\n    <path class=\"displacy-arrowhead\" d=\"M5260.0,791.5 L5268.0,779.5 5252.0,779.5\" fill=\"currentColor\"/>\n</g>\n\n<g class=\"displacy-arrow\">\n    <path class=\"displacy-arc\" id=\"arrow-3bf5dbb9e3c34b47a9ffab42d200c9ea-0-30\" stroke-width=\"2px\" d=\"M5145,789.5 C5145,614.5 5440.0,614.5 5440.0,789.5\" fill=\"none\" stroke=\"currentColor\"/>\n    <text dy=\"1.25em\" style=\"font-size: 0.8em; letter-spacing: 1px\">\n        <textPath xlink:href=\"#arrow-3bf5dbb9e3c34b47a9ffab42d200c9ea-0-30\" class=\"displacy-label\" startOffset=\"50%\" side=\"left\" fill=\"currentColor\" text-anchor=\"middle\">conj</textPath>\n    </text>\n    <path class=\"displacy-arrowhead\" d=\"M5440.0,791.5 L5448.0,779.5 5432.0,779.5\" fill=\"currentColor\"/>\n</g>\n\n<g class=\"displacy-arrow\">\n    <path class=\"displacy-arc\" id=\"arrow-3bf5dbb9e3c34b47a9ffab42d200c9ea-0-31\" stroke-width=\"2px\" d=\"M5145,789.5 C5145,527.0 5620.0,527.0 5620.0,789.5\" fill=\"none\" stroke=\"currentColor\"/>\n    <text dy=\"1.25em\" style=\"font-size: 0.8em; letter-spacing: 1px\">\n        <textPath xlink:href=\"#arrow-3bf5dbb9e3c34b47a9ffab42d200c9ea-0-31\" class=\"displacy-label\" startOffset=\"50%\" side=\"left\" fill=\"currentColor\" text-anchor=\"middle\">prep</textPath>\n    </text>\n    <path class=\"displacy-arrowhead\" d=\"M5620.0,791.5 L5628.0,779.5 5612.0,779.5\" fill=\"currentColor\"/>\n</g>\n\n<g class=\"displacy-arrow\">\n    <path class=\"displacy-arc\" id=\"arrow-3bf5dbb9e3c34b47a9ffab42d200c9ea-0-32\" stroke-width=\"2px\" d=\"M5845,789.5 C5845,702.0 5960.0,702.0 5960.0,789.5\" fill=\"none\" stroke=\"currentColor\"/>\n    <text dy=\"1.25em\" style=\"font-size: 0.8em; letter-spacing: 1px\">\n        <textPath xlink:href=\"#arrow-3bf5dbb9e3c34b47a9ffab42d200c9ea-0-32\" class=\"displacy-label\" startOffset=\"50%\" side=\"left\" fill=\"currentColor\" text-anchor=\"middle\">compound</textPath>\n    </text>\n    <path class=\"displacy-arrowhead\" d=\"M5845,791.5 L5837,779.5 5853,779.5\" fill=\"currentColor\"/>\n</g>\n\n<g class=\"displacy-arrow\">\n    <path class=\"displacy-arc\" id=\"arrow-3bf5dbb9e3c34b47a9ffab42d200c9ea-0-33\" stroke-width=\"2px\" d=\"M1120,789.5 C1120,2.0 6000.0,2.0 6000.0,789.5\" fill=\"none\" stroke=\"currentColor\"/>\n    <text dy=\"1.25em\" style=\"font-size: 0.8em; letter-spacing: 1px\">\n        <textPath xlink:href=\"#arrow-3bf5dbb9e3c34b47a9ffab42d200c9ea-0-33\" class=\"displacy-label\" startOffset=\"50%\" side=\"left\" fill=\"currentColor\" text-anchor=\"middle\">punct</textPath>\n    </text>\n    <path class=\"displacy-arrowhead\" d=\"M6000.0,791.5 L6008.0,779.5 5992.0,779.5\" fill=\"currentColor\"/>\n</g>\n\n<g class=\"displacy-arrow\">\n    <path class=\"displacy-arc\" id=\"arrow-3bf5dbb9e3c34b47a9ffab42d200c9ea-0-34\" stroke-width=\"2px\" d=\"M6020,789.5 C6020,702.0 6135.0,702.0 6135.0,789.5\" fill=\"none\" stroke=\"currentColor\"/>\n    <text dy=\"1.25em\" style=\"font-size: 0.8em; letter-spacing: 1px\">\n        <textPath xlink:href=\"#arrow-3bf5dbb9e3c34b47a9ffab42d200c9ea-0-34\" class=\"displacy-label\" startOffset=\"50%\" side=\"left\" fill=\"currentColor\" text-anchor=\"middle\"></textPath>\n    </text>\n    <path class=\"displacy-arrowhead\" d=\"M6135.0,791.5 L6143.0,779.5 6127.0,779.5\" fill=\"currentColor\"/>\n</g>\n</svg></span>"
     },
     "metadata": {}
    }
   ],
   "source": [
    "displacy.render(single_sentence, style=\"dep\")"
   ]
  },
  {
   "source": [
    "## Named entity recognition\n",
    "\n",
    "[List of entity types in spaCy](https://spacy.io/api/annotation#named-entities)"
   ],
   "cell_type": "markdown",
   "metadata": {}
  },
  {
   "cell_type": "code",
   "execution_count": 14,
   "metadata": {
    "tags": []
   },
   "outputs": [
    {
     "output_type": "stream",
     "name": "stdout",
     "text": "Symposium ORG\nAthens GPE\nGeorgia GPE\nGoogle ORG\n$10 million MONEY\n"
    }
   ],
   "source": [
    "for ent in doc.ents:\n",
    "    print(ent.text, ent.label_)    "
   ]
  },
  {
   "source": [
    "### Activity\n",
    "\n",
    "Add or modify a sentence in the original `sample_text` so that spaCy will detect a PERSON. Then, in the cell below, write code to return a list of all entities that are either PERSON or GPE.\n",
    "\n",
    "**hint**: make sure to reprocess the `sample_text` with the `nlp` model. "
   ],
   "cell_type": "markdown",
   "metadata": {}
  },
  {
   "cell_type": "code",
   "execution_count": 56,
   "metadata": {},
   "outputs": [],
   "source": [
    "# Write code here"
   ]
  },
  {
   "source": [
    "### Visualizing named entities"
   ],
   "cell_type": "markdown",
   "metadata": {}
  },
  {
   "cell_type": "code",
   "execution_count": 55,
   "metadata": {},
   "outputs": [
    {
     "output_type": "display_data",
     "data": {
      "text/plain": "&lt;IPython.core.display.HTML object&gt;",
      "text/html": "<span class=\"tex2jax_ignore\"><div class=\"entities\" style=\"line-height: 2.5; direction: ltr\">The \n<mark class=\"entity\" style=\"background: #7aecec; padding: 0.45em 0.6em; margin: 0 0.25em; line-height: 1; border-radius: 0.35em;\">\n    Symposium\n    <span style=\"font-size: 0.8em; font-weight: bold; line-height: 1; border-radius: 0.35em; text-transform: uppercase; vertical-align: middle; margin-left: 0.5rem\">ORG</span>\n</mark>\n has previously taken place in \n<mark class=\"entity\" style=\"background: #feca74; padding: 0.45em 0.6em; margin: 0 0.25em; line-height: 1; border-radius: 0.35em;\">\n    Athens\n    <span style=\"font-size: 0.8em; font-weight: bold; line-height: 1; border-radius: 0.35em; text-transform: uppercase; vertical-align: middle; margin-left: 0.5rem\">GPE</span>\n</mark>\n, \n<mark class=\"entity\" style=\"background: #feca74; padding: 0.45em 0.6em; margin: 0 0.25em; line-height: 1; border-radius: 0.35em;\">\n    Georgia\n    <span style=\"font-size: 0.8em; font-weight: bold; line-height: 1; border-radius: 0.35em; text-transform: uppercase; vertical-align: middle; margin-left: 0.5rem\">GPE</span>\n</mark>\n, and has been sponsored by \n<mark class=\"entity\" style=\"background: #7aecec; padding: 0.45em 0.6em; margin: 0 0.25em; line-height: 1; border-radius: 0.35em;\">\n    Google\n    <span style=\"font-size: 0.8em; font-weight: bold; line-height: 1; border-radius: 0.35em; text-transform: uppercase; vertical-align: middle; margin-left: 0.5rem\">ORG</span>\n</mark>\n for \n<mark class=\"entity\" style=\"background: #e4e7d2; padding: 0.45em 0.6em; margin: 0 0.25em; line-height: 1; border-radius: 0.35em;\">\n    $10 million\n    <span style=\"font-size: 0.8em; font-weight: bold; line-height: 1; border-radius: 0.35em; text-transform: uppercase; vertical-align: middle; margin-left: 0.5rem\">MONEY</span>\n</mark>\n.</div></span>"
     },
     "metadata": {}
    }
   ],
   "source": [
    "single_sentence = list(doc.sents)[-1]\n",
    "displacy.render(single_sentence, style=\"ent\")"
   ]
  },
  {
   "source": [
    "## Word, sentence, and document vectors"
   ],
   "cell_type": "markdown",
   "metadata": {}
  },
  {
   "cell_type": "code",
   "execution_count": 16,
   "metadata": {},
   "outputs": [],
   "source": [
    "# similarity"
   ]
  },
  {
   "source": [
    "## Rule based matcher"
   ],
   "cell_type": "markdown",
   "metadata": {}
  },
  {
   "source": [
    "## Working with multiple documents (a corpus)"
   ],
   "cell_type": "markdown",
   "metadata": {}
  },
  {
   "source": [
    "For a small corpus, you can build a list of processed spaCy docs. "
   ],
   "cell_type": "markdown",
   "metadata": {}
  },
  {
   "cell_type": "code",
   "execution_count": 17,
   "metadata": {
    "tags": []
   },
   "outputs": [
    {
     "output_type": "stream",
     "name": "stdout",
     "text": "--2020-10-06 08:35:44--  https://github.com/csbailey5t/sedls/blob/master/aspca-texts.zip\nResolving github.com (github.com)... 140.82.114.3\nConnecting to github.com (github.com)|140.82.114.3|:443... connected.\nHTTP request sent, awaiting response... 200 OK\nLength: unspecified [text/html]\nSaving to: ‘aspca-texts.zip.1’\n\naspca-texts.zip.1       [ &lt;=&gt;                ]  79.63K  --.-KB/s    in 0.03s   \n\n2020-10-06 08:35:46 (2.35 MB/s) - ‘aspca-texts.zip.1’ saved [81542]\n\nArchive:  aspca-texts.zip\nreplace texts/aspca_20200309_3412.txt? [y]es, [n]o, [A]ll, [N]one, [r]ename: ^C\n"
    }
   ],
   "source": [
    "!wget https://github.com/csbailey5t/sedls/blob/master/aspca-texts.zip\n",
    "!unzip aspca-texts.zip"
   ]
  },
  {
   "cell_type": "code",
   "execution_count": 18,
   "metadata": {},
   "outputs": [
    {
     "output_type": "execute_result",
     "data": {
      "text/plain": "108"
     },
     "metadata": {},
     "execution_count": 18
    }
   ],
   "source": [
    "fns = glob.glob(\"texts/*.txt\")\n",
    "len(fns)"
   ]
  },
  {
   "cell_type": "code",
   "execution_count": 19,
   "metadata": {},
   "outputs": [],
   "source": [
    "texts = []\n",
    "for fn in fns:\n",
    "    with open(fn, 'r') as f:\n",
    "        texts.append(f.read())"
   ]
  },
  {
   "cell_type": "code",
   "execution_count": 20,
   "metadata": {
    "tags": []
   },
   "outputs": [
    {
     "output_type": "stream",
     "name": "stdout",
     "text": "CPU times: user 5.44 s, sys: 611 ms, total: 6.05 s\nWall time: 6.07 s\n"
    }
   ],
   "source": [
    "%time corpus = [nlp(text) for text in texts[:5]]"
   ]
  },
  {
   "cell_type": "code",
   "execution_count": 21,
   "metadata": {
    "tags": [
     "outputPrepend"
    ]
   },
   "outputs": [
    {
     "output_type": "stream",
     "name": "stdout",
     "text": "GPE\nHiggins PERSON\nC. R. Davies PERSON\nCheshire PERSON\nAltrincham GPE\n9 CARDINAL\nE. Parker PERSON\nhon ORG\n107 MONEY\n7 CARDINAL\nDenbighshire PERSON\nK. Ashcroft PERSON\nDenbigh\n ORG\nhon ORG\nScala PERSON\n£7 65 MONEY\n7d CARDINAL\nDeVon PERSON\nWitney Jones PERSON\nMrs Robert Jones PERSON\nLynton GPE\nLynmouth PERSON\nthe Town Hall FAC\nHillier PERSON\nCountess Fortescue ORG\nDevon PERSON\nJennifer Pearce PERSON\nMrs Ambrose PERSON\nInspectbr Ambrose PERSON\nM. Mackay PERSON\nhon ORG\nDorset GPE\nNorth GPE\nannual DATE\nMrs Baker PERSON\nhon ORG\nWest Moors GPE\n67 MONEY\nDurham GPE\nG. McIntyre PERSON\nBeverley Studio ORG\nBarnes ORG\njamieson PERSON\nBarnes Auxiliary ORG\nHon ORG\nCaledonian NORP\n7 MONEY\nthe Town Hall FAC\nDurham GPE\ntwo CARDINAL\nMrs H. H. Rushford PERSON\nMrs Rushford PERSON\nhon ORG\nMiss G. S. Wilkinson PERSON\nhon ORG\nA. B. Peacock. PERSON\nEssex GPE\nBarﬁeld man,&#39;Mr ORG\nWilliam Sutton PERSON\n135-feet QUANTITY\nRSPCA GPE\nBronze\nMedal WORK_OF_ART\nN. Playne PERSON\nhon ORG\nLady Courtauld PERSON\nhon ORG\nGlamorgan GPE\nSwansea GPE\nBrook PERSON\nhon ORG\nR. Hitchings PERSON\nCraig-y-nos GPE\nthe Gwynne Arms FAC\nGrimsby GPE\nthe Scunthorpe\nBorough Council Chamber ORG\nScunthorpe GPE\nCoun B. W. T. Marris PERSON\nQuibell PERSON\n£642 15s MONEY\n7d CARDINAL\nthe\nRSPCA ORG\nQuibell PERSON\nthe Police\n LAW\nHatﬁeld GPE\nRSPCA GPE\nMesmerist PERSON\n111m QUANTITY\nal World ORG\n#7\n MONEY\nJanuary 1953 DATE\nTHE ANIMAL WORLD 5\n\n \n\n \n\n EVENT\nSouthern papers Ltd ORG\na night TIME\nlast autumn DATE\n36 CARDINAL\nWealston GPE\nSouthampton GPE\nSouthampton GPE\nHallam FAC\nNetley Shore FAC\nthree CARDINAL\nEast Kerrier LOC\nRSPCA GPE\nthree CARDINAL\n171 yards QUANTITY\nNorris PERSON\n4 CARDINAL\n7 CARDINAL\nBench PERSON\ntWo CARDINAL\n£25\n MONEY\n£11 MONEY\n83 CARDINAL\ntW0 years DATE\nA5974 ORG\nRSPCA GPE\nNorth ORG\nleach Magistrates Court ORG\ntwo CARDINAL\nspring DATE\ntwo CARDINAL\n2 MONEY\n3 CARDINAL\nPriestley\n PERSON\nPolice ORG\nMagistrates ORG\nA6008 ORG\nshief lnspector Hindle PERSON\nBeaulieu Road\n FAC\nLONDON GPE\n0 CARDINAL\nDAY\n PRODUCT\n7 CARDINAL\nLondon GPE\nApril l4\n\n DATE\nApril 7 DATE\nCelluloid Buttons PRODUCT\nBethnal Green ORG\nLONDON GPE\nE.2\n ORG\n5750 CARDINAL\nUnibutco Edo’ PERSON\n_l\n\n \n\n \n\n \n\n \n\n \n\n \n\nTEMPLE PERSON\nCOX ORG\nRSPCA GPE\nTHREE CARDINAL\nSMALLS ORG\n6 CARDINAL\nAbattoirs GPE\nFreezing Works PERSON\nTEMPLE COX DEVELOPMENT CO. LTD ORG\nBROMLEY GPE\nKENT GPE\nHOBSON &amp; SONS\n ORG\nLONDON) LTD ORG\n154 CARDINAL\nTOOLEY STREET\n ORG\nLONDON GPE\n4 CARDINAL\nHOBSON ORG\nBOROH ORG\nLONDON GPE\nHELMETS LEATHER\n PRODUCT\nCLOTH ORG\n4s CARDINAL\n6d CARDINAL\n953 CARDINAL\njuly DATE\nRSPCA GPE\nsix weeks later DATE\nlnspector McCluskey PERSON\nNorwich GPE\nRSPCA GPE\n3 CARDINAL\n2 CARDINAL\ntwo years DATE\nTWO CARDINAL\nRSPCA GPE\nabout a thousand CARDINAL\nconvic PERSON\neach year DATE\ntwo CARDINAL\nthree CARDINAL\nRSPCA ORG\n2 MONEY\n2 MONEY\nsix CARDINAL\n10 MONEY\n2 MONEY\n1 MONEY\nRSPCA GPE\nthe\nProtection of Animals Act LAW\n1911 DATE\n25 MONEY\nthree months’ DATE\nRSPCA GPE\nRSPCA GPE\n25 MONEY\n1911 DATE\nBill PERSON\nRSPCA GPE\nBill PERSON\n£25\n MONEY\n100 MONEY\nthe House of Commons\n ORG\nE. Harris PERSON\nsecond ORDINAL\nBill PERSON\nRSPCA GPE\nthe House of Commons ORG\nTufton Beamish PERSON\nAmendment)&#39;Bill ORG\n1911 DATE\nAct LAW\nProtection of\n ORG\nsecond ORDINAL\nthe Protection of\n\nAnimals (Cruelty to Dogs) Act ORG\n1933 DATE\n953 CARDINAL\nIHA ORG\nJanuary 1953 DATE\nTHE ANIMAL WORLD 7\n\n \n\n \n\n EVENT\nParliament ORG\nSPEIR PERSON\nthe next twelve\nmonths DATE\nFour CARDINAL\nCanterbury GPE\nFareham PERSON\nSwindon GPE\nSPEIR PERSON\nEngland GPE\nView GPE\nNorth LOC\nHexham PERSON\ntwo CARDINAL\nNorth LOC\nSunderland GPE\none CARDINAL\nWigan ORG\nBolton PERSON\nLeigh LOC\nHexham PERSON\nWILLEY PERSON\nSunderland GPE\nthe hon Gentle— PERSON\nANTHONY GREENWOOD PERSON\nGEOFFREY LLOYD PERSON\nThird ORDINAL\nthe Coal Mines Act LAW\n1911 DATE\nCoal Mines LOC\n1949 DATE\nseven CARDINAL\nBROMLEYvDAVENPORT GPE\nMinister of Agriculture ORG\nView GPE\nthe\nProvision LAW\n8 CARDINAL\n1952 DATE\nT. DUGDALE PERSON\n1950 DATE\nGreat Britain GPE\nvanner PERSON\nmule or_jennet PERSON\nat least £75 MONEY\nOrder ORG\nUS GPE\nEssex GPE\nford ORG\nRom- ORG\nford ORG\nHon ORG\nSec ORG\ntwo CARDINAL\nTwo CARDINAL\nFireworks NORP\nthe Memorial\n\nWorks, Cantley FAC\nMrs Jean Bell PERSON\nDoncaster Dogs’ ORG\ntwo CARDINAL\nWestholme Road FAC\nDoncaster GPE\nGrant four hours TIME\nJoseph S.\n PERSON\nLittlemoor Street FAC\nDoncaster GPE\n1953\n\n DATE\n316 CARDINAL\n1d ORG\n1d DATE\nJIM PERSON\nJanuary 1953 DATE\nNOVEMBER 1952 DATE\nRSPCA INSPECTORS &#39; ORG\n2,265 CARDINAL\n73 CARDINAL\n25 CARDINAL\nPersons ORG\n843 CARDINAL\n5\n CARDINAL\n2\n CARDINAL\nSHEEP PERSON\n2\n CARDINAL\n6 CARDINAL\n23\n QUANTITY\n1\n CARDINAL\n1\n CARDINAL\n1\n CARDINAL\n1925 DATE\n2\n CARDINAL\n9\n QUANTITY\n2\n CARDINAL\n1\n CARDINAL\n1933 DATE\n2\n CARDINAL\n1894 1\n QUANTITY\nDJ\n\n WORK_OF_ART\nNOVEMBER 1952 DATE\nMagistrates ORG\nRSPCA GPE\nFOURTEEN CARDINAL\nTWELVE MONTHS DATE\nTHREE CARDINAL\nTWO YEARS DATE\nONE CARDINAL\nTHREE YEARS DATE\nTHREE CARDINAL\nFIVE YEARS DATE\nFOUR CARDINAL\nTEN YEARS DATE\nTWO CARDINAL\nJanuary 1 28,488 DATE\nJanuary 1 DATE\n911 CARDINAL\nJanuary 1 10,754 DATE\n4,112 CARDINAL\nDogs NORP\n3,733 CARDINAL\n164 CARDINAL\n1,995 CARDINAL\n8,009 CARDINAL\nPHTNEY ORG\n4 CARDINAL\n48 CARDINAL\n1,460 CARDINAL\n1,640 CARDINAL\nMisc. GPE\n2 CARDINAL\n54 CARDINAL\n13 CARDINAL\n225 CARDINAL\nNORTH WALES GPE\n33 CARDINAL\n67 CARDINAL\n0\n QUANTITY\n64 CARDINAL\n52 CARDINAL\nmonth DATE\n2,045 CARDINAL\n55 CARDINAL\n100 CARDINAL\n116 CARDINAL\nCertiﬁcates 24 LAW\n1951 DATE\n31,399\n CARDINAL\n939 CARDINAL\n161,071 CARDINAL\n17,792 CARDINAL\nNORTH WALES GPE\n2,822 CARDINAL\nRSPCA GPE\n8\n PRODUCT\nCertiﬁcates PERSON\n142 CARDINAL\nb’l\n\n LANGUAGE\nJanuary 1953 DATE\n11 CARDINAL\nthe Bradford Telegraph ORG\nDrummond Road School ORG\nBradford PERSON\ntwo CARDINAL\nRSPCA GPE\nNewcastle GPE\nBeadnell Women’s Institute ORG\n1 MONEY\nSociety ORG\n£2 145 MONEY\nGateshead GPE\nMrs Nairn PERSON\nBedlington ORG\n10 MONEY\n6d CARDINAL\nAmble ORG\n25 MONEY\nNottingham GPE\nNotts GPE\nGalway GPE\nRSPCA GPE\nD. Gyles PERSON\nthe Majestic Theatre FAC\nRetford PERSON\nHodgson PERSON\nBerks PERSON\nHants GPE\nOxon GPE\nhon ORG\nSt John’s Hall GPE\n56 MONEY\n7 CARDINAL\nMrs Rawson PERSON\nStubbings Manor GPE\nBurchetts Green PERSON\n£18 23 MONEY\n6d CARDINAL\nAnimal Sunday DATE\nSt Laurence‘s Church FAC\nWadland PERSON\nhon ORG\nthe Rev G. E. Jenkins ORG\nVicar PERSON\nthe Rev E. H. Knell ORG\nRotherham GPE\nDenaby\n PRODUCT\nMrs Bayley PERSON\nhon ORG\nMexborough PERSON\n3 MONEY\nShrOpshire M r Thomas Jones ORG\nOswestry aux1hary hon ORG\nannual DATE\nH. E. Kenyon PERSON\nhon ORG\nhon ORG\nSenior Inspector Brehany PERSON\nHilller PERSON\nMrs Bedwell PERSON\nMrs Tudor Hughes PERSON\nGeorge Lloyd kindly lendlng PERSON\nOswestry GPE\n£17 113 MONEY\nPrebendary L. J. B. Snell PERSON\nannual DATE\nShrewsbury Castle FAC\nSociety ORG\nPrebendary Snell’s GPE\nSnell PERSON\nford ORG\nW. H. Rogers PERSON\nMrs M. Meredith PERSON\nhon ORG\nA. H. Jones PERSON\nShrewsbury GPE\nen bloc LOC\nInspector Brehany PERSON\nStaffordshire—North Mrs Berry PERSON\nhon ORG\nTrent GPE\nBurslem Tunstall ORG\nChell auxiliaries ORG\nStoke City GPE\nStoke GPE\n£57 63 MONEY\nSuffolk GPE\nEast Coast LOC\nMrs Barley PERSON\nSibton ORG\nhon ORG\n£3 63 MONEY\n6d CARDINAL\nMrs Barley PERSON\nSurrey GPE\nMrs\nNeale PERSON\nAshtead ORG\nhon ORG\n337 MONEY\nSurrey—Guildford PERSON\nMrs Keene PERSON\nShalford ORG\nliary hon PERSON\nMiss Mair PERSON\nShalford Institute ORG\n£33\n MONEY\nHawxwell ORG\nSussex PERSON\nBrighton GPE\nW. C. Brown PERSON\nWinnie Carr PERSON\n13 DATE\nLi ndﬁeld PERSON\n13 MONEY\nDiana Deering PERSON\nHove GPE\n17 CARDINAL\nthe County Primary School ORG\nSouthwick PERSON\n9 MONEY\n6d CARDINAL\nHolland GPE\nCouch ORG\nCuckﬁeld ORG\n10 MONEY\nMrs Lisle PERSON\nCuckﬁeld ORG\nhon ORG\n22 MONEY\nBarnham ORG\nMrs Wigan PERSON\n£39 25 MONEY\n11d CARDINAL\nautumn DATE\nMrs Wood PERSON\n32 MONEY\n173 PRODUCT\n3d CARDINAL\nIsaacson, Chichester ORG\nhon ORG\n23 MONEY\nRSPCA GPE\nMrs Morris ORG\nhon ORG\nPulleine PERSON\nMrs\nMorris PERSON\nabout £73 MONEY\nThirsk by Mrs Morris FAC\nliary hon PERSON\n£7 14s MONEY\nWakeﬁeld PERSON\nDewsbury GPE\nPontefract GPE\nMirﬁeld GPE\nBatley FAC\nPulleine PERSON\nMorley Rotary Club ORG\nWarwickshire South GPE\nD. Lake LOC\nWarwick GPE\nsecond ORDINAL\nLightbown PERSON\n8 MONEY\n9s PRODUCT\nWarwick GPE\nWestmorland PERSON\nG. Williams PERSON\nSt Thomas’s GPE\nKendal PERSON\nKendal Grammar School\n ORG\nModern School ORG\nsix CARDINAL\nRSPCA ORG\nKendal Town Hall FAC\nMrs Coward PERSON\nKendal PERSON\nhon ORG\nLynn PERSON\nthe Pet Show EVENT\nThe Lynn News and Advertiser ORG\nALICE COUNTESS PERSON\nATHLONE ORG\nARTHUR PERSON\nCONNAUGHT GPE\nROBERT GOWER PERSON\nKCVO ORG\nOBE ORG\nHON DCL ORG\nWINIFRED DUCHESS PERSON\nPORTLAND GPE\nMALCOLM SARGENT PERSON\nHON LLD ORG\nD MUS PERSON\nFRCM ORG\nFRSA ORG\nSHAFTESBURY GPE\nKP ORG\nR. M. POWELL PERSON\nDSO PERSON\n1952-1953 DATE\nDL ORG\nTD ORG\nWALLIS POWER PERSON\nAMBROSE ORG\nOSB PERSON\nEVANS PERSON\nDAVID PERSON\nHON ORG\nFREEMAN PERSON\nPETER PERSON\nESQ PERSON\nPOWELL PERSON\nA. J. PERSON\nFCRA GPE\nJP GASKOIN PERSON\nESQ PERSON\nMA GPE\nRATTRAY ORG\nR. F.\n PERSON\nBERE ORG\nRUPERT DE LA PERSON\nGREENWOOD PERSON\nANTHONY PERSON\nESQ PERSON\nMA GPE\nH. H. PERSON\nESQ ORG\nBERTIE PERSON\nTHAME ORG\nRT ORG\nHON PRODUCT\nVISCOUNTESS ORG\n1:321:33 CARDINAL\nHON ORG\nCOUNTESS ORG\n0P PRODUCT\nBRANSOM ORG\nL. G. PERSON\nFRSA HOGG s R ORG\nW. A. PERSON\nESQ PERSON\nMA GPE\nH. E. PERSON\nESQ PERSON\nMRcvs ORG\nQ WORK_OF_ART\nSNELL ORG\nPREBENDARY L. J. 3. ORG\nMBE PERSON\nJ. D. PERSON\nKBE ORG\n1323.1 CARDINAL\n2:23i::.:§52 CARDINAL\nDOWDELL ORG\nW. *WALFORD PERSON\nERSKINE PERSON\nRESTORMEL LAW\nHON ORG\nC. A. PERSON\nCBE ORG\nMRC‘VS CARDINAL\nOSWALD ORG\nAGNES PERSON\nMB ORG\nDPH MOORE PERSON\nTHOMAS PERSON\nCBE ORG\nHARRY PERSON\nESQ PERSON\nCANTAB ORG\nMAURICE G. PERSON\nESQ PERSON\nMISAC *WINCHESTER PERSON\nF. J. GPE\nESQ ORG\nFCIS GPE\nCOUNCIL ORG\nHon ORG\nLT-COL J. C. LOCKWOOD ORG\nJP GPE\nTD ORG\nHon Treasurer—HARRY WHITE PERSON\nESQ PERSON\nPCA ORG\nHon Medical ORG\nA. F. WHYTE PERSON\nESQ PERSON\nMB ORG\nCHB Legal ORG\nJ. ﬂALL PERSON\nESQ PERSON\nCOU&#39;ITS AND CO ORG\nSTRAND GPE\nLONDON GPE\nR. C. G. HANCOCK PERSON\nBSC ORG\nMRcvs ORG\nPRICE &amp; GOODYEAR ORG\nARTHUR W. MOSS PERSON\nESQ PERSON\nMBE PERSON\nACIS LAW\nLT-COL I. GARTSIDE ORG\nDso GPE\n7177 CARDINAL\n9\n CARDINAL\nChristmas DATE\nAppeals Department ORG\nJermyn Street FAC\nLondon GPE\nSW GPE\nKg PERSON\nJermyn Street FAC\n5 CARDINAL\nun ORG\nNM 7 PRODUCT\nLCCLES WORK_OF_ART\nSHELVOKE PRODUCT\nBIRMINGHAM GPE\n8 CARDINAL\nENGLAND GPE\n5465\n\n DATE\nJanuary 1953\n\n \n\n \n\n DATE\nBRITAIN GPE\nJames Fisher PERSON\nEastern ORG\n0 CARDINAL\nBritish NORP\nHugh PERSON\nWhistler GPE\nLondon GPE\njackson PERSON\nthe Manchester Guardian ORG\nBritish NORP\nStrepto PERSON\npelia dedaocto PERSON\nEnglish LANGUAGE\nIndian NORP\nEastern ORG\nEastern ORG\nStreptOv ORG\npelia decaocto PERSON\nthe Manchester Guardian’s ORG\nLincoln ORG\nAugust 1952 DATE\nAsiatic\n PRODUCT\nJapan GPE\nTokio GPE\nKOrea GPE\nChina GPE\nBurma GPE\nIndia GPE\nTurkestan GPE\nAfghanistan GPE\nPersia FAC\nPalestine GPE\nCyprus GPE\nRhodes PERSON\nAsia LOC\nseventeenth DATE\neighteenth DATE\ntury PERSON\nConstantinople PERSON\nEuropean NORP\nBalkan NORP\nBulgaria GPE\nGreece GPE\nMacedonia GPE\nThrace PERSON\nAlbania GPE\nYugoslavia GPE\ntwenty years DATE\nfourteen CARDINAL\nnine and a half DATE\nhalf CARDINAL\nHungary GPE\nCzechoslovakia GPE\nAustria GPE\nRumania GPE\nGermany GPE\nBarbary LOC\nproo PERSON\npru ORG\nseveral weeks DATE\noliverbuff colour PERSON\nhalf CARDINAL\nlts flight PRODUCT\nglid1ng GPE\nhawkalike PERSON\nEurope LOC\nmar—\n DATE\nginal land ORG\npoorish scrubland ORG\nspinneys\n PRODUCT\nchickenrruns ORG\nLincolnshire GPE\nsixty yards QUANTITY\nBird Notes WORK_OF_ART\nthe Manchester Guardian ORG\nJanuary 1953 DATE\nFIRST ORDINAL\nRSPCA GPE\n1824 DATE\nSociety ORG\nInspector ORG\n200 CARDINAL\nEngland GPE\nWales GPE\nRSPCA GPE\nNinette Gold PERSON\nPat Jones PERSON\nWallis Power PERSON\nthe RSPCA Council ORG\nGold PERSON\nWimbledon Division ORG\nRaynes Park GPE\nSW20 GPE\nJones PERSON\nOrchard Gate FAC\nGreenford GPE\nMiddlesex GPE\nRSPCA GPE\n100 MONEY\nBULLFIGHTING ORG\nAnnual DATE\nthe American Humane Association ORG\nthe American Humane Association ORG\nhundreds of thousands\n CARDINAL\nAmerican NORP\nbulla\n ORG\nRSPCA GPE\nMrs Wallis Power PERSON\nPat jones PERSON\nfirst ORDINAL\nWomen RSPCA\nPatrol ORG\nAmerican NORP\nselﬁsh GPE\nthe American Society of\nTravel Agents Inc. ORG\nMiami GPE\nthis month DATE\nRSPCA GPE\n149 CARDINAL\nSuffolk GPE\nKent GPE\nHuddersﬁeld GPE\nLeek ORG\nYork GPE\nLincoln, Dagenham ORG\nOxford ORG\nLondon GPE\nFifty—four CARDINAL\n450 CARDINAL\nthe Headquarters\nGroup ORG\nS/Inspector Bonam ORG\nthe late afternoon TIME\nDouglas Marshall PERSON\nCornwall East LOC\nLoder PERSON\nSymonds PERSON\nHereford GPE\nJanuary 1953 DATE\nBROMLEY ORG\nDAVENPORT PERSON\nMinister of Agriculture ORG\nthe\n ORG\nRoyal Society for the Prevention of Cruelty to\nAnimals ORG\nT. DUGDALE ORG\nDepartment ORG\nthe Royal Society for the Prevention\nof Cruelty to Animals ORG\noccav\n PERSON\nslaughtera PERSON\nCruelty to Animals (Children ORG\nLIEUTvCOLONEL LOCKWOOD PERSON\nState ORG\nthe Home Department ORG\nD. MAXWELL FYFE PERSON\ntwo CARDINAL\nHon ORG\nNorth\n LOC\nChapman PERSON\nJune 18 DATE\nMrs Wallis\nPower PERSON\nthe RSPCA\nCouncil ORG\nInspector Pickett PERSON\nChrist-\n PRODUCT\nChristchurch GPE\ntwo CARDINAL\nLynmouth PERSON\nRSPCA GPE\nthe Bournemouth Daily Echo ORG\nStephen Message PERSON\none CARDINAL\nSt Lawrence C. GPE\nE. School ORG\nChobham ORG\nSurrey ORG\n8 CARDINAL\nJanuary 1953 DATE\nMrs l. Slater PERSON\nTerri PERSON\nOrganizer GPE\nRSPCA GPE\nTanganyika ORG\nRSPCA\n ORG\nthe\nSERENGETTI RESERVE ORG\nKENYA GPE\nEast Africa GPE\nbush PERSON\nconﬁned on board ORG\nweeks DATE\nthe RSPCA Dar-es-Salaam Branch\n\nChildren’s Day FAC\nOyster Bay Beach LOC\nTanganyika ORG\nSwahili NORP\nTANGANYIKA ORG\nUWE NA FADIHLI NA PERSON\nRAFIKI ZETU PERSON\nSwahili NORP\nabout\none-eighth CARDINAL\nUSlwapige wala kuwajemhi PERSON\nkuianya mvi ni kuwa na PERSON\nkumbuka mambo PERSON\nyanayo—wafaa PERSON\nlinda wakau wa hatari PERSON\nUSIwaache ORG\nwakiwa wagoujwa au kujeruhiwa PERSON\nkuwaangalia PERSON\nUSIwaLwishe punda MONEY\nmizigomizito mm PERSON\nusiwape PERSON\nwa ugonjwa au ORG\nwakiwa na PERSON\nkuwalisha vizuri PERSON\nNgombe GPE\nhuhitaji chakula kingi PERSON\nUSIwatege ORG\nNi haki yao kuwa PERSON\nVllu hivx PERSON\nm vya ukatih PERSON\nUSIwatie ORG\nkwa ladhili PERSON\nusisabau kuwupa chakula na muji kwa\n PERSON\nsafari ORG\nUSIwaondoe ORG\nzaO— PERSON\nzao PERSON\nUSIwaumize wala kuwaogofya ORG\nwanaokwenda ORG\nUwahurumie PERSON\nkwa wunyama PERSON\nwa ORG\nmaumwu ORG\nkufa PERSON\nMNYAMA WALA NDECE TENDO L0 LOTE UONALO HALIFA ORG\nKUTENDEWA PERSON\nMWENYEWE GPE\nMWFNYEW ORG\nUWASAJDIE WANYAMA WAISHI ORG\nPASIPO MAUMIVU PERSON\nlsuo PERSON\nJamal PERSON\n195 5\n\n \n\n \n\n DATE\nBeverley Studio PERSON\nBarnes\n PERSON\nIamieson PERSON\nBarnes Auxiliary ORG\nHon ORG\nAnnette Mills PERSON\nMills PERSON\nHuddersfield GPE\nStanley G. Watson PERSON\nhon ORG\n505 MONEY\nthe Branch\nAnimal Week ORG\nKent GPE\nAshford PERSON\nH. A. Crothall PERSON\nhon ORG\ncinema ORG\n£26 14s MONEY\n9d CARDINAL\nAlan\nBowen PERSON\nPeters PERSON\nGreat Chart ORG\nhon ORG\n£6 95 MONEY\n461 CARDINAL\nColes PRODUCT\nKent GPE\nCanterbury GPE\nDistrict A rummage ORG\n£47 105 MONEY\n6d CARDINAL\nR. Crisp PERSON\nMiss V. Slingsbury PERSON\nWhitstable GPE\nhon ORG\nWhitstable GPE\n£52 115 MONEY\nKent GPE\nDover GPE\nMrs Young PERSON\nhon ORG\nTilmanstone GPE\nLangdown Hall FAC\nEythorne GPE\n£13 105 MONEY\n11d CARDINAL\nWebb PERSON\nMrs\nYoung PERSON\nMrs\nYoung PERSON\nKent GPE\nFolkestone GPE\nPolice Training College ORG\nSandgate PERSON\nannual DATE\nthe Town Hall FAC\nWright PERSON\nMayoress LOC\nKent GPE\nBirchington PERSON\nhon ORG\n21 MONEY\nLawrance PERSON\nhon ORG\nLawrance PERSON\nRamsgate GPE\nRamsgate ORG\nThomson PERSON\nMrs Faulkner PERSON\nInspector Vaughan PERSON\nKent GPE\nMaidstone GPE\nan RSPCA Certi ORG\nHeadcorn PERSON\nSub Ofﬁcer E. Bye PERSON\nMrs MacIlwaine PERSON\nhon ORG\nKent GPE\nNorth-West Mrs A. Pollen GPE\nGravesend ORG\nhon ORG\nnearly £40\n MONEY\nKettering GPE\nThrapston PERSON\nKettering GPE\nhon ORG\nDutch NORP\nover £36 MONEY\nMaeelesﬁeld GPE\nBuxton PERSON\nCook PERSON\nhon ORG\nMiss A. M. Wain PERSON\nInspector ORG\nA. Young PERSON\nhon ORG\nMrs\nSolly LAW\nCongleton ORG\nCook PERSON\nMrs Yates PERSON\n75 MONEY\n103 PRODUCT\nMerthyr Tydﬁl PERSON\nT. J. Evans PERSON\nthe Peter Pan Cafe ORG\nMerthyr LOC\nGeraldine Lewis PERSON\nhon ORG\nMayor the Anderson Award Certiﬁcate PERSON\nCanon A. Lloyd\nJones PERSON\nHillier PERSON\nWatts PERSON\nOfﬁcers of the Borough Force ORG\nGlamorgan Fire Services ORG\nhon ORG\nMrs J. T. Vaughan PERSON\nSociety ORG\nLt-Col L. Gartside ORG\nRSPCA GPE\nHillier PERSON\nE. Fenton PERSON\nMonmouthshire PERSON\nthe Branch\nAnimal Cadet Corps ORG\nMiss E. Radcliffe PERSON\nHoward Ebdon PERSON\nthe\nCorps ORG\nGodley\n PERSON\nthe Children’s Pony Show FAC\nGymkhana PERSON\nKnowle GPE\nWarwickshire GPE\nseveral years DATE\nBirmingham GPE\n12 CARDINAL\nJanuary 1953 DATE\nLiverpool GPE\n£366 195 MONEY\n9d CARDINAL\nPeterborough GPE\nA. N.\n PERSON\nHartley PERSON\n£259 MONEY\n83 CARDINAL\n6d CARDINAL\nTredegar ORG\nsec ORG\n£44 MONEY\n35 CARDINAL\n9d CARDINAL\nTowcester GPE\nMrs Gee PERSON\n11 MONEY\n173 CARDINAL\n11d CARDINAL\nTewkesbury ORG\nMrs Salmon PERSON\nsec ORG\n153 CARDINAL\n4d CARDINAL\nTorrington GPE\nMrs Martin PERSON\nsec ORG\n105 CARDINAL\nHitchin PERSON\nM. A. Denniss PERSON\nsec ORG\n173 CARDINAL\nSt Albans PERSON\nMrs Goodwin PERSON\n182 MONEY\nLough ORG\nNorth Leicestershire GPE\nHarridge-Cayless ORG\n333 MONEY\n55 CARDINAL\n11d CARDINAL\nLeicester GPE\nB. H.\n PERSON\nHearth ORG\n582 MONEY\nCitizen GPE\nGloucester GPE\nMrs Ablett PERSON\nLongIevens, Glos ORG\n£8 15s MONEY\n4%d CARDINAL\nGloucester Flag Day EVENT\nHolding Laddie’s PERSON\nChristine PERSON\nMrs Nash PERSON\nGloucester City GPE\nHon ORG\nmmmmmmmmmmmmmmmmmrng PERSON\nSociety ORG\n8 CARDINAL\n8 CARDINAL\n8 CARDINAL\n8 CARDINAL\n3 CARDINAL\n8 CARDINAL\n1824 CARDINAL\nSociety ORG\ng\nSociety ORG\ng\n ORG\n3\n CARDINAL\nSociety ORG\n8\n CARDINAL\n8\n CARDINAL\n8 CARDINAL\n8 CARDINAL\n8 CARDINAL\n3 CARDINAL\nWilliam IV PERSON\nVictoria PERSON\n26 CARDINAL\ntwo CARDINAL\nHOUSE ORG\nI. Green PERSON\n£12 65 MONEY\n1d DATE\nFarndon PERSON\nFields PERSON\nMrs Aldred PERSON\nNewark ORG\nhon sec PERSON\n£1 13$. MONEY\nBearpark PERSON\nMrs Dixon PERSON\nsec ORG\n£24 75 MONEY\n7d CARDINAL\nMirﬁeld WORK_OF_ART\nA. L. Duxbury PERSON\nsec ORG\n30 MONEY\n115 CARDINAL\n2d CARDINAL\nKing’s ORG\nLangley PERSON\nMrs McKell PERSON\nsec ORG\n£18 125 MONEY\nMiss Goddard PERSON\n26 MONEY\n55 CARDINAL\n1d CARDINAL\nMrs Lombard Hobson PERSON\nsec ORG\n£167 173 MONEY\nIpswich GPE\nMrs Crawford PERSON\nhon sec PERSON\n130 MONEY\nBuckfast ORG\nCarus PERSON\nsec ORG\n£8 ls MONEY\nFormby PERSON\nMrs Mawds PERSON\nley ORG\nsec ORG\nOs PERSON\n5d CARDINAL\nBushey ORG\nMrs Leicester PERSON\nsec ORG\n£31 45 MONEY\n7d CARDINAL\nGoodwick PERSON\nHolmes PERSON\nhon ORG\nsec ORG\n£11 2s MONEY\nLangworth GPE\nRand GPE\nMrs Baker PERSON\nsec ORG\n£3 115 MONEY\n3d FAC\nDartford GPE\nMrs I. C. Ransom PERSON\nsec ORG\n140 MONEY\n35 CARDINAL\nllcl ORG\nFaversham PERSON\n50 MONEY\n25 MONEY\n7d CARDINAL\nSociety ORG\nSalisbury GPE\nOswestry GPE\nApperley Bridge FAC\nBristol GPE\nNottingham GPE\nLeicester GPE\nFingringhoe GPE\nMargate GPE\nWigan PERSON\nWest Bergholt GPE\nPoulton PERSON\nlevalde GPE\nGillingham GPE\nFarnham PERSON\nLevens GPE\nWyresdale ORG\nNewburn GPE\nBexleyheath ORG\nRuislip PERSON\nShalford PERSON\nLymington GPE\nBournemouth GPE\nBark GPE\nStonebridge Park GPE\nBlackpool GPE\nChartham ORG\nAnnesley ORG\nPark GPE\nMiddlesbrough GPE\nIver Heath PERSON\nSheepwash GPE\nTopsham GPE\nHartley PERSON\nWells NORP\nSea LOC\nNew Milton GPE\nMold ORG\nWel GPE\nWhitehaven GPE\nHarrington GPE\nRickmansworth GPE\nShrews GPE\nFareham PERSON\nWhittlesey GPE\nLiverpool GPE\nEastbourne GPE\nOffen GPE\nLiskeard LOC\nKendal LOC\nTebay ORG\nBeadnell ORG\nWooler PERSON\nEast Ham GPE\nLeeds GPE\nRochester GPE\nPurley GPE\nBrislington ORG\nBradford, Fyﬁeld ORG\nNewport GPE\nHeywood GPE\nEpsom, Shaftes GPE\nCambridge GPE\nSheerness GPE\nUpper Clapton PERSON\nHigham PERSON\nArnside ORG\nRetford GPE\nCarmarthen GPE\nAberdare GPE\nBUSH PERSON\nSPRATT’S GUIDE TO DOG MANAGEMENT’ FAC\n88 CARDINAL\n8 CARDINAL\n4 CARDINAL\nBreedin PERSON\nHousing PERSON\nSpratt’s Stockist ORG\nDept ORG\nr/ 5 CARDINAL\nSPRATT PERSON\nn Biscuit ORG\nSPRATT’S PATENT LTD. ORG\nBOW ROAD ORG\nLONDON GPE\nColour ORG\n87 CARDINAL\n63 CARDINAL\n23 CARDINAL\n213 CARDINAL\ndozen CARDINAL\none dozen CARDINAL\nRS ORG\n105 CARDINAL\nLondon GPE\nShenval Press ORG\nSimson Shand Ltd ORG\nParliament Square FAC\nHertford GPE\nArthur W. PERSON\nMoss for the GPE\nRSPCA GPE\n105 CARDINAL\nJermyn Street FAC\nLondon GPE\n"
    }
   ],
   "source": [
    "for doc in corpus:\n",
    "    for ent in doc.ents:\n",
    "        print(ent.text, ent.label_)"
   ]
  },
  {
   "cell_type": "code",
   "execution_count": 22,
   "metadata": {},
   "outputs": [
    {
     "output_type": "execute_result",
     "data": {
      "text/plain": "1285"
     },
     "metadata": {},
     "execution_count": 22
    }
   ],
   "source": [
    "# Collect all geo-political entities from whole corpus\n",
    "gpes = [(ent.text, ent.label_) for ent in doc.ents for doc in corpus if ent.label_ == \"GPE\"]\n",
    "len(gpes)"
   ]
  },
  {
   "cell_type": "code",
   "execution_count": 23,
   "metadata": {},
   "outputs": [
    {
     "output_type": "execute_result",
     "data": {
      "text/plain": ", &#39;GPE&#39;),\n (&#39;Lynton&#39;, &#39;GPE&#39;),\n (&#39;Lynton&#39;, &#39;GPE&#39;),\n (&#39;Lynton&#39;, &#39;GPE&#39;),\n (&#39;Dorset&#39;, &#39;GPE&#39;),\n (&#39;Dorset&#39;, &#39;GPE&#39;),\n (&#39;Dorset&#39;, &#39;GPE&#39;),\n (&#39;Dorset&#39;, &#39;GPE&#39;),\n (&#39;Dorset&#39;, &#39;GPE&#39;),\n (&#39;North&#39;, &#39;GPE&#39;),\n (&#39;North&#39;, &#39;GPE&#39;),\n (&#39;North&#39;, &#39;GPE&#39;),\n (&#39;North&#39;, &#39;GPE&#39;),\n (&#39;North&#39;, &#39;GPE&#39;),\n (&#39;West Moors&#39;, &#39;GPE&#39;),\n (&#39;West Moors&#39;, &#39;GPE&#39;),\n (&#39;West Moors&#39;, &#39;GPE&#39;),\n (&#39;West Moors&#39;, &#39;GPE&#39;),\n (&#39;West Moors&#39;, &#39;GPE&#39;),\n (&#39;Durham&#39;, &#39;GPE&#39;),\n (&#39;Durham&#39;, &#39;GPE&#39;),\n (&#39;Durham&#39;, &#39;GPE&#39;),\n (&#39;Durham&#39;, &#39;GPE&#39;),\n (&#39;Durham&#39;, &#39;GPE&#39;),\n (&#39;Durham&#39;, &#39;GPE&#39;),\n (&#39;Durham&#39;, &#39;GPE&#39;),\n (&#39;Durham&#39;, &#39;GPE&#39;),\n (&#39;Durham&#39;, &#39;GPE&#39;),\n (&#39;Durham&#39;, &#39;GPE&#39;),\n (&#39;Essex&#39;, &#39;GPE&#39;),\n (&#39;Essex&#39;, &#39;GPE&#39;),\n (&#39;Essex&#39;, &#39;GPE&#39;),\n (&#39;Essex&#39;, &#39;GPE&#39;),\n (&#39;Essex&#39;, &#39;GPE&#39;),\n (&#39;RSPCA&#39;, &#39;GPE&#39;),\n (&#39;RSPCA&#39;, &#39;GPE&#39;),\n (&#39;RSPCA&#39;, &#39;GPE&#39;),\n (&#39;RSPCA&#39;, &#39;GPE&#39;),\n (&#39;RSPCA&#39;, &#39;GPE&#39;),\n (&#39;Glamorgan&#39;, &#39;GPE&#39;),\n (&#39;Glamorgan&#39;, &#39;GPE&#39;),\n (&#39;Glamorgan&#39;, &#39;GPE&#39;),\n (&#39;Glamorgan&#39;, &#39;GPE&#39;),\n (&#39;Glamorgan&#39;, &#39;GPE&#39;),\n (&#39;Swansea&#39;, &#39;GPE&#39;),\n (&#39;Swansea&#39;, &#39;GPE&#39;),\n (&#39;Swansea&#39;, &#39;GPE&#39;),\n (&#39;Swansea&#39;, &#39;GPE&#39;),\n (&#39;Swansea&#39;, &#39;GPE&#39;),\n (&#39;Craig-y-nos&#39;, &#39;GPE&#39;),\n (&#39;Craig-y-nos&#39;, &#39;GPE&#39;),\n (&#39;Craig-y-nos&#39;, &#39;GPE&#39;),\n (&#39;Craig-y-nos&#39;, &#39;GPE&#39;),\n (&#39;Craig-y-nos&#39;, &#39;GPE&#39;),\n (&#39;Grimsby&#39;, &#39;GPE&#39;),\n (&#39;Grimsby&#39;, &#39;GPE&#39;),\n (&#39;Grimsby&#39;, &#39;GPE&#39;),\n (&#39;Grimsby&#39;, &#39;GPE&#39;),\n (&#39;Grimsby&#39;, &#39;GPE&#39;),\n (&#39;Scunthorpe&#39;, &#39;GPE&#39;),\n (&#39;Scunthorpe&#39;, &#39;GPE&#39;),\n (&#39;Scunthorpe&#39;, &#39;GPE&#39;),\n (&#39;Scunthorpe&#39;, &#39;GPE&#39;),\n (&#39;Scunthorpe&#39;, &#39;GPE&#39;),\n (&#39;Hatﬁeld&#39;, &#39;GPE&#39;),\n (&#39;Hatﬁeld&#39;, &#39;GPE&#39;),\n (&#39;Hatﬁeld&#39;, &#39;GPE&#39;),\n (&#39;Hatﬁeld&#39;, &#39;GPE&#39;),\n (&#39;Hatﬁeld&#39;, &#39;GPE&#39;),\n (&#39;RSPCA&#39;, &#39;GPE&#39;),\n (&#39;RSPCA&#39;, &#39;GPE&#39;),\n (&#39;RSPCA&#39;, &#39;GPE&#39;),\n (&#39;RSPCA&#39;, &#39;GPE&#39;),\n (&#39;RSPCA&#39;, &#39;GPE&#39;),\n (&#39;Wealston&#39;, &#39;GPE&#39;),\n (&#39;Wealston&#39;, &#39;GPE&#39;),\n (&#39;Wealston&#39;, &#39;GPE&#39;),\n (&#39;Wealston&#39;, &#39;GPE&#39;),\n (&#39;Wealston&#39;, &#39;GPE&#39;),\n (&#39;Southampton&#39;, &#39;GPE&#39;),\n (&#39;Southampton&#39;, &#39;GPE&#39;),\n (&#39;Southampton&#39;, &#39;GPE&#39;),\n (&#39;Southampton&#39;, &#39;GPE&#39;),\n (&#39;Southampton&#39;, &#39;GPE&#39;),\n (&#39;Southampton&#39;, &#39;GPE&#39;),\n (&#39;Southampton&#39;, &#39;GPE&#39;),\n (&#39;Southampton&#39;, &#39;GPE&#39;),\n (&#39;Southampton&#39;, &#39;GPE&#39;),\n (&#39;Southampton&#39;, &#39;GPE&#39;),\n (&#39;RSPCA&#39;, &#39;GPE&#39;),\n (&#39;RSPCA&#39;, &#39;GPE&#39;),\n (&#39;RSPCA&#39;, &#39;GPE&#39;),\n (&#39;RSPCA&#39;, &#39;GPE&#39;),\n (&#39;RSPCA&#39;, &#39;GPE&#39;),\n (&#39;RSPCA&#39;, &#39;GPE&#39;),\n (&#39;RSPCA&#39;, &#39;GPE&#39;),\n (&#39;RSPCA&#39;, &#39;GPE&#39;),\n (&#39;RSPCA&#39;, &#39;GPE&#39;),\n (&#39;RSPCA&#39;, &#39;GPE&#39;),\n (&#39;LONDON&#39;, &#39;GPE&#39;),\n (&#39;LONDON&#39;, &#39;GPE&#39;),\n (&#39;LONDON&#39;, &#39;GPE&#39;),\n (&#39;LONDON&#39;, &#39;GPE&#39;),\n (&#39;LONDON&#39;, &#39;GPE&#39;),\n (&#39;London&#39;, &#39;GPE&#39;),\n (&#39;London&#39;, &#39;GPE&#39;),\n (&#39;London&#39;, &#39;GPE&#39;),\n (&#39;London&#39;, &#39;GPE&#39;),\n (&#39;London&#39;, &#39;GPE&#39;),\n (&#39;LONDON&#39;, &#39;GPE&#39;),\n (&#39;LONDON&#39;, &#39;GPE&#39;),\n (&#39;LONDON&#39;, &#39;GPE&#39;),\n (&#39;LONDON&#39;, &#39;GPE&#39;),\n (&#39;LONDON&#39;, &#39;GPE&#39;),\n (&#39;RSPCA&#39;, &#39;GPE&#39;),\n (&#39;RSPCA&#39;, &#39;GPE&#39;),\n (&#39;RSPCA&#39;, &#39;GPE&#39;),\n (&#39;RSPCA&#39;, &#39;GPE&#39;),\n (&#39;RSPCA&#39;, &#39;GPE&#39;),\n (&#39;Abattoirs&#39;, &#39;GPE&#39;),\n (&#39;Abattoirs&#39;, &#39;GPE&#39;),\n (&#39;Abattoirs&#39;, &#39;GPE&#39;),\n (&#39;Abattoirs&#39;, &#39;GPE&#39;),\n (&#39;Abattoirs&#39;, &#39;GPE&#39;),\n (&#39;BROMLEY&#39;, &#39;GPE&#39;),\n (&#39;BROMLEY&#39;, &#39;GPE&#39;),\n (&#39;BROMLEY&#39;, &#39;GPE&#39;),\n (&#39;BROMLEY&#39;, &#39;GPE&#39;),\n (&#39;BROMLEY&#39;, &#39;GPE&#39;),\n (&#39;KENT&#39;, &#39;GPE&#39;),\n (&#39;KENT&#39;, &#39;GPE&#39;),\n (&#39;KENT&#39;, &#39;GPE&#39;),\n (&#39;KENT&#39;, &#39;GPE&#39;),\n (&#39;KENT&#39;, &#39;GPE&#39;),\n (&#39;LONDON&#39;, &#39;GPE&#39;),\n (&#39;LONDON&#39;, &#39;GPE&#39;),\n (&#39;LONDON&#39;, &#39;GPE&#39;),\n (&#39;LONDON&#39;, &#39;GPE&#39;),\n (&#39;LONDON&#39;, &#39;GPE&#39;),\n (&#39;LONDON&#39;, &#39;GPE&#39;),\n (&#39;LONDON&#39;, &#39;GPE&#39;),\n (&#39;LONDON&#39;, &#39;GPE&#39;),\n (&#39;LONDON&#39;, &#39;GPE&#39;),\n (&#39;LONDON&#39;, &#39;GPE&#39;),\n (&#39;RSPCA&#39;, &#39;GPE&#39;),\n (&#39;RSPCA&#39;, &#39;GPE&#39;),\n (&#39;RSPCA&#39;, &#39;GPE&#39;),\n (&#39;RSPCA&#39;, &#39;GPE&#39;),\n (&#39;RSPCA&#39;, &#39;GPE&#39;),\n (&#39;Norwich&#39;, &#39;GPE&#39;),\n (&#39;Norwich&#39;, &#39;GPE&#39;),\n (&#39;Norwich&#39;, &#39;GPE&#39;),\n (&#39;Norwich&#39;, &#39;GPE&#39;),\n (&#39;Norwich&#39;, &#39;GPE&#39;),\n (&#39;RSPCA&#39;, &#39;GPE&#39;),\n (&#39;RSPCA&#39;, &#39;GPE&#39;),\n (&#39;RSPCA&#39;, &#39;GPE&#39;),\n (&#39;RSPCA&#39;, &#39;GPE&#39;),\n (&#39;RSPCA&#39;, &#39;GPE&#39;),\n (&#39;RSPCA&#39;, &#39;GPE&#39;),\n (&#39;RSPCA&#39;, &#39;GPE&#39;),\n (&#39;RSPCA&#39;, &#39;GPE&#39;),\n (&#39;RSPCA&#39;, &#39;GPE&#39;),\n (&#39;RSPCA&#39;, &#39;GPE&#39;),\n (&#39;RSPCA&#39;, &#39;GPE&#39;),\n (&#39;RSPCA&#39;, &#39;GPE&#39;),\n (&#39;RSPCA&#39;, &#39;GPE&#39;),\n (&#39;RSPCA&#39;, &#39;GPE&#39;),\n (&#39;RSPCA&#39;, &#39;GPE&#39;),\n (&#39;RSPCA&#39;, &#39;GPE&#39;),\n (&#39;RSPCA&#39;, &#39;GPE&#39;),\n (&#39;RSPCA&#39;, &#39;GPE&#39;),\n (&#39;RSPCA&#39;, &#39;GPE&#39;),\n (&#39;RSPCA&#39;, &#39;GPE&#39;),\n (&#39;RSPCA&#39;, &#39;GPE&#39;),\n (&#39;RSPCA&#39;, &#39;GPE&#39;),\n (&#39;RSPCA&#39;, &#39;GPE&#39;),\n (&#39;RSPCA&#39;, &#39;GPE&#39;),\n (&#39;RSPCA&#39;, &#39;GPE&#39;),\n (&#39;RSPCA&#39;, &#39;GPE&#39;),\n (&#39;RSPCA&#39;, &#39;GPE&#39;),\n (&#39;RSPCA&#39;, &#39;GPE&#39;),\n (&#39;RSPCA&#39;, &#39;GPE&#39;),\n (&#39;RSPCA&#39;, &#39;GPE&#39;),\n (&#39;RSPCA&#39;, &#39;GPE&#39;),\n (&#39;RSPCA&#39;, &#39;GPE&#39;),\n (&#39;RSPCA&#39;, &#39;GPE&#39;),\n (&#39;RSPCA&#39;, &#39;GPE&#39;),\n (&#39;RSPCA&#39;, &#39;GPE&#39;),\n (&#39;Canterbury&#39;, &#39;GPE&#39;),\n (&#39;Canterbury&#39;, &#39;GPE&#39;),\n (&#39;Canterbury&#39;, &#39;GPE&#39;),\n (&#39;Canterbury&#39;, &#39;GPE&#39;),\n (&#39;Canterbury&#39;, &#39;GPE&#39;),\n (&#39;Swindon&#39;, &#39;GPE&#39;),\n (&#39;Swindon&#39;, &#39;GPE&#39;),\n (&#39;Swindon&#39;, &#39;GPE&#39;),\n (&#39;Swindon&#39;, &#39;GPE&#39;),\n (&#39;Swindon&#39;, &#39;GPE&#39;),\n (&#39;England&#39;, &#39;GPE&#39;),\n (&#39;England&#39;, &#39;GPE&#39;),\n (&#39;England&#39;, &#39;GPE&#39;),\n (&#39;England&#39;, &#39;GPE&#39;),\n (&#39;England&#39;, &#39;GPE&#39;),\n (&#39;View&#39;, &#39;GPE&#39;),\n (&#39;View&#39;, &#39;GPE&#39;),\n (&#39;View&#39;, &#39;GPE&#39;),\n (&#39;View&#39;, &#39;GPE&#39;),\n (&#39;View&#39;, &#39;GPE&#39;),\n (&#39;Sunderland&#39;, &#39;GPE&#39;),\n (&#39;Sunderland&#39;, &#39;GPE&#39;),\n (&#39;Sunderland&#39;, &#39;GPE&#39;),\n (&#39;Sunderland&#39;, &#39;GPE&#39;),\n (&#39;Sunderland&#39;, &#39;GPE&#39;),\n (&#39;Sunderland&#39;, &#39;GPE&#39;),\n (&#39;Sunderland&#39;, &#39;GPE&#39;),\n (&#39;Sunderland&#39;, &#39;GPE&#39;),\n (&#39;Sunderland&#39;, &#39;GPE&#39;),\n (&#39;Sunderland&#39;, &#39;GPE&#39;),\n (&#39;BROMLEYvDAVENPORT&#39;, &#39;GPE&#39;),\n (&#39;BROMLEYvDAVENPORT&#39;, &#39;GPE&#39;),\n (&#39;BROMLEYvDAVENPORT&#39;, &#39;GPE&#39;),\n (&#39;BROMLEYvDAVENPORT&#39;, &#39;GPE&#39;),\n (&#39;BROMLEYvDAVENPORT&#39;, &#39;GPE&#39;),\n (&#39;View&#39;, &#39;GPE&#39;),\n (&#39;View&#39;, &#39;GPE&#39;),\n (&#39;View&#39;, &#39;GPE&#39;),\n (&#39;View&#39;, &#39;GPE&#39;),\n (&#39;View&#39;, &#39;GPE&#39;),\n (&#39;Great Britain&#39;, &#39;GPE&#39;),\n (&#39;Great Britain&#39;, &#39;GPE&#39;),\n (&#39;Great Britain&#39;, &#39;GPE&#39;),\n (&#39;Great Britain&#39;, &#39;GPE&#39;),\n (&#39;Great Britain&#39;, &#39;GPE&#39;),\n (&#39;US&#39;, &#39;GPE&#39;),\n (&#39;US&#39;, &#39;GPE&#39;),\n (&#39;US&#39;, &#39;GPE&#39;),\n (&#39;US&#39;, &#39;GPE&#39;),\n (&#39;US&#39;, &#39;GPE&#39;),\n (&#39;Essex&#39;, &#39;GPE&#39;),\n (&#39;Essex&#39;, &#39;GPE&#39;),\n (&#39;Essex&#39;, &#39;GPE&#39;),\n (&#39;Essex&#39;, &#39;GPE&#39;),\n (&#39;Essex&#39;, &#39;GPE&#39;),\n (&#39;Doncaster&#39;, &#39;GPE&#39;),\n (&#39;Doncaster&#39;, &#39;GPE&#39;),\n (&#39;Doncaster&#39;, &#39;GPE&#39;),\n (&#39;Doncaster&#39;, &#39;GPE&#39;),\n (&#39;Doncaster&#39;, &#39;GPE&#39;),\n (&#39;Doncaster&#39;, &#39;GPE&#39;),\n (&#39;Doncaster&#39;, &#39;GPE&#39;),\n (&#39;Doncaster&#39;, &#39;GPE&#39;),\n (&#39;Doncaster&#39;, &#39;GPE&#39;),\n (&#39;Doncaster&#39;, &#39;GPE&#39;),\n (&#39;RSPCA&#39;, &#39;GPE&#39;),\n (&#39;RSPCA&#39;, &#39;GPE&#39;),\n (&#39;RSPCA&#39;, &#39;GPE&#39;),\n (&#39;RSPCA&#39;, &#39;GPE&#39;),\n (&#39;RSPCA&#39;, &#39;GPE&#39;),\n (&#39;Misc.&#39;, &#39;GPE&#39;),\n (&#39;Misc.&#39;, &#39;GPE&#39;),\n (&#39;Misc.&#39;, &#39;GPE&#39;),\n (&#39;Misc.&#39;, &#39;GPE&#39;),\n (&#39;Misc.&#39;, &#39;GPE&#39;),\n (&#39;NORTH WALES&#39;, &#39;GPE&#39;),\n (&#39;NORTH WALES&#39;, &#39;GPE&#39;),\n (&#39;NORTH WALES&#39;, &#39;GPE&#39;),\n (&#39;NORTH WALES&#39;, &#39;GPE&#39;),\n (&#39;NORTH WALES&#39;, &#39;GPE&#39;),\n (&#39;NORTH WALES&#39;, &#39;GPE&#39;),\n (&#39;NORTH WALES&#39;, &#39;GPE&#39;),\n (&#39;NORTH WALES&#39;, &#39;GPE&#39;),\n (&#39;NORTH WALES&#39;, &#39;GPE&#39;),\n (&#39;NORTH WALES&#39;, &#39;GPE&#39;),\n (&#39;RSPCA&#39;, &#39;GPE&#39;),\n (&#39;RSPCA&#39;, &#39;GPE&#39;),\n (&#39;RSPCA&#39;, &#39;GPE&#39;),\n (&#39;RSPCA&#39;, &#39;GPE&#39;),\n (&#39;RSPCA&#39;, &#39;GPE&#39;),\n (&#39;RSPCA&#39;, &#39;GPE&#39;),\n (&#39;RSPCA&#39;, &#39;GPE&#39;),\n (&#39;RSPCA&#39;, &#39;GPE&#39;),\n (&#39;RSPCA&#39;, &#39;GPE&#39;),\n (&#39;RSPCA&#39;, &#39;GPE&#39;),\n (&#39;Newcastle&#39;, &#39;GPE&#39;),\n (&#39;Newcastle&#39;, &#39;GPE&#39;),\n (&#39;Newcastle&#39;, &#39;GPE&#39;),\n (&#39;Newcastle&#39;, &#39;GPE&#39;),\n (&#39;Newcastle&#39;, &#39;GPE&#39;),\n (&#39;Gateshead&#39;, &#39;GPE&#39;),\n (&#39;Gateshead&#39;, &#39;GPE&#39;),\n (&#39;Gateshead&#39;, &#39;GPE&#39;),\n (&#39;Gateshead&#39;, &#39;GPE&#39;),\n (&#39;Gateshead&#39;, &#39;GPE&#39;),\n (&#39;Nottingham&#39;, &#39;GPE&#39;),\n (&#39;Nottingham&#39;, &#39;GPE&#39;),\n (&#39;Nottingham&#39;, &#39;GPE&#39;),\n (&#39;Nottingham&#39;, &#39;GPE&#39;),\n (&#39;Nottingham&#39;, &#39;GPE&#39;),\n (&#39;Notts&#39;, &#39;GPE&#39;),\n (&#39;Notts&#39;, &#39;GPE&#39;),\n (&#39;Notts&#39;, &#39;GPE&#39;),\n (&#39;Notts&#39;, &#39;GPE&#39;),\n (&#39;Notts&#39;, &#39;GPE&#39;),\n (&#39;Galway&#39;, &#39;GPE&#39;),\n (&#39;Galway&#39;, &#39;GPE&#39;),\n (&#39;Galway&#39;, &#39;GPE&#39;),\n (&#39;Galway&#39;, &#39;GPE&#39;),\n (&#39;Galway&#39;, &#39;GPE&#39;),\n (&#39;RSPCA&#39;, &#39;GPE&#39;),\n (&#39;RSPCA&#39;, &#39;GPE&#39;),\n (&#39;RSPCA&#39;, &#39;GPE&#39;),\n (&#39;RSPCA&#39;, &#39;GPE&#39;),\n (&#39;RSPCA&#39;, &#39;GPE&#39;),\n (&#39;Hants&#39;, &#39;GPE&#39;),\n (&#39;Hants&#39;, &#39;GPE&#39;),\n (&#39;Hants&#39;, &#39;GPE&#39;),\n (&#39;Hants&#39;, &#39;GPE&#39;),\n (&#39;Hants&#39;, &#39;GPE&#39;),\n (&#39;Oxon&#39;, &#39;GPE&#39;),\n (&#39;Oxon&#39;, &#39;GPE&#39;),\n (&#39;Oxon&#39;, &#39;GPE&#39;),\n (&#39;Oxon&#39;, &#39;GPE&#39;),\n (&#39;Oxon&#39;, &#39;GPE&#39;),\n (&#39;St John’s Hall&#39;, &#39;GPE&#39;),\n (&#39;St John’s Hall&#39;, &#39;GPE&#39;),\n (&#39;St John’s Hall&#39;, &#39;GPE&#39;),\n (&#39;St John’s Hall&#39;, &#39;GPE&#39;),\n (&#39;St John’s Hall&#39;, &#39;GPE&#39;),\n (&#39;Stubbings Manor&#39;, &#39;GPE&#39;),\n (&#39;Stubbings Manor&#39;, &#39;GPE&#39;),\n (&#39;Stubbings Manor&#39;, &#39;GPE&#39;),\n (&#39;Stubbings Manor&#39;, &#39;GPE&#39;),\n (&#39;Stubbings Manor&#39;, &#39;GPE&#39;),\n (&#39;Rotherham&#39;, &#39;GPE&#39;),\n (&#39;Rotherham&#39;, &#39;GPE&#39;),\n (&#39;Rotherham&#39;, &#39;GPE&#39;),\n (&#39;Rotherham&#39;, &#39;GPE&#39;),\n (&#39;Rotherham&#39;, &#39;GPE&#39;),\n (&#39;Oswestry&#39;, &#39;GPE&#39;),\n (&#39;Oswestry&#39;, &#39;GPE&#39;),\n (&#39;Oswestry&#39;, &#39;GPE&#39;),\n (&#39;Oswestry&#39;, &#39;GPE&#39;),\n (&#39;Oswestry&#39;, &#39;GPE&#39;),\n (&#39;Prebendary Snell’s&#39;, &#39;GPE&#39;),\n (&#39;Prebendary Snell’s&#39;, &#39;GPE&#39;),\n (&#39;Prebendary Snell’s&#39;, &#39;GPE&#39;),\n (&#39;Prebendary Snell’s&#39;, &#39;GPE&#39;),\n (&#39;Prebendary Snell’s&#39;, &#39;GPE&#39;),\n (&#39;Shrewsbury&#39;, &#39;GPE&#39;),\n (&#39;Shrewsbury&#39;, &#39;GPE&#39;),\n (&#39;Shrewsbury&#39;, &#39;GPE&#39;),\n (&#39;Shrewsbury&#39;, &#39;GPE&#39;),\n (&#39;Shrewsbury&#39;, &#39;GPE&#39;),\n (&#39;Trent&#39;, &#39;GPE&#39;),\n (&#39;Trent&#39;, &#39;GPE&#39;),\n (&#39;Trent&#39;, &#39;GPE&#39;),\n (&#39;Trent&#39;, &#39;GPE&#39;),\n (&#39;Trent&#39;, &#39;GPE&#39;),\n (&#39;Stoke City&#39;, &#39;GPE&#39;),\n (&#39;Stoke City&#39;, &#39;GPE&#39;),\n (&#39;Stoke City&#39;, &#39;GPE&#39;),\n (&#39;Stoke City&#39;, &#39;GPE&#39;),\n (&#39;Stoke City&#39;, &#39;GPE&#39;),\n (&#39;Stoke&#39;, &#39;GPE&#39;),\n (&#39;Stoke&#39;, &#39;GPE&#39;),\n (&#39;Stoke&#39;, &#39;GPE&#39;),\n (&#39;Stoke&#39;, &#39;GPE&#39;),\n (&#39;Stoke&#39;, &#39;GPE&#39;),\n (&#39;Suffolk&#39;, &#39;GPE&#39;),\n (&#39;Suffolk&#39;, &#39;GPE&#39;),\n (&#39;Suffolk&#39;, &#39;GPE&#39;),\n (&#39;Suffolk&#39;, &#39;GPE&#39;),\n (&#39;Suffolk&#39;, &#39;GPE&#39;),\n (&#39;Surrey&#39;, &#39;GPE&#39;),\n (&#39;Surrey&#39;, &#39;GPE&#39;),\n (&#39;Surrey&#39;, &#39;GPE&#39;),\n (&#39;Surrey&#39;, &#39;GPE&#39;),\n (&#39;Surrey&#39;, &#39;GPE&#39;),\n (&#39;Brighton&#39;, &#39;GPE&#39;),\n (&#39;Brighton&#39;, &#39;GPE&#39;),\n (&#39;Brighton&#39;, &#39;GPE&#39;),\n (&#39;Brighton&#39;, &#39;GPE&#39;),\n (&#39;Brighton&#39;, &#39;GPE&#39;),\n (&#39;Hove&#39;, &#39;GPE&#39;),\n (&#39;Hove&#39;, &#39;GPE&#39;),\n (&#39;Hove&#39;, &#39;GPE&#39;),\n (&#39;Hove&#39;, &#39;GPE&#39;),\n (&#39;Hove&#39;, &#39;GPE&#39;),\n (&#39;Holland&#39;, &#39;GPE&#39;),\n (&#39;Holland&#39;, &#39;GPE&#39;),\n (&#39;Holland&#39;, &#39;GPE&#39;),\n (&#39;Holland&#39;, &#39;GPE&#39;),\n (&#39;Holland&#39;, &#39;GPE&#39;),\n (&#39;RSPCA&#39;, &#39;GPE&#39;),\n (&#39;RSPCA&#39;, &#39;GPE&#39;),\n (&#39;RSPCA&#39;, &#39;GPE&#39;),\n (&#39;RSPCA&#39;, &#39;GPE&#39;),\n (&#39;RSPCA&#39;, &#39;GPE&#39;),\n (&#39;Dewsbury&#39;, &#39;GPE&#39;),\n (&#39;Dewsbury&#39;, &#39;GPE&#39;),\n (&#39;Dewsbury&#39;, &#39;GPE&#39;),\n (&#39;Dewsbury&#39;, &#39;GPE&#39;),\n (&#39;Dewsbury&#39;, &#39;GPE&#39;),\n (&#39;Pontefract&#39;, &#39;GPE&#39;),\n (&#39;Pontefract&#39;, &#39;GPE&#39;),\n (&#39;Pontefract&#39;, &#39;GPE&#39;),\n (&#39;Pontefract&#39;, &#39;GPE&#39;),\n (&#39;Pontefract&#39;, &#39;GPE&#39;),\n (&#39;Mirﬁeld&#39;, &#39;GPE&#39;),\n (&#39;Mirﬁeld&#39;, &#39;GPE&#39;),\n (&#39;Mirﬁeld&#39;, &#39;GPE&#39;),\n (&#39;Mirﬁeld&#39;, &#39;GPE&#39;),\n (&#39;Mirﬁeld&#39;, &#39;GPE&#39;),\n (&#39;Warwickshire South&#39;, &#39;GPE&#39;),\n (&#39;Warwickshire South&#39;, &#39;GPE&#39;),\n (&#39;Warwickshire South&#39;, &#39;GPE&#39;),\n (&#39;Warwickshire South&#39;, &#39;GPE&#39;),\n (&#39;Warwickshire South&#39;, &#39;GPE&#39;),\n (&#39;Warwick&#39;, &#39;GPE&#39;),\n (&#39;Warwick&#39;, &#39;GPE&#39;),\n (&#39;Warwick&#39;, &#39;GPE&#39;),\n (&#39;Warwick&#39;, &#39;GPE&#39;),\n (&#39;Warwick&#39;, &#39;GPE&#39;),\n (&#39;Warwick&#39;, &#39;GPE&#39;),\n (&#39;Warwick&#39;, &#39;GPE&#39;),\n (&#39;Warwick&#39;, &#39;GPE&#39;),\n (&#39;Warwick&#39;, &#39;GPE&#39;),\n (&#39;Warwick&#39;, &#39;GPE&#39;),\n (&#39;St Thomas’s&#39;, &#39;GPE&#39;),\n (&#39;St Thomas’s&#39;, &#39;GPE&#39;),\n (&#39;St Thomas’s&#39;, &#39;GPE&#39;),\n (&#39;St Thomas’s&#39;, &#39;GPE&#39;),\n (&#39;St Thomas’s&#39;, &#39;GPE&#39;),\n (&#39;CONNAUGHT&#39;, &#39;GPE&#39;),\n (&#39;CONNAUGHT&#39;, &#39;GPE&#39;),\n (&#39;CONNAUGHT&#39;, &#39;GPE&#39;),\n (&#39;CONNAUGHT&#39;, &#39;GPE&#39;),\n (&#39;CONNAUGHT&#39;, &#39;GPE&#39;),\n (&#39;PORTLAND&#39;, &#39;GPE&#39;),\n (&#39;PORTLAND&#39;, &#39;GPE&#39;),\n (&#39;PORTLAND&#39;, &#39;GPE&#39;),\n (&#39;PORTLAND&#39;, &#39;GPE&#39;),\n (&#39;PORTLAND&#39;, &#39;GPE&#39;),\n (&#39;SHAFTESBURY&#39;, &#39;GPE&#39;),\n (&#39;SHAFTESBURY&#39;, &#39;GPE&#39;),\n (&#39;SHAFTESBURY&#39;, &#39;GPE&#39;),\n (&#39;SHAFTESBURY&#39;, &#39;GPE&#39;),\n (&#39;SHAFTESBURY&#39;, &#39;GPE&#39;),\n (&#39;FCRA&#39;, &#39;GPE&#39;),\n (&#39;FCRA&#39;, &#39;GPE&#39;),\n (&#39;FCRA&#39;, &#39;GPE&#39;),\n (&#39;FCRA&#39;, &#39;GPE&#39;),\n (&#39;FCRA&#39;, &#39;GPE&#39;),\n (&#39;MA&#39;, &#39;GPE&#39;),\n (&#39;MA&#39;, &#39;GPE&#39;),\n (&#39;MA&#39;, &#39;GPE&#39;),\n (&#39;MA&#39;, &#39;GPE&#39;),\n (&#39;MA&#39;, &#39;GPE&#39;),\n (&#39;MA&#39;, &#39;GPE&#39;),\n (&#39;MA&#39;, &#39;GPE&#39;),\n (&#39;MA&#39;, &#39;GPE&#39;),\n (&#39;MA&#39;, &#39;GPE&#39;),\n (&#39;MA&#39;, &#39;GPE&#39;),\n (&#39;MA&#39;, &#39;GPE&#39;),\n (&#39;MA&#39;, &#39;GPE&#39;),\n (&#39;MA&#39;, &#39;GPE&#39;),\n (&#39;MA&#39;, &#39;GPE&#39;),\n (&#39;MA&#39;, &#39;GPE&#39;),\n (&#39;F. J.&#39;, &#39;GPE&#39;),\n (&#39;F. J.&#39;, &#39;GPE&#39;),\n (&#39;F. J.&#39;, &#39;GPE&#39;),\n (&#39;F. J.&#39;, &#39;GPE&#39;),\n (&#39;F. J.&#39;, &#39;GPE&#39;),\n (&#39;FCIS&#39;, &#39;GPE&#39;),\n (&#39;FCIS&#39;, &#39;GPE&#39;),\n (&#39;FCIS&#39;, &#39;GPE&#39;),\n (&#39;FCIS&#39;, &#39;GPE&#39;),\n (&#39;FCIS&#39;, &#39;GPE&#39;),\n (&#39;JP&#39;, &#39;GPE&#39;),\n (&#39;JP&#39;, &#39;GPE&#39;),\n (&#39;JP&#39;, &#39;GPE&#39;),\n (&#39;JP&#39;, &#39;GPE&#39;),\n (&#39;JP&#39;, &#39;GPE&#39;),\n (&#39;STRAND&#39;, &#39;GPE&#39;),\n (&#39;STRAND&#39;, &#39;GPE&#39;),\n (&#39;STRAND&#39;, &#39;GPE&#39;),\n (&#39;STRAND&#39;, &#39;GPE&#39;),\n (&#39;STRAND&#39;, &#39;GPE&#39;),\n (&#39;LONDON&#39;, &#39;GPE&#39;),\n (&#39;LONDON&#39;, &#39;GPE&#39;),\n (&#39;LONDON&#39;, &#39;GPE&#39;),\n (&#39;LONDON&#39;, &#39;GPE&#39;),\n (&#39;LONDON&#39;, &#39;GPE&#39;),\n (&#39;Dso&#39;, &#39;GPE&#39;),\n (&#39;Dso&#39;, &#39;GPE&#39;),\n (&#39;Dso&#39;, &#39;GPE&#39;),\n (&#39;Dso&#39;, &#39;GPE&#39;),\n (&#39;Dso&#39;, &#39;GPE&#39;),\n (&#39;London&#39;, &#39;GPE&#39;),\n (&#39;London&#39;, &#39;GPE&#39;),\n (&#39;London&#39;, &#39;GPE&#39;),\n (&#39;London&#39;, &#39;GPE&#39;),\n (&#39;London&#39;, &#39;GPE&#39;),\n (&#39;SW&#39;, &#39;GPE&#39;),\n (&#39;SW&#39;, &#39;GPE&#39;),\n (&#39;SW&#39;, &#39;GPE&#39;),\n (&#39;SW&#39;, &#39;GPE&#39;),\n (&#39;SW&#39;, &#39;GPE&#39;),\n (&#39;BIRMINGHAM&#39;, &#39;GPE&#39;),\n (&#39;BIRMINGHAM&#39;, &#39;GPE&#39;),\n (&#39;BIRMINGHAM&#39;, &#39;GPE&#39;),\n (&#39;BIRMINGHAM&#39;, &#39;GPE&#39;),\n (&#39;BIRMINGHAM&#39;, &#39;GPE&#39;),\n (&#39;ENGLAND&#39;, &#39;GPE&#39;),\n (&#39;ENGLAND&#39;, &#39;GPE&#39;),\n (&#39;ENGLAND&#39;, &#39;GPE&#39;),\n (&#39;ENGLAND&#39;, &#39;GPE&#39;),\n (&#39;ENGLAND&#39;, &#39;GPE&#39;),\n (&#39;BRITAIN&#39;, &#39;GPE&#39;),\n (&#39;BRITAIN&#39;, &#39;GPE&#39;),\n (&#39;BRITAIN&#39;, &#39;GPE&#39;),\n (&#39;BRITAIN&#39;, &#39;GPE&#39;),\n (&#39;BRITAIN&#39;, &#39;GPE&#39;),\n (&#39;Whistler&#39;, &#39;GPE&#39;),\n (&#39;Whistler&#39;, &#39;GPE&#39;),\n (&#39;Whistler&#39;, &#39;GPE&#39;),\n (&#39;Whistler&#39;, &#39;GPE&#39;),\n (&#39;Whistler&#39;, &#39;GPE&#39;),\n (&#39;London&#39;, &#39;GPE&#39;),\n (&#39;London&#39;, &#39;GPE&#39;),\n (&#39;London&#39;, &#39;GPE&#39;),\n (&#39;London&#39;, &#39;GPE&#39;),\n (&#39;London&#39;, &#39;GPE&#39;),\n (&#39;Japan&#39;, &#39;GPE&#39;),\n (&#39;Japan&#39;, &#39;GPE&#39;),\n (&#39;Japan&#39;, &#39;GPE&#39;),\n (&#39;Japan&#39;, &#39;GPE&#39;),\n (&#39;Japan&#39;, &#39;GPE&#39;),\n (&#39;Tokio&#39;, &#39;GPE&#39;),\n (&#39;Tokio&#39;, &#39;GPE&#39;),\n (&#39;Tokio&#39;, &#39;GPE&#39;),\n (&#39;Tokio&#39;, &#39;GPE&#39;),\n (&#39;Tokio&#39;, &#39;GPE&#39;),\n (&#39;KOrea&#39;, &#39;GPE&#39;),\n (&#39;KOrea&#39;, &#39;GPE&#39;),\n (&#39;KOrea&#39;, &#39;GPE&#39;),\n (&#39;KOrea&#39;, &#39;GPE&#39;),\n (&#39;KOrea&#39;, &#39;GPE&#39;),\n (&#39;China&#39;, &#39;GPE&#39;),\n (&#39;China&#39;, &#39;GPE&#39;),\n (&#39;China&#39;, &#39;GPE&#39;),\n (&#39;China&#39;, &#39;GPE&#39;),\n (&#39;China&#39;, &#39;GPE&#39;),\n (&#39;Burma&#39;, &#39;GPE&#39;),\n (&#39;Burma&#39;, &#39;GPE&#39;),\n (&#39;Burma&#39;, &#39;GPE&#39;),\n (&#39;Burma&#39;, &#39;GPE&#39;),\n (&#39;Burma&#39;, &#39;GPE&#39;),\n (&#39;India&#39;, &#39;GPE&#39;),\n (&#39;India&#39;, &#39;GPE&#39;),\n (&#39;India&#39;, &#39;GPE&#39;),\n (&#39;India&#39;, &#39;GPE&#39;),\n (&#39;India&#39;, &#39;GPE&#39;),\n (&#39;Turkestan&#39;, &#39;GPE&#39;),\n (&#39;Turkestan&#39;, &#39;GPE&#39;),\n (&#39;Turkestan&#39;, &#39;GPE&#39;),\n (&#39;Turkestan&#39;, &#39;GPE&#39;),\n (&#39;Turkestan&#39;, &#39;GPE&#39;),\n (&#39;Afghanistan&#39;, &#39;GPE&#39;),\n (&#39;Afghanistan&#39;, &#39;GPE&#39;),\n (&#39;Afghanistan&#39;, &#39;GPE&#39;),\n (&#39;Afghanistan&#39;, &#39;GPE&#39;),\n (&#39;Afghanistan&#39;, &#39;GPE&#39;),\n (&#39;Palestine&#39;, &#39;GPE&#39;),\n (&#39;Palestine&#39;, &#39;GPE&#39;),\n (&#39;Palestine&#39;, &#39;GPE&#39;),\n (&#39;Palestine&#39;, &#39;GPE&#39;),\n (&#39;Palestine&#39;, &#39;GPE&#39;),\n (&#39;Cyprus&#39;, &#39;GPE&#39;),\n (&#39;Cyprus&#39;, &#39;GPE&#39;),\n (&#39;Cyprus&#39;, &#39;GPE&#39;),\n (&#39;Cyprus&#39;, &#39;GPE&#39;),\n (&#39;Cyprus&#39;, &#39;GPE&#39;),\n (&#39;Bulgaria&#39;, &#39;GPE&#39;),\n (&#39;Bulgaria&#39;, &#39;GPE&#39;),\n (&#39;Bulgaria&#39;, &#39;GPE&#39;),\n (&#39;Bulgaria&#39;, &#39;GPE&#39;),\n (&#39;Bulgaria&#39;, &#39;GPE&#39;),\n (&#39;Greece&#39;, &#39;GPE&#39;),\n (&#39;Greece&#39;, &#39;GPE&#39;),\n (&#39;Greece&#39;, &#39;GPE&#39;),\n (&#39;Greece&#39;, &#39;GPE&#39;),\n (&#39;Greece&#39;, &#39;GPE&#39;),\n (&#39;Macedonia&#39;, &#39;GPE&#39;),\n (&#39;Macedonia&#39;, &#39;GPE&#39;),\n (&#39;Macedonia&#39;, &#39;GPE&#39;),\n (&#39;Macedonia&#39;, &#39;GPE&#39;),\n (&#39;Macedonia&#39;, &#39;GPE&#39;),\n (&#39;Albania&#39;, &#39;GPE&#39;),\n (&#39;Albania&#39;, &#39;GPE&#39;),\n (&#39;Albania&#39;, &#39;GPE&#39;),\n (&#39;Albania&#39;, &#39;GPE&#39;),\n (&#39;Albania&#39;, &#39;GPE&#39;),\n (&#39;Yugoslavia&#39;, &#39;GPE&#39;),\n (&#39;Yugoslavia&#39;, &#39;GPE&#39;),\n (&#39;Yugoslavia&#39;, &#39;GPE&#39;),\n (&#39;Yugoslavia&#39;, &#39;GPE&#39;),\n (&#39;Yugoslavia&#39;, &#39;GPE&#39;),\n (&#39;Hungary&#39;, &#39;GPE&#39;),\n (&#39;Hungary&#39;, &#39;GPE&#39;),\n (&#39;Hungary&#39;, &#39;GPE&#39;),\n (&#39;Hungary&#39;, &#39;GPE&#39;),\n (&#39;Hungary&#39;, &#39;GPE&#39;),\n (&#39;Czechoslovakia&#39;, &#39;GPE&#39;),\n (&#39;Czechoslovakia&#39;, &#39;GPE&#39;),\n (&#39;Czechoslovakia&#39;, &#39;GPE&#39;),\n (&#39;Czechoslovakia&#39;, &#39;GPE&#39;),\n (&#39;Czechoslovakia&#39;, &#39;GPE&#39;),\n (&#39;Austria&#39;, &#39;GPE&#39;),\n (&#39;Austria&#39;, &#39;GPE&#39;),\n (&#39;Austria&#39;, &#39;GPE&#39;),\n (&#39;Austria&#39;, &#39;GPE&#39;),\n (&#39;Austria&#39;, &#39;GPE&#39;),\n (&#39;Rumania&#39;, &#39;GPE&#39;),\n (&#39;Rumania&#39;, &#39;GPE&#39;),\n (&#39;Rumania&#39;, &#39;GPE&#39;),\n (&#39;Rumania&#39;, &#39;GPE&#39;),\n (&#39;Rumania&#39;, &#39;GPE&#39;),\n (&#39;Germany&#39;, &#39;GPE&#39;),\n (&#39;Germany&#39;, &#39;GPE&#39;),\n (&#39;Germany&#39;, &#39;GPE&#39;),\n (&#39;Germany&#39;, &#39;GPE&#39;),\n (&#39;Germany&#39;, &#39;GPE&#39;),\n (&#39;glid1ng&#39;, &#39;GPE&#39;),\n (&#39;glid1ng&#39;, &#39;GPE&#39;),\n (&#39;glid1ng&#39;, &#39;GPE&#39;),\n (&#39;glid1ng&#39;, &#39;GPE&#39;),\n (&#39;glid1ng&#39;, &#39;GPE&#39;),\n (&#39;Lincolnshire&#39;, &#39;GPE&#39;),\n (&#39;Lincolnshire&#39;, &#39;GPE&#39;),\n (&#39;Lincolnshire&#39;, &#39;GPE&#39;),\n (&#39;Lincolnshire&#39;, &#39;GPE&#39;),\n (&#39;Lincolnshire&#39;, &#39;GPE&#39;),\n (&#39;RSPCA&#39;, &#39;GPE&#39;),\n (&#39;RSPCA&#39;, &#39;GPE&#39;),\n (&#39;RSPCA&#39;, &#39;GPE&#39;),\n (&#39;RSPCA&#39;, &#39;GPE&#39;),\n (&#39;RSPCA&#39;, &#39;GPE&#39;),\n (&#39;England&#39;, &#39;GPE&#39;),\n (&#39;England&#39;, &#39;GPE&#39;),\n (&#39;England&#39;, &#39;GPE&#39;),\n (&#39;England&#39;, &#39;GPE&#39;),\n (&#39;England&#39;, &#39;GPE&#39;),\n (&#39;Wales&#39;, &#39;GPE&#39;),\n (&#39;Wales&#39;, &#39;GPE&#39;),\n (&#39;Wales&#39;, &#39;GPE&#39;),\n (&#39;Wales&#39;, &#39;GPE&#39;),\n (&#39;Wales&#39;, &#39;GPE&#39;),\n (&#39;RSPCA&#39;, &#39;GPE&#39;),\n (&#39;RSPCA&#39;, &#39;GPE&#39;),\n (&#39;RSPCA&#39;, &#39;GPE&#39;),\n (&#39;RSPCA&#39;, &#39;GPE&#39;),\n (&#39;RSPCA&#39;, &#39;GPE&#39;),\n (&#39;Raynes Park&#39;, &#39;GPE&#39;),\n (&#39;Raynes Park&#39;, &#39;GPE&#39;),\n (&#39;Raynes Park&#39;, &#39;GPE&#39;),\n (&#39;Raynes Park&#39;, &#39;GPE&#39;),\n (&#39;Raynes Park&#39;, &#39;GPE&#39;),\n (&#39;SW20&#39;, &#39;GPE&#39;),\n (&#39;SW20&#39;, &#39;GPE&#39;),\n (&#39;SW20&#39;, &#39;GPE&#39;),\n (&#39;SW20&#39;, &#39;GPE&#39;),\n (&#39;SW20&#39;, &#39;GPE&#39;),\n (&#39;Greenford&#39;, &#39;GPE&#39;),\n (&#39;Greenford&#39;, &#39;GPE&#39;),\n (&#39;Greenford&#39;, &#39;GPE&#39;),\n (&#39;Greenford&#39;, &#39;GPE&#39;),\n (&#39;Greenford&#39;, &#39;GPE&#39;),\n (&#39;Middlesex&#39;, &#39;GPE&#39;),\n (&#39;Middlesex&#39;, &#39;GPE&#39;),\n (&#39;Middlesex&#39;, &#39;GPE&#39;),\n (&#39;Middlesex&#39;, &#39;GPE&#39;),\n (&#39;Middlesex&#39;, &#39;GPE&#39;),\n (&#39;RSPCA&#39;, &#39;GPE&#39;),\n (&#39;RSPCA&#39;, &#39;GPE&#39;),\n (&#39;RSPCA&#39;, &#39;GPE&#39;),\n (&#39;RSPCA&#39;, &#39;GPE&#39;),\n (&#39;RSPCA&#39;, &#39;GPE&#39;),\n (&#39;RSPCA&#39;, &#39;GPE&#39;),\n (&#39;RSPCA&#39;, &#39;GPE&#39;),\n (&#39;RSPCA&#39;, &#39;GPE&#39;),\n (&#39;RSPCA&#39;, &#39;GPE&#39;),\n (&#39;RSPCA&#39;, &#39;GPE&#39;),\n (&#39;selﬁsh&#39;, &#39;GPE&#39;),\n (&#39;selﬁsh&#39;, &#39;GPE&#39;),\n (&#39;selﬁsh&#39;, &#39;GPE&#39;),\n (&#39;selﬁsh&#39;, &#39;GPE&#39;),\n (&#39;selﬁsh&#39;, &#39;GPE&#39;),\n (&#39;Miami&#39;, &#39;GPE&#39;),\n (&#39;Miami&#39;, &#39;GPE&#39;),\n (&#39;Miami&#39;, &#39;GPE&#39;),\n (&#39;Miami&#39;, &#39;GPE&#39;),\n (&#39;Miami&#39;, &#39;GPE&#39;),\n (&#39;RSPCA&#39;, &#39;GPE&#39;),\n (&#39;RSPCA&#39;, &#39;GPE&#39;),\n (&#39;RSPCA&#39;, &#39;GPE&#39;),\n (&#39;RSPCA&#39;, &#39;GPE&#39;),\n (&#39;RSPCA&#39;, &#39;GPE&#39;),\n (&#39;Suffolk&#39;, &#39;GPE&#39;),\n (&#39;Suffolk&#39;, &#39;GPE&#39;),\n (&#39;Suffolk&#39;, &#39;GPE&#39;),\n (&#39;Suffolk&#39;, &#39;GPE&#39;),\n (&#39;Suffolk&#39;, &#39;GPE&#39;),\n (&#39;Kent&#39;, &#39;GPE&#39;),\n (&#39;Kent&#39;, &#39;GPE&#39;),\n (&#39;Kent&#39;, &#39;GPE&#39;),\n (&#39;Kent&#39;, &#39;GPE&#39;),\n (&#39;Kent&#39;, &#39;GPE&#39;),\n (&#39;Huddersﬁeld&#39;, &#39;GPE&#39;),\n (&#39;Huddersﬁeld&#39;, &#39;GPE&#39;),\n (&#39;Huddersﬁeld&#39;, &#39;GPE&#39;),\n (&#39;Huddersﬁeld&#39;, &#39;GPE&#39;),\n (&#39;Huddersﬁeld&#39;, &#39;GPE&#39;),\n (&#39;York&#39;, &#39;GPE&#39;),\n (&#39;York&#39;, &#39;GPE&#39;),\n (&#39;York&#39;, &#39;GPE&#39;),\n (&#39;York&#39;, &#39;GPE&#39;),\n (&#39;York&#39;, &#39;GPE&#39;),\n (&#39;London&#39;, &#39;GPE&#39;),\n (&#39;London&#39;, &#39;GPE&#39;),\n (&#39;London&#39;, &#39;GPE&#39;),\n (&#39;London&#39;, &#39;GPE&#39;),\n (&#39;London&#39;, &#39;GPE&#39;),\n (&#39;Hereford&#39;, &#39;GPE&#39;),\n (&#39;Hereford&#39;, &#39;GPE&#39;),\n (&#39;Hereford&#39;, &#39;GPE&#39;),\n (&#39;Hereford&#39;, &#39;GPE&#39;),\n (&#39;Hereford&#39;, &#39;GPE&#39;),\n (&#39;Christchurch&#39;, &#39;GPE&#39;),\n (&#39;Christchurch&#39;, &#39;GPE&#39;),\n (&#39;Christchurch&#39;, &#39;GPE&#39;),\n (&#39;Christchurch&#39;, &#39;GPE&#39;),\n (&#39;Christchurch&#39;, &#39;GPE&#39;),\n (&#39;RSPCA&#39;, &#39;GPE&#39;),\n (&#39;RSPCA&#39;, &#39;GPE&#39;),\n (&#39;RSPCA&#39;, &#39;GPE&#39;),\n (&#39;RSPCA&#39;, &#39;GPE&#39;),\n (&#39;RSPCA&#39;, &#39;GPE&#39;),\n (&#39;St Lawrence C.&#39;, &#39;GPE&#39;),\n (&#39;St Lawrence C.&#39;, &#39;GPE&#39;),\n (&#39;St Lawrence C.&#39;, &#39;GPE&#39;),\n (&#39;St Lawrence C.&#39;, &#39;GPE&#39;),\n (&#39;St Lawrence C.&#39;, &#39;GPE&#39;),\n (&#39;Organizer&#39;, &#39;GPE&#39;),\n (&#39;Organizer&#39;, &#39;GPE&#39;),\n (&#39;Organizer&#39;, &#39;GPE&#39;),\n (&#39;Organizer&#39;, &#39;GPE&#39;),\n (&#39;Organizer&#39;, &#39;GPE&#39;),\n (&#39;RSPCA&#39;, &#39;GPE&#39;),\n (&#39;RSPCA&#39;, &#39;GPE&#39;),\n (&#39;RSPCA&#39;, &#39;GPE&#39;),\n (&#39;RSPCA&#39;, &#39;GPE&#39;),\n (&#39;RSPCA&#39;, &#39;GPE&#39;),\n (&#39;KENYA&#39;, &#39;GPE&#39;),\n (&#39;KENYA&#39;, &#39;GPE&#39;),\n (&#39;KENYA&#39;, &#39;GPE&#39;),\n (&#39;KENYA&#39;, &#39;GPE&#39;),\n (&#39;KENYA&#39;, &#39;GPE&#39;),\n (&#39;East Africa&#39;, &#39;GPE&#39;),\n (&#39;East Africa&#39;, &#39;GPE&#39;),\n (&#39;East Africa&#39;, &#39;GPE&#39;),\n (&#39;East Africa&#39;, &#39;GPE&#39;),\n (&#39;East Africa&#39;, &#39;GPE&#39;),\n (&#39;Ngombe&#39;, &#39;GPE&#39;),\n (&#39;Ngombe&#39;, &#39;GPE&#39;),\n (&#39;Ngombe&#39;, &#39;GPE&#39;),\n (&#39;Ngombe&#39;, &#39;GPE&#39;),\n (&#39;Ngombe&#39;, &#39;GPE&#39;),\n (&#39;MWENYEWE&#39;, &#39;GPE&#39;),\n (&#39;MWENYEWE&#39;, &#39;GPE&#39;),\n (&#39;MWENYEWE&#39;, &#39;GPE&#39;),\n (&#39;MWENYEWE&#39;, &#39;GPE&#39;),\n (&#39;MWENYEWE&#39;, &#39;GPE&#39;),\n (&#39;Huddersfield&#39;, &#39;GPE&#39;),\n (&#39;Huddersfield&#39;, &#39;GPE&#39;),\n (&#39;Huddersfield&#39;, &#39;GPE&#39;),\n (&#39;Huddersfield&#39;, &#39;GPE&#39;),\n (&#39;Huddersfield&#39;, &#39;GPE&#39;),\n (&#39;Kent&#39;, &#39;GPE&#39;),\n (&#39;Kent&#39;, &#39;GPE&#39;),\n (&#39;Kent&#39;, &#39;GPE&#39;),\n (&#39;Kent&#39;, &#39;GPE&#39;),\n (&#39;Kent&#39;, &#39;GPE&#39;),\n (&#39;Kent&#39;, &#39;GPE&#39;),\n (&#39;Kent&#39;, &#39;GPE&#39;),\n (&#39;Kent&#39;, &#39;GPE&#39;),\n (&#39;Kent&#39;, &#39;GPE&#39;),\n (&#39;Kent&#39;, &#39;GPE&#39;),\n (&#39;Canterbury&#39;, &#39;GPE&#39;),\n (&#39;Canterbury&#39;, &#39;GPE&#39;),\n (&#39;Canterbury&#39;, &#39;GPE&#39;),\n (&#39;Canterbury&#39;, &#39;GPE&#39;),\n (&#39;Canterbury&#39;, &#39;GPE&#39;),\n (&#39;Whitstable&#39;, &#39;GPE&#39;),\n (&#39;Whitstable&#39;, &#39;GPE&#39;),\n (&#39;Whitstable&#39;, &#39;GPE&#39;),\n (&#39;Whitstable&#39;, &#39;GPE&#39;),\n (&#39;Whitstable&#39;, &#39;GPE&#39;),\n (&#39;Whitstable&#39;, &#39;GPE&#39;),\n (&#39;Whitstable&#39;, &#39;GPE&#39;),\n (&#39;Whitstable&#39;, &#39;GPE&#39;),\n (&#39;Whitstable&#39;, &#39;GPE&#39;),\n (&#39;Whitstable&#39;, &#39;GPE&#39;),\n (&#39;Kent&#39;, &#39;GPE&#39;),\n (&#39;Kent&#39;, &#39;GPE&#39;),\n (&#39;Kent&#39;, &#39;GPE&#39;),\n (&#39;Kent&#39;, &#39;GPE&#39;),\n (&#39;Kent&#39;, &#39;GPE&#39;),\n (&#39;Dover&#39;, &#39;GPE&#39;),\n (&#39;Dover&#39;, &#39;GPE&#39;),\n (&#39;Dover&#39;, &#39;GPE&#39;),\n (&#39;Dover&#39;, &#39;GPE&#39;),\n (&#39;Dover&#39;, &#39;GPE&#39;),\n (&#39;Tilmanstone&#39;, &#39;GPE&#39;),\n (&#39;Tilmanstone&#39;, &#39;GPE&#39;),\n (&#39;Tilmanstone&#39;, &#39;GPE&#39;),\n (&#39;Tilmanstone&#39;, &#39;GPE&#39;),\n (&#39;Tilmanstone&#39;, &#39;GPE&#39;),\n (&#39;Eythorne&#39;, &#39;GPE&#39;),\n (&#39;Eythorne&#39;, &#39;GPE&#39;),\n (&#39;Eythorne&#39;, &#39;GPE&#39;),\n (&#39;Eythorne&#39;, &#39;GPE&#39;),\n (&#39;Eythorne&#39;, &#39;GPE&#39;),\n (&#39;Kent&#39;, &#39;GPE&#39;),\n (&#39;Kent&#39;, &#39;GPE&#39;),\n (&#39;Kent&#39;, &#39;GPE&#39;),\n (&#39;Kent&#39;, &#39;GPE&#39;),\n (&#39;Kent&#39;, &#39;GPE&#39;),\n (&#39;Folkestone&#39;, &#39;GPE&#39;),\n (&#39;Folkestone&#39;, &#39;GPE&#39;),\n (&#39;Folkestone&#39;, &#39;GPE&#39;),\n (&#39;Folkestone&#39;, &#39;GPE&#39;),\n (&#39;Folkestone&#39;, &#39;GPE&#39;),\n (&#39;Kent&#39;, &#39;GPE&#39;),\n (&#39;Kent&#39;, &#39;GPE&#39;),\n (&#39;Kent&#39;, &#39;GPE&#39;),\n (&#39;Kent&#39;, &#39;GPE&#39;),\n (&#39;Kent&#39;, &#39;GPE&#39;),\n (&#39;Ramsgate&#39;, &#39;GPE&#39;),\n (&#39;Ramsgate&#39;, &#39;GPE&#39;),\n (&#39;Ramsgate&#39;, &#39;GPE&#39;),\n (&#39;Ramsgate&#39;, &#39;GPE&#39;),\n (&#39;Ramsgate&#39;, &#39;GPE&#39;),\n (&#39;Kent&#39;, &#39;GPE&#39;),\n (&#39;Kent&#39;, &#39;GPE&#39;),\n (&#39;Kent&#39;, &#39;GPE&#39;),\n (&#39;Kent&#39;, &#39;GPE&#39;),\n (&#39;Kent&#39;, &#39;GPE&#39;),\n (&#39;Maidstone&#39;, &#39;GPE&#39;),\n (&#39;Maidstone&#39;, &#39;GPE&#39;),\n (&#39;Maidstone&#39;, &#39;GPE&#39;),\n (&#39;Maidstone&#39;, &#39;GPE&#39;),\n (&#39;Maidstone&#39;, &#39;GPE&#39;),\n (&#39;Kent&#39;, &#39;GPE&#39;),\n (&#39;Kent&#39;, &#39;GPE&#39;),\n (&#39;Kent&#39;, &#39;GPE&#39;),\n (&#39;Kent&#39;, &#39;GPE&#39;),\n (&#39;Kent&#39;, &#39;GPE&#39;),\n (&#39;North-West Mrs A. Pollen&#39;, &#39;GPE&#39;),\n (&#39;North-West Mrs A. Pollen&#39;, &#39;GPE&#39;),\n (&#39;North-West Mrs A. Pollen&#39;, &#39;GPE&#39;),\n (&#39;North-West Mrs A. Pollen&#39;, &#39;GPE&#39;),\n (&#39;North-West Mrs A. Pollen&#39;, &#39;GPE&#39;),\n (&#39;Kettering&#39;, &#39;GPE&#39;),\n (&#39;Kettering&#39;, &#39;GPE&#39;),\n (&#39;Kettering&#39;, &#39;GPE&#39;),\n (&#39;Kettering&#39;, &#39;GPE&#39;),\n (&#39;Kettering&#39;, &#39;GPE&#39;),\n (&#39;Kettering&#39;, &#39;GPE&#39;),\n (&#39;Kettering&#39;, &#39;GPE&#39;),\n (&#39;Kettering&#39;, &#39;GPE&#39;),\n (&#39;Kettering&#39;, &#39;GPE&#39;),\n (&#39;Kettering&#39;, &#39;GPE&#39;),\n (&#39;Maeelesﬁeld&#39;, &#39;GPE&#39;),\n (&#39;Maeelesﬁeld&#39;, &#39;GPE&#39;),\n (&#39;Maeelesﬁeld&#39;, &#39;GPE&#39;),\n (&#39;Maeelesﬁeld&#39;, &#39;GPE&#39;),\n (&#39;Maeelesﬁeld&#39;, &#39;GPE&#39;),\n (&#39;RSPCA&#39;, &#39;GPE&#39;),\n (&#39;RSPCA&#39;, &#39;GPE&#39;),\n (&#39;RSPCA&#39;, &#39;GPE&#39;),\n (&#39;RSPCA&#39;, &#39;GPE&#39;),\n (&#39;RSPCA&#39;, &#39;GPE&#39;),\n (&#39;Knowle&#39;, &#39;GPE&#39;),\n (&#39;Knowle&#39;, &#39;GPE&#39;),\n (&#39;Knowle&#39;, &#39;GPE&#39;),\n (&#39;Knowle&#39;, &#39;GPE&#39;),\n (&#39;Knowle&#39;, &#39;GPE&#39;),\n (&#39;Warwickshire&#39;, &#39;GPE&#39;),\n (&#39;Warwickshire&#39;, &#39;GPE&#39;),\n (&#39;Warwickshire&#39;, &#39;GPE&#39;),\n (&#39;Warwickshire&#39;, &#39;GPE&#39;),\n (&#39;Warwickshire&#39;, &#39;GPE&#39;),\n (&#39;Birmingham&#39;, &#39;GPE&#39;),\n (&#39;Birmingham&#39;, &#39;GPE&#39;),\n (&#39;Birmingham&#39;, &#39;GPE&#39;),\n (&#39;Birmingham&#39;, &#39;GPE&#39;),\n (&#39;Birmingham&#39;, &#39;GPE&#39;),\n (&#39;Liverpool&#39;, &#39;GPE&#39;),\n (&#39;Liverpool&#39;, &#39;GPE&#39;),\n (&#39;Liverpool&#39;, &#39;GPE&#39;),\n (&#39;Liverpool&#39;, &#39;GPE&#39;),\n (&#39;Liverpool&#39;, &#39;GPE&#39;),\n (&#39;Peterborough&#39;, &#39;GPE&#39;),\n (&#39;Peterborough&#39;, &#39;GPE&#39;),\n (&#39;Peterborough&#39;, &#39;GPE&#39;),\n (&#39;Peterborough&#39;, &#39;GPE&#39;),\n (&#39;Peterborough&#39;, &#39;GPE&#39;),\n (&#39;Towcester&#39;, &#39;GPE&#39;),\n (&#39;Towcester&#39;, &#39;GPE&#39;),\n (&#39;Towcester&#39;, &#39;GPE&#39;),\n (&#39;Towcester&#39;, &#39;GPE&#39;),\n (&#39;Towcester&#39;, &#39;GPE&#39;),\n (&#39;Torrington&#39;, &#39;GPE&#39;),\n (&#39;Torrington&#39;, &#39;GPE&#39;),\n (&#39;Torrington&#39;, &#39;GPE&#39;),\n (&#39;Torrington&#39;, &#39;GPE&#39;),\n (&#39;Torrington&#39;, &#39;GPE&#39;),\n (&#39;North Leicestershire&#39;, &#39;GPE&#39;),\n (&#39;North Leicestershire&#39;, &#39;GPE&#39;),\n (&#39;North Leicestershire&#39;, &#39;GPE&#39;),\n (&#39;North Leicestershire&#39;, &#39;GPE&#39;),\n (&#39;North Leicestershire&#39;, &#39;GPE&#39;),\n ...]"
     },
     "metadata": {},
     "execution_count": 23
    }
   ],
   "source": [
    "gpes"
   ]
  },
  {
   "cell_type": "code",
   "execution_count": 24,
   "metadata": {},
   "outputs": [
    {
     "output_type": "execute_result",
     "data": {
      "text/plain": "{(&#39;Abattoirs&#39;, &#39;GPE&#39;),\n (&#39;Aberdare&#39;, &#39;GPE&#39;),\n (&#39;Afghanistan&#39;, &#39;GPE&#39;),\n (&#39;Albania&#39;, &#39;GPE&#39;),\n (&#39;Altrincham&#39;, &#39;GPE&#39;),\n (&#39;Ashton&#39;, &#39;GPE&#39;),\n (&#39;Austria&#39;, &#39;GPE&#39;),\n (&#39;BIRMINGHAM&#39;, &#39;GPE&#39;),\n (&#39;BRITAIN&#39;, &#39;GPE&#39;),\n (&#39;BROMLEY&#39;, &#39;GPE&#39;),\n (&#39;BROMLEYvDAVENPORT&#39;, &#39;GPE&#39;),\n (&#39;Bark&#39;, &#39;GPE&#39;),\n (&#39;Birmingham&#39;, &#39;GPE&#39;),\n (&#39;Blackpool&#39;, &#39;GPE&#39;),\n (&#39;Bournemouth&#39;, &#39;GPE&#39;),\n (&#39;Brighton&#39;, &#39;GPE&#39;),\n (&#39;Bristol&#39;, &#39;GPE&#39;),\n (&#39;Bromley&#39;, &#39;GPE&#39;),\n (&#39;Bulgaria&#39;, &#39;GPE&#39;),\n (&#39;Burma&#39;, &#39;GPE&#39;),\n (&#39;CONNAUGHT&#39;, &#39;GPE&#39;),\n (&#39;Cambridge&#39;, &#39;GPE&#39;),\n (&#39;Canterbury&#39;, &#39;GPE&#39;),\n (&#39;Carmarthen&#39;, &#39;GPE&#39;),\n (&#39;Chatham&#39;, &#39;GPE&#39;),\n (&#39;China&#39;, &#39;GPE&#39;),\n (&#39;Christchurch&#39;, &#39;GPE&#39;),\n (&#39;Citizen&#39;, &#39;GPE&#39;),\n (&#39;Craig-y-nos&#39;, &#39;GPE&#39;),\n (&#39;Cyprus&#39;, &#39;GPE&#39;),\n (&#39;Czechoslovakia&#39;, &#39;GPE&#39;),\n (&#39;Dartford&#39;, &#39;GPE&#39;),\n (&#39;Dewsbury&#39;, &#39;GPE&#39;),\n (&#39;District (Kent&#39;, &#39;GPE&#39;),\n (&#39;Doncaster&#39;, &#39;GPE&#39;),\n (&#39;Dorset&#39;, &#39;GPE&#39;),\n (&#39;Dover&#39;, &#39;GPE&#39;),\n (&#39;Dso&#39;, &#39;GPE&#39;),\n (&#39;Durham&#39;, &#39;GPE&#39;),\n (&#39;ENGLAND&#39;, &#39;GPE&#39;),\n (&#39;East Africa&#39;, &#39;GPE&#39;),\n (&#39;East Ham&#39;, &#39;GPE&#39;),\n (&#39;Eastbourne&#39;, &#39;GPE&#39;),\n (&#39;England&#39;, &#39;GPE&#39;),\n (&#39;Epsom, Shaftes&#39;, &#39;GPE&#39;),\n (&#39;Essex&#39;, &#39;GPE&#39;),\n (&#39;Eythorne&#39;, &#39;GPE&#39;),\n (&#39;F. J.&#39;, &#39;GPE&#39;),\n (&#39;FCIS&#39;, &#39;GPE&#39;),\n (&#39;FCRA&#39;, &#39;GPE&#39;),\n (&#39;Fingringhoe&#39;, &#39;GPE&#39;),\n (&#39;Folkestone&#39;, &#39;GPE&#39;),\n (&#39;Galway&#39;, &#39;GPE&#39;),\n (&#39;Gateshead&#39;, &#39;GPE&#39;),\n (&#39;Germany&#39;, &#39;GPE&#39;),\n (&#39;Gillingham&#39;, &#39;GPE&#39;),\n (&#39;Glamorgan&#39;, &#39;GPE&#39;),\n (&#39;Glossop&#39;, &#39;GPE&#39;),\n (&#39;Gloucester&#39;, &#39;GPE&#39;),\n (&#39;Gloucester City&#39;, &#39;GPE&#39;),\n (&#39;Great Britain&#39;, &#39;GPE&#39;),\n (&#39;Greece&#39;, &#39;GPE&#39;),\n (&#39;Greenford&#39;, &#39;GPE&#39;),\n (&#39;Grimsby&#39;, &#39;GPE&#39;),\n (&#39;Hants&#39;, &#39;GPE&#39;),\n (&#39;Harrington&#39;, &#39;GPE&#39;),\n (&#39;Hatﬁeld&#39;, &#39;GPE&#39;),\n (&#39;Hereford&#39;, &#39;GPE&#39;),\n (&#39;Hertford&#39;, &#39;GPE&#39;),\n (&#39;Heywood&#39;, &#39;GPE&#39;),\n (&#39;Holland&#39;, &#39;GPE&#39;),\n (&#39;Hove&#39;, &#39;GPE&#39;),\n (&#39;Huddersfield&#39;, &#39;GPE&#39;),\n (&#39;Huddersﬁeld&#39;, &#39;GPE&#39;),\n (&#39;Hungary&#39;, &#39;GPE&#39;),\n (&#39;India&#39;, &#39;GPE&#39;),\n (&#39;Ipswich&#39;, &#39;GPE&#39;),\n (&#39;JP&#39;, &#39;GPE&#39;),\n (&#39;Japan&#39;, &#39;GPE&#39;),\n (&#39;KENT&#39;, &#39;GPE&#39;),\n (&#39;KENYA&#39;, &#39;GPE&#39;),\n (&#39;KOrea&#39;, &#39;GPE&#39;),\n (&#39;Kent&#39;, &#39;GPE&#39;),\n (&#39;Kettering&#39;, &#39;GPE&#39;),\n (&#39;Knowle&#39;, &#39;GPE&#39;),\n (&#39;LONDON&#39;, &#39;GPE&#39;),\n (&#39;Langworth&#39;, &#39;GPE&#39;),\n (&#39;Leeds&#39;, &#39;GPE&#39;),\n (&#39;Leicester&#39;, &#39;GPE&#39;),\n (&#39;Levens&#39;, &#39;GPE&#39;),\n (&#39;Lincolnshire&#39;, &#39;GPE&#39;),\n (&#39;Linton&#39;, &#39;GPE&#39;),\n (&#39;Liverpool&#39;, &#39;GPE&#39;),\n (&#39;London&#39;, &#39;GPE&#39;),\n (&#39;Lymington&#39;, &#39;GPE&#39;),\n (&#39;Lynton&#39;, &#39;GPE&#39;),\n (&#39;MA&#39;, &#39;GPE&#39;),\n (&#39;MWENYEWE&#39;, &#39;GPE&#39;),\n (&#39;Macedonia&#39;, &#39;GPE&#39;),\n (&#39;Maeelesﬁeld&#39;, &#39;GPE&#39;),\n (&#39;Maidstone&#39;, &#39;GPE&#39;),\n (&#39;Margate&#39;, &#39;GPE&#39;),\n (&#39;Miami&#39;, &#39;GPE&#39;),\n (&#39;Middlesbrough&#39;, &#39;GPE&#39;),\n (&#39;Middlesex&#39;, &#39;GPE&#39;),\n (&#39;Mirﬁeld&#39;, &#39;GPE&#39;),\n (&#39;Misc.&#39;, &#39;GPE&#39;),\n (&#39;Moss for the&#39;, &#39;GPE&#39;),\n (&#39;Mossley&#39;, &#39;GPE&#39;),\n (&#39;NORTH WALES&#39;, &#39;GPE&#39;),\n (&#39;New Milton&#39;, &#39;GPE&#39;),\n (&#39;Newburn&#39;, &#39;GPE&#39;),\n (&#39;Newcastle&#39;, &#39;GPE&#39;),\n (&#39;Newport&#39;, &#39;GPE&#39;),\n (&#39;Ngombe&#39;, &#39;GPE&#39;),\n (&#39;North&#39;, &#39;GPE&#39;),\n (&#39;North Leicestershire&#39;, &#39;GPE&#39;),\n (&#39;North-West Mrs A. Pollen&#39;, &#39;GPE&#39;),\n (&#39;Norwich&#39;, &#39;GPE&#39;),\n (&#39;Nottingham&#39;, &#39;GPE&#39;),\n (&#39;Notts&#39;, &#39;GPE&#39;),\n (&#39;Offen&#39;, &#39;GPE&#39;),\n (&#39;Organizer&#39;, &#39;GPE&#39;),\n (&#39;Oswestry&#39;, &#39;GPE&#39;),\n (&#39;Oxon&#39;, &#39;GPE&#39;),\n (&#39;PORTLAND&#39;, &#39;GPE&#39;),\n (&#39;Palestine&#39;, &#39;GPE&#39;),\n (&#39;Park&#39;, &#39;GPE&#39;),\n (&#39;Peterborough&#39;, &#39;GPE&#39;),\n (&#39;Pontefract&#39;, &#39;GPE&#39;),\n (&#39;Prebendary Snell’s&#39;, &#39;GPE&#39;),\n (&#39;Purley&#39;, &#39;GPE&#39;),\n (&#39;RSPCA&#39;, &#39;GPE&#39;),\n (&#39;Ramsgate&#39;, &#39;GPE&#39;),\n (&#39;Rand&#39;, &#39;GPE&#39;),\n (&#39;Raynes Park&#39;, &#39;GPE&#39;),\n (&#39;Retford&#39;, &#39;GPE&#39;),\n (&#39;Rickmansworth&#39;, &#39;GPE&#39;),\n (&#39;Rochester&#39;, &#39;GPE&#39;),\n (&#39;Rotherham&#39;, &#39;GPE&#39;),\n (&#39;Rumania&#39;, &#39;GPE&#39;),\n (&#39;SHAFTESBURY&#39;, &#39;GPE&#39;),\n (&#39;STRAND&#39;, &#39;GPE&#39;),\n (&#39;SW&#39;, &#39;GPE&#39;),\n (&#39;SW20&#39;, &#39;GPE&#39;),\n (&#39;Salisbury&#39;, &#39;GPE&#39;),\n (&#39;Scunthorpe&#39;, &#39;GPE&#39;),\n (&#39;Sheepwash&#39;, &#39;GPE&#39;),\n (&#39;Sheerness&#39;, &#39;GPE&#39;),\n (&#39;Shrews&#39;, &#39;GPE&#39;),\n (&#39;Shrewsbury&#39;, &#39;GPE&#39;),\n (&#39;Southampton&#39;, &#39;GPE&#39;),\n (&#39;St John’s Hall&#39;, &#39;GPE&#39;),\n (&#39;St Lawrence C.&#39;, &#39;GPE&#39;),\n (&#39;St Thomas’s&#39;, &#39;GPE&#39;),\n (&#39;Stalybridge&#39;, &#39;GPE&#39;),\n (&#39;Stoke&#39;, &#39;GPE&#39;),\n (&#39;Stoke City&#39;, &#39;GPE&#39;),\n (&#39;Stonebridge Park&#39;, &#39;GPE&#39;),\n (&#39;Stubbings Manor&#39;, &#39;GPE&#39;),\n (&#39;Suffolk&#39;, &#39;GPE&#39;),\n (&#39;Sunderland&#39;, &#39;GPE&#39;),\n (&#39;Surrey&#39;, &#39;GPE&#39;),\n (&#39;Swansea&#39;, &#39;GPE&#39;),\n (&#39;Swindon&#39;, &#39;GPE&#39;),\n (&#39;Tilmanstone&#39;, &#39;GPE&#39;),\n (&#39;Tokio&#39;, &#39;GPE&#39;),\n (&#39;Topsham&#39;, &#39;GPE&#39;),\n (&#39;Torrington&#39;, &#39;GPE&#39;),\n (&#39;Towcester&#39;, &#39;GPE&#39;),\n (&#39;Trent&#39;, &#39;GPE&#39;),\n (&#39;Turkestan&#39;, &#39;GPE&#39;),\n (&#39;US&#39;, &#39;GPE&#39;),\n (&#39;View&#39;, &#39;GPE&#39;),\n (&#39;Wales&#39;, &#39;GPE&#39;),\n (&#39;Warwick&#39;, &#39;GPE&#39;),\n (&#39;Warwickshire&#39;, &#39;GPE&#39;),\n (&#39;Warwickshire South&#39;, &#39;GPE&#39;),\n (&#39;Wealston&#39;, &#39;GPE&#39;),\n (&#39;Wel&#39;, &#39;GPE&#39;),\n (&#39;West Bergholt&#39;, &#39;GPE&#39;),\n (&#39;West Moors&#39;, &#39;GPE&#39;),\n (&#39;Whistler&#39;, &#39;GPE&#39;),\n (&#39;Whitehaven&#39;, &#39;GPE&#39;),\n (&#39;Whitstable&#39;, &#39;GPE&#39;),\n (&#39;Whittlesey&#39;, &#39;GPE&#39;),\n (&#39;York&#39;, &#39;GPE&#39;),\n (&#39;Yugoslavia&#39;, &#39;GPE&#39;),\n (&#39;glid1ng&#39;, &#39;GPE&#39;),\n (&#39;izer&#39;, &#39;GPE&#39;),\n (&#39;levalde&#39;, &#39;GPE&#39;),\n (&#39;selﬁsh&#39;, &#39;GPE&#39;),\n (&#39;the West Lancashire&#39;, &#39;GPE&#39;)}"
     },
     "metadata": {},
     "execution_count": 24
    }
   ],
   "source": [
    "# get the set of unique GPEs\n",
    "set(gpes)"
   ]
  },
  {
   "source": [
    "spaCy also provides a `pipe` method on the language model that should batch your document processing. This can be useful for larger collections of texts. We'll only see a small advantage in our small corpus, but it gets more significant as you batch in larger sizes with more processes. \n",
    "\n",
    "https://spacy.io/api/language#pipe"
   ],
   "cell_type": "markdown",
   "metadata": {}
  },
  {
   "cell_type": "code",
   "execution_count": null,
   "metadata": {
    "tags": []
   },
   "outputs": [],
   "source": [
    "%time docs = [nlp(text) for text in texts]"
   ]
  },
  {
   "cell_type": "code",
   "execution_count": null,
   "metadata": {
    "tags": []
   },
   "outputs": [],
   "source": [
    "%time docs = list(nlp.pipe(texts, batch_size=10, n_process=1))"
   ]
  },
  {
   "source": [
    "## Resources for spaCy\n",
    "\n",
    "- [spaCy 101](https://spacy.io/usage/spacy-101) - spaCy's own intro documentation\n",
    "- [Advanced NLP with spaCy](https://course.spacy.io/) - spaCy's own interactive learning course; you don't need to be \"ready\" for \"advanced\" work to benefit from going through this course\n",
    "- [textacy](https://github.com/chartbeat-labs/textacy) - a Python library built on top of spaCy and scikit-learn to faciliate working with a corpus and providing extra functionality\n",
    "- [spaCy universe](https://spacy.io/universe) - extensive collection of packages built on top of or with spaCy for various NLP and text analysis tasks"
   ],
   "cell_type": "markdown",
   "metadata": {}
  },
  {
   "source": [
    "## Activity?\n",
    "\n",
    "I'm happy to stay on for a while and answer questions or help if anyone would like to work with one of their own texts in spaCy to try out some of these techniques/approaches."
   ],
   "cell_type": "markdown",
   "metadata": {}
  }
 ]
}